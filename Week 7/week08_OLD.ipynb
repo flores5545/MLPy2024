{
 "cells": [
  {
   "cell_type": "markdown",
   "metadata": {
    "cell_id": "00000-34f9557d-8f15-494e-8d65-74c8ae429c5c",
    "deepnote_cell_type": "markdown",
    "id": "6Og4DnJPrB4A"
   },
   "source": [
    "# Week 8 - Support Vector Machines\n",
    "by Colin Rundel & David Elliott & Ozan Evkaya\n",
    "\n",
    "1. [Setup](#setup)\n",
    "\n",
    "2. [Separable and Non separable Data Cases](#RBH)\n",
    "\n",
    "3. [Model refinement](#refine)\n",
    "\n",
    "4. [Default Data for Binary Example](#mclog)\n",
    "\n",
    "5. [Tickets Data for Multi-class Example](#SKV)\n",
    "\n",
    "\n"
   ]
  },
  {
   "cell_type": "markdown",
   "metadata": {
    "id": "AdHUSbWsvZ7h"
   },
   "source": [
    "In this section we will be exploring the basics of support vector machine models. SVMs have their own entire submodule of sklearn which includes more than we will be able to cover in this workshop. We will be focusing on the most straight forward case, which is a support vector machine classifier which is provide by sklearn as the SVC model. For the details please have a look at\n",
    "\n",
    "https://scikit-learn.org/stable/modules/svm.html\n",
    "\n",
    "NOTE THAT, for the simplicity we did not use any data partitioning in below for toy data examples. But for the real data sets, we have the data splitting procedure as a general one. For the multi-class example, the test data is already available so you do not need further partitioning in it. "
   ]
  },
  {
   "cell_type": "markdown",
   "metadata": {
    "cell_id": "00001-645a25eb-6010-425a-88c0-ecf0093a9edc",
    "deepnote_cell_type": "markdown",
    "id": "6sVlUI4SvZ7i"
   },
   "source": [
    "---\n",
    "\n",
    "# 1. Setup <a id='setup'></a>\n",
    "\n",
    "## 1.1. Uploading your data to the colab\n",
    "This notebook will be saved in your google drive in a folder \"Colab Notebooks\" by default, you should be fairly familiar with this by now.\n",
    "\n",
    "When you run this cell you will need to give colab permission to access files in your drive."
   ]
  },
  {
   "cell_type": "code",
   "execution_count": null,
   "metadata": {
    "colab": {
     "base_uri": "https://localhost:8080/"
    },
    "collapsed": true,
    "id": "ZeTuzK-dvZ7j",
    "outputId": "7f32fa7d-68bd-4d1b-fe10-6c37e41c5f27"
   },
   "outputs": [
    {
     "name": "stdout",
     "output_type": "stream",
     "text": [
      "Mounted at /content/drive\n",
      "week07.ipynb  week-07.zip\n"
     ]
    }
   ],
   "source": [
    "import os\n",
    "from google.colab import drive\n",
    "\n",
    "drive.mount('/content/drive')\n",
    "os.chdir('drive/My Drive/Colab Notebooks/mlp/week-8')\n",
    "!ls"
   ]
  },
  {
   "cell_type": "markdown",
   "metadata": {
    "id": "trxL3QeSvZ7k"
   },
   "source": [
    "We will now unzip the workshop materials and place them in a subdirectory \"ws-material/\""
   ]
  },
  {
   "cell_type": "code",
   "execution_count": null,
   "metadata": {
    "colab": {
     "base_uri": "https://localhost:8080/"
    },
    "collapsed": true,
    "id": "5DbL_UYJvZ7k",
    "outputId": "78a8f7fd-07a7-479e-d8c3-c69cc870ceb1"
   },
   "outputs": [
    {
     "name": "stdout",
     "output_type": "stream",
     "text": [
      "Unzipping materials...\n",
      "Archive:  week-07.zip\n",
      "   creating: ws-material/week-07/\n",
      "   creating: ws-material/week-07/Data/\n",
      "  inflating: ws-material/week-07/Data/Default.csv  \n",
      "   creating: ws-material/week-07/Images/\n",
      "  inflating: ws-material/week-07/Images/pairplot.png  \n",
      "  inflating: ws-material/week-07/Images/UoE_Horizontal_Logo_282_v1_160215.png  \n",
      "   creating: ws-material/week-07/scripts/\n",
      "  inflating: ws-material/week-07/scripts/create_widgets.js  \n",
      "  inflating: ws-material/week-07/scripts/create_widgets.py  \n",
      "  inflating: ws-material/week-07/scripts/environment.yml  \n",
      "  inflating: ws-material/week-07/scripts/requirements.txt  \n",
      "  inflating: ws-material/week-07/scripts/show_solutions.py  \n",
      "week-07\n"
     ]
    }
   ],
   "source": [
    "if not os.path.exists('ws-material'):\n",
    "  print('Unzipping materials...')\n",
    "  !unzip week-08.zip -d ws-material\n",
    "else:\n",
    "  print(\"Directory already exists!\")\n",
    "\n",
    "os.chdir('ws-material')\n",
    "!ls"
   ]
  },
  {
   "cell_type": "markdown",
   "metadata": {
    "id": "c8FHFpfevZ7l"
   },
   "source": [
    "__Reminder__ \n",
    "\n",
    "- You may need to restart the runtime several times in the workshop, but you will not need to re-upload or unzip files again. "
   ]
  },
  {
   "cell_type": "markdown",
   "metadata": {
    "id": "mEIja_2pvZ7n"
   },
   "source": [
    "## 1.2 Packages\n",
    "\n",
    "Now lets load in the packages you wil need for this workshop."
   ]
  },
  {
   "cell_type": "code",
   "execution_count": 2,
   "metadata": {
    "cell_id": "00002-d0af5d8f-8894-4c5a-b754-353993666790",
    "collapsed": true,
    "deepnote_cell_type": "code",
    "id": "grVNp8GrrH0g",
    "output_cleared": true
   },
   "outputs": [],
   "source": [
    "# Display plots inline\n",
    "%matplotlib inline  \n",
    "\n",
    "# Data libraries\n",
    "import pandas as pd\n",
    "import numpy as np\n",
    "\n",
    "# Plotting libraries\n",
    "import matplotlib.pyplot as plt\n",
    "import seaborn as sns\n",
    "from mpl_toolkits.mplot3d import Axes3D\n",
    "\n",
    "# Plotting defaults\n",
    "plt.rcParams['figure.figsize'] = (8,8)\n",
    "plt.rcParams['figure.dpi'] = 80\n",
    "plt.rcParams['lines.markersize'] = 7.5\n",
    "\n",
    "# sklearn modules\n",
    "import sklearn\n",
    "from sklearn.metrics import confusion_matrix\n",
    "from sklearn.pipeline import make_pipeline\n",
    "from sklearn.svm import SVC, LinearSVC           # SVM\n",
    "from mpl_toolkits.mplot3d import Axes3D          # 3d plots\n",
    "from sklearn.preprocessing import StandardScaler # scaling features\n",
    "from sklearn.preprocessing import LabelEncoder   # binary encoding\n",
    "from sklearn.pipeline import Pipeline            # combining classifier steps\n",
    "from sklearn.preprocessing import PolynomialFeatures # make PolynomialFeatures\n",
    "from sklearn.datasets import make_classification, make_moons  # make example data\n",
    "import warnings # prevent warnings\n",
    "import joblib # saving models\n",
    "from time import time\n",
    "from sklearn.model_selection import GridSearchCV, RandomizedSearchCV, KFold, StratifiedKFold\n",
    "from scipy.stats.distributions import uniform, loguniform\n",
    "import itertools\n",
    "from sklearn.model_selection import GridSearchCV, KFold\n",
    "from imblearn.under_sampling import RandomUnderSampler\n",
    "from collections import Counter\n",
    "from imblearn.metrics import classification_report_imbalanced\n",
    "import re\n",
    "from sklearn.metrics import accuracy_score\n",
    "from sklearn.model_selection import train_test_split\n",
    "from sklearn.metrics import classification_report\n",
    "\n",
    "# For loading SVC from sklearn\n",
    "from sklearn.svm import SVC\n",
    "\n"
   ]
  },
  {
   "cell_type": "markdown",
   "metadata": {
    "id": "N8_vjOPKdqLm"
   },
   "source": [
    "##  1.3 Helper Functions\n",
    "\n",
    "Below are two helper functions we will be using in this workshop."
   ]
  },
  {
   "cell_type": "code",
   "execution_count": 3,
   "metadata": {
    "id": "A3LgZwfrdyq7"
   },
   "outputs": [],
   "source": [
    "# About visualization of margins in figures\n",
    "def plot_margin(model, data, x='x', y='y', cat='z', show_support_vectors = True, nx=50, ny=50):\n",
    "    # Plot the data\n",
    "    p = sns.scatterplot(x=x, y=y, hue=cat, data=data, legend=False)\n",
    "    \n",
    "    # Find the extent of x and y\n",
    "    xlim = p.get_xlim()\n",
    "    ylim = p.get_ylim()\n",
    "    \n",
    "    # Create a grid of points\n",
    "    xx = np.linspace(xlim[0], xlim[1], nx)\n",
    "    yy = np.linspace(ylim[0], ylim[1], ny)\n",
    "    YY, XX = np.meshgrid(yy, xx)\n",
    "    \n",
    "    # Calculate the label for each point in the grid\n",
    "    xy = np.c_[XX.ravel(), YY.ravel()]\n",
    "    Z = model.decision_function(xy).reshape(XX.shape)\n",
    "    \n",
    "    # plot contours of decision boundary and margins\n",
    "    p.contour(XX, YY, Z, colors='k', \n",
    "              levels=[-1, 0, 1], alpha=0.5,\n",
    "              linestyles=['--', '-', '--'])\n",
    "\n",
    "    # highlight support vectors\n",
    "    if (show_support_vectors):\n",
    "        p.scatter(model.support_vectors_[:, 0], \n",
    "                  model.support_vectors_[:, 1], s=100,\n",
    "                  linewidth=1, facecolors='none', edgecolors='k')\n",
    "\n",
    "    # Show confusion table in the title\n",
    "    p.set_title(\n",
    "        \"TN: {0}, FP: {1}, FN: {2}, TP: {3}\".format(\n",
    "            *confusion_matrix(\n",
    "                data[cat],\n",
    "                m.predict(data.drop(cat, axis=1))\n",
    "            ).flatten()\n",
    "        )\n",
    "    )\n",
    "    \n",
    "    plt.show()\n",
    "\n",
    "# For data set example, plot boundries\n",
    "def plot_boundaries(bounds, x='lon', y='lat', group='precinct', n=5):\n",
    "    \"\"\" Draws boundary lines for a series of groups polygons in a dataframe\n",
    "    \"\"\"\n",
    "    sns.lineplot(x=x, y=y, hue=group, data=bounds,\n",
    "                 sort=False, palette=['k']*n, legend=None)\n",
    "    \n",
    "# For the predicted and true labels in the plot\n",
    "def plot_pred_labels(res, pred = 'pred_label', truth = 'precinct'):\n",
    "    \"\"\" Plots the predicted labels and true labels from a common data frame\n",
    "    \"\"\"\n",
    "    plt.figure(figsize=(5,8))\n",
    "    \n",
    "    ax = sns.scatterplot(\n",
    "        x='lon', y='lat', hue=pred, palette=precinct_pal, data=res\n",
    "    )\n",
    "    plot_boundaries(manh_bounds)\n",
    "    \n",
    "    acc = sklearn.metrics.accuracy_score(\n",
    "        res[truth], res[pred]\n",
    "    )\n",
    "    \n",
    "    ax.set_title(\"Predicted Labels (Accuracy {:.3f})\".format(acc))\n",
    "    \n",
    "    plt.show()\n",
    "\n",
    "#Model test assessment function to use it below \n",
    "def model_test_assess(model, inc_report = True, inc_proba = False):\n",
    "    # Use the model to predict test labels\n",
    "    res = pd.concat(\n",
    "        [ manh_test,\n",
    "          pd.Series(\n",
    "              data = model.predict(manh_test[['lon','lat']]),\n",
    "              name = \"pred_label\"\n",
    "          )\n",
    "        ], \n",
    "        axis = 1\n",
    "    )\n",
    "        \n",
    "    if (inc_proba):\n",
    "        res = pd.concat(\n",
    "            [ res, \n",
    "              pd.DataFrame(\n",
    "                  data = model.predict_proba(manh_test[['lon','lat']]),\n",
    "                  columns = precincts_pred\n",
    "              )\n",
    "            ], \n",
    "            axis = 1\n",
    "        )\n",
    "    \n",
    "    # Plot labels\n",
    "    plot_pred_labels(res)\n",
    "    \n",
    "    if inc_report: # Print report\n",
    "        print(\n",
    "            sklearn.metrics.classification_report(\n",
    "                res.precinct, res.pred_label,\n",
    "                zero_division = 0\n",
    "            )\n",
    "        )\n",
    "\n",
    "# for fitting and assess this model using different kernel and penalty values.\n",
    "def fit_svc(kernel, C):\n",
    "    m_svc = make_pipeline(\n",
    "        sklearn.preprocessing.StandardScaler(),\n",
    "        sklearn.svm.SVC(C=C, kernel=kernel)\n",
    "    ).fit(X,y)\n",
    "    \n",
    "    model_test_assess(m_svc)"
   ]
  },
  {
   "cell_type": "markdown",
   "metadata": {
    "cell_id": "00003-90709695-8746-4669-9199-fd144a6ec872",
    "deepnote_cell_type": "markdown",
    "id": "yz3bjxcbvZ7r"
   },
   "source": [
    "## 1.4 Separable Data\n",
    "\n",
    "We will begin by examining several toy data problems to explore the basics of these models. To begin we will read in data for the first example from ex1.csv\n",
    "\n",
    "\n",
    "\n"
   ]
  },
  {
   "cell_type": "code",
   "execution_count": 5,
   "metadata": {
    "id": "eF19U6ivvZ7r"
   },
   "outputs": [],
   "source": [
    "ex1 = pd.read_csv(\"./week-08/Data/ex1.csv\")\n",
    "ex1.head()\n"
   ]
  },
  {
   "cell_type": "markdown",
   "metadata": {
    "id": "izo4A3SSvZ7t"
   },
   "source": [
    "We can see the that data is composed of two classes in two dimensions, and it is clear that these two classes are perfectly linearly separable"
   ]
  },
  {
   "cell_type": "code",
   "execution_count": 6,
   "metadata": {
    "colab": {
     "base_uri": "https://localhost:8080/",
     "height": 548
    },
    "id": "r3QIcTBsCZAf",
    "outputId": "5c544249-18e4-4129-be03-fc2bc14f45cb"
   },
   "outputs": [
    {
     "data": {
      "image/png": "[encoded data removed]",
      "text/plain": [
       "<Figure size 640x640 with 1 Axes>"
      ]
     },
     "metadata": {
      "needs_background": "light"
     },
     "output_type": "display_data"
    }
   ],
   "source": [
    "sns.scatterplot(x='x', y='y', hue='z', data=ex1, legend=False)\n",
    "plt.show()"
   ]
  },
  {
   "cell_type": "markdown",
   "metadata": {
    "cell_id": "00005-da6d5f4b-bf6b-43f7-9751-a015e6a9924e",
    "deepnote_cell_type": "markdown",
    "id": "50AbKP76vZ7u"
   },
   "source": [
    "---\n",
    "\n",
    "### 🚩 Exercise 1\n",
    "\n",
    "Like the other models we've already seen, we fit the SVM by constructing our feature matrix and outcome vector and then calling the fit method for our model object;\n",
    "\n",
    "1. Separate the features and outcome in the toy dataset ex1.csv\n",
    "2. Fit a SVC model for this data set using SVC() function (Note that you need to change the default value of kernel and parameter C)\n",
    "3. Visualize the decision boundary and the margins using the plot_margin function we defined above.\n",
    "4. How many support vectors are there for this model?\n",
    "5. How does the boundary line and the margins change as you change the value of C?\n"
   ]
  },
  {
   "cell_type": "code",
   "execution_count": null,
   "metadata": {
    "cell_id": "00006-4d9907ea-c7c7-4c16-aee7-5e12c3e00cc1",
    "deepnote_cell_type": "code",
    "id": "-mG-rvtrvZ7u",
    "output_cleared": true
   },
   "outputs": [],
   "source": [
    ""
   ]
  },
  {
   "cell_type": "markdown",
   "metadata": {
    "cell_id": "00007-a3d1594c-000b-48dd-b347-dfa5410fe0a7",
    "deepnote_cell_type": "markdown",
    "id": "01HS3aS8vZ7u"
   },
   "source": [
    "---\n",
    "\n",
    "**!!! Add your text solution here !!!**\n"
   ]
  },
  {
   "cell_type": "markdown",
   "metadata": {
    "id": "AKglNm6mD_jx"
   },
   "source": [
    "## 1.5 Non-Separable Data\n",
    "\n",
    "We will not complicate our previous example somewhat by adding two additional points from the blue A class to our data. This is available in the ex2.csv file."
   ]
  },
  {
   "cell_type": "code",
   "execution_count": 7,
   "metadata": {
    "colab": {
     "base_uri": "https://localhost:8080/",
     "height": 548
    },
    "id": "7XEqi56tEHsB",
    "outputId": "d9414ca1-3126-4d20-ad0f-dd5602238d03"
   },
   "outputs": [
    {
     "data": {
      "image/png": "[encoded data removed]",
      "text/plain": [
       "<Figure size 640x640 with 1 Axes>"
      ]
     },
     "metadata": {
      "needs_background": "light"
     },
     "output_type": "display_data"
    }
   ],
   "source": [
    "ex2 = pd.read_csv(\"./week-08/Data/ex2.csv\")\n",
    "print(ex2.head())\n",
    "\n",
    "# To visualize\n",
    "sns.scatterplot(x='x', y='y', hue='z', data=ex2, legend=False)\n",
    "plt.show()\n"
   ]
  },
  {
   "cell_type": "markdown",
   "metadata": {
    "id": "O6TMeCFgAJVt"
   },
   "source": [
    "---\n",
    "\n",
    "### 🚩 Exercise 2\n",
    "\n",
    "1. Are these two classes linearly separable?\n",
    "2. Fit a SVC model to these data using the same code we used with example 1.\n",
    "3. How does the \"fit\" of this model differ compared to the \"fit\" for example 1. Hint - make your comparison for equivalent values of C.\n",
    "4. How do the boundary line and margins change as you change the value of C?\n",
    "\n",
    "\n"
   ]
  },
  {
   "cell_type": "markdown",
   "metadata": {
    "id": "4xhjuXdcvZ7v"
   },
   "source": [
    "---\n",
    "\n",
    "**!!! Add your comments about the answer here !!!**\n",
    "\n",
    "\n",
    "\n",
    "`"
   ]
  },
  {
   "cell_type": "markdown",
   "metadata": {
    "id": "_YZt5su8C7WZ"
   },
   "source": [
    "## 2 Non-linear Case\n",
    "\n",
    "Next we will look at a new data set that would seem to also fall in the non-separable category. The data set that we are using is ex3.csv now\n",
    "\n"
   ]
  },
  {
   "cell_type": "code",
   "execution_count": 8,
   "metadata": {
    "colab": {
     "base_uri": "https://localhost:8080/",
     "height": 548
    },
    "id": "jSwzAMONFJm1",
    "outputId": "229a9a69-2e51-4ff8-b902-ac52fc25c439"
   },
   "outputs": [
    {
     "data": {
      "image/png": "[encoded data removed]",
      "text/plain": [
       "<Figure size 640x640 with 1 Axes>"
      ]
     },
     "metadata": {
      "needs_background": "light"
     },
     "output_type": "display_data"
    }
   ],
   "source": [
    "# For the new data set \n",
    "ex3 = pd.read_csv(\"./week-08/Data/ex3.csv\")\n",
    "\n",
    "# To visualize\n",
    "sns.scatterplot(x='x', y='y', hue='z', data=ex3, legend=False)\n",
    "plt.show()"
   ]
  },
  {
   "cell_type": "markdown",
   "metadata": {
    "cell_id": "00022-28a7a9d1-e95b-47b7-a31c-9b247c628087",
    "deepnote_cell_type": "markdown",
    "id": "mvrOq4afvZ7z"
   },
   "source": [
    "---\n",
    "\n",
    "### 🚩 Exercise 3\n",
    "\n",
    "For this data we will consider a simple polynomial kernel with degree 2 \n",
    "(choose first C = 1 ) and visualize the margins using `plot_margin()` again\n",
    "\n",
    "More details on the various kernels that can be used with the SVC model are available \n",
    "https://scikit-learn.org/stable/modules/svm.html#svm-kernels\n",
    "\n",
    "The kernel function can be any of the following:\n",
    "\n",
    "- linear : $\\langle x, x'\\rangle$\n",
    "- polynomial : $(\\gamma \\langle x, x'\\rangle + r)^d$\n",
    "- rbf : $\\exp(-\\gamma \\|x-x'\\|^2)$ where  $\\gamma$ is specified by parameter gamma, must be greater than 0\n",
    "- sigmoid : $\\tanh(\\gamma \\langle x,x'\\rangle + r)$ where $r$ is specified by `coef0`"
   ]
  },
  {
   "cell_type": "code",
   "execution_count": null,
   "metadata": {
    "id": "i2qXwFXvQbBq"
   },
   "outputs": [],
   "source": [
    ""
   ]
  },
  {
   "cell_type": "markdown",
   "metadata": {
    "cell_id": "00022-28a7a9d1-e95b-47b7-a31c-9b247c628087",
    "deepnote_cell_type": "markdown",
    "id": "ZecdeX9yQdVh"
   },
   "source": [
    "---\n",
    "\n",
    "### 🚩 Exercise 4\n",
    "\n",
    "Based on the above fitted models\n",
    "\n",
    "1. Compare the fit of the model using the polynomial and linear kernel. Describe the shape of the boundaries and the margins.\n",
    "\n",
    "2. How do the boundary line and margins change as you change the value of C?"
   ]
  },
  {
   "cell_type": "code",
   "execution_count": null,
   "metadata": {
    "cell_id": "00023-04722d32-f420-4104-b25b-37656a71df76",
    "deepnote_cell_type": "code",
    "id": "3Mxs7ORhvZ71",
    "output_cleared": true
   },
   "outputs": [],
   "source": [
    ""
   ]
  },
  {
   "cell_type": "markdown",
   "metadata": {
    "id": "TLaXXgVqGQrd"
   },
   "source": [
    "## 2.1 Other Kernels\n",
    "\n",
    "Next we will consider an even more complicated separation task where one class is split into two separate clusters by the second class. The data ara available as ex4.csv."
   ]
  },
  {
   "cell_type": "code",
   "execution_count": 9,
   "metadata": {
    "colab": {
     "base_uri": "https://localhost:8080/",
     "height": 548
    },
    "id": "fAZUQs23GXAl",
    "outputId": "5634934d-e3f0-4972-8e54-d5b12da535d3"
   },
   "outputs": [
    {
     "data": {
      "image/png": "[encoded data removed]",
      "text/plain": [
       "<Figure size 640x640 with 1 Axes>"
      ]
     },
     "metadata": {
      "needs_background": "light"
     },
     "output_type": "display_data"
    }
   ],
   "source": [
    "# For the new data set \n",
    "ex4 = pd.read_csv(\"./week-08/Data/ex4.csv\")\n",
    "\n",
    "# To visualize\n",
    "plt.figure(figsize=(8, 8))\n",
    "sns.scatterplot(x='x', y='y', hue='z', data=ex4, legend=False)\n",
    "plt.show()"
   ]
  },
  {
   "cell_type": "markdown",
   "metadata": {
    "cell_id": "00022-28a7a9d1-e95b-47b7-a31c-9b247c628087",
    "deepnote_cell_type": "markdown",
    "id": "z4NLHMUEdKxP"
   },
   "source": [
    "---\n",
    "\n",
    "### 🚩 Exercise 5\n",
    "\n",
    "Set up a function for experimenting with different penalties and kernel functions for this dataset (ex4.csv). For this purpose, consider, \n",
    "\n",
    "1. **C** in $[1,5,10,50,100]$\n",
    "2. **degree** in $[2,3,4]$\n",
    "3. **kernel** in $['poly', 'rbf', 'linear'])$\n",
    "\n",
    "inside of the `SVC()` function. Note that the degree value is only used by polynomial kernel and is ignored by the linear and rbf kernels. "
   ]
  },
  {
   "cell_type": "code",
   "execution_count": null,
   "metadata": {
    "id": "9vTpIe932BFz"
   },
   "outputs": [],
   "source": [
    ""
   ]
  },
  {
   "cell_type": "markdown",
   "metadata": {
    "cell_id": "00022-28a7a9d1-e95b-47b7-a31c-9b247c628087",
    "deepnote_cell_type": "markdown",
    "id": "wYXQZYkTMy7M"
   },
   "source": [
    "---\n",
    "\n",
    "### 🚩 Exercise 6\n",
    "\n",
    "Based on the above fitted models\n",
    "\n",
    "1. What combination of parameters appears to produce the best fit? Is it easy to tell this by visual inspection alone?\n",
    "\n",
    "2. How do the support vectors change as the kernel, penalty, and degree are changed?\n"
   ]
  },
  {
   "cell_type": "markdown",
   "metadata": {
    "id": "2uoEYNyw0Jfm"
   },
   "source": [
    "## 3 Model Assessment\n",
    "\n",
    "So far we have only inspected the various models by eye to get a sense of how well they fit our data. Since we are undertaking a classification task here we would like to be able to leverage the metrics and scoring tools we have already learned around logistic regression and related tools. The issue is that while we could generate a simple confusion matrix for our models' predictions this is somewhat limiting.\n",
    "\n",
    "By default, SVM models do not support the construction of anything like a ROC curve since the predictions are not probabilistic - i.e. labels are assigned based on which side of the separator a point falls. As such, SVC models do not implement predict_proba by default"
   ]
  },
  {
   "cell_type": "markdown",
   "metadata": {
    "id": "Szq6fbGf05A9"
   },
   "source": [
    "---\n",
    "\n",
    "### 🚩 Exercise 7\n",
    "\n",
    "Based on the best model that you visualized above, in Exercise 6\n",
    "\n",
    "1. Report the accuracy of the model\n",
    "2. Obtain the confusion matrix and interpret the results in terms of the quantities defined below \n",
    "\n",
    "$$\n",
    "\\text{FPR} = \\frac{\\text{FP}}{\\text{FP}+ \\text{TN}}\n",
    "$$\n",
    "\n",
    "$$\n",
    "\\text{Recall} = \\frac{\\text{TP}}{\\text{TP}+ \\text{FN}}\n",
    "$$\n",
    "\n",
    "$$\n",
    "\\text{Precision} = \\frac{\\text{TP}}{\\text{TP}+ \\text{FP}}\n",
    "$$\n",
    "\n",
    "$$\n",
    "F1 = 2\\left(\\frac{Precision \\times Recall}{Precision + Recall}\\right)\n",
    "$$\n",
    "\n"
   ]
  },
  {
   "cell_type": "code",
   "execution_count": null,
   "metadata": {
    "id": "UQrDeC8O8-Nf"
   },
   "outputs": [],
   "source": [
    ""
   ]
  },
  {
   "cell_type": "markdown",
   "metadata": {
    "id": "Ruvl0mkhF8xL"
   },
   "source": [
    "**!!! Add your comments about the model performance here !!!**\n"
   ]
  },
  {
   "cell_type": "markdown",
   "metadata": {
    "id": "K7foBrtx5DXO"
   },
   "source": [
    "---\n",
    "\n",
    "### 🚩 Exercise 8\n",
    "\n",
    "With the available scoing metrics we can make use of the usual cross valiation tools such as cross_val_score which can be useful for the purpose of comparing different models,\n",
    "\n",
    "1. Run the following code and get the result\n",
    "2. Rearrange the ingridients of th code given below for 2-degree poylnomial kernel, compare the result with the output of 1. \n",
    "3. If you adjust $C$ are you able to find a better performing version of either the rbf or poly SVM models?\n",
    "\n"
   ]
  },
  {
   "cell_type": "code",
   "execution_count": null,
   "metadata": {
    "id": "ClWZ7isN5ekk"
   },
   "outputs": [],
   "source": [
    "rbf = sklearn.model_selection.cross_val_score(\n",
    "    SVC(kernel='rbf', C=1, gamma='scale'), \n",
    "    X_ex4, y_ex4, \n",
    "    cv=KFold(5, shuffle=True, random_state=1234)\n",
    ")"
   ]
  },
  {
   "cell_type": "markdown",
   "metadata": {
    "id": "ZqZpAT1MxolL"
   },
   "source": [
    "---\n",
    "\n",
    "**!!! Add your comments here !!!**\n"
   ]
  },
  {
   "cell_type": "markdown",
   "metadata": {
    "id": "cjuQg3ty7XYG"
   },
   "source": [
    "---\n",
    "\n",
    "### 🚩 Exercise 9\n",
    "\n",
    "Construct a full cross validated grid search over the parameter values: $C = np.linspace(0.1, 10, 100)$, degree = $[2,3,4]$, and kernel = $['poly', 'rbf', 'linear']$.\n",
    "\n",
    "Which SVM model performs best? Use plot_margin to show the resulting seperator and support vectors."
   ]
  },
  {
   "cell_type": "code",
   "execution_count": null,
   "metadata": {
    "hideCode": false,
    "hidePrompt": false,
    "id": "AMIeAU0kjec1"
   },
   "outputs": [],
   "source": [
    "cv = GridSearchCV(\n",
    "    SVC(),\n",
    "    param_grid = { \n",
    "        'kernel':________________, \n",
    "        'C': _______________,\n",
    "        'degree': [2,3,4]\n",
    "    },\n",
    "    cv = KFold(5, shuffle=True, random_state=1234)\n",
    ")\n",
    "\n",
    "# Fit the model on ex4 data set\n",
    "\n",
    "# Get the best model parameters and the accuracy of the model\n"
   ]
  },
  {
   "cell_type": "markdown",
   "metadata": {
    "cell_id": "00003-90709695-8746-4669-9199-fd144a6ec872",
    "deepnote_cell_type": "markdown",
    "id": "YwCfjeYB4tVM"
   },
   "source": [
    "## 4 Default Data for Binary Case\n",
    "\n",
    "The dataset consists of 10000 individuals and whether their credit card has defaulted or not. Below is the column description: The main aim is to build the model using Logistic Regression and predict the accuracy of it. The included columns in the data set are as follows:\n",
    "\n",
    "* `default` - Whether the individual has defaulted\n",
    "\n",
    "* `student` - Whether the individual is the student\n",
    "\n",
    "* `balance` - The balance in the individual's account\n",
    "\n",
    "* `income` - Income of an individual\n",
    "\n",
    "We read the data into python using pandas.\n",
    "\n",
    "\n",
    "\n"
   ]
  },
  {
   "cell_type": "code",
   "execution_count": null,
   "metadata": {
    "colab": {
     "base_uri": "https://localhost:8080/",
     "height": 206
    },
    "id": "SlbaLT675J8g",
    "outputId": "fa3accef-409c-41d9-b61d-2ac6b5d8f4b6"
   },
   "outputs": [
    {
     "data": {
      "text/html": [
       "\n",
       "  <div id=\"df-45c04b0a-1ae4-4d83-80c6-5524d580180f\">\n",
       "    <div class=\"colab-df-container\">\n",
       "      <div>\n",
       "<style scoped>\n",
       "    .dataframe tbody tr th:only-of-type {\n",
       "        vertical-align: middle;\n",
       "    }\n",
       "\n",
       "    .dataframe tbody tr th {\n",
       "        vertical-align: top;\n",
       "    }\n",
       "\n",
       "    .dataframe thead th {\n",
       "        text-align: right;\n",
       "    }\n",
       "</style>\n",
       "<table border=\"1\" class=\"dataframe\">\n",
       "  <thead>\n",
       "    <tr style=\"text-align: right;\">\n",
       "      <th></th>\n",
       "      <th>default</th>\n",
       "      <th>balance</th>\n",
       "      <th>income</th>\n",
       "    </tr>\n",
       "  </thead>\n",
       "  <tbody>\n",
       "    <tr>\n",
       "      <th>1</th>\n",
       "      <td>No</td>\n",
       "      <td>729.526495</td>\n",
       "      <td>44361.62507</td>\n",
       "    </tr>\n",
       "    <tr>\n",
       "      <th>2</th>\n",
       "      <td>No</td>\n",
       "      <td>817.180407</td>\n",
       "      <td>12106.13470</td>\n",
       "    </tr>\n",
       "    <tr>\n",
       "      <th>3</th>\n",
       "      <td>No</td>\n",
       "      <td>1073.549164</td>\n",
       "      <td>31767.13895</td>\n",
       "    </tr>\n",
       "    <tr>\n",
       "      <th>4</th>\n",
       "      <td>No</td>\n",
       "      <td>529.250605</td>\n",
       "      <td>35704.49394</td>\n",
       "    </tr>\n",
       "    <tr>\n",
       "      <th>5</th>\n",
       "      <td>No</td>\n",
       "      <td>785.655883</td>\n",
       "      <td>38463.49588</td>\n",
       "    </tr>\n",
       "  </tbody>\n",
       "</table>\n",
       "</div>\n",
       "      <button class=\"colab-df-convert\" onclick=\"convertToInteractive('df-45c04b0a-1ae4-4d83-80c6-5524d580180f')\"\n",
       "              title=\"Convert this dataframe to an interactive table.\"\n",
       "              style=\"display:none;\">\n",
       "        \n",
       "  <svg xmlns=\"http://www.w3.org/2000/svg\" height=\"24px\"viewBox=\"0 0 24 24\"\n",
       "       width=\"24px\">\n",
       "    <path d=\"M0 0h24v24H0V0z\" fill=\"none\"/>\n",
       "    <path d=\"M18.56 5.44l.94 2.06.94-2.06 2.06-.94-2.06-.94-.94-2.06-.94 2.06-2.06.94zm-11 1L8.5 8.5l.94-2.06 2.06-.94-2.06-.94L8.5 2.5l-.94 2.06-2.06.94zm10 10l.94 2.06.94-2.06 2.06-.94-2.06-.94-.94-2.06-.94 2.06-2.06.94z\"/><path d=\"M17.41 7.96l-1.37-1.37c-.4-.4-.92-.59-1.43-.59-.52 0-1.04.2-1.43.59L10.3 9.45l-7.72 7.72c-.78.78-.78 2.05 0 2.83L4 21.41c.39.39.9.59 1.41.59.51 0 1.02-.2 1.41-.59l7.78-7.78 2.81-2.81c.8-.78.8-2.07 0-2.86zM5.41 20L4 18.59l7.72-7.72 1.47 1.35L5.41 20z\"/>\n",
       "  </svg>\n",
       "      </button>\n",
       "      \n",
       "  <style>\n",
       "    .colab-df-container {\n",
       "      display:flex;\n",
       "      flex-wrap:wrap;\n",
       "      gap: 12px;\n",
       "    }\n",
       "\n",
       "    .colab-df-convert {\n",
       "      background-color: #E8F0FE;\n",
       "      border: none;\n",
       "      border-radius: 50%;\n",
       "      cursor: pointer;\n",
       "      display: none;\n",
       "      fill: #1967D2;\n",
       "      height: 32px;\n",
       "      padding: 0 0 0 0;\n",
       "      width: 32px;\n",
       "    }\n",
       "\n",
       "    .colab-df-convert:hover {\n",
       "      background-color: #E2EBFA;\n",
       "      box-shadow: 0px 1px 2px rgba(60, 64, 67, 0.3), 0px 1px 3px 1px rgba(60, 64, 67, 0.15);\n",
       "      fill: #174EA6;\n",
       "    }\n",
       "\n",
       "    [theme=dark] .colab-df-convert {\n",
       "      background-color: #3B4455;\n",
       "      fill: #D2E3FC;\n",
       "    }\n",
       "\n",
       "    [theme=dark] .colab-df-convert:hover {\n",
       "      background-color: #434B5C;\n",
       "      box-shadow: 0px 1px 3px 1px rgba(0, 0, 0, 0.15);\n",
       "      filter: drop-shadow(0px 1px 2px rgba(0, 0, 0, 0.3));\n",
       "      fill: #FFFFFF;\n",
       "    }\n",
       "  </style>\n",
       "\n",
       "      <script>\n",
       "        const buttonEl =\n",
       "          document.querySelector('#df-45c04b0a-1ae4-4d83-80c6-5524d580180f button.colab-df-convert');\n",
       "        buttonEl.style.display =\n",
       "          google.colab.kernel.accessAllowed ? 'block' : 'none';\n",
       "\n",
       "        async function convertToInteractive(key) {\n",
       "          const element = document.querySelector('#df-45c04b0a-1ae4-4d83-80c6-5524d580180f');\n",
       "          const dataTable =\n",
       "            await google.colab.kernel.invokeFunction('convertToInteractive',\n",
       "                                                     [key], {});\n",
       "          if (!dataTable) return;\n",
       "\n",
       "          const docLinkHtml = 'Like what you see? Visit the ' +\n",
       "            '<a target=\"_blank\" href=https://colab.research.google.com/notebooks/data_table.ipynb>data table notebook</a>'\n",
       "            + ' to learn more about interactive tables.';\n",
       "          element.innerHTML = '';\n",
       "          dataTable['output_type'] = 'display_data';\n",
       "          await google.colab.output.renderOutput(dataTable, element);\n",
       "          const docLink = document.createElement('div');\n",
       "          docLink.innerHTML = docLinkHtml;\n",
       "          element.appendChild(docLink);\n",
       "        }\n",
       "      </script>\n",
       "    </div>\n",
       "  </div>\n",
       "  "
      ],
      "text/plain": [
       "  default      balance       income\n",
       "1      No   729.526495  44361.62507\n",
       "2      No   817.180407  12106.13470\n",
       "3      No  1073.549164  31767.13895\n",
       "4      No   529.250605  35704.49394\n",
       "5      No   785.655883  38463.49588"
      ]
     },
     "execution_count": 8,
     "metadata": {},
     "output_type": "execute_result"
    }
   ],
   "source": [
    "df_default = pd.read_csv(\"./week-08/Data/Default.csv\", index_col=0)\n",
    "\n",
    "# for now lets just drop the student varible.\n",
    "df_default = df_default.drop(\"student\", axis=1)\n",
    "df_default.head()"
   ]
  },
  {
   "cell_type": "markdown",
   "metadata": {
    "id": "MAqFPdjr50B-"
   },
   "source": [
    "---\n",
    "\n",
    "### 🚩 Exercise 10\n",
    "\n",
    "1. Split the data into training and test sets (**Is there anything you should try account for when splitting the data ?**) Use the test size as $10\\%$ of the whole sample\n",
    "\n",
    "2. Convert your response variable into the numerical format\n",
    "\n",
    "3. Use the following function to get a RandomizedSearch results and sort your model results in terms of the value of \"mean_test_recall\". Comment on the obtained result in terms of accuracy and recall\n",
    "\n",
    "NOTE: You can check the details in the Week07 workshop solutions\n",
    "\n"
   ]
  },
  {
   "cell_type": "code",
   "execution_count": null,
   "metadata": {
    "id": "Nk4JacVm6qjL"
   },
   "outputs": [],
   "source": [
    "C_list = []\n",
    "pwr = -5\n",
    "for i in range(11):\n",
    "    C_list.append(2**pwr)\n",
    "    pwr+=2\n",
    "\n",
    "linear_svm = Pipeline([\n",
    "        (\"scaler\", StandardScaler()),\n",
    "        (\"svm_clf\", LinearSVC(random_state=42))\n",
    "    ])\n",
    "# specify parameters and distributions to sample from\n",
    "lin_param_dist = {'svm_clf__C':loguniform(C_list[0], C_list[-1])}\n",
    "\n",
    "lin_rs = RandomizedSearchCV(linear_svm, lin_param_dist, n_iter=60, \n",
    "                            scoring = [\"accuracy\", \"f1\",\"recall\",\"precision\"], \n",
    "                            cv=StratifiedKFold(n_splits=5),\n",
    "                            refit=\"recall\", \n",
    "                            random_state=42,\n",
    "                            return_train_score=True)\n",
    "\n",
    "lin_rs.fit(X_train, y_train)"
   ]
  },
  {
   "cell_type": "markdown",
   "metadata": {
    "id": "CbITg5nFR3Ww"
   },
   "source": [
    "## 5 Geocoded Tickets Data for Multi-class Case\n",
    "\n",
    "The new data comes from New York City's Open Data project. We have simplified the data somewhat and restricted the data to just include the five precincts (1st, 5th, 6th, 7th, and 9th) in the southern end of Manhattan. The following data files have been provided:\n",
    "\n",
    "- manh_tickets.csv - Geocoded parking tickets from the 5 southern most precincts in Manhattan\n",
    "\n",
    "- manh_test.csv - Points randomly sampled within the true boundaries of these precincts\n",
    "\n",
    "- manh_bounds.csv - boundaries of these precincts\n",
    "\n",
    "Our goal is to use these parking tickets to develop a model which correctly predicts the boundaries of the police precincts in Manhattan based only on the locations where parking tickets have been issued."
   ]
  },
  {
   "cell_type": "code",
   "execution_count": null,
   "metadata": {
    "id": "85ckjDn8jec2"
   },
   "outputs": [],
   "source": [
    "# Reading the data set \n",
    "manh_tickets = pd.read_csv(\"./week-08/Data/manh_tickets.csv\")\n",
    "# Already available test data\n",
    "manh_test    = pd.read_csv(\"./week-08/Data/manh_test.csv\"\n",
    "manh_bounds  = pd.read_csv(\"./week-08/Data/manh_bounds.csv\")\n",
    "\n",
    "# and create our basic response vector and model matrix, over the tickets data set\n",
    "X = manh_tickets[['lon','lat']]\n",
    "y = manh_tickets.precinct"
   ]
  },
  {
   "cell_type": "code",
   "execution_count": null,
   "metadata": {
    "id": "S-62ElF7QXM8"
   },
   "outputs": [],
   "source": [
    "# Created labels and a color palette which will be used for across subsequent plots.\n",
    "precincts = ['Precinct01', 'Precinct05', 'Precinct06', 'Precinct07', 'Precinct09']\n",
    "precincts_short = ['P01', 'P05', 'P06', 'P07', 'P09']\n",
    "precincts_pred = [\"pred_\" + p for p in precincts_short]\n",
    "\n",
    "# Create a color palette for precincts based on the cols25 palette\n",
    "precinct_pal = dict(\n",
    "    zip(precincts,\n",
    "        [(0.1215686, 0.47058824, 0.7843137), (1.0000000, 0.00000000, 0.0000000),\n",
    "         (0.2000000, 0.62745098, 0.1725490), (0.4156863, 0.20000000, 0.7607843),\n",
    "         (1.0000000, 0.49803922, 0.0000000) ]\n",
    "    )\n",
    ")\n"
   ]
  },
  {
   "cell_type": "code",
   "execution_count": null,
   "metadata": {
    "id": "Bw5liAdtQd33"
   },
   "outputs": [],
   "source": [
    "# Using our new palette we can plot the original parking ticket data and add the precinct boundaries using \n",
    "# plot_boundaries to make everything more readable.\n",
    "\n",
    "plt.figure(figsize=(5,8))\n",
    "\n",
    "sns.scatterplot(\n",
    "    x='lon', y='lat', hue='precinct', palette=precinct_pal, data=manh_tickets\n",
    ").set_title(\"Parking Tickets\")\n",
    "plot_boundaries(manh_bounds)\n",
    "\n",
    "plt.show()"
   ]
  },
  {
   "cell_type": "markdown",
   "metadata": {
    "id": "Pew94RYnTVZh"
   },
   "source": [
    "##  5.1 Multiclass Case\n",
    "\n",
    "- Standard Support Vector Classifier models are able to handle multiclass outcome vectors by fitting all of the one-to-one SVC models for each pair of classes. This therefore involves fitting ${k \\choose 2} = k(k-1)/2$\n",
    "​\n",
    "- SVC models which can be slow. The labels are predicted based on using all ${k \\choose 2} = k(k-1)/2$ generate binary predictions which are then tabulated and the label with the most votes is choosen. See here for more details."
   ]
  },
  {
   "cell_type": "markdown",
   "metadata": {
    "cell_id": "00022-28a7a9d1-e95b-47b7-a31c-9b247c628087",
    "deepnote_cell_type": "markdown",
    "id": "WdZKHECXTmgU"
   },
   "source": [
    "---\n",
    "\n",
    "### 🚩 Exercise 11\n",
    "\n",
    "Using the following function to try different values of kernel and C, what seems to produce the best model? \n",
    "\n",
    "Hint - recommended kernels to try include rbf, poly, and linear."
   ]
  },
  {
   "cell_type": "code",
   "execution_count": null,
   "metadata": {
    "id": "EjE0dt7Kjec3"
   },
   "outputs": [],
   "source": [
    "# Following not needed, but makes life easier\n",
    "gs_svc = sklearn.model_selection.GridSearchCV(\n",
    "    make_pipeline(\n",
    "        sklearn.preprocessing.StandardScaler(),\n",
    "        sklearn.svm.SVC()\n",
    "    ),\n",
    "    [\n",
    "        {\n",
    "            # Other kernels\n",
    "            \"svc__kernel\": ______________,\n",
    "            \"svc__C\": np.logspace(-2, 2, num=10)\n",
    "        },\n",
    "        {\n",
    "            # For polynomial part only\n",
    "            \"svc__kernel\": [\"poly\"],\n",
    "            \"svc__degree\": [1, 2, 3],\n",
    "            \"svc__C\": np.logspace(-2, 2, num=10)\n",
    "        }\n",
    "    ],\n",
    "\n",
    "    # Setting a random_state has no effect when shuffle is False. \n",
    "    # You should leave random_state to its default (None), or set shuffle=True.\n",
    "    cv = sklearn.model_selection.KFold(5, shuffle=True, random_state=1234)\n",
    ").fit(X,y)"
   ]
  },
  {
   "cell_type": "markdown",
   "metadata": {
    "cell_id": "00022-28a7a9d1-e95b-47b7-a31c-9b247c628087",
    "deepnote_cell_type": "markdown",
    "id": "RaxRXbcF-5EX"
   },
   "source": [
    "---\n",
    "\n",
    "### 🚩 Exercise 12\n",
    "\n",
    "Comment out the line of code that includes the `StandardScaler` in the pipeline below. \n",
    "\n",
    "- What happens to the models predictive performance? \n",
    "\n",
    "- Try adjusting C and or kernel to see if you can improve things"
   ]
  },
  {
   "cell_type": "code",
   "execution_count": null,
   "metadata": {
    "hideCode": false,
    "hidePrompt": false,
    "id": "upqmGHZ_jec4"
   },
   "outputs": [],
   "source": [
    "m_svc2 = make_pipeline(\n",
    "    sklearn.preprocessing.StandardScaler(),\n",
    "    sklearn.svm.SVC(C=1, kernel=\"rbf\")\n",
    ").fit(X,y)\n",
    "\n",
    "model_test_assess(m_svc2, inc_report=False)"
   ]
  },
  {
   "cell_type": "markdown",
   "metadata": {
    "id": "VJ92NVpdS1Jw"
   },
   "source": [
    "**REMARK** \n",
    "\n",
    "An alternative to the one-vs-one behavior of SVC is to instead fit a one-vs-rest model, in sklearn this is only supported by the `LinearSVC()` classifier model. \n",
    "\n",
    "This modeling approach needs to only fit $k$ SVM models, and is therefore usually much faster for large $k$. \n",
    "\n",
    "However, due to implementation details of the underlying fitting library it does not support non-linear kernels. As with other SVM models it is important to scale our data before fitting."
   ]
  },
  {
   "cell_type": "markdown",
   "metadata": {
    "cell_id": "00022-28a7a9d1-e95b-47b7-a31c-9b247c628087",
    "deepnote_cell_type": "markdown",
    "id": "Zvf9Dact_xwz"
   },
   "source": [
    "---\n",
    "\n",
    "### 🚩 Exercise 13\n",
    "\n",
    "Using the following function try different values of C to tune the model, how does its performance compare to the SVC model?\n",
    "\n",
    "Note that inside of the function  `model_test_assess` the testing data is used !\n",
    "\n"
   ]
  },
  {
   "cell_type": "code",
   "execution_count": null,
   "metadata": {
    "id": "Y1-CTLwlTaqL"
   },
   "outputs": [],
   "source": [
    "def fit_lsvc(C):\n",
    "    m_lsvc = make_pipeline(\n",
    "        sklearn.preprocessing.StandardScaler(),\n",
    "        sklearn.svm.LinearSVC(C=C, max_iter=5000)\n",
    "    ).fit(X,y)\n",
    "    \n",
    "    model_test_assess(m_lsvc)"
   ]
  },
  {
   "cell_type": "markdown",
   "metadata": {
    "cell_id": "00086-7422c6b7-c86a-41ac-8d32-8ba6063dcba5",
    "deepnote_cell_type": "markdown",
    "id": "-ICOV5l8vZ8G"
   },
   "source": [
    "---\n",
    "\n",
    "## 7. Competing the worksheet\n",
    "\n",
    "At this point you have hopefully been able to complete all the preceeding exercises. Now \n",
    "is a good time to check the reproducibility of this document by restarting the notebook's\n",
    "kernel and rerunning all cells in order.\n",
    "\n",
    "Once that is done and you are happy with everything, you can generate your PDF and turn it in on gradescope under the `mlp-week08` assignment."
   ]
  }
 ],
 "metadata": {
  "colab": {
   "collapsed_sections": [],
   "name": "week08.ipynb",
   "provenance": []
  },
  "deepnote_execution_queue": [],
  "deepnote_notebook_id": "2f0f4e4a-50b4-476a-ac32-ea3a1e98d30c",
  "kernelspec": {
   "display_name": "Python 3",
   "language": "python",
   "name": "python3"
  },
  "language_info": {
   "codemirror_mode": {
    "name": "ipython",
    "version": 3
   },
   "file_extension": ".py",
   "mimetype": "text/x-python",
   "name": "python",
   "nbconvert_exporter": "python",
   "pygments_lexer": "ipython3",
   "version": "3.6.1"
  }
 },
 "nbformat": 4,
 "nbformat_minor": 0
}
