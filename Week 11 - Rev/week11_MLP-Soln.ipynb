{
 "cells": [
  {
   "cell_type": "markdown",
   "metadata": {},
   "source": [
    "# Week 11 - Review and Beyond MLP\n",
    "\n",
    "### Aims\n",
    "\n",
    "By the end of this notebook you will be able to understand \n",
    "\n",
    ">* The Basics of Keras overview\n",
    ">* Linear Regression by Keras\n",
    ">* Working out on Project II data\n",
    "\n",
    "The exercises here are designed to reinforce the basics of keras for further use. Additionally, you will see some simple tasks to try and comment out. \n",
    "\n",
    "- For the last time, you will have lighter tasks tagged by (CORE) and (EXTRA).\n",
    "\n",
    "- If you already submitted at least 5 hands-in script before (marked as 1), you can directly start your project II during the WS. \n",
    "\n",
    "- Some experiments asked below is related to the hotel data already. "
   ]
  },
  {
   "cell_type": "markdown",
   "metadata": {
    "id": "hm6XqPScK-FV"
   },
   "source": [
    "# Imports\n",
    "\n",
    "We're only going to need a couple of standard libraries this week, as well as keras. "
   ]
  },
  {
   "cell_type": "code",
   "execution_count": 1,
   "metadata": {},
   "outputs": [],
   "source": [
    "# Display plots inline\n",
    "%matplotlib inline  \n",
    "\n",
    "# Data libraries\n",
    "import pandas as pd\n",
    "import numpy as np\n",
    "\n",
    "# Plotting libraries\n",
    "import matplotlib.pyplot as plt\n",
    "import seaborn as sns\n",
    "from mpl_toolkits.mplot3d import Axes3D"
   ]
  },
  {
   "cell_type": "code",
   "execution_count": 2,
   "metadata": {
    "id": "usEZAe6SYpV8"
   },
   "outputs": [
    {
     "name": "stderr",
     "output_type": "stream",
     "text": [
      "2023-04-03 17:57:22.079223: I tensorflow/core/platform/cpu_feature_guard.cc:193] This TensorFlow binary is optimized with oneAPI Deep Neural Network Library (oneDNN) to use the following CPU instructions in performance-critical operations:  AVX2 FMA\n",
      "To enable them in other operations, rebuild TensorFlow with the appropriate compiler flags.\n",
      "2023-04-03 17:57:22.528109: W tensorflow/stream_executor/platform/default/dso_loader.cc:64] Could not load dynamic library 'libcudart.so.11.0'; dlerror: libcudart.so.11.0: cannot open shared object file: No such file or directory\n",
      "2023-04-03 17:57:22.528145: I tensorflow/stream_executor/cuda/cudart_stub.cc:29] Ignore above cudart dlerror if you do not have a GPU set up on your machine.\n",
      "2023-04-03 17:57:22.583511: E tensorflow/stream_executor/cuda/cuda_blas.cc:2981] Unable to register cuBLAS factory: Attempting to register factory for plugin cuBLAS when one has already been registered\n",
      "2023-04-03 17:57:24.244973: W tensorflow/stream_executor/platform/default/dso_loader.cc:64] Could not load dynamic library 'libnvinfer.so.7'; dlerror: libnvinfer.so.7: cannot open shared object file: No such file or directory\n",
      "2023-04-03 17:57:24.245098: W tensorflow/stream_executor/platform/default/dso_loader.cc:64] Could not load dynamic library 'libnvinfer_plugin.so.7'; dlerror: libnvinfer_plugin.so.7: cannot open shared object file: No such file or directory\n",
      "2023-04-03 17:57:24.245111: W tensorflow/compiler/tf2tensorrt/utils/py_utils.cc:38] TF-TRT Warning: Cannot dlopen some TensorRT libraries. If you would like to use Nvidia GPU with TensorRT, please make sure the missing libraries mentioned above are installed properly.\n",
      "/opt/conda/lib/python3.9/site-packages/requests/__init__.py:102: RequestsDependencyWarning: urllib3 (1.26.9) or chardet (5.0.0)/charset_normalizer (2.0.12) doesn't match a supported version!\n",
      "  warnings.warn(\"urllib3 ({}) or chardet ({})/charset_normalizer ({}) doesn't match a supported \"\n"
     ]
    }
   ],
   "source": [
    "import tensorflow as tf\n",
    "from tensorflow import keras"
   ]
  },
  {
   "cell_type": "code",
   "execution_count": 3,
   "metadata": {},
   "outputs": [
    {
     "data": {
      "text/html": [
       "\n",
       "      <iframe id=\"tensorboard-frame-643694a4bf05b764\" width=\"100%\" height=\"800\" frameborder=\"0\">\n",
       "      </iframe>\n",
       "      <script>\n",
       "        (function() {\n",
       "          const frame = document.getElementById(\"tensorboard-frame-643694a4bf05b764\");\n",
       "          const url = new URL(\"/\", window.location);\n",
       "          const port = 5036;\n",
       "          if (port) {\n",
       "            url.port = port;\n",
       "          }\n",
       "          frame.src = url;\n",
       "        })();\n",
       "      </script>\n",
       "    "
      ],
      "text/plain": [
       "<IPython.core.display.HTML object>"
      ]
     },
     "metadata": {},
     "output_type": "display_data"
    }
   ],
   "source": [
    "# Not necessary in general !\n",
    "import os, datetime\n",
    "logdir = os.path.join(\"logs\", datetime.datetime.now().strftime(\"%Y%m%d-%H%M%S\"))\n",
    "\n",
    "%load_ext tensorboard\n",
    "%tensorboard --port=5036 --logdir $logdir\n",
    "tensorboard_callback = keras.callbacks.TensorBoard(logdir, histogram_freq=1) "
   ]
  },
  {
   "cell_type": "markdown",
   "metadata": {
    "id": "qeHcm_OBGhtx"
   },
   "source": [
    "# Basics\n",
    "\n",
    "**Just to highlight some differences**\n",
    "\n",
    "TensorFlow is an infrastructure layer for differentiable programming. At its heart, it's a framework for manipulating N-dimensional arrays (tensors), much like NumPy.But as you experienced already, there are three key differences between NumPy and TensorFlow:\n",
    "\n",
    "- TensorFlow can leverage hardware accelerators such as GPUs and TPUs.\n",
    "\n",
    "- TensorFlow can automatically compute the gradient of arbitrary differentiable tensor expressions.\n",
    "\n",
    "- TensorFlow computation can be distributed to large numbers of devices on a single machine, and large number of machines (potentially with multiple devices each)."
   ]
  },
  {
   "cell_type": "code",
   "execution_count": 4,
   "metadata": {
    "id": "NZw0Lb1wR395"
   },
   "outputs": [
    {
     "name": "stdout",
     "output_type": "stream",
     "text": [
      "tf.Tensor(\n",
      "[[5 2]\n",
      " [1 3]], shape=(2, 2), dtype=int32)\n"
     ]
    },
    {
     "name": "stderr",
     "output_type": "stream",
     "text": [
      "2023-04-03 17:57:49.507482: W tensorflow/stream_executor/platform/default/dso_loader.cc:64] Could not load dynamic library 'libcuda.so.1'; dlerror: libcuda.so.1: cannot open shared object file: No such file or directory\n",
      "2023-04-03 17:57:49.507535: W tensorflow/stream_executor/cuda/cuda_driver.cc:263] failed call to cuInit: UNKNOWN ERROR (303)\n",
      "2023-04-03 17:57:49.507562: I tensorflow/stream_executor/cuda/cuda_diagnostics.cc:156] kernel driver does not appear to be running on this host (noteable): /proc/driver/nvidia/version does not exist\n",
      "2023-04-03 17:57:49.510694: I tensorflow/core/platform/cpu_feature_guard.cc:193] This TensorFlow binary is optimized with oneAPI Deep Neural Network Library (oneDNN) to use the following CPU instructions in performance-critical operations:  AVX2 FMA\n",
      "To enable them in other operations, rebuild TensorFlow with the appropriate compiler flags.\n"
     ]
    }
   ],
   "source": [
    "x = tf.constant([[5, 2], [1, 3]])\n",
    "print(x)"
   ]
  },
  {
   "cell_type": "code",
   "execution_count": 5,
   "metadata": {},
   "outputs": [
    {
     "data": {
      "text/plain": [
       "array([[5, 2],\n",
       "       [1, 3]], dtype=int32)"
      ]
     },
     "execution_count": 5,
     "metadata": {},
     "output_type": "execute_result"
    }
   ],
   "source": [
    "# You can get its value as a NumPy array by calling .numpy():\n",
    "x.numpy()"
   ]
  },
  {
   "cell_type": "code",
   "execution_count": 6,
   "metadata": {},
   "outputs": [
    {
     "name": "stdout",
     "output_type": "stream",
     "text": [
      "dtype: <dtype: 'int32'>\n",
      "shape: (2, 2)\n"
     ]
    }
   ],
   "source": [
    "# Much like a NumPy array, it features the attributes dtype and shape:\n",
    "print(\"dtype:\", x.dtype)\n",
    "print(\"shape:\", x.shape)"
   ]
  },
  {
   "cell_type": "code",
   "execution_count": 7,
   "metadata": {},
   "outputs": [
    {
     "data": {
      "text/plain": [
       "<tf.Tensor: shape=(2, 2), dtype=float32, numpy=\n",
       "array([[ 3.0926309,  1.0278603],\n",
       "       [-1.1365403,  0.7284249]], dtype=float32)>"
      ]
     },
     "execution_count": 7,
     "metadata": {},
     "output_type": "execute_result"
    }
   ],
   "source": [
    "# You can also create random constant tensors:\n",
    "x = tf.random.normal(shape=(2, 2), mean=0.0, stddev=1.0)\n",
    "x"
   ]
  },
  {
   "cell_type": "markdown",
   "metadata": {},
   "source": [
    "## Variables\n",
    "\n",
    "Variables are special tensors used to store mutable state (such as the weights of a neural network). You create a Variable using some initial value:\n",
    "\n",
    "**Doing math in TensorFlow:** \n",
    "\n",
    "If you've used NumPy, doing math in TensorFlow will look very familiar. The main difference is that your TensorFlow code can run on GPU and TPU."
   ]
  },
  {
   "cell_type": "code",
   "execution_count": 8,
   "metadata": {},
   "outputs": [
    {
     "name": "stdout",
     "output_type": "stream",
     "text": [
      "<tf.Variable 'Variable:0' shape=(2, 2) dtype=float32, numpy=\n",
      "array([[ 1.7980986 ,  0.15745784],\n",
      "       [-0.6098922 , -2.0456643 ]], dtype=float32)>\n"
     ]
    }
   ],
   "source": [
    "initial_value = tf.random.normal(shape=(2, 2))\n",
    "a = tf.Variable(initial_value)\n",
    "print(a)"
   ]
  },
  {
   "cell_type": "code",
   "execution_count": 9,
   "metadata": {},
   "outputs": [
    {
     "name": "stdout",
     "output_type": "stream",
     "text": [
      "tf.Tensor(\n",
      "[[-1.8071861  1.251079 ]\n",
      " [-2.850041   1.2538288]], shape=(2, 2), dtype=float32) tf.Tensor(\n",
      "[[3.2659216 1.5651985]\n",
      " [8.122733  1.5720866]], shape=(2, 2), dtype=float32) tf.Tensor(\n",
      "[[  26.20425      4.7836246]\n",
      " [3370.2195       4.816688 ]], shape=(2, 2), dtype=float32)\n"
     ]
    }
   ],
   "source": [
    "a = tf.random.normal(shape=(2, 2))\n",
    "b = tf.random.normal(shape=(2, 2))\n",
    "\n",
    "c = a + b\n",
    "d = tf.square(c)\n",
    "e = tf.exp(d)\n",
    "print(c, d, e)"
   ]
  },
  {
   "cell_type": "markdown",
   "metadata": {
    "id": "5q1xG24emmdu"
   },
   "source": [
    "# Exercise 1 (CORE)\n",
    "\n",
    "You can convert a the dataframe column to a tensor object like so: `tf.constant((df['column_name']))`\n",
    "\n",
    "So, consider your hotel data set as data frame;\n",
    "\n",
    "- Convert the numerical variables `lead_time` and `adr` into tensor object\n",
    "\n",
    "- Print the shape and type of created tensor objects"
   ]
  },
  {
   "cell_type": "code",
   "execution_count": 10,
   "metadata": {},
   "outputs": [
    {
     "data": {
      "text/html": [
       "<div>\n",
       "<style scoped>\n",
       "    .dataframe tbody tr th:only-of-type {\n",
       "        vertical-align: middle;\n",
       "    }\n",
       "\n",
       "    .dataframe tbody tr th {\n",
       "        vertical-align: top;\n",
       "    }\n",
       "\n",
       "    .dataframe thead th {\n",
       "        text-align: right;\n",
       "    }\n",
       "</style>\n",
       "<table border=\"1\" class=\"dataframe\">\n",
       "  <thead>\n",
       "    <tr style=\"text-align: right;\">\n",
       "      <th></th>\n",
       "      <th>is_canceled</th>\n",
       "      <th>hotel</th>\n",
       "      <th>lead_time</th>\n",
       "      <th>arrival_date_year</th>\n",
       "      <th>arrival_date_month</th>\n",
       "      <th>arrival_date_week_number</th>\n",
       "      <th>arrival_date_day_of_month</th>\n",
       "      <th>stays_in_weekend_nights</th>\n",
       "      <th>stays_in_week_nights</th>\n",
       "      <th>adults</th>\n",
       "      <th>...</th>\n",
       "      <th>assigned_room_type</th>\n",
       "      <th>booking_changes</th>\n",
       "      <th>deposit_type</th>\n",
       "      <th>agent</th>\n",
       "      <th>company</th>\n",
       "      <th>days_in_waiting_list</th>\n",
       "      <th>customer_type</th>\n",
       "      <th>adr</th>\n",
       "      <th>required_car_parking_spaces</th>\n",
       "      <th>total_of_special_requests</th>\n",
       "    </tr>\n",
       "  </thead>\n",
       "  <tbody>\n",
       "    <tr>\n",
       "      <th>0</th>\n",
       "      <td>0</td>\n",
       "      <td>Resort Hotel</td>\n",
       "      <td>342</td>\n",
       "      <td>2015</td>\n",
       "      <td>July</td>\n",
       "      <td>27</td>\n",
       "      <td>1</td>\n",
       "      <td>0</td>\n",
       "      <td>0</td>\n",
       "      <td>2</td>\n",
       "      <td>...</td>\n",
       "      <td>C</td>\n",
       "      <td>3</td>\n",
       "      <td>No Deposit</td>\n",
       "      <td>NaN</td>\n",
       "      <td>NaN</td>\n",
       "      <td>0</td>\n",
       "      <td>Transient</td>\n",
       "      <td>0.0</td>\n",
       "      <td>0</td>\n",
       "      <td>0</td>\n",
       "    </tr>\n",
       "    <tr>\n",
       "      <th>1</th>\n",
       "      <td>0</td>\n",
       "      <td>Resort Hotel</td>\n",
       "      <td>737</td>\n",
       "      <td>2015</td>\n",
       "      <td>July</td>\n",
       "      <td>27</td>\n",
       "      <td>1</td>\n",
       "      <td>0</td>\n",
       "      <td>0</td>\n",
       "      <td>2</td>\n",
       "      <td>...</td>\n",
       "      <td>C</td>\n",
       "      <td>4</td>\n",
       "      <td>No Deposit</td>\n",
       "      <td>NaN</td>\n",
       "      <td>NaN</td>\n",
       "      <td>0</td>\n",
       "      <td>Transient</td>\n",
       "      <td>0.0</td>\n",
       "      <td>0</td>\n",
       "      <td>0</td>\n",
       "    </tr>\n",
       "    <tr>\n",
       "      <th>2</th>\n",
       "      <td>0</td>\n",
       "      <td>Resort Hotel</td>\n",
       "      <td>7</td>\n",
       "      <td>2015</td>\n",
       "      <td>July</td>\n",
       "      <td>27</td>\n",
       "      <td>1</td>\n",
       "      <td>0</td>\n",
       "      <td>1</td>\n",
       "      <td>1</td>\n",
       "      <td>...</td>\n",
       "      <td>C</td>\n",
       "      <td>0</td>\n",
       "      <td>No Deposit</td>\n",
       "      <td>NaN</td>\n",
       "      <td>NaN</td>\n",
       "      <td>0</td>\n",
       "      <td>Transient</td>\n",
       "      <td>75.0</td>\n",
       "      <td>0</td>\n",
       "      <td>0</td>\n",
       "    </tr>\n",
       "    <tr>\n",
       "      <th>3</th>\n",
       "      <td>0</td>\n",
       "      <td>Resort Hotel</td>\n",
       "      <td>13</td>\n",
       "      <td>2015</td>\n",
       "      <td>July</td>\n",
       "      <td>27</td>\n",
       "      <td>1</td>\n",
       "      <td>0</td>\n",
       "      <td>1</td>\n",
       "      <td>1</td>\n",
       "      <td>...</td>\n",
       "      <td>A</td>\n",
       "      <td>0</td>\n",
       "      <td>No Deposit</td>\n",
       "      <td>304.0</td>\n",
       "      <td>NaN</td>\n",
       "      <td>0</td>\n",
       "      <td>Transient</td>\n",
       "      <td>75.0</td>\n",
       "      <td>0</td>\n",
       "      <td>0</td>\n",
       "    </tr>\n",
       "    <tr>\n",
       "      <th>4</th>\n",
       "      <td>0</td>\n",
       "      <td>Resort Hotel</td>\n",
       "      <td>14</td>\n",
       "      <td>2015</td>\n",
       "      <td>July</td>\n",
       "      <td>27</td>\n",
       "      <td>1</td>\n",
       "      <td>0</td>\n",
       "      <td>2</td>\n",
       "      <td>2</td>\n",
       "      <td>...</td>\n",
       "      <td>A</td>\n",
       "      <td>0</td>\n",
       "      <td>No Deposit</td>\n",
       "      <td>240.0</td>\n",
       "      <td>NaN</td>\n",
       "      <td>0</td>\n",
       "      <td>Transient</td>\n",
       "      <td>98.0</td>\n",
       "      <td>0</td>\n",
       "      <td>1</td>\n",
       "    </tr>\n",
       "  </tbody>\n",
       "</table>\n",
       "<p>5 rows × 30 columns</p>\n",
       "</div>"
      ],
      "text/plain": [
       "   is_canceled         hotel  lead_time  arrival_date_year arrival_date_month  \\\n",
       "0            0  Resort Hotel        342               2015               July   \n",
       "1            0  Resort Hotel        737               2015               July   \n",
       "2            0  Resort Hotel          7               2015               July   \n",
       "3            0  Resort Hotel         13               2015               July   \n",
       "4            0  Resort Hotel         14               2015               July   \n",
       "\n",
       "   arrival_date_week_number  arrival_date_day_of_month  \\\n",
       "0                        27                          1   \n",
       "1                        27                          1   \n",
       "2                        27                          1   \n",
       "3                        27                          1   \n",
       "4                        27                          1   \n",
       "\n",
       "   stays_in_weekend_nights  stays_in_week_nights  adults  ...  \\\n",
       "0                        0                     0       2  ...   \n",
       "1                        0                     0       2  ...   \n",
       "2                        0                     1       1  ...   \n",
       "3                        0                     1       1  ...   \n",
       "4                        0                     2       2  ...   \n",
       "\n",
       "   assigned_room_type  booking_changes deposit_type  agent company  \\\n",
       "0                   C                3   No Deposit    NaN     NaN   \n",
       "1                   C                4   No Deposit    NaN     NaN   \n",
       "2                   C                0   No Deposit    NaN     NaN   \n",
       "3                   A                0   No Deposit  304.0     NaN   \n",
       "4                   A                0   No Deposit  240.0     NaN   \n",
       "\n",
       "  days_in_waiting_list  customer_type   adr  required_car_parking_spaces  \\\n",
       "0                    0      Transient   0.0                            0   \n",
       "1                    0      Transient   0.0                            0   \n",
       "2                    0      Transient  75.0                            0   \n",
       "3                    0      Transient  75.0                            0   \n",
       "4                    0      Transient  98.0                            0   \n",
       "\n",
       "  total_of_special_requests  \n",
       "0                         0  \n",
       "1                         0  \n",
       "2                         0  \n",
       "3                         0  \n",
       "4                         1  \n",
       "\n",
       "[5 rows x 30 columns]"
      ]
     },
     "execution_count": 10,
     "metadata": {},
     "output_type": "execute_result"
    }
   ],
   "source": [
    "# Loading the data set\n",
    "df_hotel = pd.read_csv(\"hotel.csv\")\n",
    "\n",
    "df_hotel.head()"
   ]
  },
  {
   "cell_type": "code",
   "execution_count": 11,
   "metadata": {},
   "outputs": [
    {
     "name": "stdout",
     "output_type": "stream",
     "text": [
      "0\n",
      "0\n"
     ]
    }
   ],
   "source": [
    "X = df_hotel['lead_time']\n",
    "y = df_hotel['adr']\n",
    "\n",
    "\n",
    "# Checking the missing values\n",
    "print(X.isnull().sum())\n",
    "print(y.isnull().sum())"
   ]
  },
  {
   "cell_type": "code",
   "execution_count": 12,
   "metadata": {},
   "outputs": [
    {
     "name": "stdout",
     "output_type": "stream",
     "text": [
      "tf.Tensor([342 737   7 ...  34 109 205], shape=(119390,), dtype=int64)\n",
      "tf.Tensor([  0.     0.    75.   ... 157.71 104.4  151.2 ], shape=(119390,), dtype=float64)\n",
      "dtype: <dtype: 'int64'> <dtype: 'float64'>\n",
      "shape: (119390,) (119390,)\n"
     ]
    }
   ],
   "source": [
    "# For the conversion\n",
    "X = tf.constant((X))\n",
    "y = tf.constant((y))\n",
    "\n",
    "print(X)\n",
    "print(y)\n",
    "\n",
    "# For the details on the created tensors\n",
    "# Much like a NumPy array, it features the attributes dtype and shape:\n",
    "print(\"dtype:\", X.dtype, y.dtype)\n",
    "print(\"shape:\", y.shape, y.shape)"
   ]
  },
  {
   "cell_type": "markdown",
   "metadata": {
    "id": "nCExrjAlmQOm"
   },
   "source": [
    "# Keras layers\n",
    "\n",
    "You already experienced by directly applying some layers in Week 9-10 but let us recall once again some properties\n",
    "\n",
    "- While TensorFlow is an infrastructure layer for differentiable programming, dealing with tensors, variables, and gradients, Keras is a user interface for deep learning, dealing with layers, models, optimizers, loss functions, metrics, and more.\n",
    "\n",
    "- Keras serves as the high-level API for TensorFlow: Keras is what makes TensorFlow simple and productive.\n",
    "\n",
    "- The Layer class is the fundamental abstraction in Keras. A Layer encapsulates a state (weights) and some computation (defined in the call method).\n",
    "\n",
    "A simple layer looks like this:"
   ]
  },
  {
   "cell_type": "code",
   "execution_count": 17,
   "metadata": {},
   "outputs": [],
   "source": [
    "class Linear(keras.layers.Layer):\n",
    "    \"\"\"y = w.x + b\"\"\"\n",
    "\n",
    "    def __init__(self, units=32, input_dim=32):\n",
    "        super().__init__()\n",
    "        w_init = tf.random_normal_initializer()\n",
    "        self.w = tf.Variable(\n",
    "            initial_value=w_init(shape=(input_dim, units), dtype=\"float32\"),\n",
    "            trainable=True,\n",
    "        )\n",
    "        b_init = tf.zeros_initializer()\n",
    "        self.b = tf.Variable(\n",
    "            initial_value=b_init(shape=(units,), dtype=\"float32\"), trainable=True\n",
    "        )\n",
    "\n",
    "    def call(self, inputs):\n",
    "        return tf.matmul(inputs, self.w) + self.b"
   ]
  },
  {
   "cell_type": "code",
   "execution_count": 18,
   "metadata": {},
   "outputs": [
    {
     "data": {
      "text/plain": [
       "<__main__.Linear at 0x7f4cd2faec70>"
      ]
     },
     "execution_count": 18,
     "metadata": {},
     "output_type": "execute_result"
    }
   ],
   "source": [
    "# You would use a Layer instance much like a Python function:\n",
    "linear_layer = Linear(units=4, input_dim=2)\n",
    "linear_layer"
   ]
  },
  {
   "cell_type": "code",
   "execution_count": 19,
   "metadata": {},
   "outputs": [
    {
     "data": {
      "text/plain": [
       "<tf.Tensor: shape=(2, 4), dtype=float32, numpy=\n",
       "array([[-0.00755919, -0.07351511,  0.0961083 , -0.05432985],\n",
       "       [-0.00755919, -0.07351511,  0.0961083 , -0.05432985]],\n",
       "      dtype=float32)>"
      ]
     },
     "execution_count": 19,
     "metadata": {},
     "output_type": "execute_result"
    }
   ],
   "source": [
    "# The layer can be treated as a function.\n",
    "# Here we call it on some data.\n",
    "t = linear_layer(tf.ones((2, 2)))\n",
    "t"
   ]
  },
  {
   "cell_type": "markdown",
   "metadata": {
    "id": "9R_1TGs8rInz"
   },
   "source": [
    "# Exercise 2 (CORE)\n",
    "\n",
    "Consider the class definition given above for the `Linear` one \n",
    "\n",
    "- Explain the each line of code to demistfy the meaning of this class, `Linear`\n",
    "\n",
    "- Discuss the meaning of `Linear(units=4, input_dim=2)` usage above. "
   ]
  },
  {
   "cell_type": "markdown",
   "metadata": {
    "id": "HhzuQdIuptAh"
   },
   "source": [
    "Basically, that function creates a linear class of layers bu calling `__init__` and `call` functions inside of this. If we look at the components of it closely \n",
    "\n",
    "- It is a densely-connected layer having the state: the variables w and b. The goal is creating a linear combination of x.\n",
    "\n",
    "- `tf.random_normal_initializer()` stands for the Initializer that generates tensors with a normal distribution having mean=0.0, stddev=0.05 values by default\n",
    "\n",
    "- Creation of `self.w` variable via the `tf.Variable` class, with `trainable=True` where GradientTapes automatically watch uses of this variable\n",
    "\n",
    "- `tf.zeros_initializer()` stands for the Initializer that generates tensors initialized to 0 for the intercept term\n",
    "\n",
    "- Creation of `self.b` variable via the `tf.Variable` class and initialized value, with `trainable=True`\n",
    "\n",
    "- Within the call function, `tf.matmul()` allows the Multiplication of matrix a by matrix b, producing a * b (in this case multiplies w.x) for the linear definition\n",
    "\n",
    "When we look at the line `Linear(units=4, input_dim=2)` that creates a linear  layer having the shape (4,2) and ready to use by calling it on some tensor input(s), much like a Python function."
   ]
  },
  {
   "cell_type": "markdown",
   "metadata": {
    "id": "IAtBj2cRs6RZ"
   },
   "source": [
    "# Exercise 3 (CORE)\n",
    "\n",
    "For your created tensors above, \n",
    "\n",
    "- Build a linear regression model in keras. The model should consist of an input layer and a fully-connected output layer. See lecture notes for details of how to create these objects, previous WS materials or ask your tutors.\n",
    "\n",
    "- Compile the model. At this stage you need to select a loss function (specified via the \"loss\" keyword) and an optimizer. \n",
    "\n",
    "- Train the model with model.fit. Pass the keyword argument (similar to previous labs). Consider small number of `epochs` like 50 for the computational time reasons \n",
    "\n",
    "```\n",
    "# callbacks=[tensorboard_callback]\n",
    "```\n",
    "\n",
    "- You might also want to split the dataset into a training and validation component via  \n",
    "\n",
    "\n",
    "```\n",
    "# validation_split=0.3\n",
    "```\n",
    "\n"
   ]
  },
  {
   "cell_type": "code",
   "execution_count": 13,
   "metadata": {
    "id": "NQdCePvVZqkE"
   },
   "outputs": [],
   "source": [
    "from tensorflow.keras.models import Sequential\n",
    "from tensorflow.keras.layers import Dense"
   ]
  },
  {
   "cell_type": "code",
   "execution_count": 14,
   "metadata": {},
   "outputs": [
    {
     "name": "stdout",
     "output_type": "stream",
     "text": [
      "Model: \"model\"\n",
      "_________________________________________________________________\n",
      " Layer (type)                Output Shape              Param #   \n",
      "=================================================================\n",
      " input_1 (InputLayer)        [(None, 1)]               0         \n",
      "                                                                 \n",
      " dense (Dense)               (None, 1)                 2         \n",
      "                                                                 \n",
      "=================================================================\n",
      "Total params: 2\n",
      "Trainable params: 2\n",
      "Non-trainable params: 0\n",
      "_________________________________________________________________\n"
     ]
    }
   ],
   "source": [
    "input_layer = keras.layers.Input(shape=(1,))\n",
    "linear_layer = keras.layers.Dense(1, activation='linear')\n",
    "\n",
    "output = linear_layer(input_layer)\n",
    "model_lr = keras.models.Model(input_layer, output)\n",
    "model_lr.summary()"
   ]
  },
  {
   "cell_type": "code",
   "execution_count": 15,
   "metadata": {},
   "outputs": [],
   "source": [
    "model_lr.compile(loss='mean_squared_error', optimizer='adam')"
   ]
  },
  {
   "cell_type": "code",
   "execution_count": 16,
   "metadata": {},
   "outputs": [
    {
     "name": "stdout",
     "output_type": "stream",
     "text": [
      "Epoch 1/50\n",
      "2612/2612 [==============================] - 4s 2ms/step - loss: 7796.7383 - val_loss: 8611.3018\n",
      "Epoch 2/50\n",
      "2612/2612 [==============================] - 4s 2ms/step - loss: 7552.1411 - val_loss: 8298.6992\n",
      "Epoch 3/50\n",
      "2612/2612 [==============================] - 4s 2ms/step - loss: 7313.2012 - val_loss: 8034.9360\n",
      "Epoch 4/50\n",
      "2612/2612 [==============================] - 4s 2ms/step - loss: 7080.9868 - val_loss: 7686.1934\n",
      "Epoch 5/50\n",
      "2612/2612 [==============================] - 4s 2ms/step - loss: 6855.9727 - val_loss: 7511.8638\n",
      "Epoch 6/50\n",
      "2612/2612 [==============================] - 4s 2ms/step - loss: 6637.5112 - val_loss: 7208.0542\n",
      "Epoch 7/50\n",
      "2612/2612 [==============================] - 4s 2ms/step - loss: 6424.9170 - val_loss: 6961.9761\n",
      "Epoch 8/50\n",
      "2612/2612 [==============================] - 4s 2ms/step - loss: 6219.8628 - val_loss: 6680.5762\n",
      "Epoch 9/50\n",
      "2612/2612 [==============================] - 4s 2ms/step - loss: 6020.6143 - val_loss: 6390.1504\n",
      "Epoch 10/50\n",
      "2612/2612 [==============================] - 4s 2ms/step - loss: 5827.7007 - val_loss: 6146.1758\n",
      "Epoch 11/50\n",
      "2612/2612 [==============================] - 4s 2ms/step - loss: 5641.1133 - val_loss: 5846.1816\n",
      "Epoch 12/50\n",
      "2612/2612 [==============================] - 4s 2ms/step - loss: 5460.6328 - val_loss: 5664.4067\n",
      "Epoch 13/50\n",
      "2612/2612 [==============================] - 4s 2ms/step - loss: 5287.7441 - val_loss: 5428.4375\n",
      "Epoch 14/50\n",
      "2612/2612 [==============================] - 4s 2ms/step - loss: 5121.2090 - val_loss: 5271.4717\n",
      "Epoch 15/50\n",
      "2612/2612 [==============================] - 4s 1ms/step - loss: 4960.2075 - val_loss: 5015.8867\n",
      "Epoch 16/50\n",
      "2612/2612 [==============================] - 4s 2ms/step - loss: 4806.4863 - val_loss: 4812.0327\n",
      "Epoch 17/50\n",
      "2612/2612 [==============================] - 5s 2ms/step - loss: 4659.7773 - val_loss: 4610.1260\n",
      "Epoch 18/50\n",
      "2612/2612 [==============================] - 5s 2ms/step - loss: 4518.1821 - val_loss: 4415.6299\n",
      "Epoch 19/50\n",
      "2612/2612 [==============================] - 5s 2ms/step - loss: 4383.8208 - val_loss: 4228.0532\n",
      "Epoch 20/50\n",
      "2612/2612 [==============================] - 5s 2ms/step - loss: 4255.8486 - val_loss: 4094.6309\n",
      "Epoch 21/50\n",
      "2612/2612 [==============================] - 5s 2ms/step - loss: 4133.4800 - val_loss: 3892.8013\n",
      "Epoch 22/50\n",
      "2612/2612 [==============================] - 5s 2ms/step - loss: 4018.3777 - val_loss: 3741.8623\n",
      "Epoch 23/50\n",
      "2612/2612 [==============================] - 4s 2ms/step - loss: 3909.7573 - val_loss: 3589.2983\n",
      "Epoch 24/50\n",
      "2612/2612 [==============================] - 5s 2ms/step - loss: 3807.3999 - val_loss: 3447.4080\n",
      "Epoch 25/50\n",
      "2612/2612 [==============================] - 4s 2ms/step - loss: 3710.1636 - val_loss: 3264.2952\n",
      "Epoch 26/50\n",
      "2612/2612 [==============================] - 4s 2ms/step - loss: 3620.0508 - val_loss: 3178.4941\n",
      "Epoch 27/50\n",
      "2612/2612 [==============================] - 4s 2ms/step - loss: 3536.2280 - val_loss: 3022.4885\n",
      "Epoch 28/50\n",
      "2612/2612 [==============================] - 4s 1ms/step - loss: 3457.9287 - val_loss: 2921.1584\n",
      "Epoch 29/50\n",
      "2612/2612 [==============================] - 4s 2ms/step - loss: 3387.1855 - val_loss: 2801.5962\n",
      "Epoch 30/50\n",
      "2612/2612 [==============================] - 4s 2ms/step - loss: 3321.0459 - val_loss: 2740.2607\n",
      "Epoch 31/50\n",
      "2612/2612 [==============================] - 4s 2ms/step - loss: 3260.8621 - val_loss: 2649.2810\n",
      "Epoch 32/50\n",
      "2612/2612 [==============================] - 4s 2ms/step - loss: 3206.6821 - val_loss: 2530.9675\n",
      "Epoch 33/50\n",
      "2612/2612 [==============================] - 4s 2ms/step - loss: 3157.2136 - val_loss: 2412.5261\n",
      "Epoch 34/50\n",
      "2612/2612 [==============================] - 4s 2ms/step - loss: 3114.0269 - val_loss: 2368.7502\n",
      "Epoch 35/50\n",
      "2612/2612 [==============================] - 4s 2ms/step - loss: 3076.2822 - val_loss: 2302.4277\n",
      "Epoch 36/50\n",
      "2612/2612 [==============================] - 4s 2ms/step - loss: 3042.7170 - val_loss: 2209.8779\n",
      "Epoch 37/50\n",
      "2612/2612 [==============================] - 4s 2ms/step - loss: 3013.4277 - val_loss: 2179.4263\n",
      "Epoch 38/50\n",
      "2612/2612 [==============================] - 4s 2ms/step - loss: 2989.0522 - val_loss: 2135.1609\n",
      "Epoch 39/50\n",
      "2612/2612 [==============================] - 4s 1ms/step - loss: 2968.4246 - val_loss: 2108.0027\n",
      "Epoch 40/50\n",
      "2612/2612 [==============================] - 4s 2ms/step - loss: 2951.1699 - val_loss: 2045.2322\n",
      "Epoch 41/50\n",
      "2612/2612 [==============================] - 4s 2ms/step - loss: 2937.2458 - val_loss: 2028.4211\n",
      "Epoch 42/50\n",
      "2612/2612 [==============================] - 4s 2ms/step - loss: 2925.8245 - val_loss: 1991.2826\n",
      "Epoch 43/50\n",
      "2612/2612 [==============================] - 4s 2ms/step - loss: 2916.4976 - val_loss: 1954.1440\n",
      "Epoch 44/50\n",
      "2612/2612 [==============================] - 4s 2ms/step - loss: 2909.0276 - val_loss: 1937.7578\n",
      "Epoch 45/50\n",
      "2612/2612 [==============================] - 4s 2ms/step - loss: 2903.2217 - val_loss: 1921.8351\n",
      "Epoch 46/50\n",
      "2612/2612 [==============================] - 6s 2ms/step - loss: 2898.5454 - val_loss: 1883.8143\n",
      "Epoch 47/50\n",
      "2612/2612 [==============================] - 4s 2ms/step - loss: 2895.0229 - val_loss: 1889.1696\n",
      "Epoch 48/50\n",
      "2612/2612 [==============================] - 4s 2ms/step - loss: 2892.4507 - val_loss: 1886.8225\n",
      "Epoch 49/50\n",
      "2612/2612 [==============================] - 4s 2ms/step - loss: 2890.3772 - val_loss: 1864.9069\n",
      "Epoch 50/50\n",
      "2612/2612 [==============================] - 4s 2ms/step - loss: 2888.9204 - val_loss: 1848.4983\n"
     ]
    },
    {
     "data": {
      "text/plain": [
       "<keras.callbacks.History at 0x7fa1b05b85e0>"
      ]
     },
     "execution_count": 16,
     "metadata": {},
     "output_type": "execute_result"
    }
   ],
   "source": [
    "model_lr.fit(x=X, y=y, epochs = 50, callbacks=[tensorboard_callback], \n",
    "             shuffle=True, validation_split=0.3)"
   ]
  },
  {
   "cell_type": "markdown",
   "metadata": {
    "id": "VgyMFi6K1gFE"
   },
   "source": [
    "# Exercise 4 (CORE)\n",
    "\n",
    "- Now create a new model with single feature by adding a fully-connected hidden layer with 2 neurons between your input and output above. Using the `linear` type of layers again.\n",
    "\n",
    "- Train the new model and comment on your fitted model"
   ]
  },
  {
   "cell_type": "code",
   "execution_count": 17,
   "metadata": {
    "id": "MFj2q0lj1quC"
   },
   "outputs": [
    {
     "name": "stdout",
     "output_type": "stream",
     "text": [
      "Model: \"model_1\"\n",
      "_________________________________________________________________\n",
      " Layer (type)                Output Shape              Param #   \n",
      "=================================================================\n",
      " input_2 (InputLayer)        [(None, 1)]               0         \n",
      "                                                                 \n",
      " dense_1 (Dense)             (None, 1)                 2         \n",
      "                                                                 \n",
      " dense_2 (Dense)             (None, 1)                 2         \n",
      "                                                                 \n",
      "=================================================================\n",
      "Total params: 4\n",
      "Trainable params: 4\n",
      "Non-trainable params: 0\n",
      "_________________________________________________________________\n"
     ]
    }
   ],
   "source": [
    "input_layer_an1 = keras.layers.Input(shape=(1,))\n",
    "hidden_layer_an1 = keras.layers.Dense(1, activation='linear')\n",
    "linear_layer_an1 = keras.layers.Dense(1, activation='linear')\n",
    "\n",
    "output_an1 = linear_layer_an1(hidden_layer_an1(input_layer_an1))\n",
    "model_an1 = keras.models.Model(input_layer_an1, output_an1)\n",
    "model_an1.summary()"
   ]
  },
  {
   "cell_type": "code",
   "execution_count": 18,
   "metadata": {},
   "outputs": [
    {
     "name": "stdout",
     "output_type": "stream",
     "text": [
      "Epoch 1/50\n",
      "2612/2612 [==============================] - 5s 2ms/step - loss: 68463.5469 - val_loss: 18012.5645\n",
      "Epoch 2/50\n",
      "2612/2612 [==============================] - 4s 2ms/step - loss: 13265.2295 - val_loss: 13129.0312\n",
      "Epoch 3/50\n",
      "2612/2612 [==============================] - 4s 2ms/step - loss: 8897.7334 - val_loss: 8184.1904\n",
      "Epoch 4/50\n",
      "2612/2612 [==============================] - 5s 2ms/step - loss: 7155.5430 - val_loss: 7739.2007\n",
      "Epoch 5/50\n",
      "2612/2612 [==============================] - 5s 2ms/step - loss: 6764.2354 - val_loss: 7177.9023\n",
      "Epoch 6/50\n",
      "2612/2612 [==============================] - 4s 2ms/step - loss: 6188.4790 - val_loss: 6229.8047\n",
      "Epoch 7/50\n",
      "2612/2612 [==============================] - 4s 2ms/step - loss: 5125.8330 - val_loss: 4299.8550\n",
      "Epoch 8/50\n",
      "2612/2612 [==============================] - 4s 2ms/step - loss: 3738.3362 - val_loss: 2561.5623\n",
      "Epoch 9/50\n",
      "2612/2612 [==============================] - 4s 2ms/step - loss: 2989.0278 - val_loss: 1903.9467\n",
      "Epoch 10/50\n",
      "2612/2612 [==============================] - 5s 2ms/step - loss: 2888.3682 - val_loss: 1782.9164\n",
      "Epoch 11/50\n",
      "2612/2612 [==============================] - 5s 2ms/step - loss: 2885.7290 - val_loss: 1761.8774\n",
      "Epoch 12/50\n",
      "2612/2612 [==============================] - 4s 2ms/step - loss: 2885.9517 - val_loss: 1817.5946\n",
      "Epoch 13/50\n",
      "2612/2612 [==============================] - 4s 2ms/step - loss: 2886.2686 - val_loss: 1841.2717\n",
      "Epoch 14/50\n",
      "2612/2612 [==============================] - 5s 2ms/step - loss: 2886.1052 - val_loss: 1835.1880\n",
      "Epoch 15/50\n",
      "2612/2612 [==============================] - 4s 2ms/step - loss: 2886.6418 - val_loss: 1839.9867\n",
      "Epoch 16/50\n",
      "2612/2612 [==============================] - 4s 2ms/step - loss: 2885.4941 - val_loss: 1802.9561\n",
      "Epoch 17/50\n",
      "2612/2612 [==============================] - 5s 2ms/step - loss: 2886.1621 - val_loss: 1764.0439\n",
      "Epoch 18/50\n",
      "2612/2612 [==============================] - 4s 2ms/step - loss: 2886.3091 - val_loss: 1829.7522\n",
      "Epoch 19/50\n",
      "2612/2612 [==============================] - 4s 2ms/step - loss: 2886.1707 - val_loss: 1834.3475\n",
      "Epoch 20/50\n",
      "2612/2612 [==============================] - 4s 2ms/step - loss: 2885.9497 - val_loss: 1818.4768\n",
      "Epoch 21/50\n",
      "2612/2612 [==============================] - 4s 2ms/step - loss: 2886.7874 - val_loss: 1804.2585\n",
      "Epoch 22/50\n",
      "2612/2612 [==============================] - 4s 2ms/step - loss: 2886.4272 - val_loss: 1836.5507\n",
      "Epoch 23/50\n",
      "2612/2612 [==============================] - 4s 2ms/step - loss: 2886.4663 - val_loss: 1774.5022\n",
      "Epoch 24/50\n",
      "2612/2612 [==============================] - 4s 2ms/step - loss: 2886.9106 - val_loss: 1764.5194\n",
      "Epoch 25/50\n",
      "2612/2612 [==============================] - 4s 2ms/step - loss: 2885.6094 - val_loss: 1747.9164\n",
      "Epoch 26/50\n",
      "2612/2612 [==============================] - 4s 2ms/step - loss: 2886.8264 - val_loss: 1794.8372\n",
      "Epoch 27/50\n",
      "2612/2612 [==============================] - 4s 2ms/step - loss: 2886.0442 - val_loss: 1806.0592\n",
      "Epoch 28/50\n",
      "2612/2612 [==============================] - 4s 2ms/step - loss: 2886.0972 - val_loss: 1763.1519\n",
      "Epoch 29/50\n",
      "2612/2612 [==============================] - 4s 2ms/step - loss: 2886.3008 - val_loss: 1821.6368\n",
      "Epoch 30/50\n",
      "2612/2612 [==============================] - 5s 2ms/step - loss: 2886.3391 - val_loss: 1856.6113\n",
      "Epoch 31/50\n",
      "2612/2612 [==============================] - 5s 2ms/step - loss: 2886.2998 - val_loss: 1812.3553\n",
      "Epoch 32/50\n",
      "2612/2612 [==============================] - 5s 2ms/step - loss: 2885.8054 - val_loss: 1790.6060\n",
      "Epoch 33/50\n",
      "2612/2612 [==============================] - 6s 2ms/step - loss: 2886.2131 - val_loss: 1812.2214\n",
      "Epoch 34/50\n",
      "2612/2612 [==============================] - 5s 2ms/step - loss: 2886.7012 - val_loss: 1771.3167\n",
      "Epoch 35/50\n",
      "2612/2612 [==============================] - 5s 2ms/step - loss: 2885.3452 - val_loss: 1785.8163\n",
      "Epoch 36/50\n",
      "2612/2612 [==============================] - 5s 2ms/step - loss: 2885.8870 - val_loss: 1797.5797\n",
      "Epoch 37/50\n",
      "2612/2612 [==============================] - 4s 2ms/step - loss: 2885.6455 - val_loss: 1835.3522\n",
      "Epoch 38/50\n",
      "2612/2612 [==============================] - 5s 2ms/step - loss: 2886.3616 - val_loss: 1816.7045\n",
      "Epoch 39/50\n",
      "2612/2612 [==============================] - 4s 2ms/step - loss: 2886.4243 - val_loss: 1804.8243\n",
      "Epoch 40/50\n",
      "2612/2612 [==============================] - 4s 2ms/step - loss: 2886.2673 - val_loss: 1764.5430\n",
      "Epoch 41/50\n",
      "2612/2612 [==============================] - 4s 2ms/step - loss: 2886.0786 - val_loss: 1806.6161\n",
      "Epoch 42/50\n",
      "2612/2612 [==============================] - 4s 2ms/step - loss: 2886.3296 - val_loss: 1756.9821\n",
      "Epoch 43/50\n",
      "2612/2612 [==============================] - 4s 2ms/step - loss: 2885.8015 - val_loss: 1791.6063\n",
      "Epoch 44/50\n",
      "2612/2612 [==============================] - 5s 2ms/step - loss: 2886.0332 - val_loss: 1806.8521\n",
      "Epoch 45/50\n",
      "2612/2612 [==============================] - 5s 2ms/step - loss: 2885.8550 - val_loss: 1794.9860\n",
      "Epoch 46/50\n",
      "2612/2612 [==============================] - 4s 2ms/step - loss: 2885.8267 - val_loss: 1803.4152\n",
      "Epoch 47/50\n",
      "2612/2612 [==============================] - 4s 2ms/step - loss: 2886.0117 - val_loss: 1775.2169\n",
      "Epoch 48/50\n",
      "2612/2612 [==============================] - 4s 2ms/step - loss: 2886.3074 - val_loss: 1771.6580\n",
      "Epoch 49/50\n",
      "2612/2612 [==============================] - 4s 2ms/step - loss: 2886.0244 - val_loss: 1801.2821\n",
      "Epoch 50/50\n",
      "2612/2612 [==============================] - 4s 2ms/step - loss: 2886.0146 - val_loss: 1822.9551\n"
     ]
    },
    {
     "data": {
      "text/plain": [
       "<keras.callbacks.History at 0x7fa1b029dca0>"
      ]
     },
     "execution_count": 18,
     "metadata": {},
     "output_type": "execute_result"
    }
   ],
   "source": [
    "model_an1.compile(loss='mean_squared_error', optimizer='adam')\n",
    "\n",
    "model_an1.fit(x=X, y=y, epochs = 50, callbacks=[tensorboard_callback], \n",
    "             shuffle=True, validation_split=0.3)"
   ]
  },
  {
   "cell_type": "markdown",
   "metadata": {
    "id": "_qcl7L-v812b"
   },
   "source": [
    "# Exercise 5 (CORE)\n",
    "\n",
    "To run the single-variable linear regression using keras, we can benefit from `Sequential` model idea as well\n",
    "\n",
    "- See the details of added normalization layer below\n",
    "\n",
    "- Compile the created model below and try to produce the model's training progress using the stats stored in the history object:\n",
    "\n",
    "For more details, see example given here : https://www.tensorflow.org/tutorials/keras/regression"
   ]
  },
  {
   "cell_type": "code",
   "execution_count": 19,
   "metadata": {},
   "outputs": [],
   "source": [
    "from tensorflow import keras\n",
    "from tensorflow.keras import layers\n",
    "\n",
    "# Variable selection\n",
    "lead_time = np.array(df_hotel['lead_time'])\n",
    "\n",
    "# About normalization by keras\n",
    "lead_time_normalizer = layers.Normalization(input_shape=[1,], axis=None)\n",
    "lead_time_normalizer.adapt(lead_time)"
   ]
  },
  {
   "cell_type": "code",
   "execution_count": 20,
   "metadata": {
    "id": "prELosLWIwHt"
   },
   "outputs": [
    {
     "name": "stdout",
     "output_type": "stream",
     "text": [
      "Model: \"sequential\"\n",
      "_________________________________________________________________\n",
      " Layer (type)                Output Shape              Param #   \n",
      "=================================================================\n",
      " normalization (Normalizatio  (None, 1)                3         \n",
      " n)                                                              \n",
      "                                                                 \n",
      " dense_3 (Dense)             (None, 1)                 2         \n",
      "                                                                 \n",
      "=================================================================\n",
      "Total params: 5\n",
      "Trainable params: 2\n",
      "Non-trainable params: 3\n",
      "_________________________________________________________________\n"
     ]
    }
   ],
   "source": [
    "# Created model including normalization\n",
    "linear_model = tf.keras.Sequential([\n",
    "    lead_time_normalizer,\n",
    "    layers.Dense(units=1, activation='linear')\n",
    "])\n",
    "\n",
    "linear_model.summary()"
   ]
  },
  {
   "cell_type": "code",
   "execution_count": 21,
   "metadata": {},
   "outputs": [],
   "source": [
    "# Compile the model \n",
    "linear_model.compile(\n",
    "    optimizer = tf.keras.optimizers.Adam(),\n",
    "    loss='mean_squared_error')"
   ]
  },
  {
   "cell_type": "code",
   "execution_count": 22,
   "metadata": {},
   "outputs": [
    {
     "name": "stdout",
     "output_type": "stream",
     "text": [
      "Epoch 1/50\n",
      "2612/2612 [==============================] - 5s 2ms/step - loss: 12163.0410 - val_loss: 13587.5117\n",
      "Epoch 2/50\n",
      "2612/2612 [==============================] - 4s 2ms/step - loss: 11671.9609 - val_loss: 13045.4795\n",
      "Epoch 3/50\n",
      "2612/2612 [==============================] - 4s 2ms/step - loss: 11195.7793 - val_loss: 12512.1982\n",
      "Epoch 4/50\n",
      "2612/2612 [==============================] - 4s 2ms/step - loss: 10734.0684 - val_loss: 11991.1035\n",
      "Epoch 5/50\n",
      "2612/2612 [==============================] - 4s 2ms/step - loss: 10285.9238 - val_loss: 11479.7686\n",
      "Epoch 6/50\n",
      "2612/2612 [==============================] - 4s 2ms/step - loss: 9851.6719 - val_loss: 10981.2031\n",
      "Epoch 7/50\n",
      "2612/2612 [==============================] - 4s 2ms/step - loss: 9431.3389 - val_loss: 10493.5498\n",
      "Epoch 8/50\n",
      "2612/2612 [==============================] - 4s 2ms/step - loss: 9024.3730 - val_loss: 10018.2656\n",
      "Epoch 9/50\n",
      "2612/2612 [==============================] - 4s 2ms/step - loss: 8630.6094 - val_loss: 9555.3535\n",
      "Epoch 10/50\n",
      "2612/2612 [==============================] - 4s 2ms/step - loss: 8250.0732 - val_loss: 9104.3984\n",
      "Epoch 11/50\n",
      "2612/2612 [==============================] - 5s 2ms/step - loss: 7883.0674 - val_loss: 8667.1250\n",
      "Epoch 12/50\n",
      "2612/2612 [==============================] - 4s 1ms/step - loss: 7529.4927 - val_loss: 8242.7764\n",
      "Epoch 13/50\n",
      "2612/2612 [==============================] - 4s 1ms/step - loss: 7189.3794 - val_loss: 7831.1147\n",
      "Epoch 14/50\n",
      "2612/2612 [==============================] - 4s 1ms/step - loss: 6862.7554 - val_loss: 7433.2832\n",
      "Epoch 15/50\n",
      "2612/2612 [==============================] - 4s 1ms/step - loss: 6549.4287 - val_loss: 7048.9629\n",
      "Epoch 16/50\n",
      "2612/2612 [==============================] - 4s 1ms/step - loss: 6249.1855 - val_loss: 6677.7891\n",
      "Epoch 17/50\n",
      "2612/2612 [==============================] - 4s 1ms/step - loss: 5962.8091 - val_loss: 6320.5723\n",
      "Epoch 18/50\n",
      "2612/2612 [==============================] - 4s 1ms/step - loss: 5688.7891 - val_loss: 5975.8154\n",
      "Epoch 19/50\n",
      "2612/2612 [==============================] - 4s 1ms/step - loss: 5428.3823 - val_loss: 5645.9927\n",
      "Epoch 20/50\n",
      "2612/2612 [==============================] - 4s 1ms/step - loss: 5181.5537 - val_loss: 5329.3398\n",
      "Epoch 21/50\n",
      "2612/2612 [==============================] - 4s 1ms/step - loss: 4948.4150 - val_loss: 5027.8340\n",
      "Epoch 22/50\n",
      "2612/2612 [==============================] - 4s 1ms/step - loss: 4728.0703 - val_loss: 4738.7002\n",
      "Epoch 23/50\n",
      "2612/2612 [==============================] - 3s 1ms/step - loss: 4520.1377 - val_loss: 4463.4570\n",
      "Epoch 24/50\n",
      "2612/2612 [==============================] - 4s 1ms/step - loss: 4326.1699 - val_loss: 4203.1704\n",
      "Epoch 25/50\n",
      "2612/2612 [==============================] - 4s 1ms/step - loss: 4145.3857 - val_loss: 3956.0862\n",
      "Epoch 26/50\n",
      "2612/2612 [==============================] - 3s 1ms/step - loss: 3977.5381 - val_loss: 3722.8096\n",
      "Epoch 27/50\n",
      "2612/2612 [==============================] - 4s 1ms/step - loss: 3822.6023 - val_loss: 3503.4006\n",
      "Epoch 28/50\n",
      "2612/2612 [==============================] - 4s 2ms/step - loss: 3680.2910 - val_loss: 3297.5452\n",
      "Epoch 29/50\n",
      "2612/2612 [==============================] - 4s 2ms/step - loss: 3551.4248 - val_loss: 3107.4849\n",
      "Epoch 30/50\n",
      "2612/2612 [==============================] - 5s 2ms/step - loss: 3436.1091 - val_loss: 2931.3599\n",
      "Epoch 31/50\n",
      "2612/2612 [==============================] - 4s 2ms/step - loss: 3332.6121 - val_loss: 2767.9478\n",
      "Epoch 32/50\n",
      "2612/2612 [==============================] - 4s 2ms/step - loss: 3241.2781 - val_loss: 2619.1760\n",
      "Epoch 33/50\n",
      "2612/2612 [==============================] - 4s 2ms/step - loss: 3162.8481 - val_loss: 2485.0181\n",
      "Epoch 34/50\n",
      "2612/2612 [==============================] - 4s 2ms/step - loss: 3095.7480 - val_loss: 2365.2463\n",
      "Epoch 35/50\n",
      "2612/2612 [==============================] - 4s 2ms/step - loss: 3040.4280 - val_loss: 2259.0437\n",
      "Epoch 36/50\n",
      "2612/2612 [==============================] - 4s 2ms/step - loss: 2995.5005 - val_loss: 2166.6609\n",
      "Epoch 37/50\n",
      "2612/2612 [==============================] - 4s 2ms/step - loss: 2960.9783 - val_loss: 2090.9294\n",
      "Epoch 38/50\n",
      "2612/2612 [==============================] - 4s 2ms/step - loss: 2935.4739 - val_loss: 2026.7412\n",
      "Epoch 39/50\n",
      "2612/2612 [==============================] - 4s 2ms/step - loss: 2916.5076 - val_loss: 1973.8002\n",
      "Epoch 40/50\n",
      "2612/2612 [==============================] - 4s 2ms/step - loss: 2903.9963 - val_loss: 1933.8942\n",
      "Epoch 41/50\n",
      "2612/2612 [==============================] - 4s 2ms/step - loss: 2895.9565 - val_loss: 1903.2592\n",
      "Epoch 42/50\n",
      "2612/2612 [==============================] - 5s 2ms/step - loss: 2890.8250 - val_loss: 1879.6382\n",
      "Epoch 43/50\n",
      "2612/2612 [==============================] - 5s 2ms/step - loss: 2887.6250 - val_loss: 1861.2705\n",
      "Epoch 44/50\n",
      "2612/2612 [==============================] - 5s 2ms/step - loss: 2885.7581 - val_loss: 1848.3607\n",
      "Epoch 45/50\n",
      "2612/2612 [==============================] - 5s 2ms/step - loss: 2884.6338 - val_loss: 1838.1986\n",
      "Epoch 46/50\n",
      "2612/2612 [==============================] - 5s 2ms/step - loss: 2883.9565 - val_loss: 1830.6708\n",
      "Epoch 47/50\n",
      "2612/2612 [==============================] - 5s 2ms/step - loss: 2883.5583 - val_loss: 1824.8059\n",
      "Epoch 48/50\n",
      "2612/2612 [==============================] - 4s 2ms/step - loss: 2883.3228 - val_loss: 1820.3809\n",
      "Epoch 49/50\n",
      "2612/2612 [==============================] - 4s 2ms/step - loss: 2883.1948 - val_loss: 1817.3912\n",
      "Epoch 50/50\n",
      "2612/2612 [==============================] - 4s 2ms/step - loss: 2883.1160 - val_loss: 1814.7714\n"
     ]
    }
   ],
   "source": [
    "# Use Keras Model.fit to execute the training for 50 epochs:\n",
    "# %%time\n",
    "history = linear_model.fit(\n",
    "    df_hotel['lead_time'], df_hotel['adr'],\n",
    "    epochs = 50,\n",
    "    # Calculate validation results on 30% of the training data.\n",
    "    validation_split = 0.3)"
   ]
  },
  {
   "cell_type": "code",
   "execution_count": 23,
   "metadata": {},
   "outputs": [
    {
     "data": {
      "text/html": [
       "<div>\n",
       "<style scoped>\n",
       "    .dataframe tbody tr th:only-of-type {\n",
       "        vertical-align: middle;\n",
       "    }\n",
       "\n",
       "    .dataframe tbody tr th {\n",
       "        vertical-align: top;\n",
       "    }\n",
       "\n",
       "    .dataframe thead th {\n",
       "        text-align: right;\n",
       "    }\n",
       "</style>\n",
       "<table border=\"1\" class=\"dataframe\">\n",
       "  <thead>\n",
       "    <tr style=\"text-align: right;\">\n",
       "      <th></th>\n",
       "      <th>loss</th>\n",
       "      <th>val_loss</th>\n",
       "      <th>epoch</th>\n",
       "    </tr>\n",
       "  </thead>\n",
       "  <tbody>\n",
       "    <tr>\n",
       "      <th>45</th>\n",
       "      <td>2883.956543</td>\n",
       "      <td>1830.670776</td>\n",
       "      <td>45</td>\n",
       "    </tr>\n",
       "    <tr>\n",
       "      <th>46</th>\n",
       "      <td>2883.558350</td>\n",
       "      <td>1824.805908</td>\n",
       "      <td>46</td>\n",
       "    </tr>\n",
       "    <tr>\n",
       "      <th>47</th>\n",
       "      <td>2883.322754</td>\n",
       "      <td>1820.380859</td>\n",
       "      <td>47</td>\n",
       "    </tr>\n",
       "    <tr>\n",
       "      <th>48</th>\n",
       "      <td>2883.194824</td>\n",
       "      <td>1817.391235</td>\n",
       "      <td>48</td>\n",
       "    </tr>\n",
       "    <tr>\n",
       "      <th>49</th>\n",
       "      <td>2883.115967</td>\n",
       "      <td>1814.771362</td>\n",
       "      <td>49</td>\n",
       "    </tr>\n",
       "  </tbody>\n",
       "</table>\n",
       "</div>"
      ],
      "text/plain": [
       "           loss     val_loss  epoch\n",
       "45  2883.956543  1830.670776     45\n",
       "46  2883.558350  1824.805908     46\n",
       "47  2883.322754  1820.380859     47\n",
       "48  2883.194824  1817.391235     48\n",
       "49  2883.115967  1814.771362     49"
      ]
     },
     "execution_count": 23,
     "metadata": {},
     "output_type": "execute_result"
    }
   ],
   "source": [
    "# Visualize the model's training progress using the stats stored in the history object:\n",
    "hist = pd.DataFrame(history.history)\n",
    "hist['epoch'] = history.epoch\n",
    "hist.tail()"
   ]
  },
  {
   "cell_type": "code",
   "execution_count": 24,
   "metadata": {},
   "outputs": [],
   "source": [
    "# Plotting the behaviour of training and validation loss functions\n",
    "# Consider the below function simply \n",
    "\n",
    "def plot_loss(history):\n",
    "  plt.plot(history.history['loss'], label='loss')\n",
    "  plt.plot(history.history['val_loss'], label='val_loss')\n",
    "  plt.xlabel('Epoch')\n",
    "  plt.ylabel('Error')\n",
    "  plt.legend()\n",
    "  plt.grid(True)"
   ]
  },
  {
   "cell_type": "code",
   "execution_count": 25,
   "metadata": {},
   "outputs": [
    {
     "data": {
      "image/png": "[encoded data removed]",
      "text/plain": [
       "<Figure size 432x288 with 1 Axes>"
      ]
     },
     "metadata": {
      "needs_background": "light"
     },
     "output_type": "display_data"
    }
   ],
   "source": [
    "plot_loss(history)"
   ]
  },
  {
   "cell_type": "markdown",
   "metadata": {},
   "source": [
    "# Exercise 6 (CORE)\n",
    "\n",
    "Consider your hotel data once again. Officially, our response is binary and supposed to be the `is_canceled` in the data set. So, we are interested in predicting a binary response here so the problem is classification. \n",
    "\n",
    "- Consider fitting a logistic regression model in keras similar to Exercise 3. The model should consist of an input layer and a fully-connected output layer. Choose one single numerical predictor, such as `lead_time` to do this experiment\n",
    "\n",
    "- Which activation function you used and how is the progress of the model fit with `epochs = 50` and `validation_split=0.3` (You can benefit from the plotting introduced before)"
   ]
  },
  {
   "cell_type": "code",
   "execution_count": 26,
   "metadata": {},
   "outputs": [],
   "source": [
    "# Define the response with a single predictor\n",
    "X = df_hotel['lead_time']\n",
    "y = df_hotel['is_canceled']"
   ]
  },
  {
   "cell_type": "code",
   "execution_count": 27,
   "metadata": {},
   "outputs": [
    {
     "name": "stdout",
     "output_type": "stream",
     "text": [
      "Model: \"model_2\"\n",
      "_________________________________________________________________\n",
      " Layer (type)                Output Shape              Param #   \n",
      "=================================================================\n",
      " input_3 (InputLayer)        [(None, 1)]               0         \n",
      "                                                                 \n",
      " dense_4 (Dense)             (None, 1)                 2         \n",
      "                                                                 \n",
      "=================================================================\n",
      "Total params: 2\n",
      "Trainable params: 2\n",
      "Non-trainable params: 0\n",
      "_________________________________________________________________\n"
     ]
    }
   ],
   "source": [
    "input_layer = keras.layers.Input(shape=(1,))\n",
    "logit_layer = keras.layers.Dense(1, activation='sigmoid')\n",
    "\n",
    "output = logit_layer(input_layer)\n",
    "model_lr = keras.models.Model(input_layer, output)\n",
    "model_lr.summary()"
   ]
  },
  {
   "cell_type": "code",
   "execution_count": 28,
   "metadata": {},
   "outputs": [],
   "source": [
    "model_lr.compile(loss='binary_crossentropy', optimizer='adam')"
   ]
  },
  {
   "cell_type": "code",
   "execution_count": 29,
   "metadata": {},
   "outputs": [
    {
     "name": "stdout",
     "output_type": "stream",
     "text": [
      "Epoch 1/50\n",
      "2612/2612 [==============================] - 5s 2ms/step - loss: 1.8561 - val_loss: 0.8174\n",
      "Epoch 2/50\n",
      "2612/2612 [==============================] - 5s 2ms/step - loss: 0.6400 - val_loss: 0.6390\n",
      "Epoch 3/50\n",
      "2612/2612 [==============================] - 4s 2ms/step - loss: 0.6402 - val_loss: 0.8977\n",
      "Epoch 4/50\n",
      "2612/2612 [==============================] - 4s 2ms/step - loss: 0.6404 - val_loss: 0.6469\n",
      "Epoch 5/50\n",
      "2612/2612 [==============================] - 4s 2ms/step - loss: 0.6407 - val_loss: 0.8120\n",
      "Epoch 6/50\n",
      "2612/2612 [==============================] - 5s 2ms/step - loss: 0.6406 - val_loss: 0.8106\n",
      "Epoch 7/50\n",
      "2612/2612 [==============================] - 5s 2ms/step - loss: 0.6405 - val_loss: 0.8117\n",
      "Epoch 8/50\n",
      "2612/2612 [==============================] - 4s 2ms/step - loss: 0.6404 - val_loss: 0.7642\n",
      "Epoch 9/50\n",
      "2612/2612 [==============================] - 5s 2ms/step - loss: 0.6401 - val_loss: 0.7518\n",
      "Epoch 10/50\n",
      "2612/2612 [==============================] - 5s 2ms/step - loss: 0.6405 - val_loss: 0.7103\n",
      "Epoch 11/50\n",
      "2612/2612 [==============================] - 4s 2ms/step - loss: 0.6403 - val_loss: 0.8027\n",
      "Epoch 12/50\n",
      "2612/2612 [==============================] - 4s 2ms/step - loss: 0.6404 - val_loss: 0.6519\n",
      "Epoch 13/50\n",
      "2612/2612 [==============================] - 4s 2ms/step - loss: 0.6402 - val_loss: 0.7652\n",
      "Epoch 14/50\n",
      "2612/2612 [==============================] - 4s 2ms/step - loss: 0.6409 - val_loss: 0.8274\n",
      "Epoch 15/50\n",
      "2612/2612 [==============================] - 5s 2ms/step - loss: 0.6407 - val_loss: 0.8899\n",
      "Epoch 16/50\n",
      "2612/2612 [==============================] - 5s 2ms/step - loss: 0.6403 - val_loss: 0.6516\n",
      "Epoch 17/50\n",
      "2612/2612 [==============================] - 4s 2ms/step - loss: 0.6402 - val_loss: 0.7731\n",
      "Epoch 18/50\n",
      "2612/2612 [==============================] - 4s 2ms/step - loss: 0.6404 - val_loss: 0.8094\n",
      "Epoch 19/50\n",
      "2612/2612 [==============================] - 4s 2ms/step - loss: 0.6401 - val_loss: 0.6696\n",
      "Epoch 20/50\n",
      "2612/2612 [==============================] - 4s 2ms/step - loss: 0.6401 - val_loss: 0.7107\n",
      "Epoch 21/50\n",
      "2612/2612 [==============================] - 4s 2ms/step - loss: 0.6404 - val_loss: 0.7219\n",
      "Epoch 22/50\n",
      "2612/2612 [==============================] - 4s 2ms/step - loss: 0.6403 - val_loss: 0.7748\n",
      "Epoch 23/50\n",
      "2612/2612 [==============================] - 5s 2ms/step - loss: 0.6403 - val_loss: 0.6889\n",
      "Epoch 24/50\n",
      "2612/2612 [==============================] - 4s 2ms/step - loss: 0.6404 - val_loss: 0.7602\n",
      "Epoch 25/50\n",
      "2612/2612 [==============================] - 4s 2ms/step - loss: 0.6402 - val_loss: 0.7031\n",
      "Epoch 26/50\n",
      "2612/2612 [==============================] - 4s 2ms/step - loss: 0.6403 - val_loss: 0.6629\n",
      "Epoch 27/50\n",
      "2612/2612 [==============================] - 5s 2ms/step - loss: 0.6403 - val_loss: 0.8152\n",
      "Epoch 28/50\n",
      "2612/2612 [==============================] - 4s 2ms/step - loss: 0.6404 - val_loss: 0.6433\n",
      "Epoch 29/50\n",
      "2612/2612 [==============================] - 4s 2ms/step - loss: 0.6406 - val_loss: 0.7673\n",
      "Epoch 30/50\n",
      "2612/2612 [==============================] - 5s 2ms/step - loss: 0.6404 - val_loss: 0.6450\n",
      "Epoch 31/50\n",
      "2612/2612 [==============================] - 5s 2ms/step - loss: 0.6402 - val_loss: 0.7635\n",
      "Epoch 32/50\n",
      "2612/2612 [==============================] - 4s 2ms/step - loss: 0.6408 - val_loss: 0.7467\n",
      "Epoch 33/50\n",
      "2612/2612 [==============================] - 5s 2ms/step - loss: 0.6406 - val_loss: 0.7341\n",
      "Epoch 34/50\n",
      "2612/2612 [==============================] - 4s 2ms/step - loss: 0.6401 - val_loss: 0.8052\n",
      "Epoch 35/50\n",
      "2612/2612 [==============================] - 4s 2ms/step - loss: 0.6401 - val_loss: 0.7644\n",
      "Epoch 36/50\n",
      "2612/2612 [==============================] - 5s 2ms/step - loss: 0.6404 - val_loss: 0.8042\n",
      "Epoch 37/50\n",
      "2612/2612 [==============================] - 5s 2ms/step - loss: 0.6403 - val_loss: 0.6799\n",
      "Epoch 38/50\n",
      "2612/2612 [==============================] - 4s 2ms/step - loss: 0.6401 - val_loss: 0.8050\n",
      "Epoch 39/50\n",
      "2612/2612 [==============================] - 4s 2ms/step - loss: 0.6409 - val_loss: 0.6738\n",
      "Epoch 40/50\n",
      "2612/2612 [==============================] - 5s 2ms/step - loss: 0.6398 - val_loss: 0.7329\n",
      "Epoch 41/50\n",
      "2612/2612 [==============================] - 5s 2ms/step - loss: 0.6404 - val_loss: 0.6675\n",
      "Epoch 42/50\n",
      "2612/2612 [==============================] - 5s 2ms/step - loss: 0.6401 - val_loss: 0.9450\n",
      "Epoch 43/50\n",
      "2612/2612 [==============================] - 5s 2ms/step - loss: 0.6409 - val_loss: 0.6996\n",
      "Epoch 44/50\n",
      "2612/2612 [==============================] - 5s 2ms/step - loss: 0.6408 - val_loss: 0.6724\n",
      "Epoch 45/50\n",
      "2612/2612 [==============================] - 4s 2ms/step - loss: 0.6403 - val_loss: 0.8799\n",
      "Epoch 46/50\n",
      "2612/2612 [==============================] - 5s 2ms/step - loss: 0.6408 - val_loss: 0.7907\n",
      "Epoch 47/50\n",
      "2612/2612 [==============================] - 5s 2ms/step - loss: 0.6403 - val_loss: 0.6705\n",
      "Epoch 48/50\n",
      "2612/2612 [==============================] - 4s 2ms/step - loss: 0.6400 - val_loss: 0.6754\n",
      "Epoch 49/50\n",
      "2612/2612 [==============================] - 4s 2ms/step - loss: 0.6404 - val_loss: 0.8018\n",
      "Epoch 50/50\n",
      "2612/2612 [==============================] - 5s 2ms/step - loss: 0.6402 - val_loss: 0.7866\n"
     ]
    }
   ],
   "source": [
    "history = model_lr.fit(x = X, y = y, epochs = 50, \n",
    "                       callbacks = [tensorboard_callback], shuffle = True, validation_split = 0.3)"
   ]
  },
  {
   "cell_type": "code",
   "execution_count": 30,
   "metadata": {},
   "outputs": [
    {
     "data": {
      "image/png": "[encoded data removed]",
      "text/plain": [
       "<Figure size 432x288 with 1 Axes>"
      ]
     },
     "metadata": {
      "needs_background": "light"
     },
     "output_type": "display_data"
    }
   ],
   "source": [
    "# Visualize the model's training progress using the stats stored in the history object:\n",
    "hist = pd.DataFrame(history.history)\n",
    "hist['epoch'] = history.epoch\n",
    "\n",
    "plot_loss(history)"
   ]
  },
  {
   "cell_type": "code",
   "execution_count": 31,
   "metadata": {},
   "outputs": [
    {
     "name": "stdout",
     "output_type": "stream",
     "text": [
      "3731/3731 [==============================] - 3s 908us/step\n"
     ]
    },
    {
     "data": {
      "text/plain": [
       "array([0.8873185 , 0.99416655, 0.36726087, ..., 0.4173117 , 0.562171  ,\n",
       "       0.730515  ], dtype=float32)"
      ]
     },
     "execution_count": 31,
     "metadata": {},
     "output_type": "execute_result"
    }
   ],
   "source": [
    "# About Predictions\n",
    "y_pred = model_lr.predict(X).flatten()\n",
    "y_pred"
   ]
  },
  {
   "cell_type": "markdown",
   "metadata": {},
   "source": [
    "# Exercise 7 (CORE)\n",
    "\n",
    "- Calculate your model predictions on the original data set (using the 0.5 threshold for the decision boundary)\n",
    "\n",
    "- Compare your findings with your ground truth (true observations for `is_canceled` variable)"
   ]
  },
  {
   "cell_type": "code",
   "execution_count": 32,
   "metadata": {},
   "outputs": [
    {
     "data": {
      "text/plain": [
       "(119390, 1)"
      ]
     },
     "execution_count": 32,
     "metadata": {},
     "output_type": "execute_result"
    }
   ],
   "source": [
    "# Class labels\n",
    "y_pred_lab = np.zeros((y.shape[0], 1))\n",
    "y_pred_lab.shape"
   ]
  },
  {
   "cell_type": "code",
   "execution_count": 33,
   "metadata": {},
   "outputs": [
    {
     "name": "stdout",
     "output_type": "stream",
     "text": [
      "[1. 1. 0. ... 0. 1. 1.]\n"
     ]
    }
   ],
   "source": [
    "y_pred_lab = y_pred\n",
    "\n",
    "y_pred_lab[y_pred_lab > 0.5] = 1\n",
    "y_pred_lab[y_pred_lab <= 0.5] = 0\n",
    "print(y_pred_lab)"
   ]
  },
  {
   "cell_type": "code",
   "execution_count": 34,
   "metadata": {},
   "outputs": [
    {
     "data": {
      "text/plain": [
       "array([[46674, 28492],\n",
       "       [16260, 27964]])"
      ]
     },
     "execution_count": 34,
     "metadata": {},
     "output_type": "execute_result"
    }
   ],
   "source": [
    "# To compare with the true observations\n",
    "from sklearn.metrics import confusion_matrix\n",
    "\n",
    "#using the confusion matrix, but not strictly necessary for this task\n",
    "confmat = confusion_matrix(y_true = y, y_pred = y_pred_lab)\n",
    "confmat"
   ]
  },
  {
   "cell_type": "markdown",
   "metadata": {},
   "source": [
    "# Exercise 8 (EXTRA)\n",
    "\n",
    "For the hotel data set, as an extension of above mentioned method;\n",
    "\n",
    "1. Lets create our feature matrix (including some variables) and response varible (`is_canceled`). You can think of set of predictors (suitable and ready to use predictors)\n",
    "\n",
    "2.  Split the data into training and test sets as usual. Use the test size as $30\\%$ of the whole sample herein.\n",
    "\n",
    "3. Re-create the above logistic model (the model should consist of an input layer and a fully-connected output layer) and train the model using only training data now (Remember that validation over the training set still makes sense!)\n",
    "\n",
    "4. Derive the predictions of the fitted model over the test data (unseen data set by the NN model)\n",
    "\n",
    "**WARNING :** Note that, these steps are followed under the assumption that all the necessary data cleaning was completed generally.  "
   ]
  },
  {
   "cell_type": "code",
   "execution_count": 36,
   "metadata": {},
   "outputs": [],
   "source": [
    "# For the simplicity look at two variables to illustrate \n",
    "\n",
    "# Define the response with a single predictor\n",
    "X = df_hotel[['lead_time', 'adr']]\n",
    "y = df_hotel['is_canceled']"
   ]
  },
  {
   "cell_type": "code",
   "execution_count": 42,
   "metadata": {},
   "outputs": [
    {
     "data": {
      "text/plain": [
       "((83573, 2), (35817, 2), (83573,), (35817,))"
      ]
     },
     "execution_count": 42,
     "metadata": {},
     "output_type": "execute_result"
    }
   ],
   "source": [
    "from sklearn.model_selection import train_test_split\n",
    "\n",
    "X_train, X_test, y_train, y_test = train_test_split(X, y, stratify = y, \n",
    "                                                    test_size = 0.3, random_state=42)\n",
    "\n",
    "X_train.shape, X_test.shape, y_train.shape, y_test.shape"
   ]
  },
  {
   "cell_type": "code",
   "execution_count": 43,
   "metadata": {},
   "outputs": [
    {
     "name": "stdout",
     "output_type": "stream",
     "text": [
      "Model: \"model_3\"\n",
      "_________________________________________________________________\n",
      " Layer (type)                Output Shape              Param #   \n",
      "=================================================================\n",
      " input_4 (InputLayer)        [(None, 2)]               0         \n",
      "                                                                 \n",
      " dense_5 (Dense)             (None, 1)                 3         \n",
      "                                                                 \n",
      "=================================================================\n",
      "Total params: 3\n",
      "Trainable params: 3\n",
      "Non-trainable params: 0\n",
      "_________________________________________________________________\n"
     ]
    }
   ],
   "source": [
    "input_layer = keras.layers.Input(shape=(2,))\n",
    "logit_layer = keras.layers.Dense(1, activation='sigmoid')\n",
    "\n",
    "output = logit_layer(input_layer)\n",
    "model_lr = keras.models.Model(input_layer, output)\n",
    "model_lr.summary()"
   ]
  },
  {
   "cell_type": "code",
   "execution_count": 44,
   "metadata": {},
   "outputs": [],
   "source": [
    "model_lr.compile(loss='binary_crossentropy', optimizer='adam')"
   ]
  },
  {
   "cell_type": "code",
   "execution_count": 45,
   "metadata": {},
   "outputs": [
    {
     "name": "stdout",
     "output_type": "stream",
     "text": [
      "Epoch 1/50\n",
      "1829/1829 [==============================] - 3s 2ms/step - loss: 10.6556 - val_loss: 0.6351\n",
      "Epoch 2/50\n",
      "1829/1829 [==============================] - 3s 2ms/step - loss: 0.6306 - val_loss: 0.6298\n",
      "Epoch 3/50\n",
      "1829/1829 [==============================] - 3s 1ms/step - loss: 0.6235 - val_loss: 0.6166\n",
      "Epoch 4/50\n",
      "1829/1829 [==============================] - 3s 2ms/step - loss: 0.6200 - val_loss: 0.6133\n",
      "Epoch 5/50\n",
      "1829/1829 [==============================] - 3s 2ms/step - loss: 0.6192 - val_loss: 0.6140\n",
      "Epoch 6/50\n",
      "1829/1829 [==============================] - 3s 2ms/step - loss: 0.6199 - val_loss: 0.6133\n",
      "Epoch 7/50\n",
      "1829/1829 [==============================] - 3s 2ms/step - loss: 0.6200 - val_loss: 0.6166\n",
      "Epoch 8/50\n",
      "1829/1829 [==============================] - 3s 2ms/step - loss: 0.6185 - val_loss: 0.6141\n",
      "Epoch 9/50\n",
      "1829/1829 [==============================] - 3s 1ms/step - loss: 0.6189 - val_loss: 0.6163\n",
      "Epoch 10/50\n",
      "1829/1829 [==============================] - 3s 2ms/step - loss: 0.6186 - val_loss: 0.6162\n",
      "Epoch 11/50\n",
      "1829/1829 [==============================] - 3s 1ms/step - loss: 0.6192 - val_loss: 0.6145\n",
      "Epoch 12/50\n",
      "1829/1829 [==============================] - 3s 2ms/step - loss: 0.6192 - val_loss: 0.6140\n",
      "Epoch 13/50\n",
      "1829/1829 [==============================] - 3s 1ms/step - loss: 0.6191 - val_loss: 0.6172\n",
      "Epoch 14/50\n",
      "1829/1829 [==============================] - 3s 2ms/step - loss: 0.6188 - val_loss: 0.6140\n",
      "Epoch 15/50\n",
      "1829/1829 [==============================] - 3s 2ms/step - loss: 0.6186 - val_loss: 0.6146\n",
      "Epoch 16/50\n",
      "1829/1829 [==============================] - 3s 2ms/step - loss: 0.6185 - val_loss: 0.6133\n",
      "Epoch 17/50\n",
      "1829/1829 [==============================] - 3s 2ms/step - loss: 0.6190 - val_loss: 0.6173\n",
      "Epoch 18/50\n",
      "1829/1829 [==============================] - 3s 2ms/step - loss: 0.6190 - val_loss: 0.6206\n",
      "Epoch 19/50\n",
      "1829/1829 [==============================] - 3s 2ms/step - loss: 0.6191 - val_loss: 0.6216\n",
      "Epoch 20/50\n",
      "1829/1829 [==============================] - 3s 1ms/step - loss: 0.6186 - val_loss: 0.6182\n",
      "Epoch 21/50\n",
      "1829/1829 [==============================] - 3s 1ms/step - loss: 0.6186 - val_loss: 0.6134\n",
      "Epoch 22/50\n",
      "1829/1829 [==============================] - 3s 2ms/step - loss: 0.6191 - val_loss: 0.6158\n",
      "Epoch 23/50\n",
      "1829/1829 [==============================] - 3s 2ms/step - loss: 0.6192 - val_loss: 0.6138\n",
      "Epoch 24/50\n",
      "1829/1829 [==============================] - 3s 2ms/step - loss: 0.6189 - val_loss: 0.6196\n",
      "Epoch 25/50\n",
      "1829/1829 [==============================] - 3s 2ms/step - loss: 0.6187 - val_loss: 0.6399\n",
      "Epoch 26/50\n",
      "1829/1829 [==============================] - 3s 1ms/step - loss: 0.6189 - val_loss: 0.6219\n",
      "Epoch 27/50\n",
      "1829/1829 [==============================] - 3s 2ms/step - loss: 0.6193 - val_loss: 0.6161\n",
      "Epoch 28/50\n",
      "1829/1829 [==============================] - 3s 1ms/step - loss: 0.6181 - val_loss: 0.6198\n",
      "Epoch 29/50\n",
      "1829/1829 [==============================] - 3s 2ms/step - loss: 0.6186 - val_loss: 0.6183\n",
      "Epoch 30/50\n",
      "1829/1829 [==============================] - 3s 2ms/step - loss: 0.6185 - val_loss: 0.6177\n",
      "Epoch 31/50\n",
      "1829/1829 [==============================] - 3s 2ms/step - loss: 0.6189 - val_loss: 0.6152\n",
      "Epoch 32/50\n",
      "1829/1829 [==============================] - 3s 2ms/step - loss: 0.6188 - val_loss: 0.6189\n",
      "Epoch 33/50\n",
      "1829/1829 [==============================] - 3s 2ms/step - loss: 0.6193 - val_loss: 0.6242\n",
      "Epoch 34/50\n",
      "1829/1829 [==============================] - 3s 2ms/step - loss: 0.6189 - val_loss: 0.6168\n",
      "Epoch 35/50\n",
      "1829/1829 [==============================] - 3s 2ms/step - loss: 0.6192 - val_loss: 0.6140\n",
      "Epoch 36/50\n",
      "1829/1829 [==============================] - 3s 2ms/step - loss: 0.6181 - val_loss: 0.6187\n",
      "Epoch 37/50\n",
      "1829/1829 [==============================] - 3s 2ms/step - loss: 0.6193 - val_loss: 0.6164\n",
      "Epoch 38/50\n",
      "1829/1829 [==============================] - 3s 2ms/step - loss: 0.6190 - val_loss: 0.6138\n",
      "Epoch 39/50\n",
      "1829/1829 [==============================] - 3s 2ms/step - loss: 0.6196 - val_loss: 0.6156\n",
      "Epoch 40/50\n",
      "1829/1829 [==============================] - 3s 2ms/step - loss: 0.6187 - val_loss: 0.6228\n",
      "Epoch 41/50\n",
      "1829/1829 [==============================] - 3s 2ms/step - loss: 0.6194 - val_loss: 0.6222\n",
      "Epoch 42/50\n",
      "1829/1829 [==============================] - 3s 2ms/step - loss: 0.6191 - val_loss: 0.6220\n",
      "Epoch 43/50\n",
      "1829/1829 [==============================] - 3s 2ms/step - loss: 0.6186 - val_loss: 0.6128\n",
      "Epoch 44/50\n",
      "1829/1829 [==============================] - 3s 2ms/step - loss: 0.6189 - val_loss: 0.6189\n",
      "Epoch 45/50\n",
      "1829/1829 [==============================] - 3s 2ms/step - loss: 0.6187 - val_loss: 0.6159\n",
      "Epoch 46/50\n",
      "1829/1829 [==============================] - 3s 1ms/step - loss: 0.6188 - val_loss: 0.6156\n",
      "Epoch 47/50\n",
      "1829/1829 [==============================] - 3s 2ms/step - loss: 0.6188 - val_loss: 0.6273\n",
      "Epoch 48/50\n",
      "1829/1829 [==============================] - 3s 2ms/step - loss: 0.6181 - val_loss: 0.6218\n",
      "Epoch 49/50\n",
      "1829/1829 [==============================] - 3s 2ms/step - loss: 0.6192 - val_loss: 0.6147\n",
      "Epoch 50/50\n",
      "1829/1829 [==============================] - 3s 1ms/step - loss: 0.6184 - val_loss: 0.6169\n"
     ]
    }
   ],
   "source": [
    "history = model_lr.fit(x = X_train, y = y_train, epochs = 50, \n",
    "                       callbacks = [tensorboard_callback], shuffle = True, validation_split = 0.3)"
   ]
  },
  {
   "cell_type": "code",
   "execution_count": 46,
   "metadata": {},
   "outputs": [
    {
     "name": "stdout",
     "output_type": "stream",
     "text": [
      "1120/1120 [==============================] - 1s 833us/step\n"
     ]
    },
    {
     "data": {
      "text/plain": [
       "array([0.23743105, 0.39793158, 0.6115089 , ..., 0.28781748, 0.3750703 ,\n",
       "       0.21398857], dtype=float32)"
      ]
     },
     "execution_count": 46,
     "metadata": {},
     "output_type": "execute_result"
    }
   ],
   "source": [
    "# About Predictions\n",
    "y_pred_test = model_lr.predict(X_test).flatten()\n",
    "y_pred_test\n"
   ]
  },
  {
   "cell_type": "code",
   "execution_count": 47,
   "metadata": {},
   "outputs": [
    {
     "name": "stdout",
     "output_type": "stream",
     "text": [
      "[0. 0. 1. ... 0. 0. 0.]\n"
     ]
    }
   ],
   "source": [
    "# Class labels\n",
    "y_pred_lab = np.zeros((y_test.shape[0], 1))\n",
    "y_pred_lab.shape\n",
    "\n",
    "y_pred_lab = y_pred_test\n",
    "\n",
    "y_pred_lab[y_pred_lab > 0.5] = 1\n",
    "y_pred_lab[y_pred_lab <= 0.5] = 0\n",
    "print(y_pred_lab)"
   ]
  },
  {
   "cell_type": "code",
   "execution_count": 48,
   "metadata": {},
   "outputs": [
    {
     "data": {
      "text/plain": [
       "array([[20974,  1576],\n",
       "       [10543,  2724]])"
      ]
     },
     "execution_count": 48,
     "metadata": {},
     "output_type": "execute_result"
    }
   ],
   "source": [
    "# To compare with the true observations\n",
    "from sklearn.metrics import confusion_matrix\n",
    "\n",
    "#using the confusion matrix, but not strictly necessary for this task\n",
    "confmat = confusion_matrix(y_true = y_test, y_pred = y_pred_lab)\n",
    "confmat"
   ]
  },
  {
   "cell_type": "markdown",
   "metadata": {
    "id": "1CvMFdEvvXtt"
   },
   "source": [
    "# Exercise 9 (EXTRA)\n",
    "\n",
    "By changing the NN model a bit further;\n",
    "\n",
    "1. Create a new model by adding a fully-connected hidden layer with 2 neurons between your input and output above.\n",
    "\n",
    "2. Play around the considered activation functions (adding `relu` etc. instead of logistic)\n",
    "\n",
    "3. Train the new model over the training data and consider your predictions over the test data again. Compare your predictions with the true test values\n",
    "\n",
    "4. Visualize the model's training progress similar to the previous graphical outputs\n"
   ]
  },
  {
   "cell_type": "code",
   "execution_count": 49,
   "metadata": {},
   "outputs": [
    {
     "name": "stdout",
     "output_type": "stream",
     "text": [
      "Model: \"model_4\"\n",
      "_________________________________________________________________\n",
      " Layer (type)                Output Shape              Param #   \n",
      "=================================================================\n",
      " input_5 (InputLayer)        [(None, 2)]               0         \n",
      "                                                                 \n",
      " dense_6 (Dense)             (None, 1)                 3         \n",
      "                                                                 \n",
      " dense_7 (Dense)             (None, 1)                 2         \n",
      "                                                                 \n",
      "=================================================================\n",
      "Total params: 5\n",
      "Trainable params: 5\n",
      "Non-trainable params: 0\n",
      "_________________________________________________________________\n"
     ]
    }
   ],
   "source": [
    "# Just for an illustration \n",
    "\n",
    "input_layer_an2 = keras.layers.Input(shape=(2,))\n",
    "hidden_layer_an2 = keras.layers.Dense(1, activation='relu')\n",
    "logit_layer_an2 = keras.layers.Dense(1, activation='relu')\n",
    "\n",
    "output_an2 = logit_layer_an2(hidden_layer_an2(input_layer_an2))\n",
    "model_an2 = keras.models.Model(input_layer_an2, output_an2)\n",
    "model_an2.summary()"
   ]
  },
  {
   "cell_type": "code",
   "execution_count": 50,
   "metadata": {},
   "outputs": [
    {
     "name": "stdout",
     "output_type": "stream",
     "text": [
      "Epoch 1/50\n",
      "1829/1829 [==============================] - 3s 2ms/step - loss: 4.9958 - val_loss: 4.3535\n",
      "Epoch 2/50\n",
      "1829/1829 [==============================] - 3s 2ms/step - loss: 4.0974 - val_loss: 3.7188\n",
      "Epoch 3/50\n",
      "1829/1829 [==============================] - 3s 2ms/step - loss: 3.5661 - val_loss: 3.3350\n",
      "Epoch 4/50\n",
      "1829/1829 [==============================] - 3s 2ms/step - loss: 2.9258 - val_loss: 2.7894\n",
      "Epoch 5/50\n",
      "1829/1829 [==============================] - 3s 2ms/step - loss: 2.8486 - val_loss: 2.7608\n",
      "Epoch 6/50\n",
      "1829/1829 [==============================] - 3s 2ms/step - loss: 2.8194 - val_loss: 2.7295\n",
      "Epoch 7/50\n",
      "1829/1829 [==============================] - 3s 2ms/step - loss: 2.7713 - val_loss: 2.6109\n",
      "Epoch 8/50\n",
      "1829/1829 [==============================] - 3s 2ms/step - loss: 2.5838 - val_loss: 2.3755\n",
      "Epoch 9/50\n",
      "1829/1829 [==============================] - 3s 2ms/step - loss: 2.2402 - val_loss: 1.8506\n",
      "Epoch 10/50\n",
      "1829/1829 [==============================] - 3s 2ms/step - loss: 1.7679 - val_loss: 1.2660\n",
      "Epoch 11/50\n",
      "1829/1829 [==============================] - 3s 2ms/step - loss: 0.6726 - val_loss: 0.6400\n",
      "Epoch 12/50\n",
      "1829/1829 [==============================] - 3s 2ms/step - loss: 0.8116 - val_loss: 0.6438\n",
      "Epoch 13/50\n",
      "1829/1829 [==============================] - 3s 2ms/step - loss: 0.6436 - val_loss: 0.6420\n",
      "Epoch 14/50\n",
      "1829/1829 [==============================] - 3s 2ms/step - loss: 0.6643 - val_loss: 0.6699\n",
      "Epoch 15/50\n",
      "1829/1829 [==============================] - 3s 2ms/step - loss: 0.6483 - val_loss: 0.6435\n",
      "Epoch 16/50\n",
      "1829/1829 [==============================] - 3s 2ms/step - loss: 0.6543 - val_loss: 0.6523\n",
      "Epoch 17/50\n",
      "1829/1829 [==============================] - 3s 2ms/step - loss: 0.6484 - val_loss: 0.6432\n",
      "Epoch 18/50\n",
      "1829/1829 [==============================] - 3s 2ms/step - loss: 0.6493 - val_loss: 0.6432\n",
      "Epoch 19/50\n",
      "1829/1829 [==============================] - 3s 2ms/step - loss: 0.6565 - val_loss: 0.6489\n",
      "Epoch 20/50\n",
      "1829/1829 [==============================] - 3s 2ms/step - loss: 0.6453 - val_loss: 0.6440\n",
      "Epoch 21/50\n",
      "1829/1829 [==============================] - 3s 2ms/step - loss: 0.7037 - val_loss: 0.6623\n",
      "Epoch 22/50\n",
      "1829/1829 [==============================] - 3s 2ms/step - loss: 0.6601 - val_loss: 0.6599\n",
      "Epoch 23/50\n",
      "1829/1829 [==============================] - 3s 2ms/step - loss: 0.6589 - val_loss: 0.6603\n",
      "Epoch 24/50\n",
      "1829/1829 [==============================] - 3s 2ms/step - loss: 0.6589 - val_loss: 0.6599\n",
      "Epoch 25/50\n",
      "1829/1829 [==============================] - 3s 2ms/step - loss: 0.6594 - val_loss: 0.6599\n",
      "Epoch 26/50\n",
      "1829/1829 [==============================] - 3s 2ms/step - loss: 0.6589 - val_loss: 0.6599\n",
      "Epoch 27/50\n",
      "1829/1829 [==============================] - 3s 2ms/step - loss: 0.6589 - val_loss: 0.6598\n",
      "Epoch 28/50\n",
      "1829/1829 [==============================] - 3s 2ms/step - loss: 0.6593 - val_loss: 0.6600\n",
      "Epoch 29/50\n",
      "1829/1829 [==============================] - 3s 2ms/step - loss: 0.6589 - val_loss: 0.6600\n",
      "Epoch 30/50\n",
      "1829/1829 [==============================] - 3s 2ms/step - loss: 0.6589 - val_loss: 0.6600\n",
      "Epoch 31/50\n",
      "1829/1829 [==============================] - 3s 2ms/step - loss: 0.6590 - val_loss: 0.6601\n",
      "Epoch 32/50\n",
      "1829/1829 [==============================] - 3s 2ms/step - loss: 0.6589 - val_loss: 0.6600\n",
      "Epoch 33/50\n",
      "1829/1829 [==============================] - 3s 2ms/step - loss: 0.6589 - val_loss: 0.6601\n",
      "Epoch 34/50\n",
      "1829/1829 [==============================] - 3s 2ms/step - loss: 0.6590 - val_loss: 0.6600\n",
      "Epoch 35/50\n",
      "1829/1829 [==============================] - 3s 2ms/step - loss: 0.6589 - val_loss: 0.6600\n",
      "Epoch 36/50\n",
      "1829/1829 [==============================] - 3s 2ms/step - loss: 0.6603 - val_loss: 0.6653\n",
      "Epoch 37/50\n",
      "1829/1829 [==============================] - 3s 2ms/step - loss: 0.6596 - val_loss: 0.6600\n",
      "Epoch 38/50\n",
      "1829/1829 [==============================] - 3s 2ms/step - loss: 0.6589 - val_loss: 0.6599\n",
      "Epoch 39/50\n",
      "1829/1829 [==============================] - 3s 2ms/step - loss: 0.6596 - val_loss: 0.6602\n",
      "Epoch 40/50\n",
      "1829/1829 [==============================] - 3s 2ms/step - loss: 0.6590 - val_loss: 0.6601\n",
      "Epoch 41/50\n",
      "1829/1829 [==============================] - 3s 2ms/step - loss: 0.6590 - val_loss: 0.6601\n",
      "Epoch 42/50\n",
      "1829/1829 [==============================] - 3s 2ms/step - loss: 0.6589 - val_loss: 0.6603\n",
      "Epoch 43/50\n",
      "1829/1829 [==============================] - 3s 2ms/step - loss: 0.6588 - val_loss: 0.6601\n",
      "Epoch 44/50\n",
      "1829/1829 [==============================] - 3s 2ms/step - loss: 0.6589 - val_loss: 0.6600\n",
      "Epoch 45/50\n",
      "1829/1829 [==============================] - 3s 2ms/step - loss: 0.6590 - val_loss: 0.6601\n",
      "Epoch 46/50\n",
      "1829/1829 [==============================] - 3s 2ms/step - loss: 0.6610 - val_loss: 0.6683\n",
      "Epoch 47/50\n",
      "1829/1829 [==============================] - 3s 2ms/step - loss: 0.6669 - val_loss: 0.6616\n",
      "Epoch 48/50\n",
      "1829/1829 [==============================] - 3s 2ms/step - loss: 0.6611 - val_loss: 0.6601\n",
      "Epoch 49/50\n",
      "1829/1829 [==============================] - 3s 2ms/step - loss: 0.6589 - val_loss: 0.6600\n",
      "Epoch 50/50\n",
      "1829/1829 [==============================] - 3s 2ms/step - loss: 0.6589 - val_loss: 0.6600\n"
     ]
    }
   ],
   "source": [
    "model_an2.compile(loss='binary_crossentropy', optimizer='adam')\n",
    "\n",
    "history = model_an2.fit(x = X_train, y = y_train, epochs = 50, \n",
    "                       callbacks = [tensorboard_callback], shuffle = True, validation_split = 0.3)"
   ]
  },
  {
   "cell_type": "code",
   "execution_count": 51,
   "metadata": {},
   "outputs": [
    {
     "name": "stdout",
     "output_type": "stream",
     "text": [
      "1120/1120 [==============================] - 1s 826us/step\n",
      "[0. 0. 1. ... 0. 0. 0.]\n"
     ]
    }
   ],
   "source": [
    "# About Predictions\n",
    "y_pred_test = model_lr.predict(X_test).flatten()\n",
    "y_pred_test\n",
    "\n",
    "\n",
    "# Class labels\n",
    "y_pred_lab = np.zeros((y_test.shape[0], 1))\n",
    "y_pred_lab.shape\n",
    "\n",
    "y_pred_lab = y_pred_test\n",
    "\n",
    "y_pred_lab[y_pred_lab > 0.5] = 1\n",
    "y_pred_lab[y_pred_lab <= 0.5] = 0\n",
    "print(y_pred_lab)"
   ]
  },
  {
   "cell_type": "code",
   "execution_count": 52,
   "metadata": {},
   "outputs": [
    {
     "data": {
      "text/plain": [
       "array([[20974,  1576],\n",
       "       [10543,  2724]])"
      ]
     },
     "execution_count": 52,
     "metadata": {},
     "output_type": "execute_result"
    }
   ],
   "source": [
    "# To compare with the true observations\n",
    "from sklearn.metrics import confusion_matrix\n",
    "\n",
    "#using the confusion matrix, but not strictly necessary for this task\n",
    "confmat = confusion_matrix(y_true = y_test, y_pred = y_pred_lab)\n",
    "confmat"
   ]
  },
  {
   "cell_type": "code",
   "execution_count": 53,
   "metadata": {},
   "outputs": [
    {
     "data": {
      "image/png": "[encoded data removed]",
      "text/plain": [
       "<Figure size 432x288 with 1 Axes>"
      ]
     },
     "metadata": {
      "needs_background": "light"
     },
     "output_type": "display_data"
    }
   ],
   "source": [
    "# Visualize the model's training progress using the stats stored in the history object:\n",
    "hist = pd.DataFrame(history.history)\n",
    "hist['epoch'] = history.epoch\n",
    "\n",
    "plot_loss(history)"
   ]
  }
 ],
 "metadata": {
  "colab": {
   "authorship_tag": "ABX9TyOM5A9n7QAc5S8QW7qOOowE",
   "collapsed_sections": [],
   "name": "week09.ipynb",
   "provenance": [
    {
     "file_id": "1rbsH-qOENezJeR5XJkpU7uhUaBuwbDM_",
     "timestamp": 1647616242630
    }
   ]
  },
  "kernelspec": {
   "display_name": "Python 3 (ipykernel)",
   "language": "python",
   "name": "python3"
  },
  "language_info": {
   "codemirror_mode": {
    "name": "ipython",
    "version": 3
   },
   "file_extension": ".py",
   "mimetype": "text/x-python",
   "name": "python",
   "nbconvert_exporter": "python",
   "pygments_lexer": "ipython3",
   "version": "3.9.12"
  }
 },
 "nbformat": 4,
 "nbformat_minor": 1
}
