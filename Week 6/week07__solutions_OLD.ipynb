{
 "cells": [
  {
   "cell_type": "markdown",
   "metadata": {
    "cell_id": "00000-34f9557d-8f15-494e-8d65-74c8ae429c5c",
    "deepnote_cell_type": "markdown",
    "id": "gRJp4fGPvZ7c"
   },
   "source": [
    "# Week 7 - Logistic regression\n",
    "by Colin Rundel & David Elliott & Ozan Evkaya\n",
    "\n",
    "1. [Setup](#setup)\n",
    "\n",
    "2. [Binary Logistic Regression](#RBH)\n",
    "\n",
    "3. [Model refinement](#refine)\n",
    "\n",
    "4. [Multi-class Example](#mclog)\n",
    "\n",
    "5. [Regularization Example](#SKV)\n",
    "\n"
   ]
  },
  {
   "cell_type": "markdown",
   "metadata": {
    "id": "AdHUSbWsvZ7h"
   },
   "source": [
    "This week we will be implementing the logistic regression techniques from this weeks lecture in python. We will start with the binary case and then look at some extensions of the logistic regression model"
   ]
  },
  {
   "cell_type": "markdown",
   "metadata": {
    "cell_id": "00001-645a25eb-6010-425a-88c0-ecf0093a9edc",
    "deepnote_cell_type": "markdown",
    "id": "6sVlUI4SvZ7i"
   },
   "source": [
    "---\n",
    "\n",
    "# 1. Setup <a id='setup'></a>\n",
    "\n",
    "## 1.1. Uploading your data to the colab\n",
    "This notebook will be saved in your google drive in a folder \"Colab Notebooks\" by default, you should be fairly familiar with this by now.\n",
    "\n",
    "When you run this cell you will need to give colab permission to access files in your drive."
   ]
  },
  {
   "cell_type": "code",
   "execution_count": null,
   "metadata": {
    "colab": {
     "base_uri": "https://localhost:8080/"
    },
    "collapsed": true,
    "id": "ZeTuzK-dvZ7j",
    "outputId": "15c06f9e-fbee-4564-c6f4-9e8cac264fee"
   },
   "outputs": [
    {
     "name": "stdout",
     "output_type": "stream",
     "text": [
      "Mounted at /content/drive\n",
      "week07.ipynb  week-07.zip  ws-material\n"
     ]
    }
   ],
   "source": [
    "import os\n",
    "from google.colab import drive\n",
    "\n",
    "drive.mount('/content/drive')\n",
    "os.chdir('drive/My Drive/Colab Notebooks/mlp/week-7')\n",
    "!ls"
   ]
  },
  {
   "cell_type": "markdown",
   "metadata": {
    "id": "trxL3QeSvZ7k"
   },
   "source": [
    "We will now unzip the workshop materials and place them in a subdirectory \"ws-material/\""
   ]
  },
  {
   "cell_type": "code",
   "execution_count": null,
   "metadata": {
    "colab": {
     "base_uri": "https://localhost:8080/"
    },
    "collapsed": true,
    "id": "5DbL_UYJvZ7k",
    "outputId": "edac7653-be6b-44e5-e047-3a62d3f0832d"
   },
   "outputs": [
    {
     "name": "stdout",
     "output_type": "stream",
     "text": [
      "Directory already exists!\n",
      "week-07\n"
     ]
    }
   ],
   "source": [
    "if not os.path.exists('ws-material'):\n",
    "  print('Unzipping materials...')\n",
    "  !unzip week-07.zip -d ws-material\n",
    "else:\n",
    "  print(\"Directory already exists!\")\n",
    "\n",
    "os.chdir('ws-material')\n",
    "!ls"
   ]
  },
  {
   "cell_type": "markdown",
   "metadata": {
    "id": "c8FHFpfevZ7l"
   },
   "source": [
    "__Reminder__ \n",
    "\n",
    "- You may need to restart the runtime several times in the workshop, but you will not need to re-upload or unzip files again. "
   ]
  },
  {
   "cell_type": "markdown",
   "metadata": {
    "id": "mEIja_2pvZ7n"
   },
   "source": [
    "## 1.2 Packages\n",
    "\n",
    "Now lets load in the packages you wil need for this workshop."
   ]
  },
  {
   "cell_type": "code",
   "execution_count": null,
   "metadata": {
    "cell_id": "00002-d0af5d8f-8894-4c5a-b754-353993666790",
    "collapsed": true,
    "deepnote_cell_type": "code",
    "id": "KBfh_AXdvZ7o",
    "output_cleared": true
   },
   "outputs": [],
   "source": [
    "# Display plots inline\n",
    "%matplotlib inline\n",
    "\n",
    "# Data libraries\n",
    "import pandas as pd\n",
    "import numpy as np\n",
    "\n",
    "# Plotting libraries\n",
    "import matplotlib.pyplot as plt\n",
    "import seaborn as sns\n",
    "\n",
    "# Plotting defaults\n",
    "plt.rcParams['figure.figsize'] = (8,5)\n",
    "plt.rcParams['figure.dpi'] = 80\n",
    "\n",
    "# sklearn modules\n",
    "from sklearn.linear_model import LogisticRegression\n",
    "from sklearn.metrics import mean_squared_error\n",
    "\n",
    "# Other necessary packages\n",
    "from sklearn.datasets import load_iris           # for the Iris data\n",
    "from IPython.display import Image                # displaying .png images\n",
    "from sklearn.preprocessing import StandardScaler # scaling features\n",
    "from sklearn.preprocessing import LabelEncoder   # binary encoding\n",
    "from sklearn.pipeline import Pipeline            # combining classifier steps\n",
    "from sklearn.preprocessing import PolynomialFeatures # make PolynomialFeatures\n",
    "import warnings # prevent warnings\n",
    "from time import time\n",
    "from sklearn.model_selection import GridSearchCV, RandomizedSearchCV, KFold, StratifiedKFold\n",
    "from scipy.stats.distributions import uniform, loguniform\n",
    "\n",
    "from imblearn.under_sampling import RandomUnderSampler\n",
    "from collections import Counter\n",
    "from imblearn.metrics import classification_report_imbalanced\n",
    "import re\n",
    "from sklearn.metrics import accuracy_score\n",
    "from sklearn.model_selection import train_test_split\n",
    "from sklearn.metrics import classification_report\n",
    "from sklearn.metrics import confusion_matrix\n",
    "\n"
   ]
  },
  {
   "cell_type": "markdown",
   "metadata": {
    "id": "N8_vjOPKdqLm"
   },
   "source": [
    "##  Helper Functions\n",
    "\n",
    "Below are two helper functions we will be using in this workshop."
   ]
  },
  {
   "cell_type": "code",
   "execution_count": null,
   "metadata": {
    "id": "A3LgZwfrdyq7"
   },
   "outputs": [],
   "source": [
    "# tidy the output into a dataframe\n",
    "def tidy_scores(score_dict):\n",
    "    df = pd.DataFrame(score_dict)\n",
    "    df.loc['mean'] = df.mean()\n",
    "    df.loc['sd'] = df.std()\n",
    "    df.rename({\"test_score\":\"val_score\"}, axis=1, inplace=True)\n",
    "    df.index.name = \"fold\"\n",
    "    return df.round(2)\n",
    "\n",
    "\n",
    "# this creates the matplotlib graph to make the confmat look nicer\n",
    "# IT WORKS FOR ONLY BINARY CLASSIFICATION CASE !\n",
    "def pretty_confusion_matrix(confmat, labels, title, labeling=False, highlight_indexes=[]):\n",
    "\n",
    "    labels_list = [[\"TN\", \"FP\"], [\"FN\", \"TP\"]]\n",
    "    \n",
    "    fig, ax = plt.subplots(figsize=(4, 4))\n",
    "    ax.matshow(confmat, cmap=plt.cm.Blues, alpha=0.3)\n",
    "    for i in range(confmat.shape[0]):\n",
    "        for j in range(confmat.shape[1]):\n",
    "            if labeling:\n",
    "                label = str(confmat[i, j])+\" (\"+labels_list[i][j]+\")\"\n",
    "            else:\n",
    "                label = confmat[i, j]\n",
    "            \n",
    "            \n",
    "            if [i,j] in highlight_indexes:\n",
    "                ax.text(x=j, y=i, s=label, va='center', ha='center',\n",
    "                        weight = \"bold\", fontsize=18, color='#32618b')\n",
    "            else:\n",
    "                ax.text(x=j, y=i, s=label, va='center', ha='center')\n",
    "       \n",
    "    # change the labels\n",
    "    with warnings.catch_warnings():\n",
    "        warnings.simplefilter(\"ignore\")\n",
    "        ax.set_xticklabels(['']+[labels[0], labels[1]])\n",
    "        ax.set_yticklabels(['']+[labels[0], labels[1]])\n",
    "\n",
    "    plt.xlabel('Predicted Label')\n",
    "    plt.ylabel('True Label')\n",
    "    ax.xaxis.set_label_position('top')\n",
    "    plt.suptitle(title)\n",
    "    plt.tight_layout()\n",
    "    \n",
    "    plt.show()\n",
    "  \n",
    "# For ROC curve plotting function\n",
    "\n",
    "def roc_plot(threshold=0.5):\n",
    "    i = (np.abs(roc.threshold - threshold)).idxmin()\n",
    "\n",
    "    sns.lineplot(x='false positive rate', y='true positive rate', data=roc, ci=None)\n",
    "\n",
    "    plt.plot([0,1],[0,1], 'k--', alpha=0.5) # 0-1 line \n",
    "    plt.plot(roc.iloc[i,0], roc.iloc[i,1], 'r.')\n",
    "\n",
    "    plt.title(\"threshold = %.2f\" % threshold)\n",
    "    plt.show()\n",
    "\n",
    "# For iris data example \n",
    "\n",
    "def species_label(theta):\n",
    "\tif theta==0:\n",
    "\t\treturn raw_data.target_names[0]\n",
    "\tif theta==1:\n",
    "\t\treturn raw_data.target_names[1]\n",
    "\tif theta==2:\n",
    "\t\treturn raw_data.target_names[2]"
   ]
  },
  {
   "cell_type": "markdown",
   "metadata": {
    "cell_id": "00003-90709695-8746-4669-9199-fd144a6ec872",
    "deepnote_cell_type": "markdown",
    "id": "yz3bjxcbvZ7r"
   },
   "source": [
    "## 1.3 Data\n",
    "\n",
    "The dataset consists of 10000 individuals and whether their credit card has defaulted or not. Below is the column description: The main aim is to build the model using Logistic Regression and predict the accuracy of it. The included columns in the data set are as follows:\n",
    "\n",
    "* `default` - Whether the individual has defaulted\n",
    "\n",
    "* `student` - Whether the individual is the student\n",
    "\n",
    "* `balance` - The balance in the individual's account\n",
    "\n",
    "* `income` - Income of an individual\n",
    "\n",
    "We read the data into python using pandas.\n",
    "\n",
    "\n",
    "\n"
   ]
  },
  {
   "cell_type": "code",
   "execution_count": null,
   "metadata": {
    "colab": {
     "base_uri": "https://localhost:8080/",
     "height": 206
    },
    "id": "eF19U6ivvZ7r",
    "outputId": "203a6efa-2f80-4147-ffe8-418031d67c35"
   },
   "outputs": [
    {
     "data": {
      "text/html": [
       "\n",
       "  <div id=\"df-709b38c7-cb7d-4ce0-bf78-ed4316987ed4\">\n",
       "    <div class=\"colab-df-container\">\n",
       "      <div>\n",
       "<style scoped>\n",
       "    .dataframe tbody tr th:only-of-type {\n",
       "        vertical-align: middle;\n",
       "    }\n",
       "\n",
       "    .dataframe tbody tr th {\n",
       "        vertical-align: top;\n",
       "    }\n",
       "\n",
       "    .dataframe thead th {\n",
       "        text-align: right;\n",
       "    }\n",
       "</style>\n",
       "<table border=\"1\" class=\"dataframe\">\n",
       "  <thead>\n",
       "    <tr style=\"text-align: right;\">\n",
       "      <th></th>\n",
       "      <th>default</th>\n",
       "      <th>balance</th>\n",
       "      <th>income</th>\n",
       "    </tr>\n",
       "  </thead>\n",
       "  <tbody>\n",
       "    <tr>\n",
       "      <th>1</th>\n",
       "      <td>No</td>\n",
       "      <td>729.526495</td>\n",
       "      <td>44361.62507</td>\n",
       "    </tr>\n",
       "    <tr>\n",
       "      <th>2</th>\n",
       "      <td>No</td>\n",
       "      <td>817.180407</td>\n",
       "      <td>12106.13470</td>\n",
       "    </tr>\n",
       "    <tr>\n",
       "      <th>3</th>\n",
       "      <td>No</td>\n",
       "      <td>1073.549164</td>\n",
       "      <td>31767.13895</td>\n",
       "    </tr>\n",
       "    <tr>\n",
       "      <th>4</th>\n",
       "      <td>No</td>\n",
       "      <td>529.250605</td>\n",
       "      <td>35704.49394</td>\n",
       "    </tr>\n",
       "    <tr>\n",
       "      <th>5</th>\n",
       "      <td>No</td>\n",
       "      <td>785.655883</td>\n",
       "      <td>38463.49588</td>\n",
       "    </tr>\n",
       "  </tbody>\n",
       "</table>\n",
       "</div>\n",
       "      <button class=\"colab-df-convert\" onclick=\"convertToInteractive('df-709b38c7-cb7d-4ce0-bf78-ed4316987ed4')\"\n",
       "              title=\"Convert this dataframe to an interactive table.\"\n",
       "              style=\"display:none;\">\n",
       "        \n",
       "  <svg xmlns=\"http://www.w3.org/2000/svg\" height=\"24px\"viewBox=\"0 0 24 24\"\n",
       "       width=\"24px\">\n",
       "    <path d=\"M0 0h24v24H0V0z\" fill=\"none\"/>\n",
       "    <path d=\"M18.56 5.44l.94 2.06.94-2.06 2.06-.94-2.06-.94-.94-2.06-.94 2.06-2.06.94zm-11 1L8.5 8.5l.94-2.06 2.06-.94-2.06-.94L8.5 2.5l-.94 2.06-2.06.94zm10 10l.94 2.06.94-2.06 2.06-.94-2.06-.94-.94-2.06-.94 2.06-2.06.94z\"/><path d=\"M17.41 7.96l-1.37-1.37c-.4-.4-.92-.59-1.43-.59-.52 0-1.04.2-1.43.59L10.3 9.45l-7.72 7.72c-.78.78-.78 2.05 0 2.83L4 21.41c.39.39.9.59 1.41.59.51 0 1.02-.2 1.41-.59l7.78-7.78 2.81-2.81c.8-.78.8-2.07 0-2.86zM5.41 20L4 18.59l7.72-7.72 1.47 1.35L5.41 20z\"/>\n",
       "  </svg>\n",
       "      </button>\n",
       "      \n",
       "  <style>\n",
       "    .colab-df-container {\n",
       "      display:flex;\n",
       "      flex-wrap:wrap;\n",
       "      gap: 12px;\n",
       "    }\n",
       "\n",
       "    .colab-df-convert {\n",
       "      background-color: #E8F0FE;\n",
       "      border: none;\n",
       "      border-radius: 50%;\n",
       "      cursor: pointer;\n",
       "      display: none;\n",
       "      fill: #1967D2;\n",
       "      height: 32px;\n",
       "      padding: 0 0 0 0;\n",
       "      width: 32px;\n",
       "    }\n",
       "\n",
       "    .colab-df-convert:hover {\n",
       "      background-color: #E2EBFA;\n",
       "      box-shadow: 0px 1px 2px rgba(60, 64, 67, 0.3), 0px 1px 3px 1px rgba(60, 64, 67, 0.15);\n",
       "      fill: #174EA6;\n",
       "    }\n",
       "\n",
       "    [theme=dark] .colab-df-convert {\n",
       "      background-color: #3B4455;\n",
       "      fill: #D2E3FC;\n",
       "    }\n",
       "\n",
       "    [theme=dark] .colab-df-convert:hover {\n",
       "      background-color: #434B5C;\n",
       "      box-shadow: 0px 1px 3px 1px rgba(0, 0, 0, 0.15);\n",
       "      filter: drop-shadow(0px 1px 2px rgba(0, 0, 0, 0.3));\n",
       "      fill: #FFFFFF;\n",
       "    }\n",
       "  </style>\n",
       "\n",
       "      <script>\n",
       "        const buttonEl =\n",
       "          document.querySelector('#df-709b38c7-cb7d-4ce0-bf78-ed4316987ed4 button.colab-df-convert');\n",
       "        buttonEl.style.display =\n",
       "          google.colab.kernel.accessAllowed ? 'block' : 'none';\n",
       "\n",
       "        async function convertToInteractive(key) {\n",
       "          const element = document.querySelector('#df-709b38c7-cb7d-4ce0-bf78-ed4316987ed4');\n",
       "          const dataTable =\n",
       "            await google.colab.kernel.invokeFunction('convertToInteractive',\n",
       "                                                     [key], {});\n",
       "          if (!dataTable) return;\n",
       "\n",
       "          const docLinkHtml = 'Like what you see? Visit the ' +\n",
       "            '<a target=\"_blank\" href=https://colab.research.google.com/notebooks/data_table.ipynb>data table notebook</a>'\n",
       "            + ' to learn more about interactive tables.';\n",
       "          element.innerHTML = '';\n",
       "          dataTable['output_type'] = 'display_data';\n",
       "          await google.colab.output.renderOutput(dataTable, element);\n",
       "          const docLink = document.createElement('div');\n",
       "          docLink.innerHTML = docLinkHtml;\n",
       "          element.appendChild(docLink);\n",
       "        }\n",
       "      </script>\n",
       "    </div>\n",
       "  </div>\n",
       "  "
      ],
      "text/plain": [
       "  default      balance       income\n",
       "1      No   729.526495  44361.62507\n",
       "2      No   817.180407  12106.13470\n",
       "3      No  1073.549164  31767.13895\n",
       "4      No   529.250605  35704.49394\n",
       "5      No   785.655883  38463.49588"
      ]
     },
     "execution_count": 5,
     "metadata": {},
     "output_type": "execute_result"
    }
   ],
   "source": [
    "df_default = pd.read_csv(\"./week-07/Data/Default.csv\", index_col=0)\n",
    "\n",
    "# for now lets just drop the student varible.\n",
    "df_default = df_default.drop(\"student\", axis=1)\n",
    "df_default.head()"
   ]
  },
  {
   "cell_type": "markdown",
   "metadata": {
    "id": "izo4A3SSvZ7t"
   },
   "source": [
    "We will begin by doing explanatory data analysis to examine the data set itself"
   ]
  },
  {
   "cell_type": "markdown",
   "metadata": {
    "cell_id": "00005-da6d5f4b-bf6b-43f7-9751-a015e6a9924e",
    "deepnote_cell_type": "markdown",
    "id": "50AbKP76vZ7u"
   },
   "source": [
    "---\n",
    "\n",
    "### 🚩 Exercise 1\n",
    "\n",
    "Examine the structure of the data. Answer the following questions simply;\n",
    "\n",
    "1. Do you observe anything of note from descriptive statistics that may influence our models?\n",
    "2.  Are there any missing values? \n",
    "3. Look at how the varibles relate to each other (Response: Default, Predictors: Balance and Income)"
   ]
  },
  {
   "cell_type": "code",
   "execution_count": null,
   "metadata": {
    "cell_id": "00006-4d9907ea-c7c7-4c16-aee7-5e12c3e00cc1",
    "colab": {
     "base_uri": "https://localhost:8080/"
    },
    "deepnote_cell_type": "code",
    "id": "-mG-rvtrvZ7u",
    "outputId": "0157f0a0-bd06-4453-fe0f-18b234dfe9d5",
    "output_cleared": true
   },
   "outputs": [
    {
     "name": "stdout",
     "output_type": "stream",
     "text": [
      "<class 'pandas.core.frame.DataFrame'>\n",
      "Int64Index: 10000 entries, 1 to 10000\n",
      "Data columns (total 3 columns):\n",
      " #   Column   Non-Null Count  Dtype  \n",
      "---  ------   --------------  -----  \n",
      " 0   default  10000 non-null  object \n",
      " 1   balance  10000 non-null  float64\n",
      " 2   income   10000 non-null  float64\n",
      "dtypes: float64(2), object(1)\n",
      "memory usage: 312.5+ KB\n",
      "None\n",
      "           count          mean           std         min           25%  \\\n",
      "balance  10000.0    835.374886    483.714985    0.000000    481.731105   \n",
      "income   10000.0  33516.981876  13336.639563  771.967729  21340.462905   \n",
      "\n",
      "                  50%           75%           max  \n",
      "balance    823.636973   1166.308387   2654.322576  \n",
      "income   34552.644800  43807.729275  73554.233500  \n",
      "default    0\n",
      "balance    0\n",
      "income     0\n",
      "dtype: int64\n"
     ]
    }
   ],
   "source": [
    "#About data info \n",
    "print(df_default.info())\n",
    "\n",
    "# Some descriptive statistics\n",
    "# We invoke the .T to transpose the matrix for better viewing \n",
    "print(df_default.describe().T)\n",
    "\n",
    "# Checking the missing values\n",
    "print(df_default.isnull().sum())\n"
   ]
  },
  {
   "cell_type": "markdown",
   "metadata": {
    "cell_id": "00007-a3d1594c-000b-48dd-b347-dfa5410fe0a7",
    "deepnote_cell_type": "markdown",
    "id": "01HS3aS8vZ7u"
   },
   "source": [
    "---\n",
    "\n",
    "Firstly, the range of the features should be considered carefully since their scale is different. For that reason, classical StandardScaler can be used before using in the model construction. Apart from that, there is no missing value to deal with.  "
   ]
  },
  {
   "cell_type": "code",
   "execution_count": null,
   "metadata": {
    "colab": {
     "base_uri": "https://localhost:8080/",
     "height": 402
    },
    "id": "LMaa0tcaXmz2",
    "outputId": "d4f05757-c436-4c90-dcb7-00d646773b9b"
   },
   "outputs": [
    {
     "data": {
      "image/png": "[encoded data removed]",
      "text/plain": [
       "<Figure size 1200x400 with 3 Axes>"
      ]
     },
     "metadata": {
      "needs_background": "light"
     },
     "output_type": "display_data"
    }
   ],
   "source": [
    "# How variables are related to each other \n",
    "\n",
    "balance_label = \"Monthly Credit Card Balance\"\n",
    "income_label = \"Annual Income\"\n",
    "default_label = \"Default\"\n",
    "\n",
    "fig, axes = plt.subplots(ncols = 3, figsize=(15,5))\n",
    "\n",
    "# Main scatterplots and boxplots for each feature in terms of response \n",
    "sns.scatterplot(data = df_default[df_default['default']==\"No\"], x = \"balance\", y=\"income\", hue=\"default\", palette='Blues',ax=axes[0])\n",
    "sns.scatterplot(data = df_default[df_default['default']==\"Yes\"], x = \"balance\", y=\"income\",hue=\"default\", palette='Oranges',ax=axes[0])\n",
    "sns.boxplot(data = df_default, x = \"default\", y=\"balance\", ax=axes[1])\n",
    "sns.boxplot(data = df_default, x = \"default\", y=\"income\", ax=axes[2])\n",
    "\n",
    "axes[0].legend(title=default_label)\n",
    "axes[0].set_xlabel(balance_label)\n",
    "axes[0].set_ylabel(income_label)\n",
    "axes[1].set_xlabel(default_label)\n",
    "axes[1].set_ylabel(balance_label)\n",
    "axes[2].set_xlabel(default_label)\n",
    "axes[2].set_ylabel(income_label)\n",
    "\n",
    "plt.suptitle(\"Annual Income and Monthly Credit Card Balance on Credit Card Payment Defaulting\")\n",
    "plt.tight_layout()\n",
    "plt.show()"
   ]
  },
  {
   "cell_type": "markdown",
   "metadata": {
    "id": "f0d-kRzcYHpY"
   },
   "source": [
    "*It appears that individuals who defaulted tended to have higher credit card \n",
    "balances than those who did not.\"* In terms of the annual income, the variability is higher for the individiauls who did not default compared to defaulted ones. Different scales for the features can be seen in the boxplots as well (y-axis values). Additionally, in the scatter plot there is an indication that the classical linear classification tool might be limited because of how the points are spreaded out (Just to keep in mind, not for changing the model structure)"
   ]
  },
  {
   "cell_type": "markdown",
   "metadata": {
    "id": "O6TMeCFgAJVt"
   },
   "source": [
    "---\n",
    "\n",
    "### 🚩 Exercise 2\n",
    "\n",
    "1. Lets now create our feature matrix and response varible.\n",
    "2.  Split the data into training and test sets (**Is there anything you should try account for when splitting the data ?**)\n",
    "3. Convert your response variable into the numerical format\n",
    "\n"
   ]
  },
  {
   "cell_type": "code",
   "execution_count": null,
   "metadata": {
    "colab": {
     "base_uri": "https://localhost:8080/"
    },
    "id": "4uXm-tSMU35h",
    "outputId": "da50ffe1-2213-4c04-9b56-cd94a259a520"
   },
   "outputs": [
    {
     "name": "stdout",
     "output_type": "stream",
     "text": [
      "(10000, 2)\n",
      "(10000,)\n",
      "Class Distribution (%)\n"
     ]
    },
    {
     "data": {
      "text/plain": [
       "No     96.67\n",
       "Yes     3.33\n",
       "Name: default, dtype: float64"
      ]
     },
     "execution_count": 8,
     "metadata": {},
     "output_type": "execute_result"
    }
   ],
   "source": [
    "# Feature matrix and response separation \n",
    "data_x, data_y = df_default.drop(['default'], axis=1), df_default['default']\n",
    "\n",
    "print(data_x.shape)\n",
    "print(data_y.shape)\n",
    "\n",
    "# Before Splitting the data set \n",
    "print(\"Class Distribution (%)\")\n",
    "# get our null accuracy rate \n",
    "data_y.value_counts(normalize=True)*100"
   ]
  },
  {
   "cell_type": "markdown",
   "metadata": {
    "id": "4xhjuXdcvZ7v"
   },
   "source": [
    "---\n",
    "\n",
    "As can be seen above, we have an imbalance data problem in our responce varible which we should try keep proportional in our test set. For this reason, you need to use the additional argument inside of `train_test_split` function, stratify in terms of the response data set. Otherwise, without stratify argument, the class proportions in train and testing will be different and it might be problem for building the model on imbalanced data set, like default\n",
    "\n",
    "Afterwars, we will be careful about that while we are measuring the performance of the model later !\n",
    "\n",
    "\n",
    "`"
   ]
  },
  {
   "cell_type": "code",
   "execution_count": null,
   "metadata": {
    "colab": {
     "base_uri": "https://localhost:8080/"
    },
    "id": "9TntOyeIW6ri",
    "outputId": "cb49f81a-7a09-4e57-9bd9-8193b6161af3"
   },
   "outputs": [
    {
     "name": "stdout",
     "output_type": "stream",
     "text": [
      "No     96.666667\n",
      "Yes     3.333333\n",
      "dtype: float64\n",
      "No     96.7\n",
      "Yes     3.3\n",
      "dtype: float64\n"
     ]
    }
   ],
   "source": [
    "from sklearn.model_selection import train_test_split\n",
    "\n",
    "features = list(data_x.columns)\n",
    "X_train, X_test, y_train, y_test = train_test_split(data_x.values, data_y.values, stratify = data_y, \n",
    "                                                    test_size = 0.1, random_state=42)\n",
    "\n",
    "\n",
    "# TO CHECK: The same proportion is satisfied for both train and test data sets \n",
    "print(pd.Series(y_train).value_counts(normalize=True)*100)\n",
    "print(pd.Series(y_test).value_counts(normalize=True)*100)"
   ]
  },
  {
   "cell_type": "code",
   "execution_count": null,
   "metadata": {
    "colab": {
     "base_uri": "https://localhost:8080/"
    },
    "id": "E6uPA1kPZepy",
    "outputId": "a4217e17-dc91-494e-8c27-55fe784561e3"
   },
   "outputs": [
    {
     "data": {
      "text/plain": [
       "(array([0, 0, 0, 0, 0, 0, 0, 0, 0, 0]), array([0, 0, 0, 0, 0, 0, 0, 0, 1, 0]))"
      ]
     },
     "execution_count": 10,
     "metadata": {},
     "output_type": "execute_result"
    }
   ],
   "source": [
    "#Converting the response variable \n",
    "from sklearn.preprocessing import LabelEncoder\n",
    "\n",
    "LE = LabelEncoder()\n",
    "y_train = LE.fit_transform(y_train)\n",
    "y_test = LE.transform(y_test)\n",
    "\n",
    "#Some of the observations that we have, type is numpy array so be careful about the use of head !\n",
    "y_train[:10],y_test[:10]\n"
   ]
  },
  {
   "cell_type": "markdown",
   "metadata": {
    "cell_id": "00022-28a7a9d1-e95b-47b7-a31c-9b247c628087",
    "deepnote_cell_type": "markdown",
    "id": "whGvNh8TFUrA"
   },
   "source": [
    "---\n",
    "\n",
    "### 🚩 Exercise 3\n",
    "\n",
    "Fit a binary logistic regression model to the training data by using both balance and income as features, without any regularization. State the the accuracy score of the model over the testing data\n",
    "\n",
    "For the details of the function check out \n",
    "https://scikit-learn.org/stable/modules/generated/sklearn.linear_model.LogisticRegression.html"
   ]
  },
  {
   "cell_type": "code",
   "execution_count": null,
   "metadata": {
    "colab": {
     "base_uri": "https://localhost:8080/"
    },
    "id": "mTwma3x-bg8p",
    "outputId": "06f68ad1-006b-4e59-da02-ecdde95ee829"
   },
   "outputs": [
    {
     "name": "stdout",
     "output_type": "stream",
     "text": [
      "0.974\n"
     ]
    }
   ],
   "source": [
    "from sklearn.linear_model import LogisticRegression\n",
    "logfit = LogisticRegression(random_state=42, penalty=\"none\").fit(X_train, y_train)\n",
    "\n",
    "# print(logfit.get_params())\n",
    "\n",
    "print(logfit.score(X_test,y_test))\n"
   ]
  },
  {
   "cell_type": "markdown",
   "metadata": {
    "id": "J1zpwO_LE4q8"
   },
   "source": [
    "This result is a bit expected because of the imbalance data problem. If we just look at the accuracy, we can miss the FP ratios so that the accuracy checking is not enough. We will have a look at the confusion matrix details."
   ]
  },
  {
   "cell_type": "markdown",
   "metadata": {
    "id": "taUDXWD5C3mw"
   },
   "source": [
    "## Model Predictions\n",
    "\n",
    "Unlike with our previous regression models, the fitted LogisticRegression objects provide multiple prediction methods. Specifically: predict which predicts the class label (either 0 or 1), predict_proba which predicts the class probabilities, and predict_log_proba which predicts the log probabilities of each class\n"
   ]
  },
  {
   "cell_type": "markdown",
   "metadata": {
    "cell_id": "00022-28a7a9d1-e95b-47b7-a31c-9b247c628087",
    "deepnote_cell_type": "markdown",
    "id": "ZecdeX9yQdVh"
   },
   "source": [
    "---\n",
    "\n",
    "### 🚩 Exercise 4\n",
    "\n",
    "Based on the above fitted logistic regression model, calculate\n",
    "\n",
    "1. the predictions of the class probabilities\n",
    "2. Calculate the mean squared error, accuracy score, AUC score of your logistic regression model's predictions. The function `mean_squared_error` , `accuracy_score` and `roc_auc_score` from `sklearn.metrics` will be useful for this. See the functions documentation if you need [here](https://scikit-learn.org/stable/modules/classes.html#module-sklearn.metrics)."
   ]
  },
  {
   "cell_type": "code",
   "execution_count": null,
   "metadata": {
    "cell_id": "00023-04722d32-f420-4104-b25b-37656a71df76",
    "colab": {
     "base_uri": "https://localhost:8080/"
    },
    "deepnote_cell_type": "code",
    "id": "3Mxs7ORhvZ71",
    "outputId": "70d436f3-0be3-407b-a79d-63953ddaf972",
    "output_cleared": true
   },
   "outputs": [
    {
     "name": "stdout",
     "output_type": "stream",
     "text": [
      "[[9.98782554e-01 1.21744641e-03]\n",
      " [9.99788693e-01 2.11307383e-04]\n",
      " [9.38444407e-01 6.15555925e-02]\n",
      " ...\n",
      " [9.84910073e-01 1.50899269e-02]\n",
      " [9.99659584e-01 3.40416290e-04]\n",
      " [9.96903740e-01 3.09625950e-03]]\n"
     ]
    }
   ],
   "source": [
    "# For class probabilities\n",
    "print(logfit.predict_proba(X_test))\n"
   ]
  },
  {
   "cell_type": "markdown",
   "metadata": {
    "id": "JFDlqaJrFhv8"
   },
   "source": [
    "Based on the calculated class probability predictions, our model always predicted the response as 0 (generally, larger values in the first column and very small probabilities in the second column)"
   ]
  },
  {
   "cell_type": "code",
   "execution_count": null,
   "metadata": {
    "colab": {
     "base_uri": "https://localhost:8080/"
    },
    "id": "BpPuk45CjApF",
    "outputId": "a0afc98f-00c4-4300-a3eb-446f59bc1b90"
   },
   "outputs": [
    {
     "name": "stdout",
     "output_type": "stream",
     "text": [
      "MSE of the fitted model: 0.026\n",
      "Accuracy of the fitted model: 0.974\n",
      "AUC of the fitted model: 0.679232866409702\n"
     ]
    }
   ],
   "source": [
    "# Necessary packages\n",
    "from sklearn.metrics import mean_squared_error\n",
    "from sklearn.metrics import accuracy_score\n",
    "from sklearn.metrics import roc_auc_score\n",
    "\n",
    "#In terms of testing data \n",
    "print(\"MSE of the fitted model:\", mean_squared_error(y_test, logfit.predict(X_test)))\n",
    "print(\"Accuracy of the fitted model:\", accuracy_score(y_test, logfit.predict(X_test)))\n",
    "print(\"AUC of the fitted model:\", roc_auc_score(y_test, logfit.predict(X_test)))\n",
    "\n",
    "#In terms of valid data "
   ]
  },
  {
   "cell_type": "markdown",
   "metadata": {
    "id": "1YSaD5BE1C7z"
   },
   "source": [
    "If we just look at the accuracy of the model we will interpreted the result incorrect because of the imbalanced data set problem. While MSE is low and AUC seems reasonable rather than the model at a chance, we need to check the quantities in confusion matrix for fair assessment. Besides, the above model used only one training data set, so we need cross-validation idea to see the differences when we change the training / testing data set partitioning "
   ]
  },
  {
   "cell_type": "markdown",
   "metadata": {
    "cell_id": "00022-28a7a9d1-e95b-47b7-a31c-9b247c628087",
    "deepnote_cell_type": "markdown",
    "id": "z4NLHMUEdKxP"
   },
   "source": [
    "---\n",
    "\n",
    "### 🚩 Exercise 5\n",
    "\n",
    "Create a pipeline for the logistic regression model simply. Consider 5-fold Cross Validation for this calculation and use the helper function tidy_scores() created above for average score calculation"
   ]
  },
  {
   "cell_type": "code",
   "execution_count": null,
   "metadata": {
    "colab": {
     "base_uri": "https://localhost:8080/"
    },
    "id": "FkxWFWEVjecw",
    "outputId": "5c04e1af-8109-4c6c-8a75-ffd15152d78d"
   },
   "outputs": [
    {
     "name": "stdout",
     "output_type": "stream",
     "text": [
      "      fit_time  score_time  val_score  train_score\n",
      "fold                                              \n",
      "0         0.03         0.0       0.97         0.97\n",
      "1         0.02         0.0       0.97         0.97\n",
      "2         0.02         0.0       0.97         0.97\n",
      "3         0.02         0.0       0.97         0.97\n",
      "4         0.02         0.0       0.98         0.97\n",
      "mean      0.02         0.0       0.97         0.97\n",
      "sd        0.00         0.0       0.00         0.00\n",
      "      fit_time  score_time  val_score  train_score\n",
      "fold                                              \n",
      "mean      0.02         0.0       0.97         0.97\n",
      "sd        0.00         0.0       0.00         0.00\n"
     ]
    }
   ],
   "source": [
    "from sklearn.model_selection import cross_validate\n",
    "from sklearn.linear_model import LogisticRegression\n",
    "from sklearn.pipeline import Pipeline  # combining classifier steps\n",
    "\n",
    "# One can add more model in the dictionary\n",
    "model_dict = {\"log\": LogisticRegression(random_state=42, penalty=\"none\")}\n",
    "\n",
    "#print(model_dict[model_name]) \n",
    "\n",
    "for model_name in model_dict:\n",
    "    linear_pipe = Pipeline([\n",
    "        (\"scaler\", StandardScaler()),\n",
    "        (\"model\", model_dict[model_name])])\n",
    "    \n",
    "scores = tidy_scores(cross_validate(linear_pipe, X_train, y_train, cv=5, return_train_score=True))\n",
    "\n",
    "# For all CV results\n",
    "print(scores)\n",
    "\n",
    "#Just the mean and sd values overall\n",
    "print(scores.loc[['mean', 'sd']])"
   ]
  },
  {
   "cell_type": "markdown",
   "metadata": {
    "id": "2uoEYNyw0Jfm"
   },
   "source": [
    "## Performance Metrics\n",
    "\n",
    "A binary classifier can make two types of errors:\n",
    "\n",
    "- Incorrectly assign an individual __who defaults__ to the __no default__ category.\n",
    "- Incorrectly assign an individual who __does not default__ to the __default__ category.\n",
    "\n",
    "While the overall error rate is low, the error rate among individuals who defaulted is very high. From the perspective of a credit card company that is trying to identify high-risk individuals, this error rate among individuals who default may well be unacceptable."
   ]
  },
  {
   "cell_type": "markdown",
   "metadata": {
    "id": "Szq6fbGf05A9"
   },
   "source": [
    "---\n",
    "\n",
    "### 🚩 Exercise 6\n",
    "\n",
    "Derive the confusion matrix for the logistic regression model with two predictors by following the below pipeline. Afterwards, derive the followings;\n",
    "\n",
    "1. False Positive Rate (FPR)\n",
    "2. True Positive Rate (Recall)\n",
    "3. Precision\n",
    "4. F1-score\n",
    "\n",
    "without using any additional built-in function from any module (You need to recall the definitions from our notes) \n",
    "\n",
    "Note that,\n",
    "\n",
    "$$\n",
    "\\text{FPR} = \\frac{\\text{FP}}{\\text{FP}+ \\text{TN}}\n",
    "$$\n",
    "\n",
    "$$\n",
    "\\text{Recall} = \\frac{\\text{TP}}{\\text{TP}+ \\text{FN}}\n",
    "$$\n",
    "\n",
    "$$\n",
    "\\text{Precision} = \\frac{\\text{TP}}{\\text{TP}+ \\text{FP}}\n",
    "$$\n",
    "\n",
    "$$\n",
    "F1 = 2\\left(\\frac{Precision \\times Recall}{Precision + Recall}\\right)\n",
    "$$\n",
    "\n",
    "What can you say about the model performance in terms of Confusion Matrix and obtained quantities ? Be careful about the locations of true and estimated class labels in the output figure !!!"
   ]
  },
  {
   "cell_type": "code",
   "execution_count": null,
   "metadata": {
    "cell_id": "00025-67f4357b-0a2c-46a2-90f1-8a75e8b62e2f",
    "colab": {
     "base_uri": "https://localhost:8080/",
     "height": 326
    },
    "deepnote_cell_type": "code",
    "id": "xuICvR2OvZ72",
    "outputId": "e12f06a7-ca2a-4f6c-dd4c-c95892861ae3",
    "output_cleared": true
   },
   "outputs": [
    {
     "data": {
      "image/png": "[encoded data removed]",
      "text/plain": [
       "<Figure size 320x320 with 1 Axes>"
      ]
     },
     "metadata": {
      "needs_background": "light"
     },
     "output_type": "display_data"
    }
   ],
   "source": [
    "from sklearn.metrics import confusion_matrix\n",
    "\n",
    "log_pipe = Pipeline([\n",
    "        (\"scaler\", StandardScaler()),\n",
    "        (\"model\", LogisticRegression(random_state=42, penalty = \"none\"))])\n",
    "\n",
    "log_pipe.fit(X_train, y_train)\n",
    "\n",
    "# use the classifier to predict the validation set    \n",
    "# predictions = log_pipe.predict(X_val)\n",
    "predictions = log_pipe.predict(X_test)\n",
    "\n",
    "# get the confusion matrix as a numpy array\n",
    "#confmat = confusion_matrix(y_true=y_val, y_pred=predictions)\n",
    "confmat = confusion_matrix(y_true = y_test, y_pred=predictions)\n",
    "\n",
    "# Just a direct output for the confusion matrix  \n",
    "# confmat\n",
    "\n",
    "# use the pretty function to make it nicer, you can give some name for LE.classes_ inside of the function\n",
    "pretty_confusion_matrix(confmat, LE.classes_, \"\",  labeling=True)"
   ]
  },
  {
   "cell_type": "code",
   "execution_count": null,
   "metadata": {
    "colab": {
     "base_uri": "https://localhost:8080/",
     "height": 395
    },
    "id": "UQrDeC8O8-Nf",
    "outputId": "070dea76-0e8e-47e0-cf81-f7d50180d963"
   },
   "outputs": [
    {
     "data": {
      "image/png": "[encoded data removed]",
      "text/plain": [
       "<Figure size 320x320 with 1 Axes>"
      ]
     },
     "metadata": {
      "needs_background": "light"
     },
     "output_type": "display_data"
    },
    {
     "name": "stdout",
     "output_type": "stream",
     "text": [
      "False Positive Rate (FPR): 0.005\n",
      "Recall: 0.364\n",
      "Precision: 0.706\n",
      "F1 Score: 0.480\n"
     ]
    }
   ],
   "source": [
    "FP_i = [0,1]\n",
    "TN_i = [0,0]\n",
    "TP_i = [1,1]\n",
    "FN_i = [1,0]\n",
    "\n",
    "# Extracting the quantities from the confusion matrix \n",
    "FP = confmat[0,1]\n",
    "TN = confmat[0,0]\n",
    "TP = confmat[1,1]\n",
    "FN = confmat[1,0]\n",
    "\n",
    "#Calculation of FPR, Recall, Precision and F1 Score\n",
    "# FPR\n",
    "FPR = (FP)/(FP+TN)\n",
    "# Recall\n",
    "Recall = (TP)/(TP+FN)\n",
    "# Precision\n",
    "Precision = (TP)/(FP+TP)\n",
    "# F1 Score\n",
    "F1 = 2 * (Precision * Recall)/(Precision + Recall)\n",
    "\n",
    "\n",
    "pretty_confusion_matrix(confmat, LE.classes_, \"\",\n",
    "                        labeling=True, highlight_indexes = [FP_i,FN_i,TP_i,TN_i])\n",
    "\n",
    "print('False Positive Rate (FPR): '+ '%.3f' % FPR)\n",
    "print('Recall: '+ '%.3f' % Recall)\n",
    "print('Precision: '+ '%.3f' % Precision)\n",
    "print('F1 Score: '+ '%.3f' % F1)\n"
   ]
  },
  {
   "cell_type": "markdown",
   "metadata": {
    "id": "Ruvl0mkhF8xL"
   },
   "source": [
    "Here, the confusion matrix content implies an important issue about the values of FN. Basically, FN > TP in that output, as a result Recall value is really small for that logistic fit trial. Because of the that F1 score is also around 0.5. Since we have the imbalanced data set, somehow we need to improve our model in a way that more reasonable Recall value should be derived at the end (Increasing TP and decreasing FN values, of course it can effect TN, FP values based on the our search)"
   ]
  },
  {
   "cell_type": "markdown",
   "metadata": {
    "hideCode": false,
    "hidePrompt": false,
    "id": "tSdhFuuUjecy"
   },
   "source": [
    "**F1-score**\n",
    "\n",
    "- F1-score is a combination of Recall and Precision. \n",
    "- It is typically used when there is an __uneven class distribution__ due to a large number of True Negatives that you are not as focused on. \n",
    "\n",
    "$$\n",
    "F1 = 2\\left(\\frac{PRE \\times REC}{PRE + REC}\\right)\n",
    "$$\n",
    "\n",
    "__Notes__\n",
    "\n",
    "- Using `sklearn.metrics` this can be gained using `f1_score(y_true=y_val, y_pred=predictions)`"
   ]
  },
  {
   "cell_type": "markdown",
   "metadata": {
    "id": "K7foBrtx5DXO"
   },
   "source": [
    "---\n",
    "\n",
    "### 🚩 Exercise 7\n",
    "\n",
    "1. Calculate the $F1$ score using *f1_score* function for the logistic regression model with two predictors and compare your result with your calculation obtained in Q4 in Exercise 5 above ! \n",
    "2. Draw ROC and Precision-Recall Curve for the same model. Explain the obtained graphical results and state the difference.  "
   ]
  },
  {
   "cell_type": "code",
   "execution_count": null,
   "metadata": {
    "colab": {
     "base_uri": "https://localhost:8080/"
    },
    "id": "ClWZ7isN5ekk",
    "outputId": "a64b0f2a-09d4-463a-be66-b8236f91e923"
   },
   "outputs": [
    {
     "data": {
      "text/plain": [
       "0.48000000000000004"
      ]
     },
     "execution_count": 17,
     "metadata": {},
     "output_type": "execute_result"
    }
   ],
   "source": [
    "# By using the available function\n",
    "from sklearn.metrics import f1_score\n",
    "\n",
    "f1_score(y_true=y_test, y_pred=predictions)\n"
   ]
  },
  {
   "cell_type": "code",
   "execution_count": null,
   "metadata": {
    "colab": {
     "base_uri": "https://localhost:8080/",
     "height": 470
    },
    "id": "FxFFuv_xosmT",
    "outputId": "d2bf1b87-7340-4e1c-d2cd-51ad5e90dec1"
   },
   "outputs": [
    {
     "name": "stdout",
     "output_type": "stream",
     "text": [
      "   false positive rate  true positive rate  threshold\n",
      "0             0.000000            0.000000        2.0\n",
      "1             0.005171            0.363636        1.0\n",
      "2             1.000000            1.000000        0.0\n",
      "AUC value: 0.679232866409702\n"
     ]
    },
    {
     "data": {
      "image/png": "[encoded data removed]",
      "text/plain": [
       "<Figure size 640x400 with 1 Axes>"
      ]
     },
     "metadata": {
      "needs_background": "light"
     },
     "output_type": "display_data"
    }
   ],
   "source": [
    "# Compute ROC curve and ROC area for each class\n",
    "from sklearn.metrics import roc_curve, precision_recall_curve\n",
    "\n",
    "roc_calc = roc_curve(y_true = y_test, y_score = predictions)\n",
    "roc = pd.DataFrame(\n",
    "    data = np.c_[roc_calc],\n",
    "    columns = ('false positive rate', 'true positive rate', 'threshold')\n",
    ")\n",
    "\n",
    "# Values for ROC based on different threshold \n",
    "print(roc)\n",
    "\n",
    "#Print the related AUC value \n",
    "print(\"AUC value:\", roc_auc_score(y_true = y_test, y_score = predictions))\n",
    "\n",
    "#ROC curve drawing by using the helper function roc_plot above\n",
    "\n",
    "roc_plot(threshold=0.5)\n"
   ]
  },
  {
   "cell_type": "markdown",
   "metadata": {
    "id": "D_TvV-33e2OD"
   },
   "source": [
    "Using this data frame, the function below creates the ROC curve (blue) via a seaborn lineplot, while the remaining code draws the point on the ROC curve that corresponds to the given threshold value (red), and finally the 0-1 line (grey, dashed)"
   ]
  },
  {
   "cell_type": "markdown",
   "metadata": {
    "id": "6DykSreqfbSi"
   },
   "source": [
    "As we decrease the threshold, the red dot moves up and to the right - this makes sense as increasing this threshold will increase both the TPR and the FPR."
   ]
  },
  {
   "cell_type": "code",
   "execution_count": null,
   "metadata": {
    "colab": {
     "base_uri": "https://localhost:8080/",
     "height": 383
    },
    "id": "5ydJ0X9tmYhe",
    "outputId": "79c0c4b1-00e8-478d-8d45-82054996bb03"
   },
   "outputs": [
    {
     "data": {
      "image/png": "[encoded data removed]",
      "text/plain": [
       "<Figure size 640x400 with 1 Axes>"
      ]
     },
     "metadata": {
      "needs_background": "light"
     },
     "output_type": "display_data"
    }
   ],
   "source": [
    "#precision_recall_curve(y_val, predictions)\n",
    "from sklearn.metrics import PrecisionRecallDisplay\n",
    "\n",
    "display = PrecisionRecallDisplay.from_estimator(log_pipe, X_test, y_test, name=\"LogisticRegression\")\n",
    "_ = display.ax_.set_title(\"2-class Precision-Recall curve\")\n",
    "\n",
    "# OR Alternatively \n",
    "# using the classifier.decision_function\n",
    "# classifier = log_pipe\n",
    "# y_score = classifier.decision_function(X_test)\n",
    "\n",
    "# display = PrecisionRecallDisplay.from_predictions(y_test, y_score, name=\"LogisticRegression\")\n",
    "# _ = display.ax_.set_title(\"2-class Precision-Recall curve\")"
   ]
  },
  {
   "cell_type": "markdown",
   "metadata": {
    "id": "ZqZpAT1MxolL"
   },
   "source": [
    "---\n",
    "\n",
    "**!!! Add your comments here !!!**\n"
   ]
  },
  {
   "cell_type": "markdown",
   "metadata": {
    "id": "9y-dXbVP6v1F"
   },
   "source": [
    "__Notes__\n",
    "\n",
    "- For further reading on different performance metrics see David M. W. Powers' technical report [Evaluation: From Precision,  Recall and F-Factor to ROC, Informedness, Markedness & Correlation](https://arxiv.org/ftp/arxiv/papers/2010/2010.16061.pdf)"
   ]
  },
  {
   "cell_type": "markdown",
   "metadata": {
    "id": "g39XnifVPKWy"
   },
   "source": [
    "## Model Refinement\n",
    "\n",
    "For those coming from other programming / modeling languages this may be somewhat surprising, this strange default is probably the most common reason that results from sklearn might not immediately match results from other tools. This behavior can be explicitly controlled via the penalty argument. Note that if you did wish to include a penalty on the coefficients then just like with ridge or lasso it is necessary to tune this penalty parameter. However, `LogisticRegression` does not use alpha for this tuning parameter but instead uses $C$ which is the inverse of the alpha we have been using - i.e. smaller values of $C$ imply more regularization.\n",
    "\n",
    "For our logistic regression model, lets start by looking at the effects of changing the regularization strength ($C$). Note that the default value is \n",
    "$C = 1.0$ in `LogisticRegression` function.\n"
   ]
  },
  {
   "cell_type": "markdown",
   "metadata": {
    "id": "cjuQg3ty7XYG"
   },
   "source": [
    "---\n",
    "\n",
    "### 🚩 Exercise 8\n",
    "\n",
    "1. By completing the following the following code, derive the related graph. Based on the graphical output, discuss the effects of changing the regularization strength( $C$ ) shortly. "
   ]
  },
  {
   "cell_type": "code",
   "execution_count": null,
   "metadata": {
    "colab": {
     "base_uri": "https://localhost:8080/",
     "height": 409
    },
    "hideCode": false,
    "hidePrompt": false,
    "id": "AMIeAU0kjec1",
    "outputId": "59ef7848-6919-4036-a955-74fb1f63c540"
   },
   "outputs": [],
   "source": [
    "from mlxtend.plotting import plot_decision_regions\n",
    "scatter_kwargs = {'edgecolor': None, 'alpha': 0.7}\n",
    "contourf_kwargs = {'alpha': 0.2}\n",
    "scatter_highlight_kwargs = {'s': 120, 'label': 'Validation data', 'alpha': 0.7}\n",
    "\n",
    "with warnings.catch_warnings():\n",
    "    warnings.simplefilter(\"ignore\")\n",
    "    \n",
    "    fig, axes = plt.subplots(figsize=(15,5), ncols=2, nrows = 2)\n",
    "    axes = axes.flatten()\n",
    "    \n",
    "    for i, c in enumerate([0.01, 0.05, 1., 10.]):\n",
    "        \n",
    "        log_pipe = Pipeline([\n",
    "            (\"scaler\", StandardScaler()),\n",
    "            (\"model\", LogisticRegression(C = c, random_state=42))])\n",
    "\n",
    "        log_pipe.fit(X_train, y_train)\n",
    "    \n",
    "        plot_decision_regions(X_train, y_train, clf = log_pipe, \n",
    "                              legend = 2, X_highlight = X_test[y_test==1],\n",
    "                              contourf_kwargs = contourf_kwargs,\n",
    "                              scatter_kwargs = scatter_kwargs,\n",
    "                              scatter_highlight_kwargs = scatter_highlight_kwargs,\n",
    "                              ax=axes[i]\n",
    "                             )\n",
    "        \n",
    "        axes[i].set_title(\"C = {}\".format(c))\n",
    "        \n",
    "plt.suptitle(\"Logistic Regression Decision Boundaries (Defaulted Validation Data Circled)\")"
   ]
  },
  {
   "cell_type": "markdown",
   "metadata": {
    "id": "eVksc5eXgeV5"
   },
   "source": [
    "Note that the effect of $C$ on the decision boundary for the logistic regression model is easy to visualize above. When we have smaller $C$ values (it means more regularization because of the fact that $C = \\frac{1}{\\lambda}$ and larger $\\lambda$ results in smaller $C$), the boundary of the classifier is getting nearer to the right-hand side. With this movement, the model can distinguish the class label 1 in a more clear way when we change $C$ from 10.0 to 1.0 (The number of blue squares for class 0 is getting smaller in the light-orange region). However, this linear classifier boundary has certain limitations still since there are lots of class label 1's in the blue region, classified as class 0 and vice verse. "
   ]
  },
  {
   "cell_type": "markdown",
   "metadata": {
    "id": "CbITg5nFR3Ww"
   },
   "source": [
    "## Grid Search\n",
    "\n",
    "Before we start searching over hyperparameters, its worth noting that some of the folds may not have the same distribution of the classes. This means we could get a validation score that may be a poor estimate of performance (for example we may have a fold with very few positive classes or more than usual). Therefore when doing our gridsearch/randomsearch, we should use a `StratifiedKFold` to ensure the distribution of classes in our folds reflects the distribution in the larger data."
   ]
  },
  {
   "cell_type": "code",
   "execution_count": null,
   "metadata": {
    "colab": {
     "base_uri": "https://localhost:8080/"
    },
    "hideCode": false,
    "hidePrompt": false,
    "id": "6-PSlWU0jec2",
    "outputId": "65d48f1f-8ec5-444f-ad24-c0a9a97dbe3a"
   },
   "outputs": [
    {
     "name": "stdout",
     "output_type": "stream",
     "text": [
      "   Fold 0  Fold 1  Fold 2  Fold 3  Fold 4\n",
      "0    1734    1735    1749    1745    1737\n",
      "1      66      65      51      55      63\n",
      "   Fold 0  Fold 1  Fold 2  Fold 3  Fold 4\n",
      "0    1740    1740    1740    1740    1740\n",
      "1      60      60      60      60      60\n"
     ]
    }
   ],
   "source": [
    "# Example for n_splits = 5 below\n",
    "# This is about just observing why StratifiedKFold is more suitable and we will use that function below \n",
    "# in the RandomizedSearchCV() function\n",
    "from sklearn.model_selection import GridSearchCV, RandomizedSearchCV, KFold, StratifiedKFold\n",
    "\n",
    "KF = KFold(n_splits=5)\n",
    "SKF = StratifiedKFold(n_splits=5)\n",
    "\n",
    "fold_names = [\"KFold\", \"StratifiedKFold\"]\n",
    "for i, K in enumerate([KF, SKF]):\n",
    "    for j, (train_i, test_i) in enumerate(K.split(X_train, y_train)):\n",
    "        fold_no = pd.DataFrame(pd.Series(y_train[test_i]).value_counts(), columns=[\"Fold \"+str(j)])\n",
    "        if j == 0:\n",
    "            fold_nos = fold_no\n",
    "        else:\n",
    "            fold_nos = pd.concat([fold_nos,fold_no], axis=1)\n",
    "        \n",
    "    print(fold_nos)"
   ]
  },
  {
   "cell_type": "markdown",
   "metadata": {
    "id": "KM4uagj4SdBL"
   },
   "source": [
    "Conduct a gridsearch or random search to find an optimal value for the C hyperparameter for a logistic regression model. Can you find a model that has improved accuracy?\n",
    "\n",
    "REMARK\n",
    "\n",
    "The scoring parameter can take multiple values so you can assess different performance metrics (e.g. scoring = [\"accuracy\", \"f1\",\"recall\",\"precision\"]). If you do this and want the search cv to output a fitted model, you need to specify what metric to use as the one to find the \"best parameters\" (e.g. refit=\"accuracy\")."
   ]
  },
  {
   "cell_type": "code",
   "execution_count": null,
   "metadata": {
    "colab": {
     "base_uri": "https://localhost:8080/"
    },
    "id": "85ckjDn8jec2",
    "outputId": "d7592f37-4dd6-4d80-87c6-1a343d1e4927"
   },
   "outputs": [
    {
     "data": {
      "text/plain": [
       "RandomizedSearchCV(cv=StratifiedKFold(n_splits=5, random_state=None, shuffle=False),\n",
       "                   estimator=Pipeline(steps=[('scaler', StandardScaler()),\n",
       "                                             ('model',\n",
       "                                              LogisticRegression(C=10.0,\n",
       "                                                                 random_state=42))]),\n",
       "                   n_iter=60,\n",
       "                   param_distributions={'model__C': <scipy.stats._distn_infrastructure.rv_frozen object at 0x7fde3fb84350>},\n",
       "                   random_state=42, refit='accuracy', return_train_score=True,\n",
       "                   scoring=['accuracy', 'f1', 'recall', 'precision'])"
      ]
     },
     "execution_count": 22,
     "metadata": {},
     "output_type": "execute_result"
    }
   ],
   "source": [
    "from scipy.stats.distributions import uniform, loguniform\n",
    "\n",
    "log_pipe = Pipeline([\n",
    "            (\"scaler\", StandardScaler()),\n",
    "            (\"model\", LogisticRegression(C = c, random_state=42))])\n",
    "\n",
    "C_list = []\n",
    "pwr = -5\n",
    "for i in range(11):\n",
    "    C_list.append(2**pwr)\n",
    "    pwr+=2\n",
    "    \n",
    "# specify parameters and distributions to sample from\n",
    "log_param_dist = {'model__C':loguniform(C_list[0], C_list[-1])}\n",
    "\n",
    "log_rs = RandomizedSearchCV(log_pipe, \n",
    "                            param_distributions = log_param_dist,\n",
    "                            n_iter = 60, \n",
    "                            scoring = [\"accuracy\", \"f1\",\"recall\",\"precision\"], \n",
    "                            cv = StratifiedKFold(n_splits=5),\n",
    "                            refit = \"accuracy\", \n",
    "                            random_state = 42,\n",
    "                            return_train_score = True)\n",
    "\n",
    "log_rs.fit(X_train, y_train)"
   ]
  },
  {
   "cell_type": "code",
   "execution_count": null,
   "metadata": {
    "colab": {
     "base_uri": "https://localhost:8080/",
     "height": 206
    },
    "id": "872OWw_fTDWz",
    "outputId": "a6efff21-5c66-4e53-93d4-5adc96e783b7"
   },
   "outputs": [
    {
     "data": {
      "text/html": [
       "\n",
       "  <div id=\"df-569cb2e9-afcb-4b42-9390-417d674f1d82\">\n",
       "    <div class=\"colab-df-container\">\n",
       "      <div>\n",
       "<style scoped>\n",
       "    .dataframe tbody tr th:only-of-type {\n",
       "        vertical-align: middle;\n",
       "    }\n",
       "\n",
       "    .dataframe tbody tr th {\n",
       "        vertical-align: top;\n",
       "    }\n",
       "\n",
       "    .dataframe thead th {\n",
       "        text-align: right;\n",
       "    }\n",
       "</style>\n",
       "<table border=\"1\" class=\"dataframe\">\n",
       "  <thead>\n",
       "    <tr style=\"text-align: right;\">\n",
       "      <th></th>\n",
       "      <th>param_model__C</th>\n",
       "      <th>mean_train_accuracy</th>\n",
       "      <th>std_train_accuracy</th>\n",
       "      <th>mean_test_accuracy</th>\n",
       "      <th>std_test_accuracy</th>\n",
       "    </tr>\n",
       "  </thead>\n",
       "  <tbody>\n",
       "    <tr>\n",
       "      <th>4</th>\n",
       "      <td>0.271754</td>\n",
       "      <td>0.973472</td>\n",
       "      <td>0.000489</td>\n",
       "      <td>0.973556</td>\n",
       "      <td>0.001089</td>\n",
       "    </tr>\n",
       "    <tr>\n",
       "      <th>5</th>\n",
       "      <td>0.271663</td>\n",
       "      <td>0.973472</td>\n",
       "      <td>0.000489</td>\n",
       "      <td>0.973556</td>\n",
       "      <td>0.001089</td>\n",
       "    </tr>\n",
       "    <tr>\n",
       "      <th>44</th>\n",
       "      <td>1.129434</td>\n",
       "      <td>0.973639</td>\n",
       "      <td>0.000309</td>\n",
       "      <td>0.973556</td>\n",
       "      <td>0.001343</td>\n",
       "    </tr>\n",
       "    <tr>\n",
       "      <th>13</th>\n",
       "      <td>0.593279</td>\n",
       "      <td>0.973611</td>\n",
       "      <td>0.000430</td>\n",
       "      <td>0.973556</td>\n",
       "      <td>0.001296</td>\n",
       "    </tr>\n",
       "    <tr>\n",
       "      <th>30</th>\n",
       "      <td>142.113228</td>\n",
       "      <td>0.973583</td>\n",
       "      <td>0.000309</td>\n",
       "      <td>0.973444</td>\n",
       "      <td>0.001466</td>\n",
       "    </tr>\n",
       "  </tbody>\n",
       "</table>\n",
       "</div>\n",
       "      <button class=\"colab-df-convert\" onclick=\"convertToInteractive('df-569cb2e9-afcb-4b42-9390-417d674f1d82')\"\n",
       "              title=\"Convert this dataframe to an interactive table.\"\n",
       "              style=\"display:none;\">\n",
       "        \n",
       "  <svg xmlns=\"http://www.w3.org/2000/svg\" height=\"24px\"viewBox=\"0 0 24 24\"\n",
       "       width=\"24px\">\n",
       "    <path d=\"M0 0h24v24H0V0z\" fill=\"none\"/>\n",
       "    <path d=\"M18.56 5.44l.94 2.06.94-2.06 2.06-.94-2.06-.94-.94-2.06-.94 2.06-2.06.94zm-11 1L8.5 8.5l.94-2.06 2.06-.94-2.06-.94L8.5 2.5l-.94 2.06-2.06.94zm10 10l.94 2.06.94-2.06 2.06-.94-2.06-.94-.94-2.06-.94 2.06-2.06.94z\"/><path d=\"M17.41 7.96l-1.37-1.37c-.4-.4-.92-.59-1.43-.59-.52 0-1.04.2-1.43.59L10.3 9.45l-7.72 7.72c-.78.78-.78 2.05 0 2.83L4 21.41c.39.39.9.59 1.41.59.51 0 1.02-.2 1.41-.59l7.78-7.78 2.81-2.81c.8-.78.8-2.07 0-2.86zM5.41 20L4 18.59l7.72-7.72 1.47 1.35L5.41 20z\"/>\n",
       "  </svg>\n",
       "      </button>\n",
       "      \n",
       "  <style>\n",
       "    .colab-df-container {\n",
       "      display:flex;\n",
       "      flex-wrap:wrap;\n",
       "      gap: 12px;\n",
       "    }\n",
       "\n",
       "    .colab-df-convert {\n",
       "      background-color: #E8F0FE;\n",
       "      border: none;\n",
       "      border-radius: 50%;\n",
       "      cursor: pointer;\n",
       "      display: none;\n",
       "      fill: #1967D2;\n",
       "      height: 32px;\n",
       "      padding: 0 0 0 0;\n",
       "      width: 32px;\n",
       "    }\n",
       "\n",
       "    .colab-df-convert:hover {\n",
       "      background-color: #E2EBFA;\n",
       "      box-shadow: 0px 1px 2px rgba(60, 64, 67, 0.3), 0px 1px 3px 1px rgba(60, 64, 67, 0.15);\n",
       "      fill: #174EA6;\n",
       "    }\n",
       "\n",
       "    [theme=dark] .colab-df-convert {\n",
       "      background-color: #3B4455;\n",
       "      fill: #D2E3FC;\n",
       "    }\n",
       "\n",
       "    [theme=dark] .colab-df-convert:hover {\n",
       "      background-color: #434B5C;\n",
       "      box-shadow: 0px 1px 3px 1px rgba(0, 0, 0, 0.15);\n",
       "      filter: drop-shadow(0px 1px 2px rgba(0, 0, 0, 0.3));\n",
       "      fill: #FFFFFF;\n",
       "    }\n",
       "  </style>\n",
       "\n",
       "      <script>\n",
       "        const buttonEl =\n",
       "          document.querySelector('#df-569cb2e9-afcb-4b42-9390-417d674f1d82 button.colab-df-convert');\n",
       "        buttonEl.style.display =\n",
       "          google.colab.kernel.accessAllowed ? 'block' : 'none';\n",
       "\n",
       "        async function convertToInteractive(key) {\n",
       "          const element = document.querySelector('#df-569cb2e9-afcb-4b42-9390-417d674f1d82');\n",
       "          const dataTable =\n",
       "            await google.colab.kernel.invokeFunction('convertToInteractive',\n",
       "                                                     [key], {});\n",
       "          if (!dataTable) return;\n",
       "\n",
       "          const docLinkHtml = 'Like what you see? Visit the ' +\n",
       "            '<a target=\"_blank\" href=https://colab.research.google.com/notebooks/data_table.ipynb>data table notebook</a>'\n",
       "            + ' to learn more about interactive tables.';\n",
       "          element.innerHTML = '';\n",
       "          dataTable['output_type'] = 'display_data';\n",
       "          await google.colab.output.renderOutput(dataTable, element);\n",
       "          const docLink = document.createElement('div');\n",
       "          docLink.innerHTML = docLinkHtml;\n",
       "          element.appendChild(docLink);\n",
       "        }\n",
       "      </script>\n",
       "    </div>\n",
       "  </div>\n",
       "  "
      ],
      "text/plain": [
       "   param_model__C  mean_train_accuracy  std_train_accuracy  \\\n",
       "4        0.271754             0.973472            0.000489   \n",
       "5        0.271663             0.973472            0.000489   \n",
       "44       1.129434             0.973639            0.000309   \n",
       "13       0.593279             0.973611            0.000430   \n",
       "30     142.113228             0.973583            0.000309   \n",
       "\n",
       "    mean_test_accuracy  std_test_accuracy  \n",
       "4             0.973556           0.001089  \n",
       "5             0.973556           0.001089  \n",
       "44            0.973556           0.001343  \n",
       "13            0.973556           0.001296  \n",
       "30            0.973444           0.001466  "
      ]
     },
     "execution_count": 23,
     "metadata": {},
     "output_type": "execute_result"
    }
   ],
   "source": [
    "#About the summary of best 6 models \n",
    "\n",
    "log_rs_df = pd.DataFrame(log_rs.cv_results_)\n",
    "log_rs_df.sort_values(\"mean_test_accuracy\", ascending=False)[[\"param_model__C\", \n",
    "                                                           \"mean_train_accuracy\",\n",
    "                                                           \"std_train_accuracy\",\n",
    "                                                           \"mean_test_accuracy\", \n",
    "                                                           \"std_test_accuracy\"]].head()"
   ]
  },
  {
   "cell_type": "code",
   "execution_count": null,
   "metadata": {
    "id": "GOHjNoHvrgbT"
   },
   "outputs": [],
   "source": [
    "# Longer format is \n",
    "# log_rs_df.sort_values(\"mean_test_accuracy\", ascending=False).head()"
   ]
  },
  {
   "cell_type": "markdown",
   "metadata": {
    "id": "PBRDWFQQjHxI"
   },
   "source": [
    "If we look at the accuracy above, still no improvement appeared in terms of mean accuracy for the testing data. In terms of the Randomized search on hyper parameters, nothing changed if we just compare solely accuarcy here. It seems we need more refinement for the imbalance data issue "
   ]
  },
  {
   "cell_type": "markdown",
   "metadata": {
    "id": "Pew94RYnTVZh"
   },
   "source": [
    "##  Improving Models with Imbalances\n",
    "\n",
    "There are a number of methods available to address imbalances in a dataset when we refine our models, such as:\n",
    "\n",
    "1. Weighting the classes in the model during training,\n",
    "2. Changing the training metric,\n",
    "3. Resampling the data."
   ]
  },
  {
   "cell_type": "markdown",
   "metadata": {
    "hideCode": false,
    "hidePrompt": false,
    "id": "RaKa2Q6Jjec3"
   },
   "source": [
    "### 5.3.1. Weights\n",
    "\n",
    "During model fitting we can assign a larger penalty to wrong predictions on the minority class.\n",
    "\n",
    "The heuristic used for `class_weight=\"balanced\"` in Scikit-Learn (0.23.1) is:\n",
    "\n",
    "$$\n",
    "\\frac{n}{Nc \\times \\sum\\limits^n_{i=1}I(y_i \\in S)},\n",
    "$$\n",
    "\n",
    "where $n$ are the number of samples, $Nc$ the number of classes, $I$ is an indicator function, and $S$ contains the class elements."
   ]
  },
  {
   "cell_type": "markdown",
   "metadata": {
    "cell_id": "00022-28a7a9d1-e95b-47b7-a31c-9b247c628087",
    "deepnote_cell_type": "markdown",
    "id": "WdZKHECXTmgU"
   },
   "source": [
    "---\n",
    "\n",
    "### 🚩 Exercise 9\n",
    "\n",
    "Conduct a gridsearch or randomsearch using the following code chunk, this time also looking at both `C` and `class_weight`. Has this improved performance? \n",
    "\n",
    "1. When you change your refit with other scoring alternatives rather than using \"accuracy\", what is the impact of it on the result (test recall)\n",
    "2. Is there any improvement when n_splits = 10 ?    "
   ]
  },
  {
   "cell_type": "code",
   "execution_count": null,
   "metadata": {
    "colab": {
     "base_uri": "https://localhost:8080/",
     "height": 206
    },
    "id": "EjE0dt7Kjec3",
    "outputId": "615e3062-b051-45a8-c876-c7778f6072b6"
   },
   "outputs": [
    {
     "data": {
      "text/html": [
       "\n",
       "  <div id=\"df-3553169b-4c95-41ca-8ec9-3e98d6e83b5e\">\n",
       "    <div class=\"colab-df-container\">\n",
       "      <div>\n",
       "<style scoped>\n",
       "    .dataframe tbody tr th:only-of-type {\n",
       "        vertical-align: middle;\n",
       "    }\n",
       "\n",
       "    .dataframe tbody tr th {\n",
       "        vertical-align: top;\n",
       "    }\n",
       "\n",
       "    .dataframe thead th {\n",
       "        text-align: right;\n",
       "    }\n",
       "</style>\n",
       "<table border=\"1\" class=\"dataframe\">\n",
       "  <thead>\n",
       "    <tr style=\"text-align: right;\">\n",
       "      <th></th>\n",
       "      <th>param_model__class_weight</th>\n",
       "      <th>param_model__C</th>\n",
       "      <th>mean_test_accuracy</th>\n",
       "      <th>mean_test_recall</th>\n",
       "      <th>std_test_accuracy</th>\n",
       "    </tr>\n",
       "  </thead>\n",
       "  <tbody>\n",
       "    <tr>\n",
       "      <th>33</th>\n",
       "      <td>balanced</td>\n",
       "      <td>0.048236</td>\n",
       "      <td>0.863667</td>\n",
       "      <td>0.900000</td>\n",
       "      <td>0.010486</td>\n",
       "    </tr>\n",
       "    <tr>\n",
       "      <th>28</th>\n",
       "      <td>balanced</td>\n",
       "      <td>0.050337</td>\n",
       "      <td>0.863778</td>\n",
       "      <td>0.900000</td>\n",
       "      <td>0.010496</td>\n",
       "    </tr>\n",
       "    <tr>\n",
       "      <th>9</th>\n",
       "      <td>balanced</td>\n",
       "      <td>0.031589</td>\n",
       "      <td>0.863333</td>\n",
       "      <td>0.900000</td>\n",
       "      <td>0.010617</td>\n",
       "    </tr>\n",
       "    <tr>\n",
       "      <th>30</th>\n",
       "      <td>balanced</td>\n",
       "      <td>304.531085</td>\n",
       "      <td>0.865000</td>\n",
       "      <td>0.896667</td>\n",
       "      <td>0.011150</td>\n",
       "    </tr>\n",
       "    <tr>\n",
       "      <th>1</th>\n",
       "      <td>balanced</td>\n",
       "      <td>0.397409</td>\n",
       "      <td>0.864889</td>\n",
       "      <td>0.896667</td>\n",
       "      <td>0.011108</td>\n",
       "    </tr>\n",
       "  </tbody>\n",
       "</table>\n",
       "</div>\n",
       "      <button class=\"colab-df-convert\" onclick=\"convertToInteractive('df-3553169b-4c95-41ca-8ec9-3e98d6e83b5e')\"\n",
       "              title=\"Convert this dataframe to an interactive table.\"\n",
       "              style=\"display:none;\">\n",
       "        \n",
       "  <svg xmlns=\"http://www.w3.org/2000/svg\" height=\"24px\"viewBox=\"0 0 24 24\"\n",
       "       width=\"24px\">\n",
       "    <path d=\"M0 0h24v24H0V0z\" fill=\"none\"/>\n",
       "    <path d=\"M18.56 5.44l.94 2.06.94-2.06 2.06-.94-2.06-.94-.94-2.06-.94 2.06-2.06.94zm-11 1L8.5 8.5l.94-2.06 2.06-.94-2.06-.94L8.5 2.5l-.94 2.06-2.06.94zm10 10l.94 2.06.94-2.06 2.06-.94-2.06-.94-.94-2.06-.94 2.06-2.06.94z\"/><path d=\"M17.41 7.96l-1.37-1.37c-.4-.4-.92-.59-1.43-.59-.52 0-1.04.2-1.43.59L10.3 9.45l-7.72 7.72c-.78.78-.78 2.05 0 2.83L4 21.41c.39.39.9.59 1.41.59.51 0 1.02-.2 1.41-.59l7.78-7.78 2.81-2.81c.8-.78.8-2.07 0-2.86zM5.41 20L4 18.59l7.72-7.72 1.47 1.35L5.41 20z\"/>\n",
       "  </svg>\n",
       "      </button>\n",
       "      \n",
       "  <style>\n",
       "    .colab-df-container {\n",
       "      display:flex;\n",
       "      flex-wrap:wrap;\n",
       "      gap: 12px;\n",
       "    }\n",
       "\n",
       "    .colab-df-convert {\n",
       "      background-color: #E8F0FE;\n",
       "      border: none;\n",
       "      border-radius: 50%;\n",
       "      cursor: pointer;\n",
       "      display: none;\n",
       "      fill: #1967D2;\n",
       "      height: 32px;\n",
       "      padding: 0 0 0 0;\n",
       "      width: 32px;\n",
       "    }\n",
       "\n",
       "    .colab-df-convert:hover {\n",
       "      background-color: #E2EBFA;\n",
       "      box-shadow: 0px 1px 2px rgba(60, 64, 67, 0.3), 0px 1px 3px 1px rgba(60, 64, 67, 0.15);\n",
       "      fill: #174EA6;\n",
       "    }\n",
       "\n",
       "    [theme=dark] .colab-df-convert {\n",
       "      background-color: #3B4455;\n",
       "      fill: #D2E3FC;\n",
       "    }\n",
       "\n",
       "    [theme=dark] .colab-df-convert:hover {\n",
       "      background-color: #434B5C;\n",
       "      box-shadow: 0px 1px 3px 1px rgba(0, 0, 0, 0.15);\n",
       "      filter: drop-shadow(0px 1px 2px rgba(0, 0, 0, 0.3));\n",
       "      fill: #FFFFFF;\n",
       "    }\n",
       "  </style>\n",
       "\n",
       "      <script>\n",
       "        const buttonEl =\n",
       "          document.querySelector('#df-3553169b-4c95-41ca-8ec9-3e98d6e83b5e button.colab-df-convert');\n",
       "        buttonEl.style.display =\n",
       "          google.colab.kernel.accessAllowed ? 'block' : 'none';\n",
       "\n",
       "        async function convertToInteractive(key) {\n",
       "          const element = document.querySelector('#df-3553169b-4c95-41ca-8ec9-3e98d6e83b5e');\n",
       "          const dataTable =\n",
       "            await google.colab.kernel.invokeFunction('convertToInteractive',\n",
       "                                                     [key], {});\n",
       "          if (!dataTable) return;\n",
       "\n",
       "          const docLinkHtml = 'Like what you see? Visit the ' +\n",
       "            '<a target=\"_blank\" href=https://colab.research.google.com/notebooks/data_table.ipynb>data table notebook</a>'\n",
       "            + ' to learn more about interactive tables.';\n",
       "          element.innerHTML = '';\n",
       "          dataTable['output_type'] = 'display_data';\n",
       "          await google.colab.output.renderOutput(dataTable, element);\n",
       "          const docLink = document.createElement('div');\n",
       "          docLink.innerHTML = docLinkHtml;\n",
       "          element.appendChild(docLink);\n",
       "        }\n",
       "      </script>\n",
       "    </div>\n",
       "  </div>\n",
       "  "
      ],
      "text/plain": [
       "   param_model__class_weight param_model__C  mean_test_accuracy  \\\n",
       "33                  balanced       0.048236            0.863667   \n",
       "28                  balanced       0.050337            0.863778   \n",
       "9                   balanced       0.031589            0.863333   \n",
       "30                  balanced     304.531085            0.865000   \n",
       "1                   balanced       0.397409            0.864889   \n",
       "\n",
       "    mean_test_recall  std_test_accuracy  \n",
       "33          0.900000           0.010486  \n",
       "28          0.900000           0.010496  \n",
       "9           0.900000           0.010617  \n",
       "30          0.896667           0.011150  \n",
       "1           0.896667           0.011108  "
      ]
     },
     "execution_count": 24,
     "metadata": {},
     "output_type": "execute_result"
    }
   ],
   "source": [
    "log_pipe = Pipeline([\n",
    "            (\"scaler\", StandardScaler()),\n",
    "            (\"model\", LogisticRegression(C = c, random_state=42))])\n",
    "    \n",
    "# specify parameters and distributions to sample from\n",
    "log_param_dist = {\n",
    "    'model__C':loguniform(C_list[0], C_list[-1]),\n",
    "    'model__class_weight': [None, \"balanced\"]\n",
    "}\n",
    "\n",
    "bal_log_rs = RandomizedSearchCV(log_pipe, \n",
    "                            param_distributions = log_param_dist,\n",
    "                            n_iter = 60, \n",
    "                            scoring = [\"accuracy\", \"f1\",\"recall\",\"precision\"], \n",
    "                            cv = StratifiedKFold(n_splits=5),\n",
    "                            refit = \"recall\", \n",
    "                            random_state = 42,\n",
    "                            return_train_score = True)\n",
    "\n",
    "bal_log_rs.fit(X_train, y_train)\n",
    "\n",
    "bal_log_rs_df = pd.DataFrame(bal_log_rs.cv_results_)\n",
    "bal_log_rs_df.sort_values(\"mean_test_recall\", ascending=False)[[\"param_model__class_weight\", \n",
    "                                                                  \"param_model__C\", \n",
    "                                                                  \"mean_test_accuracy\", \"mean_test_recall\", \n",
    "                                                                  \"std_test_accuracy\"]].head()"
   ]
  },
  {
   "cell_type": "markdown",
   "metadata": {
    "id": "i8QcHu2IT3Uy"
   },
   "source": [
    "In this case, it doesn't seem to be doing much in terms of accuracy. We get similar results that we observed above in terms of mean_test_accuracy so that there is no model improvement. However when we change the refit option with other metric, namely recall, there is a certain improvement on that based on mean recall value (such as balanced class, model param $C=0.048236$, we got \n",
    "0.90 value recall in terms of the grid search above)"
   ]
  },
  {
   "cell_type": "code",
   "execution_count": null,
   "metadata": {
    "colab": {
     "base_uri": "https://localhost:8080/",
     "height": 206
    },
    "id": "D20H48X7X149",
    "outputId": "cc970986-807f-4682-b251-738c0d079d30"
   },
   "outputs": [
    {
     "data": {
      "text/html": [
       "\n",
       "  <div id=\"df-e5807505-2122-487a-8c67-4617ac1d15c8\">\n",
       "    <div class=\"colab-df-container\">\n",
       "      <div>\n",
       "<style scoped>\n",
       "    .dataframe tbody tr th:only-of-type {\n",
       "        vertical-align: middle;\n",
       "    }\n",
       "\n",
       "    .dataframe tbody tr th {\n",
       "        vertical-align: top;\n",
       "    }\n",
       "\n",
       "    .dataframe thead th {\n",
       "        text-align: right;\n",
       "    }\n",
       "</style>\n",
       "<table border=\"1\" class=\"dataframe\">\n",
       "  <thead>\n",
       "    <tr style=\"text-align: right;\">\n",
       "      <th></th>\n",
       "      <th>param_model__class_weight</th>\n",
       "      <th>param_model__C</th>\n",
       "      <th>mean_test_accuracy</th>\n",
       "      <th>mean_test_recall</th>\n",
       "      <th>std_test_accuracy</th>\n",
       "    </tr>\n",
       "  </thead>\n",
       "  <tbody>\n",
       "    <tr>\n",
       "      <th>33</th>\n",
       "      <td>balanced</td>\n",
       "      <td>0.048236</td>\n",
       "      <td>0.864444</td>\n",
       "      <td>0.9</td>\n",
       "      <td>0.011675</td>\n",
       "    </tr>\n",
       "    <tr>\n",
       "      <th>4</th>\n",
       "      <td>balanced</td>\n",
       "      <td>0.069911</td>\n",
       "      <td>0.864889</td>\n",
       "      <td>0.9</td>\n",
       "      <td>0.011571</td>\n",
       "    </tr>\n",
       "    <tr>\n",
       "      <th>7</th>\n",
       "      <td>balanced</td>\n",
       "      <td>0.06831</td>\n",
       "      <td>0.864889</td>\n",
       "      <td>0.9</td>\n",
       "      <td>0.011571</td>\n",
       "    </tr>\n",
       "    <tr>\n",
       "      <th>28</th>\n",
       "      <td>balanced</td>\n",
       "      <td>0.050337</td>\n",
       "      <td>0.864667</td>\n",
       "      <td>0.9</td>\n",
       "      <td>0.011694</td>\n",
       "    </tr>\n",
       "    <tr>\n",
       "      <th>9</th>\n",
       "      <td>balanced</td>\n",
       "      <td>0.031589</td>\n",
       "      <td>0.864111</td>\n",
       "      <td>0.9</td>\n",
       "      <td>0.011255</td>\n",
       "    </tr>\n",
       "  </tbody>\n",
       "</table>\n",
       "</div>\n",
       "      <button class=\"colab-df-convert\" onclick=\"convertToInteractive('df-e5807505-2122-487a-8c67-4617ac1d15c8')\"\n",
       "              title=\"Convert this dataframe to an interactive table.\"\n",
       "              style=\"display:none;\">\n",
       "        \n",
       "  <svg xmlns=\"http://www.w3.org/2000/svg\" height=\"24px\"viewBox=\"0 0 24 24\"\n",
       "       width=\"24px\">\n",
       "    <path d=\"M0 0h24v24H0V0z\" fill=\"none\"/>\n",
       "    <path d=\"M18.56 5.44l.94 2.06.94-2.06 2.06-.94-2.06-.94-.94-2.06-.94 2.06-2.06.94zm-11 1L8.5 8.5l.94-2.06 2.06-.94-2.06-.94L8.5 2.5l-.94 2.06-2.06.94zm10 10l.94 2.06.94-2.06 2.06-.94-2.06-.94-.94-2.06-.94 2.06-2.06.94z\"/><path d=\"M17.41 7.96l-1.37-1.37c-.4-.4-.92-.59-1.43-.59-.52 0-1.04.2-1.43.59L10.3 9.45l-7.72 7.72c-.78.78-.78 2.05 0 2.83L4 21.41c.39.39.9.59 1.41.59.51 0 1.02-.2 1.41-.59l7.78-7.78 2.81-2.81c.8-.78.8-2.07 0-2.86zM5.41 20L4 18.59l7.72-7.72 1.47 1.35L5.41 20z\"/>\n",
       "  </svg>\n",
       "      </button>\n",
       "      \n",
       "  <style>\n",
       "    .colab-df-container {\n",
       "      display:flex;\n",
       "      flex-wrap:wrap;\n",
       "      gap: 12px;\n",
       "    }\n",
       "\n",
       "    .colab-df-convert {\n",
       "      background-color: #E8F0FE;\n",
       "      border: none;\n",
       "      border-radius: 50%;\n",
       "      cursor: pointer;\n",
       "      display: none;\n",
       "      fill: #1967D2;\n",
       "      height: 32px;\n",
       "      padding: 0 0 0 0;\n",
       "      width: 32px;\n",
       "    }\n",
       "\n",
       "    .colab-df-convert:hover {\n",
       "      background-color: #E2EBFA;\n",
       "      box-shadow: 0px 1px 2px rgba(60, 64, 67, 0.3), 0px 1px 3px 1px rgba(60, 64, 67, 0.15);\n",
       "      fill: #174EA6;\n",
       "    }\n",
       "\n",
       "    [theme=dark] .colab-df-convert {\n",
       "      background-color: #3B4455;\n",
       "      fill: #D2E3FC;\n",
       "    }\n",
       "\n",
       "    [theme=dark] .colab-df-convert:hover {\n",
       "      background-color: #434B5C;\n",
       "      box-shadow: 0px 1px 3px 1px rgba(0, 0, 0, 0.15);\n",
       "      filter: drop-shadow(0px 1px 2px rgba(0, 0, 0, 0.3));\n",
       "      fill: #FFFFFF;\n",
       "    }\n",
       "  </style>\n",
       "\n",
       "      <script>\n",
       "        const buttonEl =\n",
       "          document.querySelector('#df-e5807505-2122-487a-8c67-4617ac1d15c8 button.colab-df-convert');\n",
       "        buttonEl.style.display =\n",
       "          google.colab.kernel.accessAllowed ? 'block' : 'none';\n",
       "\n",
       "        async function convertToInteractive(key) {\n",
       "          const element = document.querySelector('#df-e5807505-2122-487a-8c67-4617ac1d15c8');\n",
       "          const dataTable =\n",
       "            await google.colab.kernel.invokeFunction('convertToInteractive',\n",
       "                                                     [key], {});\n",
       "          if (!dataTable) return;\n",
       "\n",
       "          const docLinkHtml = 'Like what you see? Visit the ' +\n",
       "            '<a target=\"_blank\" href=https://colab.research.google.com/notebooks/data_table.ipynb>data table notebook</a>'\n",
       "            + ' to learn more about interactive tables.';\n",
       "          element.innerHTML = '';\n",
       "          dataTable['output_type'] = 'display_data';\n",
       "          await google.colab.output.renderOutput(dataTable, element);\n",
       "          const docLink = document.createElement('div');\n",
       "          docLink.innerHTML = docLinkHtml;\n",
       "          element.appendChild(docLink);\n",
       "        }\n",
       "      </script>\n",
       "    </div>\n",
       "  </div>\n",
       "  "
      ],
      "text/plain": [
       "   param_model__class_weight param_model__C  mean_test_accuracy  \\\n",
       "33                  balanced       0.048236            0.864444   \n",
       "4                   balanced       0.069911            0.864889   \n",
       "7                   balanced        0.06831            0.864889   \n",
       "28                  balanced       0.050337            0.864667   \n",
       "9                   balanced       0.031589            0.864111   \n",
       "\n",
       "    mean_test_recall  std_test_accuracy  \n",
       "33               0.9           0.011675  \n",
       "4                0.9           0.011571  \n",
       "7                0.9           0.011571  \n",
       "28               0.9           0.011694  \n",
       "9                0.9           0.011255  "
      ]
     },
     "execution_count": 25,
     "metadata": {},
     "output_type": "execute_result"
    }
   ],
   "source": [
    "log_pipe = Pipeline([\n",
    "            (\"scaler\", StandardScaler()),\n",
    "            (\"model\", LogisticRegression(C = c, random_state=42))])\n",
    "    \n",
    "# specify parameters and distributions to sample from\n",
    "log_param_dist = {\n",
    "    'model__C':loguniform(C_list[0], C_list[-1]),\n",
    "    'model__class_weight': [None, \"balanced\"]\n",
    "}\n",
    "\n",
    "bal_log_rs = RandomizedSearchCV(log_pipe, \n",
    "                            param_distributions = log_param_dist,\n",
    "                            n_iter = 60, \n",
    "                            scoring = [\"accuracy\", \"f1\",\"recall\",\"precision\"], \n",
    "                            cv = StratifiedKFold(n_splits = 10),\n",
    "                            refit = \"recall\", \n",
    "                            random_state = 42,\n",
    "                            return_train_score = True)\n",
    "\n",
    "bal_log_rs.fit(X_train, y_train)\n",
    "\n",
    "bal_log_rs_df = pd.DataFrame(bal_log_rs.cv_results_)\n",
    "bal_log_rs_df.sort_values(\"mean_test_recall\", ascending=False)[[\"param_model__class_weight\", \n",
    "                                                                  \"param_model__C\", \n",
    "                                                                  \"mean_test_accuracy\", \"mean_test_recall\", \n",
    "                                                                  \"std_test_accuracy\"]].head()"
   ]
  },
  {
   "cell_type": "markdown",
   "metadata": {
    "id": "MHRxsUAcYgmd"
   },
   "source": [
    "The number of splits are increased from 5 to 10 in the `StratifiedKFold` but it has no further impact on the mean_test_recall value when the models are refited in terms of recall metric with all the other parameters are kept fixed. On the other hand, this change has a slight impact on the mean_test_accuracy in for some selection of $C$ values. "
   ]
  },
  {
   "cell_type": "markdown",
   "metadata": {
    "hideCode": false,
    "hidePrompt": false,
    "id": "plVHhxDvjec4"
   },
   "source": [
    "### 5.3.2. Changing Training/Validation Metric\n",
    "\n",
    "__Optimising for Accuracy__ \n",
    "\n",
    "During hyperparamter cross-validation we are choosing the model with the best __overall accuracy__. \n",
    "\n",
    "This gives us a model with the smallest possible total number of misclassified observations, irrespective of which class the errors come from$^5$. \n",
    "\n",
    "ML algorithms typically optimize a reward or cost function computed as a sum over the training examples, the decision rule is likely going to be biased toward the majority class$^9$.\n",
    "\n",
    "__Notes__\n",
    "\n",
    "- _\"In other words, the algorithm implicitly learns a model that optimizes the predictions based on the most abundant class in the dataset, in order to minimize the cost or  maximize the reward during training.\"_<sup>9</sup>. "
   ]
  },
  {
   "cell_type": "markdown",
   "metadata": {
    "id": "LUaDGjyDZs8_"
   },
   "source": [
    "Below, in the classification report we have the text summary of the precision, recall, F1 score for each class. Dictionary returned if output_dict is True.\n",
    "\n",
    "Besides note that, The reported averages include macro average (averaging the unweighted mean per label), weighted average (averaging the support-weighted mean per label), and sample average (only for multilabel classification). Micro average (averaging the total true positives, false negatives and false positives) is only shown for multi-label or multi-class with a subset of classes, because it corresponds to accuracy otherwise and would be the same for all metrics. \n",
    "\n",
    "Note that in binary classification, recall of the positive class (1) is also known as **sensitivity**; recall of the negative class (0) is **specificity**."
   ]
  },
  {
   "cell_type": "code",
   "execution_count": null,
   "metadata": {
    "colab": {
     "base_uri": "https://localhost:8080/"
    },
    "id": "53D2HcEQjec4",
    "outputId": "aa2d53bf-c247-436e-d0ca-345920de7455"
   },
   "outputs": [
    {
     "name": "stdout",
     "output_type": "stream",
     "text": [
      "               No    Yes  accuracy  macro avg  weighted avg\n",
      "precision    1.00   0.18      0.86       0.59          0.97\n",
      "recall       0.86   0.88      0.86       0.87          0.86\n",
      "f1-score     0.93   0.30      0.86       0.61          0.90\n",
      "support    967.00  33.00      0.86    1000.00       1000.00\n"
     ]
    }
   ],
   "source": [
    "from sklearn.metrics import classification_report\n",
    "\n",
    "print(pd.DataFrame(classification_report(y_test, \n",
    "                                   bal_log_rs.predict(X_test), \n",
    "                                   labels = None, \n",
    "                                   target_names = list(LE.classes_), \n",
    "                                   sample_weight = None, \n",
    "                                   digits = 2, \n",
    "                                   output_dict = True)).round(2))"
   ]
  },
  {
   "cell_type": "markdown",
   "metadata": {
    "hideCode": false,
    "hidePrompt": false,
    "id": "LXJNCQ4rjec4"
   },
   "source": [
    "Changing the metric for what is defined as the _\"best model\"_ can help us prioritise models that make particular errors.\n",
    "\n",
    "For example, a credit card company might particularly wish to avoid incorrectly classifying an individual who will default, whereas incorrectly classifying an individual who will not default, though still to be avoided, is less problematic. \n",
    "\n",
    "In this case, __recall__ would therefore be a useful metric to use.\n",
    "\n",
    "Rather than run another cross-validation again, provided that in `scoring` you used a list that contained \"recall\", we can just use our results data to pick the model with the best \"recall\" instead of accuracy."
   ]
  },
  {
   "cell_type": "code",
   "execution_count": null,
   "metadata": {
    "colab": {
     "base_uri": "https://localhost:8080/",
     "height": 206
    },
    "id": "8JjNmHvXjec4",
    "outputId": "db2e163a-054e-4b2a-e180-b77004dc2d1a"
   },
   "outputs": [
    {
     "data": {
      "text/html": [
       "\n",
       "  <div id=\"df-36cd0d47-ad18-44a6-9293-932078626886\">\n",
       "    <div class=\"colab-df-container\">\n",
       "      <div>\n",
       "<style scoped>\n",
       "    .dataframe tbody tr th:only-of-type {\n",
       "        vertical-align: middle;\n",
       "    }\n",
       "\n",
       "    .dataframe tbody tr th {\n",
       "        vertical-align: top;\n",
       "    }\n",
       "\n",
       "    .dataframe thead th {\n",
       "        text-align: right;\n",
       "    }\n",
       "</style>\n",
       "<table border=\"1\" class=\"dataframe\">\n",
       "  <thead>\n",
       "    <tr style=\"text-align: right;\">\n",
       "      <th></th>\n",
       "      <th>param_model__class_weight</th>\n",
       "      <th>param_model__C</th>\n",
       "      <th>mean_test_recall</th>\n",
       "      <th>std_test_recall</th>\n",
       "    </tr>\n",
       "  </thead>\n",
       "  <tbody>\n",
       "    <tr>\n",
       "      <th>33</th>\n",
       "      <td>balanced</td>\n",
       "      <td>0.048236</td>\n",
       "      <td>0.9</td>\n",
       "      <td>0.055777</td>\n",
       "    </tr>\n",
       "    <tr>\n",
       "      <th>4</th>\n",
       "      <td>balanced</td>\n",
       "      <td>0.069911</td>\n",
       "      <td>0.9</td>\n",
       "      <td>0.055777</td>\n",
       "    </tr>\n",
       "    <tr>\n",
       "      <th>7</th>\n",
       "      <td>balanced</td>\n",
       "      <td>0.06831</td>\n",
       "      <td>0.9</td>\n",
       "      <td>0.055777</td>\n",
       "    </tr>\n",
       "    <tr>\n",
       "      <th>28</th>\n",
       "      <td>balanced</td>\n",
       "      <td>0.050337</td>\n",
       "      <td>0.9</td>\n",
       "      <td>0.055777</td>\n",
       "    </tr>\n",
       "    <tr>\n",
       "      <th>9</th>\n",
       "      <td>balanced</td>\n",
       "      <td>0.031589</td>\n",
       "      <td>0.9</td>\n",
       "      <td>0.055777</td>\n",
       "    </tr>\n",
       "  </tbody>\n",
       "</table>\n",
       "</div>\n",
       "      <button class=\"colab-df-convert\" onclick=\"convertToInteractive('df-36cd0d47-ad18-44a6-9293-932078626886')\"\n",
       "              title=\"Convert this dataframe to an interactive table.\"\n",
       "              style=\"display:none;\">\n",
       "        \n",
       "  <svg xmlns=\"http://www.w3.org/2000/svg\" height=\"24px\"viewBox=\"0 0 24 24\"\n",
       "       width=\"24px\">\n",
       "    <path d=\"M0 0h24v24H0V0z\" fill=\"none\"/>\n",
       "    <path d=\"M18.56 5.44l.94 2.06.94-2.06 2.06-.94-2.06-.94-.94-2.06-.94 2.06-2.06.94zm-11 1L8.5 8.5l.94-2.06 2.06-.94-2.06-.94L8.5 2.5l-.94 2.06-2.06.94zm10 10l.94 2.06.94-2.06 2.06-.94-2.06-.94-.94-2.06-.94 2.06-2.06.94z\"/><path d=\"M17.41 7.96l-1.37-1.37c-.4-.4-.92-.59-1.43-.59-.52 0-1.04.2-1.43.59L10.3 9.45l-7.72 7.72c-.78.78-.78 2.05 0 2.83L4 21.41c.39.39.9.59 1.41.59.51 0 1.02-.2 1.41-.59l7.78-7.78 2.81-2.81c.8-.78.8-2.07 0-2.86zM5.41 20L4 18.59l7.72-7.72 1.47 1.35L5.41 20z\"/>\n",
       "  </svg>\n",
       "      </button>\n",
       "      \n",
       "  <style>\n",
       "    .colab-df-container {\n",
       "      display:flex;\n",
       "      flex-wrap:wrap;\n",
       "      gap: 12px;\n",
       "    }\n",
       "\n",
       "    .colab-df-convert {\n",
       "      background-color: #E8F0FE;\n",
       "      border: none;\n",
       "      border-radius: 50%;\n",
       "      cursor: pointer;\n",
       "      display: none;\n",
       "      fill: #1967D2;\n",
       "      height: 32px;\n",
       "      padding: 0 0 0 0;\n",
       "      width: 32px;\n",
       "    }\n",
       "\n",
       "    .colab-df-convert:hover {\n",
       "      background-color: #E2EBFA;\n",
       "      box-shadow: 0px 1px 2px rgba(60, 64, 67, 0.3), 0px 1px 3px 1px rgba(60, 64, 67, 0.15);\n",
       "      fill: #174EA6;\n",
       "    }\n",
       "\n",
       "    [theme=dark] .colab-df-convert {\n",
       "      background-color: #3B4455;\n",
       "      fill: #D2E3FC;\n",
       "    }\n",
       "\n",
       "    [theme=dark] .colab-df-convert:hover {\n",
       "      background-color: #434B5C;\n",
       "      box-shadow: 0px 1px 3px 1px rgba(0, 0, 0, 0.15);\n",
       "      filter: drop-shadow(0px 1px 2px rgba(0, 0, 0, 0.3));\n",
       "      fill: #FFFFFF;\n",
       "    }\n",
       "  </style>\n",
       "\n",
       "      <script>\n",
       "        const buttonEl =\n",
       "          document.querySelector('#df-36cd0d47-ad18-44a6-9293-932078626886 button.colab-df-convert');\n",
       "        buttonEl.style.display =\n",
       "          google.colab.kernel.accessAllowed ? 'block' : 'none';\n",
       "\n",
       "        async function convertToInteractive(key) {\n",
       "          const element = document.querySelector('#df-36cd0d47-ad18-44a6-9293-932078626886');\n",
       "          const dataTable =\n",
       "            await google.colab.kernel.invokeFunction('convertToInteractive',\n",
       "                                                     [key], {});\n",
       "          if (!dataTable) return;\n",
       "\n",
       "          const docLinkHtml = 'Like what you see? Visit the ' +\n",
       "            '<a target=\"_blank\" href=https://colab.research.google.com/notebooks/data_table.ipynb>data table notebook</a>'\n",
       "            + ' to learn more about interactive tables.';\n",
       "          element.innerHTML = '';\n",
       "          dataTable['output_type'] = 'display_data';\n",
       "          await google.colab.output.renderOutput(dataTable, element);\n",
       "          const docLink = document.createElement('div');\n",
       "          docLink.innerHTML = docLinkHtml;\n",
       "          element.appendChild(docLink);\n",
       "        }\n",
       "      </script>\n",
       "    </div>\n",
       "  </div>\n",
       "  "
      ],
      "text/plain": [
       "   param_model__class_weight param_model__C  mean_test_recall  std_test_recall\n",
       "33                  balanced       0.048236               0.9         0.055777\n",
       "4                   balanced       0.069911               0.9         0.055777\n",
       "7                   balanced        0.06831               0.9         0.055777\n",
       "28                  balanced       0.050337               0.9         0.055777\n",
       "9                   balanced       0.031589               0.9         0.055777"
      ]
     },
     "execution_count": 27,
     "metadata": {},
     "output_type": "execute_result"
    }
   ],
   "source": [
    "bal_log_rs_df.sort_values(\"mean_test_recall\", ascending=False)[[\"param_model__class_weight\", \n",
    "                                                                  \"param_model__C\", \n",
    "                                                                  \"mean_test_recall\", \n",
    "                                                                  \"std_test_recall\"]].head()"
   ]
  },
  {
   "cell_type": "markdown",
   "metadata": {
    "hideCode": false,
    "hidePrompt": false,
    "id": "l8DcmIfEjec4"
   },
   "source": [
    "Now we see that `balanced` models are indeed better if we want a good average recall.\n",
    "\n",
    "Lets use the output scores to our advantage and build a function that sets the parameters to the best for that particular metric and then fits our model using the full training data.\n",
    "\n",
    "The below code is an alternative way of obtaining what we observed in the above outputs."
   ]
  },
  {
   "cell_type": "markdown",
   "metadata": {
    "cell_id": "00022-28a7a9d1-e95b-47b7-a31c-9b247c628087",
    "deepnote_cell_type": "markdown",
    "id": "RaxRXbcF-5EX"
   },
   "source": [
    "---\n",
    "\n",
    "### 🚩 Exercise 10\n",
    "\n",
    "Conduct a the following function for the new metric, recall, and then derive a similar classification report that you observed above"
   ]
  },
  {
   "cell_type": "code",
   "execution_count": null,
   "metadata": {
    "hideCode": false,
    "hidePrompt": false,
    "id": "upqmGHZ_jec4"
   },
   "outputs": [],
   "source": [
    "from sklearn.base import clone\n",
    "\n",
    "# we refit the best accuracy model on all the training data\n",
    "# so lets do that for the best other metric models\n",
    "def manual_refit(input_model, X, y, gs, metric, disp_df=[]):\n",
    "    output_model = clone(input_model)\n",
    "    \n",
    "    gs_df = pd.DataFrame(gs.cv_results_).sort_values(\"mean_test_\"+metric, ascending=False)\n",
    "    \n",
    "    if disp_df:\n",
    "        display(gs_df[disp_df].head())\n",
    "    \n",
    "    params = gs_df[\"params\"].iloc[0]\n",
    "    output_model = output_model.set_params(**params)\n",
    "    output_model = output_model.fit(X, y)\n",
    "    \n",
    "    return output_model\n",
    "\n"
   ]
  },
  {
   "cell_type": "code",
   "execution_count": null,
   "metadata": {
    "colab": {
     "base_uri": "https://localhost:8080/"
    },
    "id": "8j0owFx_jec5",
    "outputId": "82f9e4d0-8e4f-42bf-bf85-92c733e6644b"
   },
   "outputs": [
    {
     "name": "stdout",
     "output_type": "stream",
     "text": [
      "               No    Yes  accuracy  macro avg  weighted avg\n",
      "precision    1.00   0.18      0.86       0.59          0.97\n",
      "recall       0.86   0.88      0.86       0.87          0.86\n",
      "f1-score     0.93   0.30      0.86       0.61          0.90\n",
      "support    967.00  33.00      0.86    1000.00       1000.00\n"
     ]
    }
   ],
   "source": [
    "rec_model = manual_refit(log_pipe, X_train, y_train, bal_log_rs, \"recall\")\n",
    "\n",
    "print(pd.DataFrame(classification_report(y_test, \n",
    "                                   rec_model.predict(X_test), \n",
    "                                   labels=None, \n",
    "                                   target_names=list(LE.classes_), \n",
    "                                   sample_weight=None, \n",
    "                                   digits=2, \n",
    "                                   output_dict=True)).round(2))"
   ]
  },
  {
   "cell_type": "markdown",
   "metadata": {
    "id": "x-QztUQ9X8KL"
   },
   "source": [
    "*Precision is really small for class label 1, but recall is much better now for each class labels*. In the average value of F1-score, there is a moderate amount of increase when we compare with our first calculation on a single trial"
   ]
  },
  {
   "cell_type": "markdown",
   "metadata": {
    "cell_id": "00022-28a7a9d1-e95b-47b7-a31c-9b247c628087",
    "deepnote_cell_type": "markdown",
    "id": "Zvf9Dact_xwz"
   },
   "source": [
    "---\n",
    "\n",
    "### 🚩 Exercise 11\n",
    "\n",
    "Derive the confusion matrix for each model described above, `bal_log_rs` and `rec_model` using the confusion_matrix function. State the similarity and  differences of the obtained confusion matrices "
   ]
  },
  {
   "cell_type": "code",
   "execution_count": null,
   "metadata": {
    "colab": {
     "base_uri": "https://localhost:8080/",
     "height": 649
    },
    "hideCode": false,
    "hidePrompt": false,
    "id": "AbYuJsapjec5",
    "outputId": "f8b571f8-4a2e-429b-a219-267456368c51"
   },
   "outputs": [
    {
     "data": {
      "image/png": "[encoded data removed]",
      "text/plain": [
       "<Figure size 320x320 with 1 Axes>"
      ]
     },
     "metadata": {
      "needs_background": "light"
     },
     "output_type": "display_data"
    },
    {
     "data": {
      "image/png": "[encoded data removed]",
      "text/plain": [
       "<Figure size 320x320 with 1 Axes>"
      ]
     },
     "metadata": {
      "needs_background": "light"
     },
     "output_type": "display_data"
    }
   ],
   "source": [
    "# get the confusion matrix as a numpy array\n",
    "confmat = confusion_matrix(y_true=y_test, y_pred=log_rs.predict(X_test))\n",
    "# use the pretty function to make it nicer\n",
    "pretty_confusion_matrix(confmat, LE.classes_, \n",
    "                        \"Best CV Accuracy Validation Confusion Matrix\",\n",
    "                        highlight_indexes=[FP_i,FN_i,TP_i,TN_i]\n",
    "                       )\n",
    "\n",
    "# get the confusion matrix as a numpy array\n",
    "confmat = confusion_matrix(y_true=y_test, y_pred=rec_model.predict(X_test))\n",
    "# use the pretty function to make it nicer\n",
    "pretty_confusion_matrix(confmat, LE.classes_, \n",
    "                        \"Best CV Recall Validation Confusion Matrix\",\n",
    "                        highlight_indexes=[FN_i,TP_i]\n",
    "                       )"
   ]
  },
  {
   "cell_type": "markdown",
   "metadata": {
    "id": "ElXALUq6bD9O"
   },
   "source": [
    "For the cost of reducing the TN values and increase on the FP values, we had a certain improvement in terms of the unacceptable FN cases. FN means here the cases in which the person defaulted but the model predicts that the person do not default. Previosuly, our FN values are much larger than the TP ones but now we got TP = 29, FN = 4 and this results in certain improvement on the Recall value, the metric that we are using for the problem. As we discussed in the lecture, here FN is more expensive than the FP in this setting since predicting a person with default on loan as there is no default costs more than predicting a person without default on loan as there is a default.    "
   ]
  },
  {
   "cell_type": "markdown",
   "metadata": {
    "hideCode": false,
    "hidePrompt": false,
    "id": "WMdQ_gVdjec5"
   },
   "source": [
    "### 5.3.3. Resampling\n",
    "\n",
    "We can change the distribution of the classes in our training data.\n",
    "\n",
    "#### Under-Sampling\n",
    "\n",
    "A fast way to balance the data is just to randomly select a subset of the data for each class so they have the number of datapoints found in the smallest class.\n",
    "\n",
    "__Notes__\n",
    "\n",
    "- `RandomUnderSampler` is part of the Imblearn package, which allows for a lot of techniques for working with imballanced data.\n",
    "- There is a `resample` method in `scikit-learn` but Imblearn is a bit smoother to work with."
   ]
  },
  {
   "cell_type": "markdown",
   "metadata": {
    "id": "qctA7g8tZH_C"
   },
   "source": [
    "If you want to use a sampler in a model pipeline then you can use the pipeline from imblearn. Using a sampler in a pipeline ensure you wont be training and validating your data on a smaller/larger sample than normal and get unrepresentative results!"
   ]
  },
  {
   "cell_type": "code",
   "execution_count": null,
   "metadata": {
    "colab": {
     "base_uri": "https://localhost:8080/"
    },
    "hideCode": false,
    "hidePrompt": false,
    "id": "Pa8blBDVjec6",
    "outputId": "47de49fc-4f56-46f2-f57e-108bd4ffbdb2"
   },
   "outputs": [
    {
     "data": {
      "text/plain": [
       "RandomizedSearchCV(cv=StratifiedKFold(n_splits=5, random_state=None, shuffle=False),\n",
       "                   estimator=Pipeline(steps=[('scaler', StandardScaler()),\n",
       "                                             ('sampler',\n",
       "                                              RandomUnderSampler(random_state=123)),\n",
       "                                             ('model',\n",
       "                                              LogisticRegression(random_state=42))]),\n",
       "                   n_iter=60,\n",
       "                   param_distributions={'model__C': <scipy.stats._distn_infrastructure.rv_frozen object at 0x7fde3f852510>},\n",
       "                   random_state=42, refit='recall', return_train_score=True,\n",
       "                   scoring=['accuracy', 'f1', 'recall', 'precision'])"
      ]
     },
     "execution_count": 32,
     "metadata": {},
     "output_type": "execute_result"
    }
   ],
   "source": [
    "from imblearn.pipeline import Pipeline as ImPipeline\n",
    "from imblearn.under_sampling import RandomUnderSampler\n",
    "\n",
    "\n",
    "log_pipe = ImPipeline([\n",
    "    (\"scaler\", StandardScaler()),\n",
    "    (\"sampler\", RandomUnderSampler(random_state=123)),\n",
    "    (\"model\", LogisticRegression(random_state=42))])\n",
    "    \n",
    "# specify parameters and distributions to sample from\n",
    "log_param_dist = {'model__C':loguniform(C_list[0], C_list[-1])}\n",
    "\n",
    "us_log_rs = RandomizedSearchCV(log_pipe, \n",
    "                            param_distributions = log_param_dist,\n",
    "                            n_iter = 60, \n",
    "                            scoring = [\"accuracy\", \"f1\",\"recall\",\"precision\"], \n",
    "                            cv = StratifiedKFold(n_splits=5),\n",
    "                            refit = \"recall\", \n",
    "                            random_state = 42,\n",
    "                            return_train_score = True)\n",
    "\n",
    "us_log_rs.fit(X_train, y_train)"
   ]
  },
  {
   "cell_type": "code",
   "execution_count": null,
   "metadata": {
    "colab": {
     "base_uri": "https://localhost:8080/",
     "height": 206
    },
    "id": "NdzVhFDNjec6",
    "outputId": "042d8c73-2753-415b-82ce-a6aafec4ca32"
   },
   "outputs": [
    {
     "data": {
      "text/html": [
       "\n",
       "  <div id=\"df-9d9ac106-8815-47d3-8fa6-da7ea65803c1\">\n",
       "    <div class=\"colab-df-container\">\n",
       "      <div>\n",
       "<style scoped>\n",
       "    .dataframe tbody tr th:only-of-type {\n",
       "        vertical-align: middle;\n",
       "    }\n",
       "\n",
       "    .dataframe tbody tr th {\n",
       "        vertical-align: top;\n",
       "    }\n",
       "\n",
       "    .dataframe thead th {\n",
       "        text-align: right;\n",
       "    }\n",
       "</style>\n",
       "<table border=\"1\" class=\"dataframe\">\n",
       "  <thead>\n",
       "    <tr style=\"text-align: right;\">\n",
       "      <th></th>\n",
       "      <th>param_model__C</th>\n",
       "      <th>mean_test_recall</th>\n",
       "      <th>std_test_recall</th>\n",
       "    </tr>\n",
       "  </thead>\n",
       "  <tbody>\n",
       "    <tr>\n",
       "      <th>42</th>\n",
       "      <td>0.050337</td>\n",
       "      <td>0.910000</td>\n",
       "      <td>0.059255</td>\n",
       "    </tr>\n",
       "    <tr>\n",
       "      <th>10</th>\n",
       "      <td>0.04157</td>\n",
       "      <td>0.910000</td>\n",
       "      <td>0.059255</td>\n",
       "    </tr>\n",
       "    <tr>\n",
       "      <th>58</th>\n",
       "      <td>0.058499</td>\n",
       "      <td>0.906667</td>\n",
       "      <td>0.056372</td>\n",
       "    </tr>\n",
       "    <tr>\n",
       "      <th>29</th>\n",
       "      <td>0.059499</td>\n",
       "      <td>0.906667</td>\n",
       "      <td>0.056372</td>\n",
       "    </tr>\n",
       "    <tr>\n",
       "      <th>56</th>\n",
       "      <td>0.106568</td>\n",
       "      <td>0.906667</td>\n",
       "      <td>0.056372</td>\n",
       "    </tr>\n",
       "  </tbody>\n",
       "</table>\n",
       "</div>\n",
       "      <button class=\"colab-df-convert\" onclick=\"convertToInteractive('df-9d9ac106-8815-47d3-8fa6-da7ea65803c1')\"\n",
       "              title=\"Convert this dataframe to an interactive table.\"\n",
       "              style=\"display:none;\">\n",
       "        \n",
       "  <svg xmlns=\"http://www.w3.org/2000/svg\" height=\"24px\"viewBox=\"0 0 24 24\"\n",
       "       width=\"24px\">\n",
       "    <path d=\"M0 0h24v24H0V0z\" fill=\"none\"/>\n",
       "    <path d=\"M18.56 5.44l.94 2.06.94-2.06 2.06-.94-2.06-.94-.94-2.06-.94 2.06-2.06.94zm-11 1L8.5 8.5l.94-2.06 2.06-.94-2.06-.94L8.5 2.5l-.94 2.06-2.06.94zm10 10l.94 2.06.94-2.06 2.06-.94-2.06-.94-.94-2.06-.94 2.06-2.06.94z\"/><path d=\"M17.41 7.96l-1.37-1.37c-.4-.4-.92-.59-1.43-.59-.52 0-1.04.2-1.43.59L10.3 9.45l-7.72 7.72c-.78.78-.78 2.05 0 2.83L4 21.41c.39.39.9.59 1.41.59.51 0 1.02-.2 1.41-.59l7.78-7.78 2.81-2.81c.8-.78.8-2.07 0-2.86zM5.41 20L4 18.59l7.72-7.72 1.47 1.35L5.41 20z\"/>\n",
       "  </svg>\n",
       "      </button>\n",
       "      \n",
       "  <style>\n",
       "    .colab-df-container {\n",
       "      display:flex;\n",
       "      flex-wrap:wrap;\n",
       "      gap: 12px;\n",
       "    }\n",
       "\n",
       "    .colab-df-convert {\n",
       "      background-color: #E8F0FE;\n",
       "      border: none;\n",
       "      border-radius: 50%;\n",
       "      cursor: pointer;\n",
       "      display: none;\n",
       "      fill: #1967D2;\n",
       "      height: 32px;\n",
       "      padding: 0 0 0 0;\n",
       "      width: 32px;\n",
       "    }\n",
       "\n",
       "    .colab-df-convert:hover {\n",
       "      background-color: #E2EBFA;\n",
       "      box-shadow: 0px 1px 2px rgba(60, 64, 67, 0.3), 0px 1px 3px 1px rgba(60, 64, 67, 0.15);\n",
       "      fill: #174EA6;\n",
       "    }\n",
       "\n",
       "    [theme=dark] .colab-df-convert {\n",
       "      background-color: #3B4455;\n",
       "      fill: #D2E3FC;\n",
       "    }\n",
       "\n",
       "    [theme=dark] .colab-df-convert:hover {\n",
       "      background-color: #434B5C;\n",
       "      box-shadow: 0px 1px 3px 1px rgba(0, 0, 0, 0.15);\n",
       "      filter: drop-shadow(0px 1px 2px rgba(0, 0, 0, 0.3));\n",
       "      fill: #FFFFFF;\n",
       "    }\n",
       "  </style>\n",
       "\n",
       "      <script>\n",
       "        const buttonEl =\n",
       "          document.querySelector('#df-9d9ac106-8815-47d3-8fa6-da7ea65803c1 button.colab-df-convert');\n",
       "        buttonEl.style.display =\n",
       "          google.colab.kernel.accessAllowed ? 'block' : 'none';\n",
       "\n",
       "        async function convertToInteractive(key) {\n",
       "          const element = document.querySelector('#df-9d9ac106-8815-47d3-8fa6-da7ea65803c1');\n",
       "          const dataTable =\n",
       "            await google.colab.kernel.invokeFunction('convertToInteractive',\n",
       "                                                     [key], {});\n",
       "          if (!dataTable) return;\n",
       "\n",
       "          const docLinkHtml = 'Like what you see? Visit the ' +\n",
       "            '<a target=\"_blank\" href=https://colab.research.google.com/notebooks/data_table.ipynb>data table notebook</a>'\n",
       "            + ' to learn more about interactive tables.';\n",
       "          element.innerHTML = '';\n",
       "          dataTable['output_type'] = 'display_data';\n",
       "          await google.colab.output.renderOutput(dataTable, element);\n",
       "          const docLink = document.createElement('div');\n",
       "          docLink.innerHTML = docLinkHtml;\n",
       "          element.appendChild(docLink);\n",
       "        }\n",
       "      </script>\n",
       "    </div>\n",
       "  </div>\n",
       "  "
      ],
      "text/plain": [
       "   param_model__C  mean_test_recall  std_test_recall\n",
       "42       0.050337          0.910000         0.059255\n",
       "10        0.04157          0.910000         0.059255\n",
       "58       0.058499          0.906667         0.056372\n",
       "29       0.059499          0.906667         0.056372\n",
       "56       0.106568          0.906667         0.056372"
      ]
     },
     "execution_count": 33,
     "metadata": {},
     "output_type": "execute_result"
    }
   ],
   "source": [
    "us_log_rs_df = pd.DataFrame(us_log_rs.cv_results_)\n",
    "us_log_rs_df.sort_values(\"mean_test_recall\", ascending=False)[[\"param_model__C\", \n",
    "                                                               \"mean_test_recall\", \n",
    "                                                               \"std_test_recall\"]].head()"
   ]
  },
  {
   "cell_type": "markdown",
   "metadata": {
    "id": "6XcWzJcLlfY7"
   },
   "source": [
    "Based on the undersampler strategy, there is small improvement on the model based on the Recall value.  "
   ]
  },
  {
   "cell_type": "markdown",
   "metadata": {
    "cell_id": "00022-28a7a9d1-e95b-47b7-a31c-9b247c628087",
    "deepnote_cell_type": "markdown",
    "id": "4qQM8VKxAybZ"
   },
   "source": [
    "---\n",
    "\n",
    "### 🚩 Exercise 12\n",
    "\n",
    "Create a similar pipeline for oversampling strategy for the imbalanced data. It is very similar what you observed above as in `log_pipe`\n",
    "\n",
    "Hint: Consider now `from imblearn.over_sampling import RandomOverSampler` as a starting point.\n",
    "\n",
    "After getting the results in a similar way, compare the performance in terms of undersampling or oversampling"
   ]
  },
  {
   "cell_type": "markdown",
   "metadata": {
    "hideCode": false,
    "hidePrompt": false,
    "id": "1xk6k_W-jec6"
   },
   "source": [
    "#### Oversampling\n",
    "Data can be oversampled easily by randomly sampling from minority classes with replacement to duplicate original samples. \n",
    "\n",
    "Note:\n",
    "make sure to oversample after splitting the training and validation sets or you may \"bleed\" information into the validation sets of the model when trying to test a model\n",
    "\n",
    "In-other-words, make sure it is in a pipeline!"
   ]
  },
  {
   "cell_type": "code",
   "execution_count": null,
   "metadata": {
    "colab": {
     "base_uri": "https://localhost:8080/",
     "height": 206
    },
    "id": "Fr1rG4qujec7",
    "outputId": "243092ff-d8b3-4a5e-fff1-5e041b4bcbeb"
   },
   "outputs": [
    {
     "data": {
      "text/html": [
       "\n",
       "  <div id=\"df-ac2dd118-3655-48fb-b102-b972e6c75827\">\n",
       "    <div class=\"colab-df-container\">\n",
       "      <div>\n",
       "<style scoped>\n",
       "    .dataframe tbody tr th:only-of-type {\n",
       "        vertical-align: middle;\n",
       "    }\n",
       "\n",
       "    .dataframe tbody tr th {\n",
       "        vertical-align: top;\n",
       "    }\n",
       "\n",
       "    .dataframe thead th {\n",
       "        text-align: right;\n",
       "    }\n",
       "</style>\n",
       "<table border=\"1\" class=\"dataframe\">\n",
       "  <thead>\n",
       "    <tr style=\"text-align: right;\">\n",
       "      <th></th>\n",
       "      <th>param_model__C</th>\n",
       "      <th>mean_test_recall</th>\n",
       "      <th>std_test_recall</th>\n",
       "    </tr>\n",
       "  </thead>\n",
       "  <tbody>\n",
       "    <tr>\n",
       "      <th>49</th>\n",
       "      <td>0.405308</td>\n",
       "      <td>0.9</td>\n",
       "      <td>0.05164</td>\n",
       "    </tr>\n",
       "    <tr>\n",
       "      <th>14</th>\n",
       "      <td>0.388638</td>\n",
       "      <td>0.9</td>\n",
       "      <td>0.05164</td>\n",
       "    </tr>\n",
       "    <tr>\n",
       "      <th>32</th>\n",
       "      <td>0.077002</td>\n",
       "      <td>0.9</td>\n",
       "      <td>0.05164</td>\n",
       "    </tr>\n",
       "    <tr>\n",
       "      <th>31</th>\n",
       "      <td>0.332283</td>\n",
       "      <td>0.9</td>\n",
       "      <td>0.05164</td>\n",
       "    </tr>\n",
       "    <tr>\n",
       "      <th>29</th>\n",
       "      <td>0.059499</td>\n",
       "      <td>0.9</td>\n",
       "      <td>0.05164</td>\n",
       "    </tr>\n",
       "  </tbody>\n",
       "</table>\n",
       "</div>\n",
       "      <button class=\"colab-df-convert\" onclick=\"convertToInteractive('df-ac2dd118-3655-48fb-b102-b972e6c75827')\"\n",
       "              title=\"Convert this dataframe to an interactive table.\"\n",
       "              style=\"display:none;\">\n",
       "        \n",
       "  <svg xmlns=\"http://www.w3.org/2000/svg\" height=\"24px\"viewBox=\"0 0 24 24\"\n",
       "       width=\"24px\">\n",
       "    <path d=\"M0 0h24v24H0V0z\" fill=\"none\"/>\n",
       "    <path d=\"M18.56 5.44l.94 2.06.94-2.06 2.06-.94-2.06-.94-.94-2.06-.94 2.06-2.06.94zm-11 1L8.5 8.5l.94-2.06 2.06-.94-2.06-.94L8.5 2.5l-.94 2.06-2.06.94zm10 10l.94 2.06.94-2.06 2.06-.94-2.06-.94-.94-2.06-.94 2.06-2.06.94z\"/><path d=\"M17.41 7.96l-1.37-1.37c-.4-.4-.92-.59-1.43-.59-.52 0-1.04.2-1.43.59L10.3 9.45l-7.72 7.72c-.78.78-.78 2.05 0 2.83L4 21.41c.39.39.9.59 1.41.59.51 0 1.02-.2 1.41-.59l7.78-7.78 2.81-2.81c.8-.78.8-2.07 0-2.86zM5.41 20L4 18.59l7.72-7.72 1.47 1.35L5.41 20z\"/>\n",
       "  </svg>\n",
       "      </button>\n",
       "      \n",
       "  <style>\n",
       "    .colab-df-container {\n",
       "      display:flex;\n",
       "      flex-wrap:wrap;\n",
       "      gap: 12px;\n",
       "    }\n",
       "\n",
       "    .colab-df-convert {\n",
       "      background-color: #E8F0FE;\n",
       "      border: none;\n",
       "      border-radius: 50%;\n",
       "      cursor: pointer;\n",
       "      display: none;\n",
       "      fill: #1967D2;\n",
       "      height: 32px;\n",
       "      padding: 0 0 0 0;\n",
       "      width: 32px;\n",
       "    }\n",
       "\n",
       "    .colab-df-convert:hover {\n",
       "      background-color: #E2EBFA;\n",
       "      box-shadow: 0px 1px 2px rgba(60, 64, 67, 0.3), 0px 1px 3px 1px rgba(60, 64, 67, 0.15);\n",
       "      fill: #174EA6;\n",
       "    }\n",
       "\n",
       "    [theme=dark] .colab-df-convert {\n",
       "      background-color: #3B4455;\n",
       "      fill: #D2E3FC;\n",
       "    }\n",
       "\n",
       "    [theme=dark] .colab-df-convert:hover {\n",
       "      background-color: #434B5C;\n",
       "      box-shadow: 0px 1px 3px 1px rgba(0, 0, 0, 0.15);\n",
       "      filter: drop-shadow(0px 1px 2px rgba(0, 0, 0, 0.3));\n",
       "      fill: #FFFFFF;\n",
       "    }\n",
       "  </style>\n",
       "\n",
       "      <script>\n",
       "        const buttonEl =\n",
       "          document.querySelector('#df-ac2dd118-3655-48fb-b102-b972e6c75827 button.colab-df-convert');\n",
       "        buttonEl.style.display =\n",
       "          google.colab.kernel.accessAllowed ? 'block' : 'none';\n",
       "\n",
       "        async function convertToInteractive(key) {\n",
       "          const element = document.querySelector('#df-ac2dd118-3655-48fb-b102-b972e6c75827');\n",
       "          const dataTable =\n",
       "            await google.colab.kernel.invokeFunction('convertToInteractive',\n",
       "                                                     [key], {});\n",
       "          if (!dataTable) return;\n",
       "\n",
       "          const docLinkHtml = 'Like what you see? Visit the ' +\n",
       "            '<a target=\"_blank\" href=https://colab.research.google.com/notebooks/data_table.ipynb>data table notebook</a>'\n",
       "            + ' to learn more about interactive tables.';\n",
       "          element.innerHTML = '';\n",
       "          dataTable['output_type'] = 'display_data';\n",
       "          await google.colab.output.renderOutput(dataTable, element);\n",
       "          const docLink = document.createElement('div');\n",
       "          docLink.innerHTML = docLinkHtml;\n",
       "          element.appendChild(docLink);\n",
       "        }\n",
       "      </script>\n",
       "    </div>\n",
       "  </div>\n",
       "  "
      ],
      "text/plain": [
       "   param_model__C  mean_test_recall  std_test_recall\n",
       "49       0.405308               0.9          0.05164\n",
       "14       0.388638               0.9          0.05164\n",
       "32       0.077002               0.9          0.05164\n",
       "31       0.332283               0.9          0.05164\n",
       "29       0.059499               0.9          0.05164"
      ]
     },
     "execution_count": 34,
     "metadata": {},
     "output_type": "execute_result"
    }
   ],
   "source": [
    "from imblearn.over_sampling import RandomOverSampler\n",
    "oversampler = RandomOverSampler(random_state=123)\n",
    "\n",
    "log_pipe = ImPipeline([\n",
    "    (\"scaler\", StandardScaler()),\n",
    "    (\"sampler\", oversampler),\n",
    "    (\"model\", LogisticRegression(random_state=42))])\n",
    "    \n",
    "# specify parameters and distributions to sample from\n",
    "log_param_dist = {'model__C':loguniform(C_list[0], C_list[-1]),}\n",
    "\n",
    "os_log_rs = RandomizedSearchCV(log_pipe, \n",
    "                            param_distributions = log_param_dist,\n",
    "                            n_iter = 60, \n",
    "                            scoring = [\"accuracy\", \"f1\",\"recall\",\"precision\"], \n",
    "                            cv = StratifiedKFold(n_splits=5),\n",
    "                            refit = \"recall\", \n",
    "                            random_state = 42,\n",
    "                            return_train_score = True)\n",
    "\n",
    "os_log_rs.fit(X_train, y_train)\n",
    "\n",
    "os_log_rs_df = pd.DataFrame(os_log_rs.cv_results_)\n",
    "os_log_rs_df.sort_values(\"mean_test_recall\", ascending=False)[[\"param_model__C\", \n",
    "                                                               \"mean_test_recall\", \n",
    "                                                               \"std_test_recall\"]].head()"
   ]
  },
  {
   "cell_type": "markdown",
   "metadata": {
    "id": "H3zmcuY_djs-"
   },
   "source": [
    "In terms of the oversampled data, the mean of recall on the testing data is a bit smaller than the result of the undersampling case that we observed above. \n",
    "For this imbalanced data set, the use of undersampling is more beneficial for the improvement of recall value"
   ]
  },
  {
   "cell_type": "markdown",
   "metadata": {
    "cell_id": "00026-021075dd-c202-41db-9f49-2b4de4efd791",
    "deepnote_cell_type": "markdown",
    "id": "ilhDv3WHvZ73"
   },
   "source": [
    "---\n",
    "# 3 Multi-class Logistic Regression"
   ]
  },
  {
   "cell_type": "markdown",
   "metadata": {
    "cell_id": "00027-068e26c7-da60-4c7c-8551-5f914b53af75",
    "deepnote_cell_type": "markdown",
    "id": "NtUQzMD9vZ73"
   },
   "source": [
    "\n",
    "For this part, basically we will use the iris data, already available to use and it has nice properties in terms of class size "
   ]
  },
  {
   "cell_type": "code",
   "execution_count": null,
   "metadata": {
    "colab": {
     "base_uri": "https://localhost:8080/",
     "height": 491
    },
    "id": "kJqCZmu5uZpH",
    "outputId": "ded264fb-b181-48c7-9e8c-e50b123950c2"
   },
   "outputs": [
    {
     "name": "stdout",
     "output_type": "stream",
     "text": [
      "<class 'pandas.core.frame.DataFrame'>\n",
      "RangeIndex: 150 entries, 0 to 149\n",
      "Data columns (total 4 columns):\n",
      " #   Column             Non-Null Count  Dtype  \n",
      "---  ------             --------------  -----  \n",
      " 0   sepal length (cm)  150 non-null    float64\n",
      " 1   sepal width (cm)   150 non-null    float64\n",
      " 2   petal length (cm)  150 non-null    float64\n",
      " 3   petal width (cm)   150 non-null    float64\n",
      "dtypes: float64(4)\n",
      "memory usage: 4.8 KB\n"
     ]
    },
    {
     "data": {
      "text/html": [
       "\n",
       "  <div id=\"df-0b2e78d9-2d16-4b60-934e-b190dc389ceb\">\n",
       "    <div class=\"colab-df-container\">\n",
       "      <div>\n",
       "<style scoped>\n",
       "    .dataframe tbody tr th:only-of-type {\n",
       "        vertical-align: middle;\n",
       "    }\n",
       "\n",
       "    .dataframe tbody tr th {\n",
       "        vertical-align: top;\n",
       "    }\n",
       "\n",
       "    .dataframe thead th {\n",
       "        text-align: right;\n",
       "    }\n",
       "</style>\n",
       "<table border=\"1\" class=\"dataframe\">\n",
       "  <thead>\n",
       "    <tr style=\"text-align: right;\">\n",
       "      <th></th>\n",
       "      <th>sepal length (cm)</th>\n",
       "      <th>sepal width (cm)</th>\n",
       "      <th>petal length (cm)</th>\n",
       "      <th>petal width (cm)</th>\n",
       "    </tr>\n",
       "  </thead>\n",
       "  <tbody>\n",
       "    <tr>\n",
       "      <th>count</th>\n",
       "      <td>150.000000</td>\n",
       "      <td>150.000000</td>\n",
       "      <td>150.000000</td>\n",
       "      <td>150.000000</td>\n",
       "    </tr>\n",
       "    <tr>\n",
       "      <th>mean</th>\n",
       "      <td>5.843333</td>\n",
       "      <td>3.057333</td>\n",
       "      <td>3.758000</td>\n",
       "      <td>1.199333</td>\n",
       "    </tr>\n",
       "    <tr>\n",
       "      <th>std</th>\n",
       "      <td>0.828066</td>\n",
       "      <td>0.435866</td>\n",
       "      <td>1.765298</td>\n",
       "      <td>0.762238</td>\n",
       "    </tr>\n",
       "    <tr>\n",
       "      <th>min</th>\n",
       "      <td>4.300000</td>\n",
       "      <td>2.000000</td>\n",
       "      <td>1.000000</td>\n",
       "      <td>0.100000</td>\n",
       "    </tr>\n",
       "    <tr>\n",
       "      <th>25%</th>\n",
       "      <td>5.100000</td>\n",
       "      <td>2.800000</td>\n",
       "      <td>1.600000</td>\n",
       "      <td>0.300000</td>\n",
       "    </tr>\n",
       "    <tr>\n",
       "      <th>50%</th>\n",
       "      <td>5.800000</td>\n",
       "      <td>3.000000</td>\n",
       "      <td>4.350000</td>\n",
       "      <td>1.300000</td>\n",
       "    </tr>\n",
       "    <tr>\n",
       "      <th>75%</th>\n",
       "      <td>6.400000</td>\n",
       "      <td>3.300000</td>\n",
       "      <td>5.100000</td>\n",
       "      <td>1.800000</td>\n",
       "    </tr>\n",
       "    <tr>\n",
       "      <th>max</th>\n",
       "      <td>7.900000</td>\n",
       "      <td>4.400000</td>\n",
       "      <td>6.900000</td>\n",
       "      <td>2.500000</td>\n",
       "    </tr>\n",
       "  </tbody>\n",
       "</table>\n",
       "</div>\n",
       "      <button class=\"colab-df-convert\" onclick=\"convertToInteractive('df-0b2e78d9-2d16-4b60-934e-b190dc389ceb')\"\n",
       "              title=\"Convert this dataframe to an interactive table.\"\n",
       "              style=\"display:none;\">\n",
       "        \n",
       "  <svg xmlns=\"http://www.w3.org/2000/svg\" height=\"24px\"viewBox=\"0 0 24 24\"\n",
       "       width=\"24px\">\n",
       "    <path d=\"M0 0h24v24H0V0z\" fill=\"none\"/>\n",
       "    <path d=\"M18.56 5.44l.94 2.06.94-2.06 2.06-.94-2.06-.94-.94-2.06-.94 2.06-2.06.94zm-11 1L8.5 8.5l.94-2.06 2.06-.94-2.06-.94L8.5 2.5l-.94 2.06-2.06.94zm10 10l.94 2.06.94-2.06 2.06-.94-2.06-.94-.94-2.06-.94 2.06-2.06.94z\"/><path d=\"M17.41 7.96l-1.37-1.37c-.4-.4-.92-.59-1.43-.59-.52 0-1.04.2-1.43.59L10.3 9.45l-7.72 7.72c-.78.78-.78 2.05 0 2.83L4 21.41c.39.39.9.59 1.41.59.51 0 1.02-.2 1.41-.59l7.78-7.78 2.81-2.81c.8-.78.8-2.07 0-2.86zM5.41 20L4 18.59l7.72-7.72 1.47 1.35L5.41 20z\"/>\n",
       "  </svg>\n",
       "      </button>\n",
       "      \n",
       "  <style>\n",
       "    .colab-df-container {\n",
       "      display:flex;\n",
       "      flex-wrap:wrap;\n",
       "      gap: 12px;\n",
       "    }\n",
       "\n",
       "    .colab-df-convert {\n",
       "      background-color: #E8F0FE;\n",
       "      border: none;\n",
       "      border-radius: 50%;\n",
       "      cursor: pointer;\n",
       "      display: none;\n",
       "      fill: #1967D2;\n",
       "      height: 32px;\n",
       "      padding: 0 0 0 0;\n",
       "      width: 32px;\n",
       "    }\n",
       "\n",
       "    .colab-df-convert:hover {\n",
       "      background-color: #E2EBFA;\n",
       "      box-shadow: 0px 1px 2px rgba(60, 64, 67, 0.3), 0px 1px 3px 1px rgba(60, 64, 67, 0.15);\n",
       "      fill: #174EA6;\n",
       "    }\n",
       "\n",
       "    [theme=dark] .colab-df-convert {\n",
       "      background-color: #3B4455;\n",
       "      fill: #D2E3FC;\n",
       "    }\n",
       "\n",
       "    [theme=dark] .colab-df-convert:hover {\n",
       "      background-color: #434B5C;\n",
       "      box-shadow: 0px 1px 3px 1px rgba(0, 0, 0, 0.15);\n",
       "      filter: drop-shadow(0px 1px 2px rgba(0, 0, 0, 0.3));\n",
       "      fill: #FFFFFF;\n",
       "    }\n",
       "  </style>\n",
       "\n",
       "      <script>\n",
       "        const buttonEl =\n",
       "          document.querySelector('#df-0b2e78d9-2d16-4b60-934e-b190dc389ceb button.colab-df-convert');\n",
       "        buttonEl.style.display =\n",
       "          google.colab.kernel.accessAllowed ? 'block' : 'none';\n",
       "\n",
       "        async function convertToInteractive(key) {\n",
       "          const element = document.querySelector('#df-0b2e78d9-2d16-4b60-934e-b190dc389ceb');\n",
       "          const dataTable =\n",
       "            await google.colab.kernel.invokeFunction('convertToInteractive',\n",
       "                                                     [key], {});\n",
       "          if (!dataTable) return;\n",
       "\n",
       "          const docLinkHtml = 'Like what you see? Visit the ' +\n",
       "            '<a target=\"_blank\" href=https://colab.research.google.com/notebooks/data_table.ipynb>data table notebook</a>'\n",
       "            + ' to learn more about interactive tables.';\n",
       "          element.innerHTML = '';\n",
       "          dataTable['output_type'] = 'display_data';\n",
       "          await google.colab.output.renderOutput(dataTable, element);\n",
       "          const docLink = document.createElement('div');\n",
       "          docLink.innerHTML = docLinkHtml;\n",
       "          element.appendChild(docLink);\n",
       "        }\n",
       "      </script>\n",
       "    </div>\n",
       "  </div>\n",
       "  "
      ],
      "text/plain": [
       "       sepal length (cm)  sepal width (cm)  petal length (cm)  \\\n",
       "count         150.000000        150.000000         150.000000   \n",
       "mean            5.843333          3.057333           3.758000   \n",
       "std             0.828066          0.435866           1.765298   \n",
       "min             4.300000          2.000000           1.000000   \n",
       "25%             5.100000          2.800000           1.600000   \n",
       "50%             5.800000          3.000000           4.350000   \n",
       "75%             6.400000          3.300000           5.100000   \n",
       "max             7.900000          4.400000           6.900000   \n",
       "\n",
       "       petal width (cm)  \n",
       "count        150.000000  \n",
       "mean           1.199333  \n",
       "std            0.762238  \n",
       "min            0.100000  \n",
       "25%            0.300000  \n",
       "50%            1.300000  \n",
       "75%            1.800000  \n",
       "max            2.500000  "
      ]
     },
     "execution_count": 35,
     "metadata": {},
     "output_type": "execute_result"
    }
   ],
   "source": [
    "# First load the data here\n",
    "from sklearn.datasets import load_iris\n",
    "\n",
    "# Loading data\n",
    "raw_data = load_iris()\n",
    "data_desc = raw_data.DESCR\n",
    "data = pd.DataFrame(raw_data.data, columns=raw_data.feature_names)\n",
    "\n",
    "# Some information on data set \n",
    "data.head()\n",
    "data.info()\n",
    "data.describe()"
   ]
  },
  {
   "cell_type": "markdown",
   "metadata": {
    "id": "b1kX39bpvRlW"
   },
   "source": [
    "\n",
    "Since we will be attempting to predict the species of flower which is a finite list of categorical options (ie. Setosa, Virginica, Versicolor), we need to assign a numerical value for each of the species within dummy variables. Dummy variables are variables that take binary (True=1, False=0) assignments based on every category in a given column. For example, our categories are Setosa, Virginica and Versicolor. We will have a column for each of these species and will assign a 1 or 0 for each row depending on what species they are. So a sample row representing Setosa, will have the Setosa column value of 1 and the Virginica and Versicolor values would be assigned as 0."
   ]
  },
  {
   "cell_type": "code",
   "execution_count": null,
   "metadata": {
    "cell_id": "00030-d0c72235-001d-4cd4-a50f-302b40d9e4d3",
    "colab": {
     "base_uri": "https://localhost:8080/"
    },
    "collapsed": true,
    "deepnote_cell_type": "code",
    "id": "VcuBnGPavZ73",
    "outputId": "81a206c5-075f-4e89-a03f-538001168e58",
    "output_cleared": true
   },
   "outputs": [
    {
     "name": "stdout",
     "output_type": "stream",
     "text": [
      "   sepal length (cm)  sepal width (cm)  petal length (cm)  petal width (cm)  \\\n",
      "0                5.1               3.5                1.4               0.2   \n",
      "1                4.9               3.0                1.4               0.2   \n",
      "2                4.7               3.2                1.3               0.2   \n",
      "3                4.6               3.1                1.5               0.2   \n",
      "4                5.0               3.6                1.4               0.2   \n",
      "\n",
      "  species  \n",
      "0  setosa  \n",
      "1  setosa  \n",
      "2  setosa  \n",
      "3  setosa  \n",
      "4  setosa  \n",
      "setosa        50\n",
      "versicolor    50\n",
      "virginica     50\n",
      "Name: species, dtype: int64\n"
     ]
    }
   ],
   "source": [
    "# Consider species_label function as a helper \n",
    "\n",
    "# data = pd.DataFrame(raw_data.data, columns=raw_data.feature_names)\n",
    "data['species'] = [species_label(theta) for theta in raw_data.target]\n",
    "#data['species_id'] = raw_data.target\n",
    "print(data.head())\n",
    "\n",
    "# Class size information\n",
    "print(data.species.value_counts())"
   ]
  },
  {
   "cell_type": "markdown",
   "metadata": {
    "cell_id": "00031-b1d09da5-a8c6-46db-a5ec-617662e344a9",
    "deepnote_cell_type": "markdown",
    "id": "kMZfWvLKvZ74"
   },
   "source": [
    "Some Visual Inspection on the data set"
   ]
  },
  {
   "cell_type": "code",
   "execution_count": null,
   "metadata": {
    "cell_id": "00032-d4cd3759-a588-4d95-b34e-507416ebc046",
    "colab": {
     "base_uri": "https://localhost:8080/",
     "height": 805
    },
    "deepnote_cell_type": "code",
    "id": "Rt0cuv8uvZ74",
    "outputId": "b065c035-885e-4de7-95eb-dfb875ec4082",
    "output_cleared": true
   },
   "outputs": [
    {
     "data": {
      "image/png": "[encoded data removed]",
      "text/plain": [
       "<Figure size 894.375x800 with 20 Axes>"
      ]
     },
     "metadata": {},
     "output_type": "display_data"
    }
   ],
   "source": [
    "sns.set_style('whitegrid')\n",
    "sns.pairplot(data, hue='species')\n",
    "plt.show()"
   ]
  },
  {
   "cell_type": "code",
   "execution_count": null,
   "metadata": {
    "colab": {
     "base_uri": "https://localhost:8080/"
    },
    "id": "WEq_asGw5d7M",
    "outputId": "da1ac0e7-a34b-4ef4-c30e-34e72d359e36"
   },
   "outputs": [
    {
     "name": "stdout",
     "output_type": "stream",
     "text": [
      "0      0\n",
      "1      0\n",
      "2      0\n",
      "3      0\n",
      "4      0\n",
      "      ..\n",
      "145    2\n",
      "146    2\n",
      "147    2\n",
      "148    2\n",
      "149    2\n",
      "Name: species, Length: 150, dtype: int8\n",
      "   sepal length (cm)  sepal width (cm)  petal length (cm)  petal width (cm)\n",
      "0                5.1               3.5                1.4               0.2\n",
      "1                4.9               3.0                1.4               0.2\n",
      "2                4.7               3.2                1.3               0.2\n",
      "3                4.6               3.1                1.5               0.2\n",
      "4                5.0               3.6                1.4               0.2\n",
      "0    0\n",
      "1    0\n",
      "2    0\n",
      "3    0\n",
      "4    0\n",
      "Name: species, dtype: int8\n"
     ]
    }
   ],
   "source": [
    "#Prepare the data set\n",
    "\n",
    "#Encoding Species columns (to numerical values)\n",
    "data['species'] = data['species'].astype('category').cat.codes\n",
    "print(data['species'])\n",
    "#Feature & Target Selection\n",
    "#features = data.select_dtypes('float').columns\n",
    "#target = ['species']\n",
    "\n",
    "# X = feature values, all the columns except the last column\n",
    "X = data.iloc[:, :-1]\n",
    "print(X.head())\n",
    "\n",
    "# y = target values, last column of the data frame\n",
    "y = data.iloc[:, -1]\n",
    "\n",
    "print(y.head())"
   ]
  },
  {
   "cell_type": "markdown",
   "metadata": {
    "id": "eJZMp0E13sbM"
   },
   "source": [
    "---\n",
    "\n",
    "### 🚩 Exercise 13\n",
    "\n",
    "1. Partition your data set into training and testing with %80-%20 ratio \n",
    "3. Create One-Vs-Rest Logistic Regression pipeline and train your model\n",
    "4. Create Multinomial Logistic Regression pipeline and train your model"
   ]
  },
  {
   "cell_type": "code",
   "execution_count": null,
   "metadata": {
    "id": "a6oFWVAO9koc"
   },
   "outputs": [],
   "source": [
    "#SK Learn Libraries\n",
    "import sklearn\n",
    "from sklearn.multiclass import OneVsRestClassifier   # 1vsRest Classifiers\n",
    "from sklearn.preprocessing import LabelEncoder\n",
    "\n",
    "from sklearn.model_selection import train_test_split\n",
    "from sklearn.preprocessing import StandardScaler\n",
    "from sklearn.metrics import accuracy_score\n",
    "from sklearn.metrics import f1_score"
   ]
  },
  {
   "cell_type": "code",
   "execution_count": null,
   "metadata": {
    "colab": {
     "base_uri": "https://localhost:8080/"
    },
    "id": "w4WNugDJ9m-B",
    "outputId": "12cc4c5b-a737-4fc4-de3a-5d5d9ca47c46"
   },
   "outputs": [
    {
     "data": {
      "text/plain": [
       "(    sepal length (cm)  sepal width (cm)  petal length (cm)  petal width (cm)\n",
       " 22                4.6               3.6                1.0               0.2\n",
       " 15                5.7               4.4                1.5               0.4\n",
       " 65                6.7               3.1                4.4               1.4\n",
       " 11                4.8               3.4                1.6               0.2\n",
       " 42                4.4               3.2                1.3               0.2,\n",
       "    sepal length (cm)  sepal width (cm)  petal length (cm)  petal width (cm)\n",
       " 0                6.1               2.8                4.7               1.2\n",
       " 1                5.7               3.8                1.7               0.3\n",
       " 2                7.7               2.6                6.9               2.3\n",
       " 3                6.0               2.9                4.5               1.5\n",
       " 4                6.8               2.8                4.8               1.4,\n",
       " 22    0\n",
       " 15    0\n",
       " 65    1\n",
       " 11    0\n",
       " 42    0\n",
       " Name: species, dtype: int8,\n",
       " 0    1\n",
       " 1    0\n",
       " 2    2\n",
       " 3    1\n",
       " 4    1\n",
       " Name: species, dtype: int8)"
      ]
     },
     "execution_count": 41,
     "metadata": {},
     "output_type": "execute_result"
    }
   ],
   "source": [
    "#Split Parameters\n",
    "test_size = 0.2\n",
    "\n",
    "#Dataset Split over training and testing \n",
    "X_train, X_test, y_train, y_test = train_test_split(X, y, test_size=test_size, random_state=42) \n",
    "\n",
    "#Reset Index\n",
    "X_test = X_test.reset_index(drop=True)\n",
    "y_test = y_test.reset_index(drop=True)\n",
    "\n",
    "#Some insight on the selected data set \n",
    "X_train.head(), X_test.head(), y_train.head(), y_test.head() "
   ]
  },
  {
   "cell_type": "markdown",
   "metadata": {
    "id": "9Ow2uUjn-5H9"
   },
   "source": [
    "Under this method/strategy a multi-class classification dataset (in our case IRIS) is split into multiple binary classification chunks/datasets. Then a binary classifier (in our case SVC) is trained on each of the binary classification datasets and a prediction(s) is made using the model that has the most confidence value. The IRIS dataset will be split into individual datasets for each Species versus every other Species. Following are the details:\n",
    "\n",
    "1. Binary Classification: setosa vs versicolor\n",
    "2. Binary Classification: setosa vs virginica\n",
    "3. Binary Classification: versicolor vs virginica\n",
    "\n",
    "Side Not: The **OneVsRestClassifier** class is very easy to use and requires that a classifier that is to be used for binary classification be provided to the **OneVsRestClassifier** as an argument."
   ]
  },
  {
   "cell_type": "code",
   "execution_count": null,
   "metadata": {
    "colab": {
     "base_uri": "https://localhost:8080/",
     "height": 456
    },
    "id": "dQldnIVz-xJw",
    "outputId": "5f4bdc19-c771-408d-dee2-109a84499aa7"
   },
   "outputs": [
    {
     "name": "stdout",
     "output_type": "stream",
     "text": [
      "OneVsRestClassifier(estimator=Pipeline(steps=[('scaler', StandardScaler()),\n",
      "                                              ('sampler',\n",
      "                                               RandomOverSampler(random_state=123)),\n",
      "                                              ('model',\n",
      "                                               LogisticRegression(random_state=42))]))\n"
     ]
    },
    {
     "data": {
      "text/plain": [
       "<matplotlib.axes._subplots.AxesSubplot at 0x7fde3cdb1650>"
      ]
     },
     "execution_count": 42,
     "metadata": {},
     "output_type": "execute_result"
    },
    {
     "data": {
      "image/png": "[encoded data removed]",
      "text/plain": [
       "<Figure size 640x400 with 2 Axes>"
      ]
     },
     "metadata": {},
     "output_type": "display_data"
    }
   ],
   "source": [
    "\n",
    "#Define 1-vs-Rest Strategy / Classifier\n",
    "# Recall the logistic pipeline as a model\n",
    "ovr = OneVsRestClassifier(log_pipe)\n",
    "print(ovr)\n",
    "\n",
    "#fit model to training data\n",
    "ovr.fit(X_train, y_train)\n",
    "\n",
    "#Predictions\n",
    "ovr_pred = ovr.predict(X_test)\n",
    "ovr_pred\n",
    "\n",
    "# get the confusion matrix as a numpy array\n",
    "confmat = confusion_matrix(y_true = y_test, y_pred = ovr_pred)\n",
    "\n",
    "confmat\n",
    "\n",
    "# OR with seaborn as a heat map\n",
    "import seaborn as sns\n",
    "sns.heatmap(confmat, annot=True)\n"
   ]
  },
  {
   "cell_type": "code",
   "execution_count": null,
   "metadata": {
    "colab": {
     "base_uri": "https://localhost:8080/",
     "height": 369
    },
    "id": "Y6BEix69Ffel",
    "outputId": "345fc879-d62a-49ff-f632-a7f7a520a376"
   },
   "outputs": [
    {
     "data": {
      "text/plain": [
       "<matplotlib.axes._subplots.AxesSubplot at 0x7fde3f4fa8d0>"
      ]
     },
     "execution_count": 43,
     "metadata": {},
     "output_type": "execute_result"
    },
    {
     "data": {
      "image/png": "[encoded data removed]",
      "text/plain": [
       "<Figure size 640x400 with 2 Axes>"
      ]
     },
     "metadata": {},
     "output_type": "display_data"
    }
   ],
   "source": [
    "# Rather than using the OneVsRestClassifier module one can define the same thing\n",
    "# with the first pipeline that we observed \n",
    "\n",
    "log_pipe = Pipeline([\n",
    "        (\"scaler\", StandardScaler()),\n",
    "        (\"model\", LogisticRegression(random_state=42, multi_class = \"ovr\"))])\n",
    "\n",
    "log_pipe.fit(X_train, y_train)\n",
    "\n",
    "# use the first classifier to predict the validation set    \n",
    "predictions = log_pipe.predict(X_test)\n",
    "\n",
    "# get the confusion matrix as a numpy array\n",
    "confmat = confusion_matrix(y_true = y_test, y_pred = predictions)\n",
    "# confmat\n",
    "\n",
    "import seaborn as sns\n",
    "sns.heatmap(confmat, annot=True)\n"
   ]
  },
  {
   "cell_type": "markdown",
   "metadata": {
    "id": "O26qY6A_-NvN"
   },
   "source": [
    "---\n",
    "\n",
    "### 🚩 Exercise 14\n",
    "\n",
    "1. Test the performance of one-vs-rest and multinomial logistic models\n",
    "2. Derive the confusion matrix for each model"
   ]
  },
  {
   "cell_type": "code",
   "execution_count": null,
   "metadata": {
    "colab": {
     "base_uri": "https://localhost:8080/"
    },
    "id": "6VKonBNZHDSz",
    "outputId": "54920342-fff2-4752-fc81-1860c6bf29fe"
   },
   "outputs": [
    {
     "name": "stdout",
     "output_type": "stream",
     "text": [
      "      fit_time  score_time  val_score  train_score\n",
      "fold                                              \n",
      "mean      0.04        0.01       0.90         0.94\n",
      "sd        0.01        0.01       0.09         0.02\n",
      "[[10  0  0]\n",
      " [ 0  8  1]\n",
      " [ 0  0 11]]\n",
      "F1 score for 0.9664109121909632\n",
      "      fit_time  score_time  val_score  train_score\n",
      "fold                                              \n",
      "mean      0.05        0.01       0.96         0.97\n",
      "sd        0.01        0.00       0.05         0.01\n",
      "[[10  0  0]\n",
      " [ 0  8  1]\n",
      " [ 0  0 11]]\n",
      "F1 score for 0.9664109121909632\n"
     ]
    }
   ],
   "source": [
    "from sklearn.model_selection import cross_validate\n",
    "\n",
    "model_dict = {\n",
    "    \"log_ovr\": LogisticRegression(random_state=42, multi_class = \"ovr\"),\n",
    "    \"log_multi\": LogisticRegression(random_state=42, multi_class = \"multinomial\")\n",
    "    }\n",
    "\n",
    "for model_name in model_dict:\n",
    "    linear_pipe = Pipeline([\n",
    "        (\"scaler\", StandardScaler()),\n",
    "        (\"model\", model_dict[model_name])])\n",
    "    \n",
    "    #Applying Cross-validation with 5-fold\n",
    "    scores = tidy_scores(cross_validate(linear_pipe, X_train, y_train, cv = 5, return_train_score = True))\n",
    "    print(scores.loc[['mean', 'sd']])\n",
    "\n",
    "    predictions = log_pipe.predict(X_test)\n",
    "    confmat = confusion_matrix(y_true=y_test, y_pred=predictions)\n",
    "    print(confmat)\n",
    "\n",
    "    print(\"F1 score for\", f1_score(y_test, predictions, average = \"weighted\"))\n",
    "    # sns.heatmap(confmat, annot=True)"
   ]
  },
  {
   "cell_type": "code",
   "execution_count": null,
   "metadata": {
    "colab": {
     "base_uri": "https://localhost:8080/",
     "height": 369
    },
    "id": "dCuwn7Nue-pD",
    "outputId": "d4c25df9-cdef-42fd-e872-0519efc8ff3a"
   },
   "outputs": [
    {
     "data": {
      "text/plain": [
       "<matplotlib.axes._subplots.AxesSubplot at 0x7fde3cbea5d0>"
      ]
     },
     "execution_count": 45,
     "metadata": {},
     "output_type": "execute_result"
    },
    {
     "data": {
      "image/png": "[encoded data removed]",
      "text/plain": [
       "<Figure size 640x400 with 2 Axes>"
      ]
     },
     "metadata": {},
     "output_type": "display_data"
    }
   ],
   "source": [
    "import seaborn as sns\n",
    "sns.heatmap(confmat, annot=True)"
   ]
  },
  {
   "cell_type": "markdown",
   "metadata": {
    "id": "EW10NyWz8vK-"
   },
   "source": [
    "\n",
    "Both approaches are performing quite well and they resulted in equaivalent F1 score results for one-vs-rest and multinomial cases. The only misclassified observation is that the prediction of class label 1 as a class label 2 above \n"
   ]
  },
  {
   "cell_type": "markdown",
   "metadata": {
    "cell_id": "00045-2510df6f-73e5-4a95-a0e6-84c3fcfc0d85",
    "deepnote_cell_type": "markdown",
    "id": "FejpEQrxvZ77"
   },
   "source": [
    "---\n",
    "\n",
    "## 4. Regularization on logistic regression\n",
    "\n",
    "Note that regularized logistic regression is implemented using the ‘liblinear’ library, ‘newton-cg’, ‘sag’, ‘saga’ and ‘lbfgs’ solvers in scikits-learn. Note that regularization is applied by default as $L_2$.\n",
    "\n",
    "So, to compare logistic regression without any regularization, play with the parameters of `LogisticRegression` function.\n",
    "\n"
   ]
  },
  {
   "cell_type": "markdown",
   "metadata": {
    "cell_id": "00046-c8a96bcf-e22c-455d-b8f7-38de9f5226d0",
    "deepnote_cell_type": "markdown",
    "id": "G7JYVzIfvZ77"
   },
   "source": [
    "### 4.1 Without regularization"
   ]
  },
  {
   "cell_type": "markdown",
   "metadata": {
    "id": "sVmGEX-lABk_"
   },
   "source": [
    "---\n",
    "\n",
    "### 🚩 Exercise 15\n",
    "\n",
    "1. Rebuild your best model as a result of Exercise 8 without any regularization\n",
    "2. Derive the confusion matrix for the obtained model"
   ]
  },
  {
   "cell_type": "code",
   "execution_count": null,
   "metadata": {
    "colab": {
     "base_uri": "https://localhost:8080/"
    },
    "id": "bZ7RiVD6JobI",
    "outputId": "2a6f62ac-2de4-4629-dc35-475a8056dc14"
   },
   "outputs": [
    {
     "name": "stdout",
     "output_type": "stream",
     "text": [
      "      fit_time  score_time  val_score  train_score\n",
      "fold                                              \n",
      "mean      0.02         0.0       0.95         0.98\n",
      "sd        0.00         0.0       0.06         0.02\n",
      "[[10  0  0]\n",
      " [ 0  8  1]\n",
      " [ 0  0 11]]\n",
      "F1 score for 0.9664109121909632\n",
      "      fit_time  score_time  val_score  train_score\n",
      "fold                                              \n",
      "mean      0.02         0.0       0.95         0.99\n",
      "sd        0.00         0.0       0.06         0.01\n",
      "[[10  0  0]\n",
      " [ 0  8  1]\n",
      " [ 0  0 11]]\n",
      "F1 score for 0.9664109121909632\n"
     ]
    }
   ],
   "source": [
    "from sklearn.model_selection import cross_validate\n",
    "\n",
    "model_dict = {\n",
    "    \"log_ovr_noreg\": LogisticRegression(penalty = \"none\", random_state=42, multi_class = \"ovr\"),\n",
    "    \"log_multi_noreg\": LogisticRegression(penalty = \"none\", random_state=42, multi_class = \"multinomial\")\n",
    "    }\n",
    "\n",
    "for model_name in model_dict:\n",
    "    linear_pipe = Pipeline([\n",
    "        (\"scaler\", StandardScaler()),\n",
    "        (\"model\", model_dict[model_name])])\n",
    "    \n",
    "    # Applying Cross-validation with 5-fold\n",
    "    scores = tidy_scores(cross_validate(linear_pipe, X_train, y_train, cv = 5, return_train_score = True))\n",
    "    print(scores.loc[['mean', 'sd']])\n",
    "\n",
    "    predictions = log_pipe.predict(X_test)\n",
    "    confmat = confusion_matrix(y_true=y_test, y_pred=predictions)\n",
    "    print(confmat)\n",
    "\n",
    "    print(\"F1 score for\", f1_score(y_test, predictions, average = \"weighted\"))\n",
    "    # sns.heatmap(confmat, annot=True)"
   ]
  },
  {
   "cell_type": "markdown",
   "metadata": {
    "id": "XvgzcXCtevoi"
   },
   "source": [
    "For the given data set, even if there is no regularization, the benchmark classical logistic regression performs well enough in terms of both approaches. The one miss-classified class is the same that we observed above in the $L_2$ default regularized version"
   ]
  },
  {
   "cell_type": "markdown",
   "metadata": {
    "id": "aIdMjQiuojRi"
   },
   "source": [
    "## EXTRA: CV and Parameter tuning \n",
    "\n",
    "Now, different regularized model with RandomizedSearchCV is implemented \n",
    "for the default data by using undersampling strategy to see the outputs. \n",
    "\n"
   ]
  },
  {
   "cell_type": "code",
   "execution_count": null,
   "metadata": {
    "id": "MTdTqWFlgfaI"
   },
   "outputs": [],
   "source": [
    "# Putting all together for default data with\n",
    "# Feature matrix and response separation \n",
    "data_x, data_y = df_default.drop(['default'], axis=1), df_default['default']\n",
    "\n",
    "print(data_x.shape)\n",
    "print(data_y.shape)\n",
    "\n",
    "from sklearn.model_selection import train_test_split\n",
    "\n",
    "X_train, X_test, y_train, y_test = train_test_split(data_x.values, data_y.values, stratify = data_y, \n",
    "                                                    test_size = 0.1, random_state=42)\n",
    "\n",
    "# The same proportion is satisfied for both train and test data sets \n",
    "print(pd.Series(y_train).value_counts(normalize=True)*100)\n",
    "print(pd.Series(y_test).value_counts(normalize=True)*100)\n",
    "\n",
    "#Converting the response variable \n",
    "\n",
    "from sklearn.preprocessing import LabelEncoder\n",
    "\n",
    "LE = LabelEncoder()\n",
    "y_train = LE.fit_transform(y_train)\n",
    "y_val = LE.transform(y_val)\n",
    "y_test = LE.transform(y_test)\n"
   ]
  },
  {
   "cell_type": "code",
   "execution_count": null,
   "metadata": {
    "id": "9VutAgD6hadS"
   },
   "outputs": [],
   "source": [
    "# Create different classifiers with various options \n",
    "classifiers = {\n",
    "    'L1 logistic (Multinomial)': LogisticRegression(C=C, penalty='l1',\n",
    "                                                    multi_class='auto',\n",
    "                                                    max_iter=1000),\n",
    "               \n",
    "    'L2 logistic (Multinomial)': LogisticRegression(C=C, penalty='l2',\n",
    "                                                    multi_class='auto',\n",
    "                                                    max_iter=1000),\n",
    "               \n",
    "    'L1 logistic (OvR)': LogisticRegression(C=C, penalty='l1',\n",
    "                                            multi_class='auto',\n",
    "                                            max_iter=1000),\n",
    "               \n",
    "    'L2 logistic (OvR)': LogisticRegression(C=C, penalty='l2',\n",
    "                                            multi_class='auto',\n",
    "                                            max_iter=1000)\n",
    "}\n"
   ]
  },
  {
   "cell_type": "markdown",
   "metadata": {
    "id": "muyjy-HN0CpQ"
   },
   "source": [
    "---\n",
    "\n",
    "Add your text solution here"
   ]
  },
  {
   "cell_type": "code",
   "execution_count": null,
   "metadata": {
    "id": "n5vw74epifGh"
   },
   "outputs": [],
   "source": [
    "from imblearn.pipeline import Pipeline as ImPipeline\n",
    "from imblearn.under_sampling import RandomUnderSampler\n",
    "\n",
    "\n",
    "for model_name in classifiers:\n",
    "  log_pipe = ImPipeline([\n",
    "    (\"scaler\", StandardScaler()),\n",
    "    (\"sampler\", RandomUnderSampler(random_state=123)),\n",
    "    (\"model\", classifiers[model_name])])\n",
    "    \n",
    "# specify parameters and distributions to sample from\n",
    "log_param_dist = {'model__C':loguniform(C_list[0], C_list[-1])}\n",
    "\n",
    "us_log_rs = RandomizedSearchCV(log_pipe, \n",
    "                            param_distributions = log_param_dist,\n",
    "                            n_iter = 60, \n",
    "                            scoring = [\"accuracy\", \"f1\", \"recall\", \"precision\"], \n",
    "                            cv = StratifiedKFold(n_splits=5),\n",
    "                            refit = \"recall\", \n",
    "                            random_state = 42,\n",
    "                            return_train_score = True)\n",
    "#us_log_rs\n",
    "us_log_rs.fit(X_train, y_train)"
   ]
  },
  {
   "cell_type": "code",
   "execution_count": null,
   "metadata": {
    "id": "6GHPtmEXkbIt"
   },
   "outputs": [],
   "source": [
    "us_log_rs_df = pd.DataFrame(us_log_rs.cv_results_)\n",
    "\n",
    "us_log_rs_df.sort_values(\"mean_test_recall\", ascending=False)[[\"param_model__C\", \n",
    "                                                               \"mean_test_recall\", \n",
    "                                                               \"std_test_recall\"]].head()"
   ]
  },
  {
   "cell_type": "markdown",
   "metadata": {
    "cell_id": "00086-7422c6b7-c86a-41ac-8d32-8ba6063dcba5",
    "deepnote_cell_type": "markdown",
    "id": "-ICOV5l8vZ8G"
   },
   "source": [
    "---\n",
    "\n",
    "## 7. Competing the worksheet\n",
    "\n",
    "At this point you have hopefully been able to complete all the preceeding exercises. Now \n",
    "is a good time to check the reproducibility of this document by restarting the notebook's\n",
    "kernel and rerunning all cells in order.\n",
    "\n",
    "Once that is done and you are happy with everything, you can generate your PDF and turn it in on gradescope under the `mlp-week07` assignment."
   ]
  }
 ],
 "metadata": {
  "colab": {
   "collapsed_sections": [],
   "name": "week07_ solutions.ipynb",
   "provenance": []
  },
  "deepnote_execution_queue": [],
  "deepnote_notebook_id": "2f0f4e4a-50b4-476a-ac32-ea3a1e98d30c",
  "kernelspec": {
   "display_name": "Python 3 (ipykernel)",
   "language": "python",
   "name": "python3"
  },
  "language_info": {
   "codemirror_mode": {
    "name": "ipython",
    "version": 3
   },
   "file_extension": ".py",
   "mimetype": "text/x-python",
   "name": "python",
   "nbconvert_exporter": "python",
   "pygments_lexer": "ipython3",
   "version": "3.9.12"
  }
 },
 "nbformat": 4,
 "nbformat_minor": 1
}
