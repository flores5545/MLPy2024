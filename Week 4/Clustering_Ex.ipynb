{
 "cells": [
  {
   "cell_type": "markdown",
   "metadata": {
    "id": "uGGWQH7IxSyg"
   },
   "source": [
    "# Week 4 - Clustering\n",
    "## Exercises\n",
    "by [David Elliott](#DavidElliot), with minor editing by Cassandra Khan"
   ]
  },
  {
   "cell_type": "markdown",
   "metadata": {
    "id": "ajwWHq_hVlYs"
   },
   "source": [
    "Here we create a small table representing a small sample,  $𝑛=6$ , and $p=2$  features"
   ]
  },
  {
   "cell_type": "code",
   "execution_count": null,
   "metadata": {
    "colab": {
     "base_uri": "https://localhost:8080/",
     "height": 235
    },
    "executionInfo": {
     "elapsed": 13,
     "status": "ok",
     "timestamp": 1643828002353,
     "user": {
      "displayName": "Cassandra Chaya Khan",
      "photoUrl": "https://lh3.googleusercontent.com/a-/AOh14Gge0vowpeqWGC91rGUy3z4xRuJWs_M0F2L7-lyG=s64",
      "userId": "16401233241680262142"
     },
     "user_tz": 0
    },
    "id": "VOPmLiqHxSyk",
    "outputId": "c3e66c0e-1650-45d9-8a06-d1503fd8565d"
   },
   "outputs": [
    {
     "data": {
      "text/html": [
       "\n",
       "  <div id=\"df-26680db9-5cd3-482a-bb02-49690300a2d8\">\n",
       "    <div class=\"colab-df-container\">\n",
       "      <div>\n",
       "<style scoped>\n",
       "    .dataframe tbody tr th:only-of-type {\n",
       "        vertical-align: middle;\n",
       "    }\n",
       "\n",
       "    .dataframe tbody tr th {\n",
       "        vertical-align: top;\n",
       "    }\n",
       "\n",
       "    .dataframe thead th {\n",
       "        text-align: right;\n",
       "    }\n",
       "</style>\n",
       "<table border=\"1\" class=\"dataframe\">\n",
       "  <thead>\n",
       "    <tr style=\"text-align: right;\">\n",
       "      <th></th>\n",
       "      <th>x_1</th>\n",
       "      <th>x_2</th>\n",
       "    </tr>\n",
       "    <tr>\n",
       "      <th>Obs.</th>\n",
       "      <th></th>\n",
       "      <th></th>\n",
       "    </tr>\n",
       "  </thead>\n",
       "  <tbody>\n",
       "    <tr>\n",
       "      <th>0</th>\n",
       "      <td>1</td>\n",
       "      <td>4</td>\n",
       "    </tr>\n",
       "    <tr>\n",
       "      <th>1</th>\n",
       "      <td>1</td>\n",
       "      <td>3</td>\n",
       "    </tr>\n",
       "    <tr>\n",
       "      <th>2</th>\n",
       "      <td>0</td>\n",
       "      <td>4</td>\n",
       "    </tr>\n",
       "    <tr>\n",
       "      <th>3</th>\n",
       "      <td>5</td>\n",
       "      <td>1</td>\n",
       "    </tr>\n",
       "    <tr>\n",
       "      <th>4</th>\n",
       "      <td>6</td>\n",
       "      <td>2</td>\n",
       "    </tr>\n",
       "  </tbody>\n",
       "</table>\n",
       "</div>\n",
       "      <button class=\"colab-df-convert\" onclick=\"convertToInteractive('df-26680db9-5cd3-482a-bb02-49690300a2d8')\"\n",
       "              title=\"Convert this dataframe to an interactive table.\"\n",
       "              style=\"display:none;\">\n",
       "        \n",
       "  <svg xmlns=\"http://www.w3.org/2000/svg\" height=\"24px\"viewBox=\"0 0 24 24\"\n",
       "       width=\"24px\">\n",
       "    <path d=\"M0 0h24v24H0V0z\" fill=\"none\"/>\n",
       "    <path d=\"M18.56 5.44l.94 2.06.94-2.06 2.06-.94-2.06-.94-.94-2.06-.94 2.06-2.06.94zm-11 1L8.5 8.5l.94-2.06 2.06-.94-2.06-.94L8.5 2.5l-.94 2.06-2.06.94zm10 10l.94 2.06.94-2.06 2.06-.94-2.06-.94-.94-2.06-.94 2.06-2.06.94z\"/><path d=\"M17.41 7.96l-1.37-1.37c-.4-.4-.92-.59-1.43-.59-.52 0-1.04.2-1.43.59L10.3 9.45l-7.72 7.72c-.78.78-.78 2.05 0 2.83L4 21.41c.39.39.9.59 1.41.59.51 0 1.02-.2 1.41-.59l7.78-7.78 2.81-2.81c.8-.78.8-2.07 0-2.86zM5.41 20L4 18.59l7.72-7.72 1.47 1.35L5.41 20z\"/>\n",
       "  </svg>\n",
       "      </button>\n",
       "      \n",
       "  <style>\n",
       "    .colab-df-container {\n",
       "      display:flex;\n",
       "      flex-wrap:wrap;\n",
       "      gap: 12px;\n",
       "    }\n",
       "\n",
       "    .colab-df-convert {\n",
       "      background-color: #E8F0FE;\n",
       "      border: none;\n",
       "      border-radius: 50%;\n",
       "      cursor: pointer;\n",
       "      display: none;\n",
       "      fill: #1967D2;\n",
       "      height: 32px;\n",
       "      padding: 0 0 0 0;\n",
       "      width: 32px;\n",
       "    }\n",
       "\n",
       "    .colab-df-convert:hover {\n",
       "      background-color: #E2EBFA;\n",
       "      box-shadow: 0px 1px 2px rgba(60, 64, 67, 0.3), 0px 1px 3px 1px rgba(60, 64, 67, 0.15);\n",
       "      fill: #174EA6;\n",
       "    }\n",
       "\n",
       "    [theme=dark] .colab-df-convert {\n",
       "      background-color: #3B4455;\n",
       "      fill: #D2E3FC;\n",
       "    }\n",
       "\n",
       "    [theme=dark] .colab-df-convert:hover {\n",
       "      background-color: #434B5C;\n",
       "      box-shadow: 0px 1px 3px 1px rgba(0, 0, 0, 0.15);\n",
       "      filter: drop-shadow(0px 1px 2px rgba(0, 0, 0, 0.3));\n",
       "      fill: #FFFFFF;\n",
       "    }\n",
       "  </style>\n",
       "\n",
       "      <script>\n",
       "        const buttonEl =\n",
       "          document.querySelector('#df-26680db9-5cd3-482a-bb02-49690300a2d8 button.colab-df-convert');\n",
       "        buttonEl.style.display =\n",
       "          google.colab.kernel.accessAllowed ? 'block' : 'none';\n",
       "\n",
       "        async function convertToInteractive(key) {\n",
       "          const element = document.querySelector('#df-26680db9-5cd3-482a-bb02-49690300a2d8');\n",
       "          const dataTable =\n",
       "            await google.colab.kernel.invokeFunction('convertToInteractive',\n",
       "                                                     [key], {});\n",
       "          if (!dataTable) return;\n",
       "\n",
       "          const docLinkHtml = 'Like what you see? Visit the ' +\n",
       "            '<a target=\"_blank\" href=https://colab.research.google.com/notebooks/data_table.ipynb>data table notebook</a>'\n",
       "            + ' to learn more about interactive tables.';\n",
       "          element.innerHTML = '';\n",
       "          dataTable['output_type'] = 'display_data';\n",
       "          await google.colab.output.renderOutput(dataTable, element);\n",
       "          const docLink = document.createElement('div');\n",
       "          docLink.innerHTML = docLinkHtml;\n",
       "          element.appendChild(docLink);\n",
       "        }\n",
       "      </script>\n",
       "    </div>\n",
       "  </div>\n",
       "  "
      ],
      "text/plain": [
       "      x_1  x_2\n",
       "Obs.          \n",
       "0       1    4\n",
       "1       1    3\n",
       "2       0    4\n",
       "3       5    1\n",
       "4       6    2"
      ]
     },
     "metadata": {},
     "output_type": "display_data"
    }
   ],
   "source": [
    "import pandas as pd\n",
    "\n",
    "data = pd.DataFrame([[1,4],[1,3],[0,4],[5,1],[6,2],[4,0]], columns = [\"x_1\", \"x_2\"])\n",
    "data.index.name = \"Obs.\"\n",
    "display(data.head())"
   ]
  },
  {
   "cell_type": "markdown",
   "metadata": {
    "id": "GstgUp7LxSyn"
   },
   "source": [
    "## Question 1.\n",
    "\n",
    "This question asks you to manually perform K-means clustering manually, with $K=2$, on our small sample, $n=6$, and $p=2$ features.\n",
    "\n",
    "<table border=\"1\" class=\"dataframe\">\n",
    "  <thead>\n",
    "    <tr style=\"text-align: right;\">\n",
    "      <th></th>\n",
    "      <th>x_1</th>\n",
    "      <th>x_2</th>\n",
    "    </tr>\n",
    "    <tr>\n",
    "      <th>Obs.</th>\n",
    "      <th></th>\n",
    "      <th></th>\n",
    "    </tr>\n",
    "  </thead>\n",
    "  <tbody>\n",
    "    <tr>\n",
    "      <th>0</th>\n",
    "      <td>1</td>\n",
    "      <td>4</td>\n",
    "    </tr>\n",
    "    <tr>\n",
    "      <th>1</th>\n",
    "      <td>1</td>\n",
    "      <td>3</td>\n",
    "    </tr>\n",
    "    <tr>\n",
    "      <th>2</th>\n",
    "      <td>0</td>\n",
    "      <td>4</td>\n",
    "    </tr>\n",
    "    <tr>\n",
    "      <th>3</th>\n",
    "      <td>5</td>\n",
    "      <td>1</td>\n",
    "    </tr>\n",
    "    <tr>\n",
    "      <th>4</th>\n",
    "      <td>6</td>\n",
    "      <td>2</td>\n",
    "    </tr>\n",
    "    <tr>\n",
    "      <th>5</th>\n",
    "      <td>4</td>\n",
    "      <td>0</td>\n",
    "    </tr>\n",
    "  </tbody>\n",
    "</table>\n",
    "\n",
    "a. Here we create a scatter plot which represents the observations:"
   ]
  },
  {
   "cell_type": "code",
   "execution_count": null,
   "metadata": {
    "colab": {
     "base_uri": "https://localhost:8080/",
     "height": 523
    },
    "executionInfo": {
     "elapsed": 1552,
     "status": "ok",
     "timestamp": 1643828009010,
     "user": {
      "displayName": "Cassandra Chaya Khan",
      "photoUrl": "https://lh3.googleusercontent.com/a-/AOh14Gge0vowpeqWGC91rGUy3z4xRuJWs_M0F2L7-lyG=s64",
      "userId": "16401233241680262142"
     },
     "user_tz": 0
    },
    "id": "CCw83ZTZxSyp",
    "outputId": "3a087e18-ab24-4f6e-a701-06455a975335"
   },
   "outputs": [
    {
     "data": {
      "text/plain": [
       "Text(0, 0.5, '$\\\\mathbf{x}_2$')"
      ]
     },
     "execution_count": 2,
     "metadata": {},
     "output_type": "execute_result"
    },
    {
     "data": {
      "image/png": "[encoded data removed]",
      "text/plain": [
       "<Figure size 1080x576 with 1 Axes>"
      ]
     },
     "metadata": {
      "needs_background": "light"
     },
     "output_type": "display_data"
    }
   ],
   "source": [
    "import matplotlib.pyplot as plt\n",
    "\n",
    "x1 = [1,1,0,5,6,4]\n",
    "x2 = [4,3,4,1,2,0]\n",
    "fig = plt.figure(figsize=(15,8))\n",
    "plt.grid(linestyle='--', alpha=0.3)\n",
    "plt.scatter(x1, x2, c='blue', s=150)\n",
    "plt.xlabel('$\\mathbf{x}_1$', size=20)\n",
    "plt.ylabel('$\\mathbf{x}_2$', size=20, rotation=0)"
   ]
  },
  {
   "cell_type": "markdown",
   "metadata": {
    "id": "mPS4XxcLxSyr"
   },
   "source": [
    "b. Randomly assign a cluster label to each observation. In Python you can use <code>np.random.randint</code>. \n",
    "\n",
    "In order (#1 first, #2 second):\n",
    "\n",
    "1.   \n",
    "Create a table like the one above, placing the cluster labels for each observation in a new column.\n",
    "2.   Plot your results, and make sure to label your axes!\n",
    "\n",
    "\n",
    "\n",
    "\n",
    "\n"
   ]
  },
  {
   "cell_type": "code",
   "execution_count": null,
   "metadata": {
    "id": "JqjKYC8LxSys"
   },
   "outputs": [],
   "source": [
    "import numpy as np\n",
    "\n",
    "np.random.seed(42)\n",
    "#-v-v-v-v- Create a Table. Write your code here -v-v-v-v-\n"
   ]
  },
  {
   "cell_type": "code",
   "execution_count": null,
   "metadata": {
    "id": "x3o8Ac2SxSyt"
   },
   "outputs": [],
   "source": [
    "#-v-v-v-v- Plot your randomly- clustered data. Write your code here -v-v-v-v-\n",
    "#-v-v-v-v- Use red for one cluster, green for the other -v-v-v-v-\n",
    "color= ['red' if l == 0 else 'green' for l in cluster_labels]\n",
    "fig = plt.figure(figsize=(15,8))\n"
   ]
  },
  {
   "cell_type": "markdown",
   "metadata": {
    "id": "iFGUrSQ6xSyu"
   },
   "source": [
    "<details open>\n",
    "    \n",
    "These labels, and subsequent answers, will depend on the random seed you set (I used <code>np.random.seed(42)</code>)\n",
    "</details>"
   ]
  },
  {
   "cell_type": "markdown",
   "metadata": {
    "id": "lpf409-exSyw"
   },
   "source": [
    "c. Compute the centroid for each ***randomly-assigned*** cluster, and plot your results.\n",
    "NB: You have the code for plotting the points, from the above exercise. A suggested structure for plotting a centroid would be:\n",
    "\n",
    "plt.scatter(mean_data.loc[0][\"x_1\"], mean_data.loc[0][\"x_2\"], c='red', s=150, marker = 'x', linewidths=4)"
   ]
  },
  {
   "cell_type": "code",
   "execution_count": null,
   "metadata": {
    "id": "zEmVqtV1xSyx"
   },
   "outputs": [],
   "source": [
    "mean_data = data.groupby('labels').mean()\n",
    "\n",
    "fig = plt.figure(figsize=(15,8))\n",
    "plt.grid(linestyle='--', alpha=0.3)\n",
    "plt.scatter(x1, x2, c=color, s=150)\n",
    "#-v-v-v-v- Plot both the scatterplot and the centroids in one plot. Write your code here -v-v-v-v-\n"
   ]
  },
  {
   "cell_type": "markdown",
   "metadata": {
    "id": "vxJvr2opzqHQ"
   },
   "source": [
    "Describe analytically (words and equations), how you calculate the centroids for both the red and green clusters."
   ]
  },
  {
   "cell_type": "markdown",
   "metadata": {
    "id": "pRNgEsLmz_gp"
   },
   "source": [
    "Please write your answer here:"
   ]
  },
  {
   "cell_type": "markdown",
   "metadata": {
    "id": "8HJLX8nrxSyz"
   },
   "source": [
    "d. Now, assign each observation **to the centroid to which it is closest**, in terms of Euclidean distance. \n",
    "\n",
    "As before (#1 first, #2 second):\n",
    "\n",
    "1.   \n",
    "Create a table like the one above, placing the **new** cluster labels for each observation in a new column.\n",
    "An efficient way to do this is with a for loop, creating two distancess which you can then compare, e.g.\n",
    "\n",
    "$\\text{dist_0} = (x1[idx] - \\text{mean_data.loc}[0][\"x_1\"])^2 + (x2[idx] - \\text{mean_data.loc}[0][\"x_2\"])^2$\n",
    "\n",
    "2.   Plot your results, and make sure to label your axes!"
   ]
  },
  {
   "cell_type": "code",
   "execution_count": null,
   "metadata": {
    "id": "2fvUC4KLxSy0"
   },
   "outputs": [],
   "source": [
    "for idx, cluster in enumerate(cluster_labels):\n",
    "  #-v-v-v-v- write code to calculate two distances -v-v-v-v-\n",
    "\n",
    "    if dist_0 > dist_1:\n",
    "      #-v-v-v-v- Assign a value to cluster_labels[idx] -v-v-v-v-\n",
    "        \n",
    "    else:\n",
    "      #-v-v-v-v- Assign a different value to cluster_labels[idx] -v-v-v-v-\n",
    "        \n",
    "        \n",
    "data['labels'] = cluster_labels\n",
    "display(data.head())"
   ]
  },
  {
   "cell_type": "code",
   "execution_count": null,
   "metadata": {
    "id": "wW9QNUVixSy1"
   },
   "outputs": [],
   "source": [
    "color= ['red' if l == 0 else 'green' for l in cluster_labels]\n",
    "mean_data = data.groupby('labels').mean()\n",
    "fig = plt.figure(figsize=(15,8))\n",
    "plt.grid(linestyle='--', alpha=0.3)\n",
    "plt.scatter(x1, x2, c=color, s=150)\n",
    "#-v-v-v-v- Plot both the scatterplot and the new centroids in one plot. Write your code here -v-v-v-v-\n"
   ]
  },
  {
   "cell_type": "markdown",
   "metadata": {
    "id": "3w5g7BpixSy4"
   },
   "source": [
    "e. Find the final position of the k-means clusters (e.g. where the answer to questions (c) and (d) stops changing), then color your plot according to these new cluster labels."
   ]
  },
  {
   "cell_type": "code",
   "execution_count": null,
   "metadata": {
    "id": "TfIx3BoLxSy5"
   },
   "outputs": [],
   "source": [
    "from sklearn.cluster import KMeans\n",
    "\n",
    "M = np.column_stack((x1,x2))\n",
    "#-v-v-v-v- Choose value for the number of clusters and the random state -v-v-v-v-\n",
    "\n",
    "\n",
    "cluster_labels = kmeans.labels_\n",
    "\n",
    "#-v-v-v-v- Plot both the scatterplot and the new centroids in one plot. Write your code here -v-v-v-v-\n",
    "#-v-v-v-v- See the plotting commands for 1b, 1c, 1d -v-v-v-v-\n"
   ]
  },
  {
   "cell_type": "markdown",
   "metadata": {
    "id": "5in1JQPmxSy7"
   },
   "source": [
    "## Question 2.\n",
    "\n",
    "Describe two techniques to help select the number of clusters when using K-Means."
   ]
  },
  {
   "cell_type": "markdown",
   "metadata": {
    "id": "37kE92E9VBHB"
   },
   "source": [
    "Write your answer here:"
   ]
  },
  {
   "cell_type": "markdown",
   "metadata": {
    "id": "mjFpB6xUxSy8"
   },
   "source": [
    "## Question 3.\n",
    "### See *The Hierarchical Clustering Algorithm / Dissimilarity Measure* (pp. 27 - 32 of the Week 4 lecture notes􏰗􏰌􏰕􏰕􏰌􏰤􏰌􏰄􏰊􏰗􏰌􏰕􏰕􏰌􏰤􏰌􏰄􏰊􏰉􏰌􏰖􏰩 􏰞􏰅􏰊).\n",
    "Suppose we have a dissimilarity matrix as follows:\n",
    "\n",
    "$$\\begin{bmatrix} \n",
    "& 0.3 & 0.4 & 0.7 \\\\\n",
    "0.3 & & 0.5 & 0.8 \\\\\n",
    "0.4 & 0.5 & & 0.45 \\\\\n",
    "0.7 & 0.8 & 0.45 & \\\\\n",
    "\\end{bmatrix}$$\n",
    "\n",
    "This means the dissimilarity between the first and second observation is 0.3, second and fourth is 0.8 ect.\n",
    "\n",
    " a. Code a diagram that results from hierarchically clustering these four observations using __complete__ linkage.\n",
    "\n",
    "1. Plot your results as a dendrogram, titled \"Complete Linkage\".\n",
    "\n",
    "2. Using the dendrogram results, Create a table, placing the **new** cluster labels for each observation in a new column."
   ]
  },
  {
   "cell_type": "code",
   "execution_count": null,
   "metadata": {
    "id": "GnhLyhz-xSy9"
   },
   "outputs": [],
   "source": [
    "# ------\n",
    "# Simple\n",
    "# ------\n",
    "import numpy as np\n",
    "\n",
    "from scipy.cluster.hierarchy import dendrogram, linkage\n",
    "from scipy.spatial.distance import squareform\n",
    "\n",
    "import matplotlib.pyplot as plt\n",
    "\n",
    "#-v-v-v-v- Create an array using np.array -v-v-v-v-\n",
    "#dis_mat = np.array([[], [], [], []])\n",
    "\n",
    "\n",
    "#-v-v-v-v- Calculate distances using dists = squareform() -v-v-v-v-\n",
    "\n",
    "\n",
    "#-v-v-v-v- Create a linkage matrix using linkage( ___ , \"complete\") -v-v-v-v-\n",
    "\n",
    "\n",
    "fig = plt.figure(figsize=(15,8))\n",
    "#-v-v-v-v- Plot the linkage matrix using dendrogram( ___ , labels=[\"1\", \"2\", \"3\", \"4\"]) -v-v-v-v-\n",
    "\n",
    "\n",
    "plt.title(\"Complete Linkage\")"
   ]
  },
  {
   "cell_type": "code",
   "execution_count": null,
   "metadata": {
    "id": "bYcgSO4txSy8"
   },
   "outputs": [],
   "source": [
    "import pandas as pd\n",
    "\n",
    "# Using the answer above we could do this manually...\n",
    "# --------\n",
    "# Alternate Answer, done manually\n",
    "# --------\n",
    "\n",
    "columns =   ['row label 1', 'row label 2', 'distance', 'clust. item count']\n",
    "cluster_1 = [0.           , 1.           , 0.3       , 2.]\n",
    "cluster_2 = [2.           , 3.           , 0.45      , 2.]\n",
    "# note that newly formed clusters are represented as a new row label (hense 4 and 5)\n",
    "cluster_3 = [4.           , 5.           , 0.8       , 4.]\n",
    "\n",
    "#-v-v-v-v- Create a dataframe for the table, using pd.DataFrame -v-v-v-v-\n",
    "# data = pd.DataFrame([cluster_1,cluster_2,cluster_3],\n",
    "#             columns= _____________,\n",
    "#             index=['cluster %d' % (i + 1)\n",
    "#                    for i in range(3)])\n",
    "\n",
    "\n",
    "\n",
    "display(data.head())"
   ]
  },
  {
   "cell_type": "markdown",
   "metadata": {
    "id": "I9iPTGiHxSy_"
   },
   "source": [
    "b. Suppose we cut the dendogram from question (a) such that two there are two clusters, which observations are in which cluster?"
   ]
  },
  {
   "cell_type": "markdown",
   "metadata": {
    "id": "k-pRyfehxSy_"
   },
   "source": [
    "<details open><summary>Write your answer here:</summary>\n",
    "\n",
    "</details>"
   ]
  },
  {
   "cell_type": "markdown",
   "metadata": {
    "id": "5RciJWXMxSzA"
   },
   "source": [
    "c. Sketch or code a diagram that results from hierarchically clustering these four observations using __single__ linkage."
   ]
  },
  {
   "cell_type": "code",
   "execution_count": null,
   "metadata": {
    "id": "gQXqKGH4xSzB"
   },
   "outputs": [],
   "source": [
    "#-v-v-v-v- As above, Create a linkage matrix using linkage( ___ , \"single\") -v-v-v-v-\n",
    "linkage_matrix = linkage(dists, \"single\")\n",
    "#-v-v-v-v- Plot the results -v-v-v-v\n",
    "fig = plt.figure(figsize=(15,8))\n",
    "dendrogram(linkage_matrix, labels=[\"1\", \"2\", \"3\", \"4\"])\n",
    "plt.title(\"Single Linkage\")"
   ]
  },
  {
   "cell_type": "markdown",
   "metadata": {
    "id": "ehtbWqifxSzC"
   },
   "source": [
    "<details open><summary>Here is a more detalied discussion of the single linkage algorithm:</summary>\n",
    "\n",
    "Beginning with \n",
    "$$\\begin{bmatrix} \n",
    "& 0.3 & 0.4 & 0.7 \\\\\n",
    "0.3 & & 0.5 & 0.8 \\\\\n",
    "0.4 & 0.5 & & 0.45 \\\\\n",
    "0.7 & 0.8 & 0.45 & \\\\\n",
    "\\end{bmatrix}$$\n",
    "\n",
    "we see that 0.3 is the minimum dissimilarity, so we fuse observations 1 and 2 to form the cluster (1,2) at height 0.3. This leaves our similarity matrix as:\n",
    "$$\\begin{bmatrix} \n",
    "& 0.4 & 0.7 \\\\\n",
    "0.4 & & 0.45 \\\\\n",
    "0.7 & 0.45 & \\\\\n",
    "\\end{bmatrix}$$\n",
    "because we are recording the _smallest_ dissimilarities. \n",
    "    \n",
    "We now see that the minimum dissimilarity is 0.4, so we fuse cluster (1,2) and observation 3 to form cluster ((1,2),3) at height 0.4. We now have the new dissimilarity matrix:\n",
    "$$\\begin{bmatrix} \n",
    "& 0.45 \\\\\n",
    "0.45 & \\\\\n",
    "\\end{bmatrix}$$\n",
    "It remains to fuse clusters ((1,2),3) and observation 4 to form cluster (((1,2),3),4) at height 0.45.\n",
    "</details>"
   ]
  },
  {
   "cell_type": "markdown",
   "metadata": {
    "id": "2Vq9GNnFxSzC"
   },
   "source": [
    "d. Suppose we cut the dendogram from question (c) such that two there are two clusters, which observations are in which cluster?"
   ]
  },
  {
   "cell_type": "markdown",
   "metadata": {
    "id": "gcwCmRhAxSzD"
   },
   "source": [
    "<details open><summary>Write your answer here:</summary>\n",
    "\n",
    "</details>"
   ]
  }
 ],
 "metadata": {
  "colab": {
   "collapsed_sections": [],
   "name": "Clustering_Exercises.ipynb",
   "provenance": []
  },
  "kernelspec": {
   "display_name": "Python 3 (ipykernel)",
   "language": "python",
   "name": "python3"
  },
  "language_info": {
   "codemirror_mode": {
    "name": "ipython",
    "version": 3
   },
   "file_extension": ".py",
   "mimetype": "text/x-python",
   "name": "python",
   "nbconvert_exporter": "python",
   "pygments_lexer": "ipython3",
   "version": "3.9.2"
  }
 },
 "nbformat": 4,
 "nbformat_minor": 0
}
