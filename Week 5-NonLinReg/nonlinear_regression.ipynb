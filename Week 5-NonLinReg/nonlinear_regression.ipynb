{
 "cells": [
  {
   "cell_type": "markdown",
   "metadata": {},
   "source": [
    "# Week 3: Nonlinear Regression Solutions\n"
   ]
  },
  {
   "cell_type": "markdown",
   "metadata": {},
   "source": [
    "Written by Dr Sara Wade"
   ]
  },
  {
   "cell_type": "markdown",
   "metadata": {},
   "source": [
    "### Exercise 3: "
   ]
  },
  {
   "cell_type": "markdown",
   "metadata": {},
   "source": [
    "#### (a)\n",
    "In one-dimension (to keep things simple), plot the regression curve for the RBF basis function expansion:\n",
    "$$ \\text{E}[y|x,w] = \\sum_{m=1}^M w_m \\exp \\left( -\\frac{1}{2 \\ell^2} (x - \\mu_m)^2\\right),$$\n",
    " fixed values of $\\mu_1,\\ldots, \\mu_M$ and different values of $\\ell$."
   ]
  },
  {
   "cell_type": "code",
   "execution_count": null,
   "metadata": {},
   "outputs": [],
   "source": [
    "# Data libraries\n",
    "import numpy as np\n",
    "import numpy.matlib\n",
    "\n",
    "# Plotting libraries\n",
    "import matplotlib.pyplot as plt\n",
    "import seaborn as sns\n",
    "\n",
    "# Plotting defaults\n",
    "plt.rcParams['figure.figsize'] = (10,6)\n",
    "plt.rcParams['figure.dpi'] = 80\n",
    "\n",
    "# sklearn modules\n",
    "import sklearn"
   ]
  },
  {
   "cell_type": "markdown",
   "metadata": {},
   "source": [
    "First generate some inputs:"
   ]
  },
  {
   "cell_type": "code",
   "execution_count": null,
   "metadata": {},
   "outputs": [],
   "source": [
    "# Generate some inputs\n",
    "N = 100\n",
    "x = np.random.rand(N,1)*10\n",
    "x = np.sort(x,0)"
   ]
  },
  {
   "cell_type": "markdown",
   "metadata": {},
   "source": [
    "Define the RBF kernel and extract features"
   ]
  },
  {
   "cell_type": "code",
   "execution_count": null,
   "metadata": {},
   "outputs": [],
   "source": [
    "# Define RBF kernel in one dimension\n",
    "def rbf(x,mu,bw):\n",
    "    return np.exp(-1/(2*bw**2)*(x-mu)**2)"
   ]
  },
  {
   "cell_type": "code",
   "execution_count": null,
   "metadata": {},
   "outputs": [],
   "source": [
    "# Define parameters: number of basis functions, centroids and bandwith\n",
    "M = 11\n",
    "mu = np.arange(0, M, 1) \n",
    "bw = 1 # change the bandwith parameter to see how it changes the curve"
   ]
  },
  {
   "cell_type": "code",
   "execution_count": null,
   "metadata": {},
   "outputs": [],
   "source": [
    "# Transform x using RBF basis functions\n",
    "from sklearn.preprocessing import FunctionTransformer\n",
    "rbftransformer = FunctionTransformer(rbf,kw_args= {\"mu\": mu, \"bw\": bw},validate=False)\n",
    "Phi = rbftransformer.transform(x)\n"
   ]
  },
  {
   "cell_type": "markdown",
   "metadata": {},
   "source": [
    "Simulate values of the regression weights and plot the regression function"
   ]
  },
  {
   "cell_type": "code",
   "execution_count": null,
   "metadata": {},
   "outputs": [],
   "source": [
    "# Set values of the regression weights\n",
    "w = np.random.normal(0,1,M)\n",
    "\n",
    "# Compute and plot the regression function\n",
    "rf = Phi @ w\n",
    "plt.plot(x, rf, 'k-')\n",
    "plt.axis([0, 10, -3.5, 3.5]);\n",
    "plt.legend(['bandwidth = 1']);"
   ]
  },
  {
   "cell_type": "markdown",
   "metadata": {},
   "source": [
    "Plot function for different bandwidths $\\ell = 0.1,1,100$"
   ]
  },
  {
   "cell_type": "code",
   "execution_count": null,
   "metadata": {},
   "outputs": [],
   "source": [
    "# Extract feature matrix for different bandwidths\n",
    "rbftransformer = FunctionTransformer(rbf,kw_args= {\"mu\": mu, \"bw\": 0.1},validate=False)\n",
    "Phi_small = rbftransformer.transform(x)\n",
    "rbftransformer = FunctionTransformer(rbf,kw_args= {\"mu\": mu, \"bw\": 100},validate=False)\n",
    "Phi_big = rbftransformer.transform(x)\n",
    "\n",
    "# Compute and plot the regression function\n",
    "rf_small = Phi_small @ w\n",
    "rf_big = Phi_big @ w\n",
    "plt.plot(x, rf, 'k-')\n",
    "plt.plot(x, rf_small, 'b-')\n",
    "plt.plot(x, rf_big, 'g-')\n",
    "plt.axis([0, 10, -3.5, 3.5]);\n",
    "plt.legend(['bandwidth = 1','bandwidth = 0.1', 'bandwidth = 100']);"
   ]
  },
  {
   "cell_type": "markdown",
   "metadata": {},
   "source": [
    "**Bonus**: let's fit the RBF kernel machine to some data!\n",
    "First, we will generate data assuming,\n",
    "$$y = \\sin(x)\\exp(-x/5)+\\epsilon, \\quad \\epsilon \\sim \\text{N}(0, 0.05),$$ \n",
    "and use the `LinearRegression` model in `sklearn` to train the RBF kernel machine with fixed number of basis functions, centroids, and bandwidth"
   ]
  },
  {
   "cell_type": "code",
   "execution_count": null,
   "metadata": {},
   "outputs": [],
   "source": [
    "## Bonus: Let's fit to some simulated data\n",
    "\n",
    "# Generate some outputs\n",
    "y = np.sin(x)*np.exp(-x/5) + np.random.normal(0,0.05, N).reshape(-1,1)\n",
    "plt.plot(x, y, 'o');"
   ]
  },
  {
   "cell_type": "code",
   "execution_count": null,
   "metadata": {},
   "outputs": [],
   "source": [
    "from sklearn.linear_model import LinearRegression\n",
    "\n",
    "# Transform inputs\n",
    "rbftransformer = FunctionTransformer(rbf,kw_args= {\"mu\": mu, \"bw\": 1},validate=False)\n",
    "Phi = rbftransformer.transform(x)\n",
    "\n",
    "# Estimate the regression weights\n",
    "l = LinearRegression(fit_intercept=False).fit(X = Phi, y = y)\n",
    "print(l.coef_)\n",
    "\n",
    "# Predict\n",
    "yhat = l.predict(X = Phi)\n",
    "ftrue = np.sin(x)*np.exp(-x/5)\n",
    "plt.plot(x, y, 'o');\n",
    "plt.plot(x,yhat, 'k-');\n",
    "plt.plot(x,ftrue, 'r--');\n"
   ]
  },
  {
   "cell_type": "markdown",
   "metadata": {},
   "source": [
    " \n",
    "How does changing the bandwidth parameter affect the fit?"
   ]
  },
  {
   "cell_type": "markdown",
   "metadata": {},
   "source": [
    "#### (b)\n",
    "In one-dimension (to keep things simple), plot the regression curve for the (reparametrized ) logistic-sigmoid basis function expansion:\n",
    "$$ \\text{E}[y|x,w] = \\sum_{m=1}^M w_m \\frac{1}{1+\\exp(-\\gamma(x - \\mu_m))},$$\n",
    " fixed values of $\\mu_1,\\ldots, \\mu_M$ and different values of $\\gamma$."
   ]
  },
  {
   "cell_type": "markdown",
   "metadata": {},
   "source": [
    "Define the logistic-sigmoid kernel and extract features"
   ]
  },
  {
   "cell_type": "code",
   "execution_count": null,
   "metadata": {},
   "outputs": [],
   "source": [
    "# Define logistic-sigmoid kernel in one dimension\n",
    "def ls(x,mu,gam):\n",
    "    return 1/(1+np.exp(-gam*(x-mu)))\n",
    "\n",
    "# Set the steepness parameter\n",
    "gam = 2\n",
    "\n",
    "# Transform x using logistic sigmoid basis functions\n",
    "lstransformer = FunctionTransformer(ls,kw_args= {\"mu\": mu, \"gam\": gam},validate=False)\n",
    "Phi = lstransformer.transform(x)"
   ]
  },
  {
   "cell_type": "markdown",
   "metadata": {},
   "source": [
    "Simulate values of the regression weights and plot the regression function"
   ]
  },
  {
   "cell_type": "code",
   "execution_count": null,
   "metadata": {
    "scrolled": true
   },
   "outputs": [],
   "source": [
    "# Set values of the regression weights\n",
    "w = np.random.normal(0,1,M)\n",
    "\n",
    "# Compute and plot the regression function\n",
    "rf = Phi @ w\n",
    "plt.plot(x, rf, 'k-')\n",
    "plt.axis([0, 10, -3.5, 3.5]);\n",
    "plt.legend(['gamma = 2']);"
   ]
  },
  {
   "cell_type": "markdown",
   "metadata": {},
   "source": [
    "Plot function for different $\\gamma = 2,100,0.01$\n",
    " "
   ]
  },
  {
   "cell_type": "code",
   "execution_count": null,
   "metadata": {},
   "outputs": [],
   "source": [
    "# Extract feature matrix for different gamma\n",
    "lstransformer = FunctionTransformer(ls,kw_args= {\"mu\": mu, \"gam\": 0.01},validate=False)\n",
    "Phi_small = lstransformer.transform(x)\n",
    "lstransformer = FunctionTransformer(ls,kw_args= {\"mu\": mu, \"gam\": 100},validate=False)\n",
    "Phi_big = lstransformer.transform(x)\n",
    "\n",
    "# Compute and plot the regression function\n",
    "rf_small = Phi_small @ w\n",
    "rf_big = Phi_big @ w\n",
    "plt.plot(x, rf, 'k-')\n",
    "plt.plot(x, rf_small, 'b-')\n",
    "plt.plot(x, rf_big, 'g-')\n",
    "plt.legend(['gamma=2','gamma = 0.01', 'gamma = 100']);"
   ]
  },
  {
   "cell_type": "markdown",
   "metadata": {},
   "source": [
    "**Bonus:** let's fit the logistic-sigmoid kernel machine to the same data."
   ]
  },
  {
   "cell_type": "code",
   "execution_count": null,
   "metadata": {},
   "outputs": [],
   "source": [
    "from sklearn.linear_model import LinearRegression\n",
    "\n",
    "# Transform inputs\n",
    "lstransformer = FunctionTransformer(ls,kw_args= {\"mu\": mu, \"gam\": 2},validate=False)\n",
    "Phi = lstransformer.transform(x)\n",
    "\n",
    "# Estimate the regression weights\n",
    "l = LinearRegression(fit_intercept=False).fit(X = Phi, y = y)\n",
    "print(l.coef_)\n",
    "\n",
    "# Predict\n",
    "yhat = l.predict(X = Phi)\n",
    "ftrue = np.sin(x)*np.exp(-x/5)\n",
    "plt.plot(x, y, 'o');\n",
    "plt.plot(x,yhat, 'k-');\n",
    "plt.plot(x,ftrue, 'r--');"
   ]
  },
  {
   "cell_type": "markdown",
   "metadata": {},
   "source": [
    "### Exercise 4"
   ]
  },
  {
   "cell_type": "markdown",
   "metadata": {},
   "source": [
    "The sigmoid kernel is defined as:\n",
    "$$ k(\\mathbf{x}, \\mathbf{x}') = \\tanh(\\gamma \\mathbf{x}^T\\mathbf{x}' +b) = \\frac{\\exp \\left( 2(\\gamma \\mathbf{x}^T\\mathbf{x}' +b)\\right)-1}{\\exp \\left( 2(\\gamma \\mathbf{x}^T\\mathbf{x}' +b)\\right)+1}$$\n",
    "In one dimension, plot the curve as function of $x$ (with $x'=1$), for different values of $\\gamma$ and $b$. "
   ]
  },
  {
   "cell_type": "code",
   "execution_count": null,
   "metadata": {},
   "outputs": [],
   "source": [
    "# Plot for different choices of gamma\n",
    "x = np.arange(-4, 4, 0.1) # grid of input values\n",
    "gam = np.array([0.25,1,4]) # different values of gamma\n",
    "b = 0 # fix b\n",
    "#Compute sigmoid kernel for different gamma\n",
    "kf = np.zeros((len(x),len(gam)))\n",
    "for g in range(len(gam)):\n",
    "    kf[:,g] = (np.exp(2*(gam[g]*x+b))-1)/(np.exp(2*(gam[g]*x+b))+1)\n",
    "    \n",
    "plt.plot(x,kf[:,0],'k-')\n",
    "plt.plot(x,kf[:,1],'b-');\n",
    "plt.plot(x,kf[:,2],'g-');\n",
    "plt.legend(['gamma ='+str(gam[0]), 'gamma ='+str(gam[1]),'gamma ='+str(gam[2])]);"
   ]
  },
  {
   "cell_type": "code",
   "execution_count": null,
   "metadata": {},
   "outputs": [],
   "source": [
    "# Plot for different choices of b\n",
    "x = np.arange(-4, 4, 0.1) # grid of input values\n",
    "gam = 1 # fix gamma\n",
    "b = np.array([-2,0,2]) # fix b\n",
    "#Compute sigmoid kernel for different gamma\n",
    "kf = np.zeros((len(x),len(b)))\n",
    "for bind in range(len(b)):\n",
    "    kf[:,bind] = (np.exp(2*(gam*x+b[bind]))-1)/(np.exp(2*(gam*x+b[bind]))+1)\n",
    "\n",
    "plt.plot(x,kf[:,0],'k-')\n",
    "plt.plot(x,kf[:,1],'b-');\n",
    "plt.plot(x,kf[:,2],'g-');\n",
    "plt.legend(['b ='+str(b[0]), 'b ='+str(b[1]),'b ='+str(b[2])]);\n"
   ]
  }
 ],
 "metadata": {
  "kernelspec": {
   "display_name": "Python 3",
   "language": "python",
   "name": "python3"
  },
  "language_info": {
   "codemirror_mode": {
    "name": "ipython",
    "version": 3
   },
   "file_extension": ".py",
   "mimetype": "text/x-python",
   "name": "python",
   "nbconvert_exporter": "python",
   "pygments_lexer": "ipython3",
   "version": "3.6.6"
  }
 },
 "nbformat": 4,
 "nbformat_minor": 2
}
