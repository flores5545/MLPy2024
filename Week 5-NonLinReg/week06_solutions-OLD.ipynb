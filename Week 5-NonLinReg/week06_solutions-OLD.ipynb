{
 "cells": [
  {
   "cell_type": "markdown",
   "id": "view-in-github",
   "metadata": {
    "id": "view-in-github"
   },
   "source": [
    "<a href=\"https://colab.research.google.com/github/Eldave93/mlp-handover/blob/main/workshops/week-06/6_Workshop.ipynb\" target=\"_parent\"><img src=\"https://colab.research.google.com/assets/colab-badge.svg\" alt=\"Open In Colab\"/></a>"
   ]
  },
  {
   "cell_type": "markdown",
   "id": "accepting-oxide",
   "metadata": {
    "id": "accepting-oxide"
   },
   "source": [
    "# Week 06 - Non-Linear Regression\n",
    "by Colin Rundel & David Elliott & Kit Searle\n",
    "\n",
    "1. [Setup](#setup)\n",
    "\n",
    "2. [Baseline model](#base)\n",
    "\n",
    "3. [Polynomial regression](#poly)\n",
    "\n",
    "4. [Regression trees](#RT)\n"
   ]
  },
  {
   "cell_type": "markdown",
   "id": "fantastic-arcade",
   "metadata": {
    "id": "fantastic-arcade"
   },
   "source": [
    "\n",
    "---\n",
    "\n",
    "# 1. Setup <a id='setup'></a>\n",
    "\n",
    "## 1.1. Uploading your data to the colab\n",
    "This notebook will be saved in your google drive in a folder \"Colab Notebooks\" by default, you should be fairly familiar with this by now.\n",
    "\n",
    "When you run this cell you will need to give colab permission to access files in your drive."
   ]
  },
  {
   "cell_type": "code",
   "execution_count": 1,
   "id": "28ABnI-jq0g1",
   "metadata": {
    "colab": {
     "base_uri": "https://localhost:8080/"
    },
    "executionInfo": {
     "elapsed": 28082,
     "status": "ok",
     "timestamp": 1644409294032,
     "user": {
      "displayName": "Kit Searle",
      "photoUrl": "https://lh3.googleusercontent.com/a/default-user=s64",
      "userId": "05702465444529393860"
     },
     "user_tz": 0
    },
    "id": "28ABnI-jq0g1",
    "outputId": "67580037-1e60-4ca6-d4b0-bf7becdc3579"
   },
   "outputs": [
    {
     "name": "stdout",
     "output_type": "stream",
     "text": [
      "Mounted at /content/drive\n",
      "6_Kit_Updates.ipynb  week06.ipynb  week-06.zip\tws-material\n"
     ]
    }
   ],
   "source": [
    "import os\n",
    "from google.colab import drive\n",
    "\n",
    "drive.mount('/content/drive')\n",
    "os.chdir('drive/My Drive/Colab Notebooks/mlp/week-6')\n",
    "!ls"
   ]
  },
  {
   "cell_type": "markdown",
   "id": "0NHGkk8cq7lE",
   "metadata": {
    "id": "0NHGkk8cq7lE"
   },
   "source": [
    "We will now unzip the workshop materials and place them in a subdirectory \"ws-material/\""
   ]
  },
  {
   "cell_type": "code",
   "execution_count": 2,
   "id": "l3a7KO9eq9x_",
   "metadata": {
    "colab": {
     "base_uri": "https://localhost:8080/"
    },
    "executionInfo": {
     "elapsed": 274,
     "status": "ok",
     "timestamp": 1644409299971,
     "user": {
      "displayName": "Kit Searle",
      "photoUrl": "https://lh3.googleusercontent.com/a/default-user=s64",
      "userId": "05702465444529393860"
     },
     "user_tz": 0
    },
    "id": "l3a7KO9eq9x_",
    "outputId": "c2619a05-7aa5-49d3-f14b-b2758c3b07c6"
   },
   "outputs": [
    {
     "name": "stdout",
     "output_type": "stream",
     "text": [
      "Directory already exists!\n",
      "Data  Images  scripts\n"
     ]
    }
   ],
   "source": [
    "if not os.path.exists('ws-material'):\n",
    "  print('Unzipping materials...')\n",
    "  !unzip week-06.zip -d ws-material\n",
    "else:\n",
    "  print(\"Directory already exists!\")\n",
    "\n",
    "os.chdir('ws-material')\n",
    "!ls"
   ]
  },
  {
   "cell_type": "markdown",
   "id": "8uZLbLlUryNP",
   "metadata": {
    "id": "8uZLbLlUryNP"
   },
   "source": [
    "## 1.2. Packages\n",
    "\n",
    "Now lets load in the packages you wil need for this workshop."
   ]
  },
  {
   "cell_type": "code",
   "execution_count": 3,
   "id": "independent-football",
   "metadata": {
    "collapsed": true,
    "executionInfo": {
     "elapsed": 617,
     "status": "ok",
     "timestamp": 1644409303956,
     "user": {
      "displayName": "Kit Searle",
      "photoUrl": "https://lh3.googleusercontent.com/a/default-user=s64",
      "userId": "05702465444529393860"
     },
     "user_tz": 0
    },
    "id": "independent-football"
   },
   "outputs": [],
   "source": [
    "# Display plots inline\n",
    "%matplotlib inline\n",
    "\n",
    "# Data libraries\n",
    "import pandas as pd\n",
    "import numpy as np\n",
    "\n",
    "# Plotting libraries\n",
    "import matplotlib.pyplot as plt\n",
    "import seaborn as sns\n",
    "\n",
    "# Plotting defaults\n",
    "plt.rcParams['figure.figsize'] = (8,5)\n",
    "plt.rcParams['figure.dpi'] = 80\n",
    "\n",
    "# sklearn modules\n",
    "from sklearn.linear_model import LinearRegression\n",
    "from sklearn.metrics import mean_squared_error"
   ]
  },
  {
   "cell_type": "markdown",
   "id": "metric-salon",
   "metadata": {
    "id": "metric-salon"
   },
   "source": [
    "## 1.3 Data\n",
    "\n",
    "The data set we will be using today is synthetic data that was generated via a random draw from a Gaussian Process model. The resulting data represent an unknown smooth function $y = f(x) + \\epsilon$. We will be implementing a variety of approaches for deriving a parameterized model of this function using least squares regression.\n",
    "\n",
    "We can read the data in from `gp.csv` and generate a scatter plot to get a sense of the shape of the function."
   ]
  },
  {
   "cell_type": "code",
   "execution_count": 4,
   "id": "toxic-colombia",
   "metadata": {
    "colab": {
     "base_uri": "https://localhost:8080/",
     "height": 385
    },
    "executionInfo": {
     "elapsed": 1312,
     "status": "ok",
     "timestamp": 1644409309150,
     "user": {
      "displayName": "Kit Searle",
      "photoUrl": "https://lh3.googleusercontent.com/a/default-user=s64",
      "userId": "05702465444529393860"
     },
     "user_tz": 0
    },
    "id": "toxic-colombia",
    "outputId": "b7caa204-795c-4765-c3bc-8d31b40435c6"
   },
   "outputs": [
    {
     "data": {
      "text/plain": [
       "<matplotlib.axes._subplots.AxesSubplot at 0x7f888b86f750>"
      ]
     },
     "execution_count": 4,
     "metadata": {},
     "output_type": "execute_result"
    },
    {
     "data": {
      "image/png": "[encoded data removed]",
      "text/plain": [
       "<Figure size 640x400 with 1 Axes>"
      ]
     },
     "metadata": {
      "needs_background": "light"
     },
     "output_type": "display_data"
    }
   ],
   "source": [
    "d = pd.read_csv(\"./Data/gp.csv\")\n",
    "n = d.shape[0] # number of rows\n",
    "\n",
    "sns.scatterplot(x='x', y='y', data=d, color=\"black\")"
   ]
  },
  {
   "cell_type": "markdown",
   "id": "I760MBDbMsmI",
   "metadata": {
    "id": "I760MBDbMsmI"
   },
   "source": [
    "---\n",
    "\n",
    "#2. Baseline model <a id='base'></a>\n",
    "\n",
    "Lets start by making a baseline model to compare to."
   ]
  },
  {
   "cell_type": "markdown",
   "id": "sjTP6KaJAJZe",
   "metadata": {
    "id": "sjTP6KaJAJZe"
   },
   "source": [
    "---\n",
    "\n",
    "### 🚩 Exercise 1\n",
    "\n",
    "Fit a linear regression model to the training data, and create a plot of the regression line overlayed on the original data.\n"
   ]
  },
  {
   "cell_type": "code",
   "execution_count": 5,
   "id": "JaXp9XxlBWNi",
   "metadata": {
    "colab": {
     "base_uri": "https://localhost:8080/",
     "height": 385
    },
    "executionInfo": {
     "elapsed": 1056,
     "status": "ok",
     "timestamp": 1644409316345,
     "user": {
      "displayName": "Kit Searle",
      "photoUrl": "https://lh3.googleusercontent.com/a/default-user=s64",
      "userId": "05702465444529393860"
     },
     "user_tz": 0
    },
    "id": "JaXp9XxlBWNi",
    "outputId": "cf55475c-235f-42ca-ae07-c7fe2488d4e3"
   },
   "outputs": [
    {
     "data": {
      "text/plain": [
       "<matplotlib.axes._subplots.AxesSubplot at 0x7f887bbee6d0>"
      ]
     },
     "execution_count": 5,
     "metadata": {},
     "output_type": "execute_result"
    },
    {
     "data": {
      "image/png": "[encoded data removed]",
      "text/plain": [
       "<Figure size 640x400 with 1 Axes>"
      ]
     },
     "metadata": {
      "needs_background": "light"
     },
     "output_type": "display_data"
    }
   ],
   "source": [
    "X = np.c_[np.ones(n), d.x]\n",
    "d[\"pred_lm\"] = LinearRegression(fit_intercept = False).fit(X, d.y).predict(X)\n",
    "\n",
    "sns.scatterplot(x='x', y='y', data=d, color=\"black\")\n",
    "sns.lineplot(x='x', y='pred_lm', data=d)"
   ]
  },
  {
   "cell_type": "markdown",
   "id": "oeH9gKbrIl4V",
   "metadata": {
    "id": "oeH9gKbrIl4V"
   },
   "source": [
    "---\n",
    "\n",
    "### 🚩 Exercise 2\n",
    "\n",
    "Calculate the mean squared error of your linear model's predictions. The function `mean_squared_error` from `sklearn.metrics` will be useful for this. See the functions documentation [here](https://scikit-learn.org/stable/modules/generated/sklearn.metrics.mean_squared_error.html)."
   ]
  },
  {
   "cell_type": "code",
   "execution_count": 6,
   "id": "1LLJ66qsJItn",
   "metadata": {
    "colab": {
     "base_uri": "https://localhost:8080/"
    },
    "executionInfo": {
     "elapsed": 218,
     "status": "ok",
     "timestamp": 1644409320503,
     "user": {
      "displayName": "Kit Searle",
      "photoUrl": "https://lh3.googleusercontent.com/a/default-user=s64",
      "userId": "05702465444529393860"
     },
     "user_tz": 0
    },
    "id": "1LLJ66qsJItn",
    "outputId": "93efbb79-3e75-49b9-b2cd-fb1eb4a87d84"
   },
   "outputs": [
    {
     "data": {
      "text/plain": [
       "0.30684493321337125"
      ]
     },
     "execution_count": 6,
     "metadata": {},
     "output_type": "execute_result"
    }
   ],
   "source": [
    "from sklearn.metrics import mean_squared_error\n",
    "\n",
    "mean_squared_error(d.y, d.pred_lm)"
   ]
  },
  {
   "cell_type": "markdown",
   "id": "modified-picture",
   "metadata": {
    "id": "modified-picture"
   },
   "source": [
    "---\n",
    "\n",
    "# 3. Polynomial regression <a id='poly'></a>"
   ]
  },
  {
   "cell_type": "markdown",
   "id": "En9qNqrMNmra",
   "metadata": {
    "id": "En9qNqrMNmra"
   },
   "source": [
    "Polynomial regression is a straight forward approach to capturing simple non-linear relationships between a feature and our response variable. At its core, polynomial regression amounts to the inclusion of additional columns in the model matrix that are powers of the feature of interest.\n",
    "\n",
    "## 3.1 By hand\n",
    "\n",
    "For a single feature and low order polynomials this is can be done by hand. For example, if we want to fit a quadratic model to these data we can do the following,"
   ]
  },
  {
   "cell_type": "code",
   "execution_count": 7,
   "id": "czech-success",
   "metadata": {
    "colab": {
     "base_uri": "https://localhost:8080/"
    },
    "collapsed": true,
    "executionInfo": {
     "elapsed": 232,
     "status": "ok",
     "timestamp": 1644409326198,
     "user": {
      "displayName": "Kit Searle",
      "photoUrl": "https://lh3.googleusercontent.com/a/default-user=s64",
      "userId": "05702465444529393860"
     },
     "user_tz": 0
    },
    "id": "czech-success",
    "outputId": "d050a14d-63c2-4aa3-b498-678364890e99"
   },
   "outputs": [
    {
     "name": "stdout",
     "output_type": "stream",
     "text": [
      "[ 1.96397561 -3.42899677  1.30199921]\n"
     ]
    }
   ],
   "source": [
    "y = d.y\n",
    "X = np.c_[\n",
    "    np.ones(n),\n",
    "    d.x,\n",
    "    d.x**2\n",
    "]\n",
    "\n",
    "l = LinearRegression(fit_intercept = False).fit(X,y)\n",
    "\n",
    "print(l.coef_)"
   ]
  },
  {
   "cell_type": "markdown",
   "id": "Eq8t7AeJOAPS",
   "metadata": {
    "id": "Eq8t7AeJOAPS"
   },
   "source": [
    "Which gives us the following model for the data,\n",
    "\n",
    "$$ \\hat{y} = 1.96 - 3.43 x + 1.30 x^2 $$\n",
    "\n",
    "The predictons of this model are then,"
   ]
  },
  {
   "cell_type": "code",
   "execution_count": 8,
   "id": "xfpFlQxcOiDW",
   "metadata": {
    "colab": {
     "base_uri": "https://localhost:8080/",
     "height": 385
    },
    "executionInfo": {
     "elapsed": 945,
     "status": "ok",
     "timestamp": 1644409330431,
     "user": {
      "displayName": "Kit Searle",
      "photoUrl": "https://lh3.googleusercontent.com/a/default-user=s64",
      "userId": "05702465444529393860"
     },
     "user_tz": 0
    },
    "id": "xfpFlQxcOiDW",
    "outputId": "cbc5e283-6040-47d2-fa28-7079d51c32be"
   },
   "outputs": [
    {
     "data": {
      "text/plain": [
       "<matplotlib.axes._subplots.AxesSubplot at 0x7f8879b2cb90>"
      ]
     },
     "execution_count": 8,
     "metadata": {},
     "output_type": "execute_result"
    },
    {
     "data": {
      "image/png": "[encoded data removed]",
      "text/plain": [
       "<Figure size 640x400 with 1 Axes>"
      ]
     },
     "metadata": {
      "needs_background": "light"
     },
     "output_type": "display_data"
    }
   ],
   "source": [
    "d[\"pred_d2\"] = l.predict(X)\n",
    "\n",
    "sns.scatterplot(x='x', y='y', data=d, color=\"black\")\n",
    "sns.lineplot(x='x', y='value', hue=\"variable\", data=pd.melt(d,id_vars=[\"x\",\"y\"]))"
   ]
  },
  {
   "cell_type": "markdown",
   "id": "kTaBn5FJPAD2",
   "metadata": {
    "id": "kTaBn5FJPAD2"
   },
   "source": [
    "Note that the predicted values from this model form a curve rather than a straight line - specifically we have found the quadratic curve that best fits our data. We have used the pandas function melt to restructure our data frame, this is not strictly needed here but will be necessary for later examples. See the pandas documentation on melt for futher details."
   ]
  },
  {
   "cell_type": "markdown",
   "id": "7sp6nYVtPINC",
   "metadata": {
    "id": "7sp6nYVtPINC"
   },
   "source": [
    "---\n",
    "\n",
    "### 🚩 Exercise 3\n",
    "\n",
    "Calculate the mean square error of this quadratic polynomial model. How does it compare to the linear model we previously fit?"
   ]
  },
  {
   "cell_type": "code",
   "execution_count": 9,
   "id": "UqRviVxyPM6Q",
   "metadata": {
    "colab": {
     "base_uri": "https://localhost:8080/"
    },
    "executionInfo": {
     "elapsed": 244,
     "status": "ok",
     "timestamp": 1644409334059,
     "user": {
      "displayName": "Kit Searle",
      "photoUrl": "https://lh3.googleusercontent.com/a/default-user=s64",
      "userId": "05702465444529393860"
     },
     "user_tz": 0
    },
    "id": "UqRviVxyPM6Q",
    "outputId": "57a38b48-1545-4ed5-80e9-4b2f2fd20124"
   },
   "outputs": [
    {
     "data": {
      "text/plain": [
       "0.2969616424742076"
      ]
     },
     "execution_count": 9,
     "metadata": {},
     "output_type": "execute_result"
    }
   ],
   "source": [
    "mean_squared_error(d.y, d.pred_d2)"
   ]
  },
  {
   "cell_type": "markdown",
   "id": "g7uboLgkTFcF",
   "metadata": {
    "id": "g7uboLgkTFcF"
   },
   "source": [
    "This MSE is slightly better than the MSE for the linear model."
   ]
  },
  {
   "cell_type": "markdown",
   "id": "WaEKfniOTLsO",
   "metadata": {
    "id": "WaEKfniOTLsO"
   },
   "source": [
    "---\n",
    "\n",
    "A cubic model can be similarly fit by adding a column containing $x^3$ to the previous model matrix (`X`). Note that by convention when fitting a polynomial model of degree $n$ we include all powers from $0$ to $n$, so for a cubic model our model matrix should include $x^0$, $x^1$, $x^2$, and $x^3$. "
   ]
  },
  {
   "cell_type": "code",
   "execution_count": 10,
   "id": "axCOgdo8TOSf",
   "metadata": {
    "colab": {
     "base_uri": "https://localhost:8080/"
    },
    "executionInfo": {
     "elapsed": 253,
     "status": "ok",
     "timestamp": 1644409336387,
     "user": {
      "displayName": "Kit Searle",
      "photoUrl": "https://lh3.googleusercontent.com/a/default-user=s64",
      "userId": "05702465444529393860"
     },
     "user_tz": 0
    },
    "id": "axCOgdo8TOSf",
    "outputId": "a7a18ec3-2fff-41e4-fe3e-a06176135196"
   },
   "outputs": [
    {
     "name": "stdout",
     "output_type": "stream",
     "text": [
      "[ 2.36985684 -8.49429068 13.95066369 -8.39215284]\n"
     ]
    }
   ],
   "source": [
    "X = np.c_[X, d.x**3]\n",
    "l = LinearRegression(fit_intercept = False).fit(X,y)\n",
    "\n",
    "print(l.coef_)"
   ]
  },
  {
   "cell_type": "markdown",
   "id": "PNr7on63TY25",
   "metadata": {
    "id": "PNr7on63TY25"
   },
   "source": [
    "This gives us a cubic model with the form,\n",
    "\n",
    "$$\n",
    "\\hat{y} = 2.37 - 8.49 x + 13.9 x^2 - 8.39 x^3\n",
    "$$\n",
    "\n",
    "and predictons of this model are then,"
   ]
  },
  {
   "cell_type": "code",
   "execution_count": 11,
   "id": "F5NbP2f7TfUg",
   "metadata": {
    "colab": {
     "base_uri": "https://localhost:8080/",
     "height": 385
    },
    "executionInfo": {
     "elapsed": 732,
     "status": "ok",
     "timestamp": 1644409339567,
     "user": {
      "displayName": "Kit Searle",
      "photoUrl": "https://lh3.googleusercontent.com/a/default-user=s64",
      "userId": "05702465444529393860"
     },
     "user_tz": 0
    },
    "id": "F5NbP2f7TfUg",
    "outputId": "b50cfb8b-fd65-42b0-8719-128e00f35e7c"
   },
   "outputs": [
    {
     "data": {
      "text/plain": [
       "<matplotlib.axes._subplots.AxesSubplot at 0x7f8879b68c90>"
      ]
     },
     "execution_count": 11,
     "metadata": {},
     "output_type": "execute_result"
    },
    {
     "data": {
      "image/png": "[encoded data removed]",
      "text/plain": [
       "<Figure size 640x400 with 1 Axes>"
      ]
     },
     "metadata": {
      "needs_background": "light"
     },
     "output_type": "display_data"
    }
   ],
   "source": [
    "d[\"pred_d3\"] = l.predict(X)\n",
    "\n",
    "sns.scatterplot(x='x', y='y', data=d, color=\"black\")\n",
    "sns.lineplot(x='x', y='value', hue=\"variable\", data=pd.melt(d,id_vars=[\"x\",\"y\"]))"
   ]
  },
  {
   "cell_type": "markdown",
   "id": "-9bBMxbITwb3",
   "metadata": {
    "id": "-9bBMxbITwb3"
   },
   "source": [
    "---\n",
    "\n",
    "### 🚩 Exercise 4\n",
    "\n",
    "Calculate the mean square error of the cubic polynomial model. How does this model compare to your previous models?"
   ]
  },
  {
   "cell_type": "code",
   "execution_count": 12,
   "id": "bLAOODtdT3mj",
   "metadata": {
    "colab": {
     "base_uri": "https://localhost:8080/"
    },
    "executionInfo": {
     "elapsed": 219,
     "status": "ok",
     "timestamp": 1644409342193,
     "user": {
      "displayName": "Kit Searle",
      "photoUrl": "https://lh3.googleusercontent.com/a/default-user=s64",
      "userId": "05702465444529393860"
     },
     "user_tz": 0
    },
    "id": "bLAOODtdT3mj",
    "outputId": "f2936cf9-1460-4674-9d70-252faeb7769a"
   },
   "outputs": [
    {
     "data": {
      "text/plain": [
       "0.27124908717801827"
      ]
     },
     "execution_count": 12,
     "metadata": {},
     "output_type": "execute_result"
    }
   ],
   "source": [
    "mean_squared_error(d.y, d.pred_d3)"
   ]
  },
  {
   "cell_type": "markdown",
   "id": "kwshBaLPT7XW",
   "metadata": {
    "id": "kwshBaLPT7XW"
   },
   "source": [
    "This is better still than the previous two MSEs."
   ]
  },
  {
   "cell_type": "markdown",
   "id": "BjMwMsAJ_W9b",
   "metadata": {
    "id": "BjMwMsAJ_W9b"
   },
   "source": [
    "---\n",
    "\n",
    "## 3.2 sklearn and polynomial features\n",
    "\n",
    "sklearn has a built in function called `PolynomialFeatures` which can be used to simplify the process of including polynomial features in a model. This function is included in the *preprocessing* module of sklearn, as with other python functions we can import it as follows."
   ]
  },
  {
   "cell_type": "code",
   "execution_count": 13,
   "id": "Sy571J0z_acU",
   "metadata": {
    "executionInfo": {
     "elapsed": 284,
     "status": "ok",
     "timestamp": 1644409344889,
     "user": {
      "displayName": "Kit Searle",
      "photoUrl": "https://lh3.googleusercontent.com/a/default-user=s64",
      "userId": "05702465444529393860"
     },
     "user_tz": 0
    },
    "id": "Sy571J0z_acU"
   },
   "outputs": [],
   "source": [
    "from sklearn.preprocessing import PolynomialFeatures"
   ]
  },
  {
   "cell_type": "markdown",
   "id": "Vc68ZaO3_dJo",
   "metadata": {
    "id": "Vc68ZaO3_dJo"
   },
   "source": [
    "Construction and use of this and other transformers is similar to what we have already seen with LinearRegression, we construct a PolynomialFeatures object in which we set basic options (e.g. the degree of the polynomial) and then apply the transformation to our data via fit_transform method. This will generate a new model matrix which includes the polynomial features up to the degree we have specified.\n",
    "\n",
    "To demonstrate the core features we will start with a toy example and then replicate the models we constructed in Section 3.1. Below we construct our sample data vector and then pass it into the transformer,"
   ]
  },
  {
   "cell_type": "code",
   "execution_count": 14,
   "id": "_6e4dOHNEr88",
   "metadata": {
    "executionInfo": {
     "elapsed": 233,
     "status": "ok",
     "timestamp": 1644409347027,
     "user": {
      "displayName": "Kit Searle",
      "photoUrl": "https://lh3.googleusercontent.com/a/default-user=s64",
      "userId": "05702465444529393860"
     },
     "user_tz": 0
    },
    "id": "_6e4dOHNEr88"
   },
   "outputs": [],
   "source": [
    "x = np.array([1,2,3,4]) # Initial data"
   ]
  },
  {
   "cell_type": "code",
   "execution_count": 15,
   "id": "vXZar3CyEtkg",
   "metadata": {
    "colab": {
     "base_uri": "https://localhost:8080/",
     "height": 363
    },
    "executionInfo": {
     "elapsed": 259,
     "status": "error",
     "timestamp": 1644409348520,
     "user": {
      "displayName": "Kit Searle",
      "photoUrl": "https://lh3.googleusercontent.com/a/default-user=s64",
      "userId": "05702465444529393860"
     },
     "user_tz": 0
    },
    "id": "vXZar3CyEtkg",
    "outputId": "03f8e614-c69a-4fd3-a9fd-210d09050042"
   },
   "outputs": [
    {
     "ename": "ValueError",
     "evalue": "ignored",
     "output_type": "error",
     "traceback": [
      "\u001b[0;31m---------------------------------------------------------------------------\u001b[0m",
      "\u001b[0;31mValueError\u001b[0m                                Traceback (most recent call last)",
      "\u001b[0;32m<ipython-input-15-d08876eb1631>\u001b[0m in \u001b[0;36m<module>\u001b[0;34m()\u001b[0m\n\u001b[0;32m----> 1\u001b[0;31m \u001b[0mPolynomialFeatures\u001b[0m\u001b[0;34m(\u001b[0m\u001b[0mdegree\u001b[0m \u001b[0;34m=\u001b[0m \u001b[0;36m2\u001b[0m\u001b[0;34m)\u001b[0m\u001b[0;34m.\u001b[0m\u001b[0mfit_transform\u001b[0m\u001b[0;34m(\u001b[0m\u001b[0mx\u001b[0m\u001b[0;34m)\u001b[0m\u001b[0;34m\u001b[0m\u001b[0;34m\u001b[0m\u001b[0m\n\u001b[0m",
      "\u001b[0;32m/usr/local/lib/python3.7/dist-packages/sklearn/base.py\u001b[0m in \u001b[0;36mfit_transform\u001b[0;34m(self, X, y, **fit_params)\u001b[0m\n\u001b[1;32m    850\u001b[0m         \u001b[0;32mif\u001b[0m \u001b[0my\u001b[0m \u001b[0;32mis\u001b[0m \u001b[0;32mNone\u001b[0m\u001b[0;34m:\u001b[0m\u001b[0;34m\u001b[0m\u001b[0;34m\u001b[0m\u001b[0m\n\u001b[1;32m    851\u001b[0m             \u001b[0;31m# fit method of arity 1 (unsupervised transformation)\u001b[0m\u001b[0;34m\u001b[0m\u001b[0;34m\u001b[0m\u001b[0;34m\u001b[0m\u001b[0m\n\u001b[0;32m--> 852\u001b[0;31m             \u001b[0;32mreturn\u001b[0m \u001b[0mself\u001b[0m\u001b[0;34m.\u001b[0m\u001b[0mfit\u001b[0m\u001b[0;34m(\u001b[0m\u001b[0mX\u001b[0m\u001b[0;34m,\u001b[0m \u001b[0;34m**\u001b[0m\u001b[0mfit_params\u001b[0m\u001b[0;34m)\u001b[0m\u001b[0;34m.\u001b[0m\u001b[0mtransform\u001b[0m\u001b[0;34m(\u001b[0m\u001b[0mX\u001b[0m\u001b[0;34m)\u001b[0m\u001b[0;34m\u001b[0m\u001b[0;34m\u001b[0m\u001b[0m\n\u001b[0m\u001b[1;32m    853\u001b[0m         \u001b[0;32melse\u001b[0m\u001b[0;34m:\u001b[0m\u001b[0;34m\u001b[0m\u001b[0;34m\u001b[0m\u001b[0m\n\u001b[1;32m    854\u001b[0m             \u001b[0;31m# fit method of arity 2 (supervised transformation)\u001b[0m\u001b[0;34m\u001b[0m\u001b[0;34m\u001b[0m\u001b[0;34m\u001b[0m\u001b[0m\n",
      "\u001b[0;32m/usr/local/lib/python3.7/dist-packages/sklearn/preprocessing/_polynomial.py\u001b[0m in \u001b[0;36mfit\u001b[0;34m(self, X, y)\u001b[0m\n\u001b[1;32m    285\u001b[0m             \u001b[0mFitted\u001b[0m \u001b[0mtransformer\u001b[0m\u001b[0;34m.\u001b[0m\u001b[0;34m\u001b[0m\u001b[0;34m\u001b[0m\u001b[0m\n\u001b[1;32m    286\u001b[0m         \"\"\"\n\u001b[0;32m--> 287\u001b[0;31m         \u001b[0m_\u001b[0m\u001b[0;34m,\u001b[0m \u001b[0mn_features\u001b[0m \u001b[0;34m=\u001b[0m \u001b[0mself\u001b[0m\u001b[0;34m.\u001b[0m\u001b[0m_validate_data\u001b[0m\u001b[0;34m(\u001b[0m\u001b[0mX\u001b[0m\u001b[0;34m,\u001b[0m \u001b[0maccept_sparse\u001b[0m\u001b[0;34m=\u001b[0m\u001b[0;32mTrue\u001b[0m\u001b[0;34m)\u001b[0m\u001b[0;34m.\u001b[0m\u001b[0mshape\u001b[0m\u001b[0;34m\u001b[0m\u001b[0;34m\u001b[0m\u001b[0m\n\u001b[0m\u001b[1;32m    288\u001b[0m \u001b[0;34m\u001b[0m\u001b[0m\n\u001b[1;32m    289\u001b[0m         \u001b[0;32mif\u001b[0m \u001b[0misinstance\u001b[0m\u001b[0;34m(\u001b[0m\u001b[0mself\u001b[0m\u001b[0;34m.\u001b[0m\u001b[0mdegree\u001b[0m\u001b[0;34m,\u001b[0m \u001b[0mnumbers\u001b[0m\u001b[0;34m.\u001b[0m\u001b[0mIntegral\u001b[0m\u001b[0;34m)\u001b[0m\u001b[0;34m:\u001b[0m\u001b[0;34m\u001b[0m\u001b[0;34m\u001b[0m\u001b[0m\n",
      "\u001b[0;32m/usr/local/lib/python3.7/dist-packages/sklearn/base.py\u001b[0m in \u001b[0;36m_validate_data\u001b[0;34m(self, X, y, reset, validate_separately, **check_params)\u001b[0m\n\u001b[1;32m    564\u001b[0m             \u001b[0;32mraise\u001b[0m \u001b[0mValueError\u001b[0m\u001b[0;34m(\u001b[0m\u001b[0;34m\"Validation should be done on X, y or both.\"\u001b[0m\u001b[0;34m)\u001b[0m\u001b[0;34m\u001b[0m\u001b[0;34m\u001b[0m\u001b[0m\n\u001b[1;32m    565\u001b[0m         \u001b[0;32melif\u001b[0m \u001b[0;32mnot\u001b[0m \u001b[0mno_val_X\u001b[0m \u001b[0;32mand\u001b[0m \u001b[0mno_val_y\u001b[0m\u001b[0;34m:\u001b[0m\u001b[0;34m\u001b[0m\u001b[0;34m\u001b[0m\u001b[0m\n\u001b[0;32m--> 566\u001b[0;31m             \u001b[0mX\u001b[0m \u001b[0;34m=\u001b[0m \u001b[0mcheck_array\u001b[0m\u001b[0;34m(\u001b[0m\u001b[0mX\u001b[0m\u001b[0;34m,\u001b[0m \u001b[0;34m**\u001b[0m\u001b[0mcheck_params\u001b[0m\u001b[0;34m)\u001b[0m\u001b[0;34m\u001b[0m\u001b[0;34m\u001b[0m\u001b[0m\n\u001b[0m\u001b[1;32m    567\u001b[0m             \u001b[0mout\u001b[0m \u001b[0;34m=\u001b[0m \u001b[0mX\u001b[0m\u001b[0;34m\u001b[0m\u001b[0;34m\u001b[0m\u001b[0m\n\u001b[1;32m    568\u001b[0m         \u001b[0;32melif\u001b[0m \u001b[0mno_val_X\u001b[0m \u001b[0;32mand\u001b[0m \u001b[0;32mnot\u001b[0m \u001b[0mno_val_y\u001b[0m\u001b[0;34m:\u001b[0m\u001b[0;34m\u001b[0m\u001b[0;34m\u001b[0m\u001b[0m\n",
      "\u001b[0;32m/usr/local/lib/python3.7/dist-packages/sklearn/utils/validation.py\u001b[0m in \u001b[0;36mcheck_array\u001b[0;34m(array, accept_sparse, accept_large_sparse, dtype, order, copy, force_all_finite, ensure_2d, allow_nd, ensure_min_samples, ensure_min_features, estimator)\u001b[0m\n\u001b[1;32m    771\u001b[0m                     \u001b[0;34m\"Reshape your data either using array.reshape(-1, 1) if \"\u001b[0m\u001b[0;34m\u001b[0m\u001b[0;34m\u001b[0m\u001b[0m\n\u001b[1;32m    772\u001b[0m                     \u001b[0;34m\"your data has a single feature or array.reshape(1, -1) \"\u001b[0m\u001b[0;34m\u001b[0m\u001b[0;34m\u001b[0m\u001b[0m\n\u001b[0;32m--> 773\u001b[0;31m                     \u001b[0;34m\"if it contains a single sample.\"\u001b[0m\u001b[0;34m.\u001b[0m\u001b[0mformat\u001b[0m\u001b[0;34m(\u001b[0m\u001b[0marray\u001b[0m\u001b[0;34m)\u001b[0m\u001b[0;34m\u001b[0m\u001b[0;34m\u001b[0m\u001b[0m\n\u001b[0m\u001b[1;32m    774\u001b[0m                 )\n\u001b[1;32m    775\u001b[0m \u001b[0;34m\u001b[0m\u001b[0m\n",
      "\u001b[0;31mValueError\u001b[0m: Expected 2D array, got 1D array instead:\narray=[1 2 3 4].\nReshape your data either using array.reshape(-1, 1) if your data has a single feature or array.reshape(1, -1) if it contains a single sample."
     ]
    }
   ],
   "source": [
    "PolynomialFeatures(degree = 2).fit_transform(x)"
   ]
  },
  {
   "cell_type": "markdown",
   "id": "m-STKXlKE8HO",
   "metadata": {
    "id": "m-STKXlKE8HO"
   },
   "source": [
    "When we run the above code we get an error because currently x is a 1D vector when the fit_transform function is expected a 2D array (the same will also happen with LinearRegression's fit method). To solve this we need to make sure that the value we pass has the correct dimensions, x.reshape(-1, 1) is suggested by the error and corrects the issue."
   ]
  },
  {
   "cell_type": "code",
   "execution_count": 16,
   "id": "hqVlLBqfE99s",
   "metadata": {
    "colab": {
     "base_uri": "https://localhost:8080/"
    },
    "executionInfo": {
     "elapsed": 224,
     "status": "ok",
     "timestamp": 1644409352110,
     "user": {
      "displayName": "Kit Searle",
      "photoUrl": "https://lh3.googleusercontent.com/a/default-user=s64",
      "userId": "05702465444529393860"
     },
     "user_tz": 0
    },
    "id": "hqVlLBqfE99s",
    "outputId": "7f9bc667-3a3c-42ff-9cfb-3747690bdfc5"
   },
   "outputs": [
    {
     "data": {
      "text/plain": [
       "array([[ 1.,  1.,  1.],\n",
       "       [ 1.,  2.,  4.],\n",
       "       [ 1.,  3.,  9.],\n",
       "       [ 1.,  4., 16.]])"
      ]
     },
     "execution_count": 16,
     "metadata": {},
     "output_type": "execute_result"
    }
   ],
   "source": [
    "PolynomialFeatures(degree = 2).fit_transform(x.reshape(-1,1))"
   ]
  },
  {
   "cell_type": "markdown",
   "id": "amH7115BFCS0",
   "metadata": {
    "id": "amH7115BFCS0"
   },
   "source": [
    "Alternatively, we can alsu use the np.c_ function to construct the matrix."
   ]
  },
  {
   "cell_type": "code",
   "execution_count": 17,
   "id": "rPAqQ8dcFFVP",
   "metadata": {
    "colab": {
     "base_uri": "https://localhost:8080/"
    },
    "executionInfo": {
     "elapsed": 261,
     "status": "ok",
     "timestamp": 1644409357075,
     "user": {
      "displayName": "Kit Searle",
      "photoUrl": "https://lh3.googleusercontent.com/a/default-user=s64",
      "userId": "05702465444529393860"
     },
     "user_tz": 0
    },
    "id": "rPAqQ8dcFFVP",
    "outputId": "0b5b5000-6518-488f-b01d-271073edaab6"
   },
   "outputs": [
    {
     "data": {
      "text/plain": [
       "array([[ 1.,  1.,  1.],\n",
       "       [ 1.,  2.,  4.],\n",
       "       [ 1.,  3.,  9.],\n",
       "       [ 1.,  4., 16.]])"
      ]
     },
     "execution_count": 17,
     "metadata": {},
     "output_type": "execute_result"
    }
   ],
   "source": [
    "PolynomialFeatures(degree = 2).fit_transform(np.c_[x]) # Order 2 polynomial model matrix for x"
   ]
  },
  {
   "cell_type": "code",
   "execution_count": 18,
   "id": "CXn4Cq-lFM4x",
   "metadata": {
    "colab": {
     "base_uri": "https://localhost:8080/"
    },
    "executionInfo": {
     "elapsed": 219,
     "status": "ok",
     "timestamp": 1644409359133,
     "user": {
      "displayName": "Kit Searle",
      "photoUrl": "https://lh3.googleusercontent.com/a/default-user=s64",
      "userId": "05702465444529393860"
     },
     "user_tz": 0
    },
    "id": "CXn4Cq-lFM4x",
    "outputId": "d163acbc-95a0-4be5-a82a-ee83a5a7cc5c"
   },
   "outputs": [
    {
     "data": {
      "text/plain": [
       "array([[ 1.,  1.,  1.,  1.],\n",
       "       [ 1.,  2.,  4.,  8.],\n",
       "       [ 1.,  3.,  9., 27.],\n",
       "       [ 1.,  4., 16., 64.]])"
      ]
     },
     "execution_count": 18,
     "metadata": {},
     "output_type": "execute_result"
    }
   ],
   "source": [
    "PolynomialFeatures(degree = 3).fit_transform(np.c_[x]) # Order 3 polynomial model matrix for x"
   ]
  },
  {
   "cell_type": "markdown",
   "id": "hiEIPX59FTm8",
   "metadata": {
    "id": "hiEIPX59FTm8"
   },
   "source": [
    "Note that when we use this transform we get all of the polynomial transformations of x from 0 to degree. In this case, the 0 degree column is equivalent to the intercept column. If for some reason we did not want to include this we can construct PolynomialFeatures with include_bias=False."
   ]
  },
  {
   "cell_type": "code",
   "execution_count": 19,
   "id": "vQ4Bd57jFX5a",
   "metadata": {
    "colab": {
     "base_uri": "https://localhost:8080/"
    },
    "executionInfo": {
     "elapsed": 8,
     "status": "ok",
     "timestamp": 1644409361461,
     "user": {
      "displayName": "Kit Searle",
      "photoUrl": "https://lh3.googleusercontent.com/a/default-user=s64",
      "userId": "05702465444529393860"
     },
     "user_tz": 0
    },
    "id": "vQ4Bd57jFX5a",
    "outputId": "677007a5-2fd8-4089-a52f-868764bda438"
   },
   "outputs": [
    {
     "data": {
      "text/plain": [
       "array([[ 1.,  1.,  1.],\n",
       "       [ 2.,  4.,  8.],\n",
       "       [ 3.,  9., 27.],\n",
       "       [ 4., 16., 64.]])"
      ]
     },
     "execution_count": 19,
     "metadata": {},
     "output_type": "execute_result"
    }
   ],
   "source": [
    "PolynomialFeatures(degree = 3, include_bias=False).fit_transform(np.c_[x])"
   ]
  },
  {
   "cell_type": "markdown",
   "id": "51AbDcWLFeke",
   "metadata": {
    "id": "51AbDcWLFeke"
   },
   "source": [
    "We can now apply this to our original data by storing the result as X then passing this new model matrix to the linear regression fit method."
   ]
  },
  {
   "cell_type": "code",
   "execution_count": 20,
   "id": "Ivjt9oHhFiDg",
   "metadata": {
    "colab": {
     "base_uri": "https://localhost:8080/"
    },
    "executionInfo": {
     "elapsed": 5,
     "status": "ok",
     "timestamp": 1644409363575,
     "user": {
      "displayName": "Kit Searle",
      "photoUrl": "https://lh3.googleusercontent.com/a/default-user=s64",
      "userId": "05702465444529393860"
     },
     "user_tz": 0
    },
    "id": "Ivjt9oHhFiDg",
    "outputId": "d2102e05-c4dd-465d-ed75-99bd4639f37d"
   },
   "outputs": [
    {
     "name": "stdout",
     "output_type": "stream",
     "text": [
      "[ 2.36985684 -8.49429068 13.95066369 -8.39215284]\n"
     ]
    }
   ],
   "source": [
    "X = PolynomialFeatures(degree = 3).fit_transform(np.c_[d.x])\n",
    "\n",
    "l = LinearRegression(fit_intercept = False).fit(X,d.y)\n",
    "print(l.coef_)"
   ]
  },
  {
   "cell_type": "markdown",
   "id": "SYMdnZFpFsTo",
   "metadata": {
    "id": "SYMdnZFpFsTo"
   },
   "source": [
    "These values match those we obtained from the earlier cubic model, and we can also see this when plotting the model predictons."
   ]
  },
  {
   "cell_type": "code",
   "execution_count": 21,
   "id": "Go9i4yguFvG1",
   "metadata": {
    "colab": {
     "base_uri": "https://localhost:8080/",
     "height": 385
    },
    "executionInfo": {
     "elapsed": 836,
     "status": "ok",
     "timestamp": 1644409366802,
     "user": {
      "displayName": "Kit Searle",
      "photoUrl": "https://lh3.googleusercontent.com/a/default-user=s64",
      "userId": "05702465444529393860"
     },
     "user_tz": 0
    },
    "id": "Go9i4yguFvG1",
    "outputId": "66d28fa2-0732-4786-e1b1-10bfc989fae2"
   },
   "outputs": [
    {
     "data": {
      "text/plain": [
       "<matplotlib.axes._subplots.AxesSubplot at 0x7f887995c910>"
      ]
     },
     "execution_count": 21,
     "metadata": {},
     "output_type": "execute_result"
    },
    {
     "data": {
      "image/png": "[encoded data removed]",
      "text/plain": [
       "<Figure size 640x400 with 1 Axes>"
      ]
     },
     "metadata": {
      "needs_background": "light"
     },
     "output_type": "display_data"
    }
   ],
   "source": [
    "d[\"pred_d3_sk\"] = l.predict(X)\n",
    "\n",
    "sns.scatterplot(x='x', y='y', data=d, color=\"black\")\n",
    "sns.lineplot(x='x', y='value', hue=\"variable\", data=pd.melt(d,id_vars=[\"x\",\"y\"]))"
   ]
  },
  {
   "cell_type": "markdown",
   "id": "5Ehhqy6mF5My",
   "metadata": {
    "id": "5Ehhqy6mF5My"
   },
   "source": [
    "We can not even see the pred_d3 line as it is being overplotted by the pred_d3_sk line."
   ]
  },
  {
   "cell_type": "markdown",
   "id": "MlM-Pk5hSZzk",
   "metadata": {
    "id": "MlM-Pk5hSZzk"
   },
   "source": [
    "## 3.3 Pipelines\n",
    "\n",
    "You may have noticed that `PolynomialFeatures` takes a model matrix as input and returns a new model matrix as output which is then used as the input for `LinearRegression`. This is not an accident, and by structuring the library in this way sklearn is designed to enable the connection of these steps together, into what sklearn calls a *pipeline*.\n",
    "\n",
    "We can modularize and simply our code somewhat by creating a pipeline that takes our original data, performs a polynomial feature transform and then feeds the results into a linear regression. We can accomplish this via the `make_pipeline` function from the `pipeline` module."
   ]
  },
  {
   "cell_type": "code",
   "execution_count": 22,
   "id": "vDjYa1k4Shww",
   "metadata": {
    "colab": {
     "base_uri": "https://localhost:8080/"
    },
    "executionInfo": {
     "elapsed": 274,
     "status": "ok",
     "timestamp": 1644409370428,
     "user": {
      "displayName": "Kit Searle",
      "photoUrl": "https://lh3.googleusercontent.com/a/default-user=s64",
      "userId": "05702465444529393860"
     },
     "user_tz": 0
    },
    "id": "vDjYa1k4Shww",
    "outputId": "5c565996-63f5-4681-cb32-2d2324841496"
   },
   "outputs": [
    {
     "name": "stdout",
     "output_type": "stream",
     "text": [
      "Pipeline(steps=[('polynomialfeatures', PolynomialFeatures(degree=4)),\n",
      "                ('linearregression', LinearRegression())])\n"
     ]
    }
   ],
   "source": [
    "from sklearn.pipeline import make_pipeline\n",
    "\n",
    "poly_model = make_pipeline(\n",
    "    PolynomialFeatures(degree=4),\n",
    "    LinearRegression()\n",
    ")\n",
    "\n",
    "print(poly_model)"
   ]
  },
  {
   "cell_type": "markdown",
   "id": "y7H1TDrRSm0y",
   "metadata": {
    "id": "y7H1TDrRSm0y"
   },
   "source": [
    "The resulting object represents a new \"model\" which can then be fit to data."
   ]
  },
  {
   "cell_type": "code",
   "execution_count": 23,
   "id": "FyAWJNSUSpKW",
   "metadata": {
    "colab": {
     "base_uri": "https://localhost:8080/"
    },
    "executionInfo": {
     "elapsed": 3,
     "status": "ok",
     "timestamp": 1644409372623,
     "user": {
      "displayName": "Kit Searle",
      "photoUrl": "https://lh3.googleusercontent.com/a/default-user=s64",
      "userId": "05702465444529393860"
     },
     "user_tz": 0
    },
    "id": "FyAWJNSUSpKW",
    "outputId": "f07367b4-8eb1-448d-d454-3655c64f0fd5"
   },
   "outputs": [
    {
     "name": "stdout",
     "output_type": "stream",
     "text": [
      "Pipeline(steps=[('polynomialfeatures', PolynomialFeatures(degree=4)),\n",
      "                ('linearregression', LinearRegression())])\n"
     ]
    }
   ],
   "source": [
    "p = poly_model.fit(np.c_[d.x], d.y)\n",
    "print(p)"
   ]
  },
  {
   "cell_type": "markdown",
   "id": "-bzACuq_Ss8x",
   "metadata": {
    "id": "-bzACuq_Ss8x"
   },
   "source": [
    "and used to create predictions just like our previous `LinearRegression` model."
   ]
  },
  {
   "cell_type": "code",
   "execution_count": 24,
   "id": "4N6TTWOfSvXg",
   "metadata": {
    "colab": {
     "base_uri": "https://localhost:8080/",
     "height": 385
    },
    "executionInfo": {
     "elapsed": 564,
     "status": "ok",
     "timestamp": 1644409374638,
     "user": {
      "displayName": "Kit Searle",
      "photoUrl": "https://lh3.googleusercontent.com/a/default-user=s64",
      "userId": "05702465444529393860"
     },
     "user_tz": 0
    },
    "id": "4N6TTWOfSvXg",
    "outputId": "ebf04337-c2bd-4ed6-e323-b8e9aed6e671"
   },
   "outputs": [
    {
     "data": {
      "text/plain": [
       "<matplotlib.axes._subplots.AxesSubplot at 0x7f887987e390>"
      ]
     },
     "execution_count": 24,
     "metadata": {},
     "output_type": "execute_result"
    },
    {
     "data": {
      "image/png": "[encoded data removed]",
      "text/plain": [
       "<Figure size 640x400 with 1 Axes>"
      ]
     },
     "metadata": {
      "needs_background": "light"
     },
     "output_type": "display_data"
    }
   ],
   "source": [
    "d['pred_d4_pipe'] = p.predict(np.c_[d.x])\n",
    "\n",
    "sns.scatterplot(x='x', y='y', data=d, color=\"black\")\n",
    "sns.lineplot(x='x', y='value', hue=\"variable\", data=pd.melt(d,id_vars=[\"x\",\"y\"]))"
   ]
  },
  {
   "cell_type": "markdown",
   "id": "IrSDIOI1S4Rb",
   "metadata": {
    "id": "IrSDIOI1S4Rb"
   },
   "source": [
    "The returned object is a `Pipeline` object so it will not provide direct access to step properties, such as the coefficients for the regression model."
   ]
  },
  {
   "cell_type": "code",
   "execution_count": 25,
   "id": "jwKvHqRrS60i",
   "metadata": {
    "colab": {
     "base_uri": "https://localhost:8080/",
     "height": 166
    },
    "executionInfo": {
     "elapsed": 234,
     "status": "error",
     "timestamp": 1644409378127,
     "user": {
      "displayName": "Kit Searle",
      "photoUrl": "https://lh3.googleusercontent.com/a/default-user=s64",
      "userId": "05702465444529393860"
     },
     "user_tz": 0
    },
    "id": "jwKvHqRrS60i",
    "outputId": "ea69f669-f425-4ac6-de6c-39d815dab1f0"
   },
   "outputs": [
    {
     "ename": "AttributeError",
     "evalue": "ignored",
     "output_type": "error",
     "traceback": [
      "\u001b[0;31m---------------------------------------------------------------------------\u001b[0m",
      "\u001b[0;31mAttributeError\u001b[0m                            Traceback (most recent call last)",
      "\u001b[0;32m<ipython-input-25-806ff5269aa8>\u001b[0m in \u001b[0;36m<module>\u001b[0;34m()\u001b[0m\n\u001b[0;32m----> 1\u001b[0;31m \u001b[0mprint\u001b[0m\u001b[0;34m(\u001b[0m\u001b[0mp\u001b[0m\u001b[0;34m.\u001b[0m\u001b[0mcoef_\u001b[0m\u001b[0;34m)\u001b[0m\u001b[0;34m\u001b[0m\u001b[0;34m\u001b[0m\u001b[0m\n\u001b[0m",
      "\u001b[0;31mAttributeError\u001b[0m: 'Pipeline' object has no attribute 'coef_'"
     ]
    }
   ],
   "source": [
    "print(p.coef_)"
   ]
  },
  {
   "cell_type": "markdown",
   "id": "V9loUbEPS-tu",
   "metadata": {
    "id": "V9loUbEPS-tu"
   },
   "source": [
    "If we want access to the attributes or methods of a particular step we need to first access that step using either its name or position."
   ]
  },
  {
   "cell_type": "code",
   "execution_count": 26,
   "id": "iN2LpbkqTBfx",
   "metadata": {
    "colab": {
     "base_uri": "https://localhost:8080/"
    },
    "executionInfo": {
     "elapsed": 290,
     "status": "ok",
     "timestamp": 1644409390647,
     "user": {
      "displayName": "Kit Searle",
      "photoUrl": "https://lh3.googleusercontent.com/a/default-user=s64",
      "userId": "05702465444529393860"
     },
     "user_tz": 0
    },
    "id": "iN2LpbkqTBfx",
    "outputId": "01624194-46fd-44cf-8fa7-8826e04bdc3c"
   },
   "outputs": [
    {
     "name": "stdout",
     "output_type": "stream",
     "text": [
      "[  0.           7.39051417 -57.67175293 102.72227443 -55.38181361]\n"
     ]
    }
   ],
   "source": [
    "print(p.named_steps['linearregression'].coef_)"
   ]
  },
  {
   "cell_type": "code",
   "execution_count": 27,
   "id": "kYXTpXTVTFjD",
   "metadata": {
    "colab": {
     "base_uri": "https://localhost:8080/"
    },
    "executionInfo": {
     "elapsed": 342,
     "status": "ok",
     "timestamp": 1644409393249,
     "user": {
      "displayName": "Kit Searle",
      "photoUrl": "https://lh3.googleusercontent.com/a/default-user=s64",
      "userId": "05702465444529393860"
     },
     "user_tz": 0
    },
    "id": "kYXTpXTVTFjD",
    "outputId": "02448c0e-f4f2-48a1-b61d-5530d2f4f672"
   },
   "outputs": [
    {
     "name": "stdout",
     "output_type": "stream",
     "text": [
      "1.6136636604768249\n"
     ]
    }
   ],
   "source": [
    "print(p.steps[1][1].intercept_) # second subset is necessary here because \n",
    "                                # each step is a tuple of a name and the \n",
    "                                # model / transform object "
   ]
  },
  {
   "cell_type": "markdown",
   "id": "XRG7GFy-TPlp",
   "metadata": {
    "id": "XRG7GFy-TPlp"
   },
   "source": [
    "Also note that both the `'linearregression'` and `'polynomialfeatures'` step introduce a column of ones into the model matrix. This potentially introduces a rank deficiency in our model matrix, however sklearn handles this by fixing the coefficient of the duplicate intercept column to 0. The result however is that the intercept is now stored in `intercept_` and not `coef_`. If we wished to avoid this we would need to construct our pipeline using `LinearRegression(fit_intercept=False)`."
   ]
  },
  {
   "cell_type": "code",
   "execution_count": 28,
   "id": "kVXrjqAMTSm0",
   "metadata": {
    "colab": {
     "base_uri": "https://localhost:8080/"
    },
    "executionInfo": {
     "elapsed": 247,
     "status": "ok",
     "timestamp": 1644409397194,
     "user": {
      "displayName": "Kit Searle",
      "photoUrl": "https://lh3.googleusercontent.com/a/default-user=s64",
      "userId": "05702465444529393860"
     },
     "user_tz": 0
    },
    "id": "kVXrjqAMTSm0",
    "outputId": "a06a36db-25a8-4304-def3-2c80d42cd0a2"
   },
   "outputs": [
    {
     "name": "stdout",
     "output_type": "stream",
     "text": [
      "[  1.61366366   7.39051417 -57.67175293 102.72227443 -55.38181361]\n",
      "0.0\n"
     ]
    }
   ],
   "source": [
    "p = make_pipeline(\n",
    "    PolynomialFeatures(degree=4),\n",
    "    LinearRegression(fit_intercept = False)\n",
    ").fit(\n",
    "    np.c_[d.x],\n",
    "    d.y\n",
    ")\n",
    "\n",
    "print(p.named_steps['linearregression'].coef_)\n",
    "print(p.named_steps['linearregression'].intercept_)"
   ]
  },
  {
   "cell_type": "markdown",
   "id": "6gaptWgCTbGP",
   "metadata": {
    "id": "6gaptWgCTbGP"
   },
   "source": [
    "## 3.4 Putting it all together\n",
    "\n",
    "So far each time we've wanted to fit a polynomial regression model we've had to set up the various data objects and then create the sklearn model and transformation objects and then get a final result of the coefficients or a plot - because of this the preceeding cells contain a lot of duplicated code which is something we should be trying to avoid. \n",
    "\n",
    "Our modeling task here is like many other programming tasks, when we find ourselves reusing the same code over and over it is time to consider writing a function. Below I have implemented a function called `poly_reg` that allows the user to provide a data frame and specific the names of the `x` column an d `y` column as well as the degree of the polynomial we would like to fit. The function returns the original data frame with the model predictions added as well as the model coefficients in a tuple."
   ]
  },
  {
   "cell_type": "code",
   "execution_count": 29,
   "id": "hKaZkpOjTgCB",
   "metadata": {
    "executionInfo": {
     "elapsed": 208,
     "status": "ok",
     "timestamp": 1644409400643,
     "user": {
      "displayName": "Kit Searle",
      "photoUrl": "https://lh3.googleusercontent.com/a/default-user=s64",
      "userId": "05702465444529393860"
     },
     "user_tz": 0
    },
    "id": "hKaZkpOjTgCB"
   },
   "outputs": [],
   "source": [
    "def poly_reg(data, x = 'x', y = 'y', degree=1, plot_data = True, plot_fit = True):\n",
    "    X = np.c_[data[x]]\n",
    "    Y = data[y]\n",
    "    \n",
    "    p = make_pipeline(\n",
    "        PolynomialFeatures(degree=degree),\n",
    "        LinearRegression(fit_intercept=False)\n",
    "    )\n",
    "    \n",
    "    m = p.fit(X,Y)\n",
    "    \n",
    "    pred_col = 'pred_d'+str(degree)\n",
    "    data[pred_col] = m.predict(X)\n",
    "\n",
    "    if plot_data:\n",
    "        sns.scatterplot(x=data[x], y=data[y], color=\"black\")\n",
    "\n",
    "    if plot_fit:\n",
    "        sns.lineplot(x=data[x], y=data[pred_col])\n",
    "    \n",
    "    return (data, m.steps[1][1])"
   ]
  },
  {
   "cell_type": "code",
   "execution_count": 30,
   "id": "HUsAPss8Tjh9",
   "metadata": {
    "colab": {
     "base_uri": "https://localhost:8080/",
     "height": 367
    },
    "executionInfo": {
     "elapsed": 819,
     "status": "ok",
     "timestamp": 1644409405453,
     "user": {
      "displayName": "Kit Searle",
      "photoUrl": "https://lh3.googleusercontent.com/a/default-user=s64",
      "userId": "05702465444529393860"
     },
     "user_tz": 0
    },
    "id": "HUsAPss8Tjh9",
    "outputId": "b5b490aa-ef78-403c-d032-cb786c477177"
   },
   "outputs": [
    {
     "data": {
      "image/png": "[encoded data removed]",
      "text/plain": [
       "<Figure size 640x400 with 1 Axes>"
      ]
     },
     "metadata": {
      "needs_background": "light"
     },
     "output_type": "display_data"
    }
   ],
   "source": [
    "_, _ = poly_reg(d, degree=5)"
   ]
  },
  {
   "cell_type": "markdown",
   "id": "nlSVqOkKTwTd",
   "metadata": {
    "id": "nlSVqOkKTwTd"
   },
   "source": [
    "Since we are not using either the data frame or model coefficients we unpack them into `_`."
   ]
  },
  {
   "cell_type": "markdown",
   "id": "kyS6kBbMzssV",
   "metadata": {
    "id": "kyS6kBbMzssV"
   },
   "source": [
    "---\n",
    "\n",
    "### 🚩 Exercise 5\n",
    "\n",
    "Use the `poly_reg` function to fit a variety of different polynomial models to the data. What values of `degree` provides the best fit (judged qualitatively not quantitatively)."
   ]
  },
  {
   "cell_type": "code",
   "execution_count": 31,
   "id": "2zdwRNVPz-5R",
   "metadata": {
    "colab": {
     "base_uri": "https://localhost:8080/",
     "height": 367
    },
    "executionInfo": {
     "elapsed": 688,
     "status": "ok",
     "timestamp": 1644409411154,
     "user": {
      "displayName": "Kit Searle",
      "photoUrl": "https://lh3.googleusercontent.com/a/default-user=s64",
      "userId": "05702465444529393860"
     },
     "user_tz": 0
    },
    "id": "2zdwRNVPz-5R",
    "outputId": "244a873f-5830-4ae3-80df-ed3d085545c3"
   },
   "outputs": [
    {
     "data": {
      "image/png": "[encoded data removed]",
      "text/plain": [
       "<Figure size 640x400 with 1 Axes>"
      ]
     },
     "metadata": {
      "needs_background": "light"
     },
     "output_type": "display_data"
    }
   ],
   "source": [
    "_, _ = poly_reg(d, degree=5)"
   ]
  },
  {
   "cell_type": "code",
   "execution_count": 32,
   "id": "tMWIYDiu0B8t",
   "metadata": {
    "colab": {
     "base_uri": "https://localhost:8080/",
     "height": 367
    },
    "executionInfo": {
     "elapsed": 815,
     "status": "ok",
     "timestamp": 1644409414590,
     "user": {
      "displayName": "Kit Searle",
      "photoUrl": "https://lh3.googleusercontent.com/a/default-user=s64",
      "userId": "05702465444529393860"
     },
     "user_tz": 0
    },
    "id": "tMWIYDiu0B8t",
    "outputId": "708b9962-ae8b-4de6-ce73-3fd3e423e927"
   },
   "outputs": [
    {
     "data": {
      "image/png": "[encoded data removed]",
      "text/plain": [
       "<Figure size 640x400 with 1 Axes>"
      ]
     },
     "metadata": {
      "needs_background": "light"
     },
     "output_type": "display_data"
    }
   ],
   "source": [
    "_, _ = poly_reg(d, degree=6)"
   ]
  },
  {
   "cell_type": "code",
   "execution_count": 33,
   "id": "MF41FPek0BXx",
   "metadata": {
    "colab": {
     "base_uri": "https://localhost:8080/",
     "height": 367
    },
    "executionInfo": {
     "elapsed": 335,
     "status": "ok",
     "timestamp": 1644409417722,
     "user": {
      "displayName": "Kit Searle",
      "photoUrl": "https://lh3.googleusercontent.com/a/default-user=s64",
      "userId": "05702465444529393860"
     },
     "user_tz": 0
    },
    "id": "MF41FPek0BXx",
    "outputId": "53844415-b23a-453d-ca97-bd9671c08f66"
   },
   "outputs": [
    {
     "data": {
      "image/png": "[encoded data removed]",
      "text/plain": [
       "<Figure size 640x400 with 1 Axes>"
      ]
     },
     "metadata": {
      "needs_background": "light"
     },
     "output_type": "display_data"
    }
   ],
   "source": [
    "_, _ = poly_reg(d, degree=8)"
   ]
  },
  {
   "cell_type": "code",
   "execution_count": 34,
   "id": "0WrN79Az0Ayl",
   "metadata": {
    "colab": {
     "base_uri": "https://localhost:8080/",
     "height": 367
    },
    "executionInfo": {
     "elapsed": 665,
     "status": "ok",
     "timestamp": 1644409421710,
     "user": {
      "displayName": "Kit Searle",
      "photoUrl": "https://lh3.googleusercontent.com/a/default-user=s64",
      "userId": "05702465444529393860"
     },
     "user_tz": 0
    },
    "id": "0WrN79Az0Ayl",
    "outputId": "fbf2408e-6b22-4b7a-9845-371b906b87b8"
   },
   "outputs": [
    {
     "data": {
      "image/png": "[encoded data removed]",
      "text/plain": [
       "<Figure size 640x400 with 1 Axes>"
      ]
     },
     "metadata": {
      "needs_background": "light"
     },
     "output_type": "display_data"
    }
   ],
   "source": [
    "_, _ = poly_reg(d, degree=10)"
   ]
  },
  {
   "cell_type": "markdown",
   "id": "LoXXdUXK04Dd",
   "metadata": {
    "id": "LoXXdUXK04Dd"
   },
   "source": [
    "As we increase the degrees of the polynomial the model appears to fit the data better, there also appears to be some diminishing returns as the degree gets larger."
   ]
  },
  {
   "cell_type": "markdown",
   "id": "qk2sjtWE1C-8",
   "metadata": {
    "id": "qk2sjtWE1C-8"
   },
   "source": [
    "---\n",
    "\n",
    "### 🚩 Exercise 6\n",
    "\n",
    "\n",
    "In the cell below we have provided a copy of the `poly_reg` function, modify this function such that it returns a 3rd value that is the mean square error of the predictions for the model. Check that the value returned by the function matches the MSE you calculated in **Exercises 2-4**."
   ]
  },
  {
   "cell_type": "code",
   "execution_count": 35,
   "id": "HBCZFkjf1bje",
   "metadata": {
    "executionInfo": {
     "elapsed": 229,
     "status": "ok",
     "timestamp": 1644409425118,
     "user": {
      "displayName": "Kit Searle",
      "photoUrl": "https://lh3.googleusercontent.com/a/default-user=s64",
      "userId": "05702465444529393860"
     },
     "user_tz": 0
    },
    "id": "HBCZFkjf1bje"
   },
   "outputs": [],
   "source": [
    "def poly_reg_mse(data, x = 'x', y = 'y', degree=1, plot_data = True, plot_fit = True):\n",
    "    X = np.c_[data[x]]\n",
    "    Y = data[y]\n",
    "    \n",
    "    p = make_pipeline(\n",
    "        PolynomialFeatures(degree=degree),\n",
    "        LinearRegression(fit_intercept=False)\n",
    "    )\n",
    "    \n",
    "    m = p.fit(X,Y)\n",
    "    \n",
    "    pred_col = 'pred_d'+str(degree)\n",
    "    data[pred_col] = m.predict(X)\n",
    "\n",
    "    if plot_data:\n",
    "        sns.scatterplot(data[x],data[y], color=\"black\")\n",
    "\n",
    "    if plot_fit:\n",
    "        sns.lineplot(data[x],data[pred_col])\n",
    "    \n",
    "    # Only the line below needs to change\n",
    "    return (data, m.steps[1][1], mean_squared_error(data[y], data[pred_col]))"
   ]
  },
  {
   "cell_type": "markdown",
   "id": "NA--oVPL1n7e",
   "metadata": {
    "id": "NA--oVPL1n7e"
   },
   "source": [
    "Below are three calls to this function which report these MSE values."
   ]
  },
  {
   "cell_type": "code",
   "execution_count": 36,
   "id": "FEilTSFM1ljp",
   "metadata": {
    "colab": {
     "base_uri": "https://localhost:8080/"
    },
    "executionInfo": {
     "elapsed": 211,
     "status": "ok",
     "timestamp": 1644409428941,
     "user": {
      "displayName": "Kit Searle",
      "photoUrl": "https://lh3.googleusercontent.com/a/default-user=s64",
      "userId": "05702465444529393860"
     },
     "user_tz": 0
    },
    "id": "FEilTSFM1ljp",
    "outputId": "55dc852c-1d07-432c-9150-b27071ada3bc"
   },
   "outputs": [
    {
     "name": "stdout",
     "output_type": "stream",
     "text": [
      "deg=1: 0.30684493321337125\n",
      "deg=2: 0.2969616424742076\n",
      "deg=3: 0.27124908717801827\n"
     ]
    }
   ],
   "source": [
    "_, _, mse_d1 = poly_reg_mse(d, degree=1, plot_data=False, plot_fit=False)\n",
    "_, _, mse_d2 = poly_reg_mse(d, degree=2, plot_data=False, plot_fit=False)\n",
    "_, _, mse_d3 = poly_reg_mse(d, degree=3, plot_data=False, plot_fit=False)\n",
    "\n",
    "\n",
    "print(\"deg=1:\", mse_d1)\n",
    "print(\"deg=2:\", mse_d2)\n",
    "print(\"deg=3:\", mse_d3)"
   ]
  },
  {
   "cell_type": "markdown",
   "id": "enP7t4Vb1ros",
   "metadata": {
    "id": "enP7t4Vb1ros"
   },
   "source": [
    "---\n",
    "\n",
    "### 🚩 Exercise 7\n",
    "\n",
    "\n",
    "Construct a data frame called `poly_res` with the columns `degree` and `mse`. `degree` should contain the integer values 1 to 20 and `mse` should contain the mean squared errors, calculated using the function `poly_reg_mse`, for each of the different `degree` values."
   ]
  },
  {
   "cell_type": "code",
   "execution_count": 37,
   "id": "kl6Tswnw1xbj",
   "metadata": {
    "colab": {
     "base_uri": "https://localhost:8080/",
     "height": 677
    },
    "executionInfo": {
     "elapsed": 220,
     "status": "ok",
     "timestamp": 1644409432796,
     "user": {
      "displayName": "Kit Searle",
      "photoUrl": "https://lh3.googleusercontent.com/a/default-user=s64",
      "userId": "05702465444529393860"
     },
     "user_tz": 0
    },
    "id": "kl6Tswnw1xbj",
    "outputId": "e169d9aa-ab66-4194-ec54-39e0d882d2fc"
   },
   "outputs": [
    {
     "data": {
      "text/html": [
       "\n",
       "  <div id=\"df-43101995-9ca5-4475-81c0-5052a115e3dc\">\n",
       "    <div class=\"colab-df-container\">\n",
       "      <div>\n",
       "<style scoped>\n",
       "    .dataframe tbody tr th:only-of-type {\n",
       "        vertical-align: middle;\n",
       "    }\n",
       "\n",
       "    .dataframe tbody tr th {\n",
       "        vertical-align: top;\n",
       "    }\n",
       "\n",
       "    .dataframe thead th {\n",
       "        text-align: right;\n",
       "    }\n",
       "</style>\n",
       "<table border=\"1\" class=\"dataframe\">\n",
       "  <thead>\n",
       "    <tr style=\"text-align: right;\">\n",
       "      <th></th>\n",
       "      <th>degree</th>\n",
       "      <th>mse</th>\n",
       "    </tr>\n",
       "  </thead>\n",
       "  <tbody>\n",
       "    <tr>\n",
       "      <th>0</th>\n",
       "      <td>1</td>\n",
       "      <td>0.306845</td>\n",
       "    </tr>\n",
       "    <tr>\n",
       "      <th>1</th>\n",
       "      <td>2</td>\n",
       "      <td>0.296962</td>\n",
       "    </tr>\n",
       "    <tr>\n",
       "      <th>2</th>\n",
       "      <td>3</td>\n",
       "      <td>0.271249</td>\n",
       "    </tr>\n",
       "    <tr>\n",
       "      <th>3</th>\n",
       "      <td>4</td>\n",
       "      <td>0.203277</td>\n",
       "    </tr>\n",
       "    <tr>\n",
       "      <th>4</th>\n",
       "      <td>5</td>\n",
       "      <td>0.077071</td>\n",
       "    </tr>\n",
       "    <tr>\n",
       "      <th>5</th>\n",
       "      <td>6</td>\n",
       "      <td>0.076422</td>\n",
       "    </tr>\n",
       "    <tr>\n",
       "      <th>6</th>\n",
       "      <td>7</td>\n",
       "      <td>0.067818</td>\n",
       "    </tr>\n",
       "    <tr>\n",
       "      <th>7</th>\n",
       "      <td>8</td>\n",
       "      <td>0.047326</td>\n",
       "    </tr>\n",
       "    <tr>\n",
       "      <th>8</th>\n",
       "      <td>9</td>\n",
       "      <td>0.043203</td>\n",
       "    </tr>\n",
       "    <tr>\n",
       "      <th>9</th>\n",
       "      <td>10</td>\n",
       "      <td>0.031921</td>\n",
       "    </tr>\n",
       "    <tr>\n",
       "      <th>10</th>\n",
       "      <td>11</td>\n",
       "      <td>0.027017</td>\n",
       "    </tr>\n",
       "    <tr>\n",
       "      <th>11</th>\n",
       "      <td>12</td>\n",
       "      <td>0.026995</td>\n",
       "    </tr>\n",
       "    <tr>\n",
       "      <th>12</th>\n",
       "      <td>13</td>\n",
       "      <td>0.026437</td>\n",
       "    </tr>\n",
       "    <tr>\n",
       "      <th>13</th>\n",
       "      <td>14</td>\n",
       "      <td>0.026291</td>\n",
       "    </tr>\n",
       "    <tr>\n",
       "      <th>14</th>\n",
       "      <td>15</td>\n",
       "      <td>0.023590</td>\n",
       "    </tr>\n",
       "    <tr>\n",
       "      <th>15</th>\n",
       "      <td>16</td>\n",
       "      <td>0.023289</td>\n",
       "    </tr>\n",
       "    <tr>\n",
       "      <th>16</th>\n",
       "      <td>17</td>\n",
       "      <td>0.019937</td>\n",
       "    </tr>\n",
       "    <tr>\n",
       "      <th>17</th>\n",
       "      <td>18</td>\n",
       "      <td>0.019937</td>\n",
       "    </tr>\n",
       "    <tr>\n",
       "      <th>18</th>\n",
       "      <td>19</td>\n",
       "      <td>0.019881</td>\n",
       "    </tr>\n",
       "    <tr>\n",
       "      <th>19</th>\n",
       "      <td>20</td>\n",
       "      <td>0.019873</td>\n",
       "    </tr>\n",
       "  </tbody>\n",
       "</table>\n",
       "</div>\n",
       "      <button class=\"colab-df-convert\" onclick=\"convertToInteractive('df-43101995-9ca5-4475-81c0-5052a115e3dc')\"\n",
       "              title=\"Convert this dataframe to an interactive table.\"\n",
       "              style=\"display:none;\">\n",
       "        \n",
       "  <svg xmlns=\"http://www.w3.org/2000/svg\" height=\"24px\"viewBox=\"0 0 24 24\"\n",
       "       width=\"24px\">\n",
       "    <path d=\"M0 0h24v24H0V0z\" fill=\"none\"/>\n",
       "    <path d=\"M18.56 5.44l.94 2.06.94-2.06 2.06-.94-2.06-.94-.94-2.06-.94 2.06-2.06.94zm-11 1L8.5 8.5l.94-2.06 2.06-.94-2.06-.94L8.5 2.5l-.94 2.06-2.06.94zm10 10l.94 2.06.94-2.06 2.06-.94-2.06-.94-.94-2.06-.94 2.06-2.06.94z\"/><path d=\"M17.41 7.96l-1.37-1.37c-.4-.4-.92-.59-1.43-.59-.52 0-1.04.2-1.43.59L10.3 9.45l-7.72 7.72c-.78.78-.78 2.05 0 2.83L4 21.41c.39.39.9.59 1.41.59.51 0 1.02-.2 1.41-.59l7.78-7.78 2.81-2.81c.8-.78.8-2.07 0-2.86zM5.41 20L4 18.59l7.72-7.72 1.47 1.35L5.41 20z\"/>\n",
       "  </svg>\n",
       "      </button>\n",
       "      \n",
       "  <style>\n",
       "    .colab-df-container {\n",
       "      display:flex;\n",
       "      flex-wrap:wrap;\n",
       "      gap: 12px;\n",
       "    }\n",
       "\n",
       "    .colab-df-convert {\n",
       "      background-color: #E8F0FE;\n",
       "      border: none;\n",
       "      border-radius: 50%;\n",
       "      cursor: pointer;\n",
       "      display: none;\n",
       "      fill: #1967D2;\n",
       "      height: 32px;\n",
       "      padding: 0 0 0 0;\n",
       "      width: 32px;\n",
       "    }\n",
       "\n",
       "    .colab-df-convert:hover {\n",
       "      background-color: #E2EBFA;\n",
       "      box-shadow: 0px 1px 2px rgba(60, 64, 67, 0.3), 0px 1px 3px 1px rgba(60, 64, 67, 0.15);\n",
       "      fill: #174EA6;\n",
       "    }\n",
       "\n",
       "    [theme=dark] .colab-df-convert {\n",
       "      background-color: #3B4455;\n",
       "      fill: #D2E3FC;\n",
       "    }\n",
       "\n",
       "    [theme=dark] .colab-df-convert:hover {\n",
       "      background-color: #434B5C;\n",
       "      box-shadow: 0px 1px 3px 1px rgba(0, 0, 0, 0.15);\n",
       "      filter: drop-shadow(0px 1px 2px rgba(0, 0, 0, 0.3));\n",
       "      fill: #FFFFFF;\n",
       "    }\n",
       "  </style>\n",
       "\n",
       "      <script>\n",
       "        const buttonEl =\n",
       "          document.querySelector('#df-43101995-9ca5-4475-81c0-5052a115e3dc button.colab-df-convert');\n",
       "        buttonEl.style.display =\n",
       "          google.colab.kernel.accessAllowed ? 'block' : 'none';\n",
       "\n",
       "        async function convertToInteractive(key) {\n",
       "          const element = document.querySelector('#df-43101995-9ca5-4475-81c0-5052a115e3dc');\n",
       "          const dataTable =\n",
       "            await google.colab.kernel.invokeFunction('convertToInteractive',\n",
       "                                                     [key], {});\n",
       "          if (!dataTable) return;\n",
       "\n",
       "          const docLinkHtml = 'Like what you see? Visit the ' +\n",
       "            '<a target=\"_blank\" href=https://colab.research.google.com/notebooks/data_table.ipynb>data table notebook</a>'\n",
       "            + ' to learn more about interactive tables.';\n",
       "          element.innerHTML = '';\n",
       "          dataTable['output_type'] = 'display_data';\n",
       "          await google.colab.output.renderOutput(dataTable, element);\n",
       "          const docLink = document.createElement('div');\n",
       "          docLink.innerHTML = docLinkHtml;\n",
       "          element.appendChild(docLink);\n",
       "        }\n",
       "      </script>\n",
       "    </div>\n",
       "  </div>\n",
       "  "
      ],
      "text/plain": [
       "    degree       mse\n",
       "0        1  0.306845\n",
       "1        2  0.296962\n",
       "2        3  0.271249\n",
       "3        4  0.203277\n",
       "4        5  0.077071\n",
       "5        6  0.076422\n",
       "6        7  0.067818\n",
       "7        8  0.047326\n",
       "8        9  0.043203\n",
       "9       10  0.031921\n",
       "10      11  0.027017\n",
       "11      12  0.026995\n",
       "12      13  0.026437\n",
       "13      14  0.026291\n",
       "14      15  0.023590\n",
       "15      16  0.023289\n",
       "16      17  0.019937\n",
       "17      18  0.019937\n",
       "18      19  0.019881\n",
       "19      20  0.019873"
      ]
     },
     "execution_count": 37,
     "metadata": {},
     "output_type": "execute_result"
    }
   ],
   "source": [
    "poly_res = pd.DataFrame(\n",
    "    {'degree': range(1,21)}\n",
    ").assign(\n",
    "    mse = lambda x: [ poly_reg_mse(d, degree=i, plot_data=False, plot_fit=False)[2] for i in x.degree]\n",
    ")\n",
    "\n",
    "poly_res"
   ]
  },
  {
   "cell_type": "markdown",
   "id": "dFQi2JWv18l5",
   "metadata": {
    "id": "dFQi2JWv18l5"
   },
   "source": [
    "---\n",
    "\n",
    "### 🚩 Exercise 8\n",
    "\n",
    "Create a plot of `degree` vs. `mse` using the `poly_res` data frame you created above. Based on this comment on what model appears to best fit the data. "
   ]
  },
  {
   "cell_type": "code",
   "execution_count": 38,
   "id": "hoafUpTI2FnU",
   "metadata": {
    "colab": {
     "base_uri": "https://localhost:8080/",
     "height": 385
    },
    "executionInfo": {
     "elapsed": 302,
     "status": "ok",
     "timestamp": 1644409437367,
     "user": {
      "displayName": "Kit Searle",
      "photoUrl": "https://lh3.googleusercontent.com/a/default-user=s64",
      "userId": "05702465444529393860"
     },
     "user_tz": 0
    },
    "id": "hoafUpTI2FnU",
    "outputId": "7bf202c1-5562-4525-e60c-e6c941020fb7"
   },
   "outputs": [
    {
     "data": {
      "text/plain": [
       "<matplotlib.axes._subplots.AxesSubplot at 0x7f887968bad0>"
      ]
     },
     "execution_count": 38,
     "metadata": {},
     "output_type": "execute_result"
    },
    {
     "data": {
      "image/png": "[encoded data removed]",
      "text/plain": [
       "<Figure size 640x400 with 1 Axes>"
      ]
     },
     "metadata": {
      "needs_background": "light"
     },
     "output_type": "display_data"
    }
   ],
   "source": [
    "sns.lineplot(x=\"degree\", y=\"mse\", data=poly_res)"
   ]
  },
  {
   "cell_type": "markdown",
   "id": "aY5J_5W8w8YN",
   "metadata": {
    "id": "aY5J_5W8w8YN"
   },
   "source": [
    "Based on this plot it seems that the MSE gets smaller as the degree increases, however after around a degree of 10 the improvements are quite small."
   ]
  },
  {
   "cell_type": "markdown",
   "id": "G4aznf4x2QLO",
   "metadata": {
    "id": "G4aznf4x2QLO"
   },
   "source": [
    "---\n",
    "\n",
    "### 🚩 Exercise 9\n",
    "\n",
    "Based on your findings in the preceding exercises, can we find the \"optimal model\" using this kind of approach? Explain why or why not."
   ]
  },
  {
   "cell_type": "markdown",
   "id": "VEpPtpdW2XCh",
   "metadata": {
    "id": "VEpPtpdW2XCh"
   },
   "source": [
    "The optimal model would appear to be a model with the largest possible degree, but this risks issues of overfitting."
   ]
  },
  {
   "cell_type": "markdown",
   "id": "ZeDdMEzlQ9vW",
   "metadata": {
    "id": "ZeDdMEzlQ9vW"
   },
   "source": [
    "## 3.5 Chosing the order of the polynomial\n",
    "\n",
    "We saw above that increasing the order of the polynomial apears to provide a better fit to the data. In the lecture we discussed how chosing $M$ to be too large can cause over fittting. When we over fit a polynomial regression model, the MSE for the training data will apear to be low which might indicate that the model is a good fit. As a result of over fitting, the MSE for the predictions of the unseen test data may begin to decrease. We will illustrate this next.\n",
    "\n",
    "First, we will read in clean data and create our training and testing subsets.\n",
    "\n"
   ]
  },
  {
   "cell_type": "code",
   "execution_count": 39,
   "id": "ZJ-3PZ7Zafoe",
   "metadata": {
    "executionInfo": {
     "elapsed": 251,
     "status": "ok",
     "timestamp": 1644409443086,
     "user": {
      "displayName": "Kit Searle",
      "photoUrl": "https://lh3.googleusercontent.com/a/default-user=s64",
      "userId": "05702465444529393860"
     },
     "user_tz": 0
    },
    "id": "ZJ-3PZ7Zafoe"
   },
   "outputs": [],
   "source": [
    "d = pd.read_csv(\"./Data/gp.csv\")\n",
    "\n",
    "from sklearn.model_selection import train_test_split\n",
    "\n",
    "X = d.drop('y',axis=1) # Independet variable\n",
    "y = d['y'] # dependent variable\n",
    "X_train, X_test, y_train, y_test = train_test_split(X, y,test_size=0.3,random_state=23)\n",
    "\n",
    "#full datasets for plotting purposes\n",
    "train_full = X_train.join(y_train)\n",
    "test_full = X_test.join(y_test)"
   ]
  },
  {
   "cell_type": "markdown",
   "id": "zIf5SNRXh1re",
   "metadata": {
    "id": "zIf5SNRXh1re"
   },
   "source": [
    "Next, we will update our `poly_reg_mse` function so that it can take as input a training dataset and a testing data set. The new function will return the mse for both the train and test dataset (as well as a plot with black representing the training points and red representing the testing points. "
   ]
  },
  {
   "cell_type": "code",
   "execution_count": 40,
   "id": "N1QEL3vQQ9Yo",
   "metadata": {
    "executionInfo": {
     "elapsed": 215,
     "status": "ok",
     "timestamp": 1644409446025,
     "user": {
      "displayName": "Kit Searle",
      "photoUrl": "https://lh3.googleusercontent.com/a/default-user=s64",
      "userId": "05702465444529393860"
     },
     "user_tz": 0
    },
    "id": "N1QEL3vQQ9Yo"
   },
   "outputs": [],
   "source": [
    "def poly_reg_mse_2(train_data,test_data, x = 'x', y = 'y', degree=1, plot_data = True, plot_fit = True):\n",
    "    X = np.c_[train_data[x]]\n",
    "    Y = train_data[y]\n",
    "    \n",
    "    p = make_pipeline(\n",
    "        PolynomialFeatures(degree=degree),\n",
    "        LinearRegression(fit_intercept=False)\n",
    "    )\n",
    "    \n",
    "    m = p.fit(X,Y)\n",
    "    \n",
    "    pred_col = 'pred_d'+str(degree)\n",
    "    train_data[pred_col] = m.predict(X)\n",
    "    test_data[pred_col] = m.predict(np.c_[test_data[x]])\n",
    "    if plot_data:\n",
    "        sns.scatterplot(train_data[x],train_data[y], color=\"black\")\n",
    "        sns.scatterplot(test_data[x],test_data[y], color=\"red\")\n",
    "\n",
    "    if plot_fit:\n",
    "        sns.lineplot(train_data[x],train_data[pred_col])\n",
    "\n",
    "    test_mse = mean_squared_error(test_data[y], test_data[pred_col])\n",
    "    train_mse = mean_squared_error(train_data[y], train_data[pred_col])\n",
    "  \n",
    "    return (test_data, m.steps[1][1], train_mse, test_mse)"
   ]
  },
  {
   "cell_type": "code",
   "execution_count": 41,
   "id": "N4_UqMjWVsUx",
   "metadata": {
    "colab": {
     "base_uri": "https://localhost:8080/",
     "height": 491
    },
    "executionInfo": {
     "elapsed": 645,
     "status": "ok",
     "timestamp": 1644409450710,
     "user": {
      "displayName": "Kit Searle",
      "photoUrl": "https://lh3.googleusercontent.com/a/default-user=s64",
      "userId": "05702465444529393860"
     },
     "user_tz": 0
    },
    "id": "N4_UqMjWVsUx",
    "outputId": "5b54cf32-64d0-4d35-bea7-d1678ae73605"
   },
   "outputs": [
    {
     "name": "stderr",
     "output_type": "stream",
     "text": [
      "/usr/local/lib/python3.7/dist-packages/seaborn/_decorators.py:43: FutureWarning: Pass the following variables as keyword args: x, y. From version 0.12, the only valid positional argument will be `data`, and passing other arguments without an explicit keyword will result in an error or misinterpretation.\n",
      "  FutureWarning\n",
      "/usr/local/lib/python3.7/dist-packages/seaborn/_decorators.py:43: FutureWarning: Pass the following variables as keyword args: x, y. From version 0.12, the only valid positional argument will be `data`, and passing other arguments without an explicit keyword will result in an error or misinterpretation.\n",
      "  FutureWarning\n",
      "/usr/local/lib/python3.7/dist-packages/seaborn/_decorators.py:43: FutureWarning: Pass the following variables as keyword args: x, y. From version 0.12, the only valid positional argument will be `data`, and passing other arguments without an explicit keyword will result in an error or misinterpretation.\n",
      "  FutureWarning\n"
     ]
    },
    {
     "data": {
      "image/png": "[encoded data removed]",
      "text/plain": [
       "<Figure size 640x400 with 1 Axes>"
      ]
     },
     "metadata": {
      "needs_background": "light"
     },
     "output_type": "display_data"
    }
   ],
   "source": [
    "_, _, mse_test, mse_train = poly_reg_mse_2(train_full,test_full, degree=5)"
   ]
  },
  {
   "cell_type": "markdown",
   "id": "OxYJ8bboif8I",
   "metadata": {
    "id": "OxYJ8bboif8I"
   },
   "source": [
    "---\n",
    "\n",
    "### 🚩 Exercise 10\n",
    "\n",
    "Change the values for degree. What do you notice about the fit as we increase the polynomial degree?"
   ]
  },
  {
   "cell_type": "markdown",
   "id": "rLiiGsuki0X7",
   "metadata": {
    "id": "rLiiGsuki0X7"
   },
   "source": [
    "As we increase $M$ the regression function better fits the training data but becomes worse at predicting the unseen test data."
   ]
  },
  {
   "cell_type": "markdown",
   "id": "X0U9mK_Fv2D9",
   "metadata": {
    "id": "X0U9mK_Fv2D9"
   },
   "source": [
    "---\n",
    "\n",
    "### 🚩 Exercise 11\n",
    "\n",
    "\n",
    "Construct a data frame called `poly_res_2` with the columns `degree`, `mse_train` and `mse_test`. `degree` should contain the integer values 1 to 80 and `mse_train` and `mse_test` should contain the mean squared errors computed using the training data and testing data, respectively, calculated using the function `poly_reg_mse_2`, for each of the different `degree` values."
   ]
  },
  {
   "cell_type": "code",
   "execution_count": 43,
   "id": "kK_blX7cS5Ro",
   "metadata": {
    "colab": {
     "base_uri": "https://localhost:8080/",
     "height": 423
    },
    "executionInfo": {
     "elapsed": 3232,
     "status": "ok",
     "timestamp": 1644409478447,
     "user": {
      "displayName": "Kit Searle",
      "photoUrl": "https://lh3.googleusercontent.com/a/default-user=s64",
      "userId": "05702465444529393860"
     },
     "user_tz": 0
    },
    "id": "kK_blX7cS5Ro",
    "outputId": "1b62bc27-4536-425b-e0c5-b9234aa321f1"
   },
   "outputs": [
    {
     "data": {
      "text/html": [
       "\n",
       "  <div id=\"df-ea3cbb85-a3bb-4a62-930e-c7f8871f47a3\">\n",
       "    <div class=\"colab-df-container\">\n",
       "      <div>\n",
       "<style scoped>\n",
       "    .dataframe tbody tr th:only-of-type {\n",
       "        vertical-align: middle;\n",
       "    }\n",
       "\n",
       "    .dataframe tbody tr th {\n",
       "        vertical-align: top;\n",
       "    }\n",
       "\n",
       "    .dataframe thead th {\n",
       "        text-align: right;\n",
       "    }\n",
       "</style>\n",
       "<table border=\"1\" class=\"dataframe\">\n",
       "  <thead>\n",
       "    <tr style=\"text-align: right;\">\n",
       "      <th></th>\n",
       "      <th>degree</th>\n",
       "      <th>mse_train</th>\n",
       "      <th>mse_test</th>\n",
       "    </tr>\n",
       "  </thead>\n",
       "  <tbody>\n",
       "    <tr>\n",
       "      <th>0</th>\n",
       "      <td>1</td>\n",
       "      <td>0.295354</td>\n",
       "      <td>0.343235</td>\n",
       "    </tr>\n",
       "    <tr>\n",
       "      <th>1</th>\n",
       "      <td>2</td>\n",
       "      <td>0.292836</td>\n",
       "      <td>0.323342</td>\n",
       "    </tr>\n",
       "    <tr>\n",
       "      <th>2</th>\n",
       "      <td>3</td>\n",
       "      <td>0.273160</td>\n",
       "      <td>0.282803</td>\n",
       "    </tr>\n",
       "    <tr>\n",
       "      <th>3</th>\n",
       "      <td>4</td>\n",
       "      <td>0.203195</td>\n",
       "      <td>0.210916</td>\n",
       "    </tr>\n",
       "    <tr>\n",
       "      <th>4</th>\n",
       "      <td>5</td>\n",
       "      <td>0.077044</td>\n",
       "      <td>0.083487</td>\n",
       "    </tr>\n",
       "    <tr>\n",
       "      <th>...</th>\n",
       "      <td>...</td>\n",
       "      <td>...</td>\n",
       "      <td>...</td>\n",
       "    </tr>\n",
       "    <tr>\n",
       "      <th>74</th>\n",
       "      <td>75</td>\n",
       "      <td>0.021536</td>\n",
       "      <td>0.023854</td>\n",
       "    </tr>\n",
       "    <tr>\n",
       "      <th>75</th>\n",
       "      <td>76</td>\n",
       "      <td>0.020065</td>\n",
       "      <td>0.031349</td>\n",
       "    </tr>\n",
       "    <tr>\n",
       "      <th>76</th>\n",
       "      <td>77</td>\n",
       "      <td>0.020216</td>\n",
       "      <td>0.032213</td>\n",
       "    </tr>\n",
       "    <tr>\n",
       "      <th>77</th>\n",
       "      <td>78</td>\n",
       "      <td>0.020364</td>\n",
       "      <td>0.036121</td>\n",
       "    </tr>\n",
       "    <tr>\n",
       "      <th>78</th>\n",
       "      <td>79</td>\n",
       "      <td>0.019744</td>\n",
       "      <td>0.149427</td>\n",
       "    </tr>\n",
       "  </tbody>\n",
       "</table>\n",
       "<p>79 rows × 3 columns</p>\n",
       "</div>\n",
       "      <button class=\"colab-df-convert\" onclick=\"convertToInteractive('df-ea3cbb85-a3bb-4a62-930e-c7f8871f47a3')\"\n",
       "              title=\"Convert this dataframe to an interactive table.\"\n",
       "              style=\"display:none;\">\n",
       "        \n",
       "  <svg xmlns=\"http://www.w3.org/2000/svg\" height=\"24px\"viewBox=\"0 0 24 24\"\n",
       "       width=\"24px\">\n",
       "    <path d=\"M0 0h24v24H0V0z\" fill=\"none\"/>\n",
       "    <path d=\"M18.56 5.44l.94 2.06.94-2.06 2.06-.94-2.06-.94-.94-2.06-.94 2.06-2.06.94zm-11 1L8.5 8.5l.94-2.06 2.06-.94-2.06-.94L8.5 2.5l-.94 2.06-2.06.94zm10 10l.94 2.06.94-2.06 2.06-.94-2.06-.94-.94-2.06-.94 2.06-2.06.94z\"/><path d=\"M17.41 7.96l-1.37-1.37c-.4-.4-.92-.59-1.43-.59-.52 0-1.04.2-1.43.59L10.3 9.45l-7.72 7.72c-.78.78-.78 2.05 0 2.83L4 21.41c.39.39.9.59 1.41.59.51 0 1.02-.2 1.41-.59l7.78-7.78 2.81-2.81c.8-.78.8-2.07 0-2.86zM5.41 20L4 18.59l7.72-7.72 1.47 1.35L5.41 20z\"/>\n",
       "  </svg>\n",
       "      </button>\n",
       "      \n",
       "  <style>\n",
       "    .colab-df-container {\n",
       "      display:flex;\n",
       "      flex-wrap:wrap;\n",
       "      gap: 12px;\n",
       "    }\n",
       "\n",
       "    .colab-df-convert {\n",
       "      background-color: #E8F0FE;\n",
       "      border: none;\n",
       "      border-radius: 50%;\n",
       "      cursor: pointer;\n",
       "      display: none;\n",
       "      fill: #1967D2;\n",
       "      height: 32px;\n",
       "      padding: 0 0 0 0;\n",
       "      width: 32px;\n",
       "    }\n",
       "\n",
       "    .colab-df-convert:hover {\n",
       "      background-color: #E2EBFA;\n",
       "      box-shadow: 0px 1px 2px rgba(60, 64, 67, 0.3), 0px 1px 3px 1px rgba(60, 64, 67, 0.15);\n",
       "      fill: #174EA6;\n",
       "    }\n",
       "\n",
       "    [theme=dark] .colab-df-convert {\n",
       "      background-color: #3B4455;\n",
       "      fill: #D2E3FC;\n",
       "    }\n",
       "\n",
       "    [theme=dark] .colab-df-convert:hover {\n",
       "      background-color: #434B5C;\n",
       "      box-shadow: 0px 1px 3px 1px rgba(0, 0, 0, 0.15);\n",
       "      filter: drop-shadow(0px 1px 2px rgba(0, 0, 0, 0.3));\n",
       "      fill: #FFFFFF;\n",
       "    }\n",
       "  </style>\n",
       "\n",
       "      <script>\n",
       "        const buttonEl =\n",
       "          document.querySelector('#df-ea3cbb85-a3bb-4a62-930e-c7f8871f47a3 button.colab-df-convert');\n",
       "        buttonEl.style.display =\n",
       "          google.colab.kernel.accessAllowed ? 'block' : 'none';\n",
       "\n",
       "        async function convertToInteractive(key) {\n",
       "          const element = document.querySelector('#df-ea3cbb85-a3bb-4a62-930e-c7f8871f47a3');\n",
       "          const dataTable =\n",
       "            await google.colab.kernel.invokeFunction('convertToInteractive',\n",
       "                                                     [key], {});\n",
       "          if (!dataTable) return;\n",
       "\n",
       "          const docLinkHtml = 'Like what you see? Visit the ' +\n",
       "            '<a target=\"_blank\" href=https://colab.research.google.com/notebooks/data_table.ipynb>data table notebook</a>'\n",
       "            + ' to learn more about interactive tables.';\n",
       "          element.innerHTML = '';\n",
       "          dataTable['output_type'] = 'display_data';\n",
       "          await google.colab.output.renderOutput(dataTable, element);\n",
       "          const docLink = document.createElement('div');\n",
       "          docLink.innerHTML = docLinkHtml;\n",
       "          element.appendChild(docLink);\n",
       "        }\n",
       "      </script>\n",
       "    </div>\n",
       "  </div>\n",
       "  "
      ],
      "text/plain": [
       "    degree  mse_train  mse_test\n",
       "0        1   0.295354  0.343235\n",
       "1        2   0.292836  0.323342\n",
       "2        3   0.273160  0.282803\n",
       "3        4   0.203195  0.210916\n",
       "4        5   0.077044  0.083487\n",
       "..     ...        ...       ...\n",
       "74      75   0.021536  0.023854\n",
       "75      76   0.020065  0.031349\n",
       "76      77   0.020216  0.032213\n",
       "77      78   0.020364  0.036121\n",
       "78      79   0.019744  0.149427\n",
       "\n",
       "[79 rows x 3 columns]"
      ]
     },
     "execution_count": 43,
     "metadata": {},
     "output_type": "execute_result"
    }
   ],
   "source": [
    "poly_res_2 = pd.DataFrame(\n",
    "    {'degree': range(1,80)}\n",
    ").assign(\n",
    "    mse_train = lambda x: [ poly_reg_mse_2(train_full,test_full, degree=i, plot_data=False, plot_fit=False)[2] for i in x.degree],\n",
    "    mse_test = lambda x: [ poly_reg_mse_2(train_full,test_full, degree=i, plot_data=False, plot_fit=False)[3] for i in x.degree]\n",
    ")\n",
    "\n",
    "poly_res_2"
   ]
  },
  {
   "cell_type": "markdown",
   "id": "N5Ahs_ogxOTf",
   "metadata": {
    "id": "N5Ahs_ogxOTf"
   },
   "source": [
    "---\n",
    "\n",
    "### 🚩 Exercise 12\n",
    "\n",
    "Create a plot of `degree` vs. `mse_train` and `mse_test` using the `poly_res` data frame you created above. Based on this comment on what model appears to best fit the data."
   ]
  },
  {
   "cell_type": "code",
   "execution_count": 44,
   "id": "gQ88lvMZz3eb",
   "metadata": {
    "colab": {
     "base_uri": "https://localhost:8080/",
     "height": 385
    },
    "executionInfo": {
     "elapsed": 705,
     "status": "ok",
     "timestamp": 1644409482373,
     "user": {
      "displayName": "Kit Searle",
      "photoUrl": "https://lh3.googleusercontent.com/a/default-user=s64",
      "userId": "05702465444529393860"
     },
     "user_tz": 0
    },
    "id": "gQ88lvMZz3eb",
    "outputId": "72994b54-e17d-49b0-be71-1e60ffab350f"
   },
   "outputs": [
    {
     "data": {
      "text/plain": [
       "<matplotlib.legend.Legend at 0x7f88795446d0>"
      ]
     },
     "execution_count": 44,
     "metadata": {},
     "output_type": "execute_result"
    },
    {
     "data": {
      "image/png": "[encoded data removed]",
      "text/plain": [
       "<Figure size 640x400 with 1 Axes>"
      ]
     },
     "metadata": {
      "needs_background": "light"
     },
     "output_type": "display_data"
    }
   ],
   "source": [
    "f, ax = plt.subplots(1, 1)\n",
    "sns.lineplot(ax=ax, x=\"degree\", y=\"mse_train\", data=poly_res_2,color=\"black\")\n",
    "sns.lineplot(ax=ax, x=\"degree\", y=\"mse_test\", data=poly_res_2,color=\"red\")\n",
    "ax.legend(labels=[\"mse_train\",\"mse_test\"])"
   ]
  },
  {
   "cell_type": "markdown",
   "id": "IWYuXg6a13xE",
   "metadata": {
    "id": "IWYuXg6a13xE"
   },
   "source": [
    "At first, as the degree of the polynomial increases, the mse for both the test and train dataset improve. As the degree becomes too large, the mse for the test set begins to deteriorate because of overfitting."
   ]
  },
  {
   "cell_type": "markdown",
   "id": "DMxkF5gYAE_I",
   "metadata": {
    "id": "DMxkF5gYAE_I"
   },
   "source": [
    "If we wish to test over a specific set of parameter values using cross validation we can use the `GridSearchCV` function from the `model_selection` submodule.\n",
    "\n",
    "This argument is a dictionary containing parameters names as keys and lists of parameter settings to try as values. Since we are using a pipeline, out parameter name will be the name of the pipeline step, `polynomialfeatures`, followed by `__`, and then the parameter name, `degree`. So for our pipeline the parameter is named `polynomialfeatures__degree`. If you want to list any models available parameters you can call the `get_params()` method on the model object, e.g. `m.get_params()` here."
   ]
  },
  {
   "cell_type": "code",
   "execution_count": 45,
   "id": "j4q4UaSX856f",
   "metadata": {
    "executionInfo": {
     "elapsed": 862,
     "status": "ok",
     "timestamp": 1644409488007,
     "user": {
      "displayName": "Kit Searle",
      "photoUrl": "https://lh3.googleusercontent.com/a/default-user=s64",
      "userId": "05702465444529393860"
     },
     "user_tz": 0
    },
    "id": "j4q4UaSX856f"
   },
   "outputs": [],
   "source": [
    "from sklearn.model_selection import GridSearchCV\n",
    "from sklearn.model_selection import KFold\n",
    "\n",
    "m = make_pipeline(\n",
    "        PolynomialFeatures(),\n",
    "        LinearRegression(fit_intercept=False)\n",
    "    )\n",
    "\n",
    "parameters = {\n",
    "    'polynomialfeatures__degree': np.arange(1,31,1)\n",
    "}\n",
    "\n",
    "kf = KFold(n_splits=5, shuffle=True, random_state=0)\n",
    "\n",
    "grid_search = GridSearchCV(m, parameters, cv=kf, scoring=\"neg_mean_squared_error\").fit(X, y)"
   ]
  },
  {
   "cell_type": "markdown",
   "id": "rOc1H2OIBDBy",
   "metadata": {
    "id": "rOc1H2OIBDBy"
   },
   "source": [
    "The above code goes through the process of fitting all $5 \\times 30$ models as well as storing and ranking the results for the requested scoring metric(s). Note that here we have used \"neg_mean_squared_error\" as our scoring metric which returns the negative of the root mean squared error. As the name implies this returns the negative of the usual fit metric, this is because sklearn expects to always optimize for the maximum of a score and the model with the largest negative MSE will therefore be the \"best\". \n",
    "\n",
    "In this workshop we have used MSE as a metric for testing our models. This metric is entirely equivalent to the root mean squared error for purposes of ranking / ordering models (as the square root is a monotonic transformation). Sometimes the rmse is prefered as it is more interpretable, because it has the same units as $y$.\n",
    "\n",
    "Once all of the submodels are fit, we can determine the optimal hyperparameter value by accessing the object's `best_*` attributes,"
   ]
  },
  {
   "cell_type": "code",
   "execution_count": 46,
   "id": "cu7OV-oE9T6U",
   "metadata": {
    "colab": {
     "base_uri": "https://localhost:8080/"
    },
    "executionInfo": {
     "elapsed": 210,
     "status": "ok",
     "timestamp": 1644409490888,
     "user": {
      "displayName": "Kit Searle",
      "photoUrl": "https://lh3.googleusercontent.com/a/default-user=s64",
      "userId": "05702465444529393860"
     },
     "user_tz": 0
    },
    "id": "cu7OV-oE9T6U",
    "outputId": "d43c2969-02b5-4916-e7d9-436c05a09921"
   },
   "outputs": [
    {
     "name": "stdout",
     "output_type": "stream",
     "text": [
      "best index:  16\n",
      "best param:  {'polynomialfeatures__degree': 17}\n",
      "best score:  -0.02297684413925504\n"
     ]
    }
   ],
   "source": [
    "print(\"best index: \", grid_search.best_index_)\n",
    "print(\"best param: \", grid_search.best_params_)\n",
    "print(\"best score: \", grid_search.best_score_)"
   ]
  },
  {
   "cell_type": "markdown",
   "id": "adopted-kelly",
   "metadata": {
    "id": "adopted-kelly"
   },
   "source": [
    "# 4. Regression trees (via feature engineering) <a id='RT'></a>\n",
    "\n",
    "\n",
    "Reacll that regression trees assume the basis function of the form,\n",
    "\n",
    "$$\n",
    "f_j(x; a_j,b_j) = \\begin{cases}\n",
    "1 & \\text{if $a_j \\leq x < b_j$} \\\\\n",
    "0 & \\text{otherwise}\n",
    "\\end{cases}\n",
    "$$\n",
    "\n",
    "This reflects one possible basis function that we might choose to better fit our data. In order to use these functions to transform our data, we will need to choose the values of $a$ and $b$ as well as the number of basis functions to use $M$. Given those choices our goal is to then to fit the model,\n",
    "\n",
    "$$\n",
    "y_i = \\beta_1 f(x_i; a_1,b_1) + \\beta_2 f(x_i; a_2,b_2) + \\ldots +  \\beta_M f(x_i; a_M,b_M) \n",
    "$$"
   ]
  },
  {
   "cell_type": "markdown",
   "id": "dg7-wlD_3109",
   "metadata": {
    "id": "dg7-wlD_3109"
   },
   "source": [
    "---\n",
    "\n",
    "### 🚩 Exercise 13\n",
    "\n",
    "Explain why we are not able to directly use the least squares approach to find optimal values of $a$, $b$, and $M$ to fit our data."
   ]
  },
  {
   "cell_type": "markdown",
   "id": "_VeIicRF3_Ms",
   "metadata": {
    "id": "_VeIicRF3_Ms"
   },
   "source": [
    "Using least squares we are only able to solve for parameters that are a linear function of our features. For this model this is only true of the $\\beta$s but not $a$, $b$, and $M$ - we can try fitting different models with different values of these, but the naive parameter space is too large to be practically searched.\n",
    "\n"
   ]
  },
  {
   "cell_type": "markdown",
   "id": "l8ReSy9g4dQn",
   "metadata": {
    "id": "l8ReSy9g4dQn"
   },
   "source": [
    "---\n",
    "\n",
    "## 4.1 With pandas\n",
    "\n",
    "For our example today, we will keep things simple and divide our `x` values up into 11 equal sized pieces: $[0,0.1)$, $[0.1,0.2)$, $\\ldots$, $[0.9,1)$. This can be achieved using pandas' `cut` function as follows, "
   ]
  },
  {
   "cell_type": "code",
   "execution_count": 47,
   "id": "c4Pq-cv54lVK",
   "metadata": {
    "colab": {
     "base_uri": "https://localhost:8080/"
    },
    "executionInfo": {
     "elapsed": 256,
     "status": "ok",
     "timestamp": 1644409496208,
     "user": {
      "displayName": "Kit Searle",
      "photoUrl": "https://lh3.googleusercontent.com/a/default-user=s64",
      "userId": "05702465444529393860"
     },
     "user_tz": 0
    },
    "id": "c4Pq-cv54lVK",
    "outputId": "45670bbe-1c7f-428c-bfd1-30a72ad73524"
   },
   "outputs": [
    {
     "name": "stdout",
     "output_type": "stream",
     "text": [
      "            x         y       x_bin\n",
      "0    0.002189  1.070772  (0.0, 0.1]\n",
      "1    0.006209  0.863336  (0.0, 0.1]\n",
      "2    0.006764  0.846165  (0.0, 0.1]\n",
      "3    0.009349  0.916748  (0.0, 0.1]\n",
      "4    0.012407  1.258828  (0.0, 0.1]\n",
      "..        ...       ...         ...\n",
      "245  0.982005 -0.540678  (0.9, 1.0]\n",
      "246  0.983324 -0.751002  (0.9, 1.0]\n",
      "247  0.992081 -0.510908  (0.9, 1.0]\n",
      "248  0.993567 -0.537508  (0.9, 1.0]\n",
      "249  0.994654 -0.621642  (0.9, 1.0]\n",
      "\n",
      "[250 rows x 3 columns]\n"
     ]
    }
   ],
   "source": [
    "d = pd.read_csv(\"./Data/gp.csv\") # Get a clean copy of the data\n",
    "\n",
    "d[\"x_bin\"] = pd.cut(d.x, np.linspace(0,1,11))\n",
    "print(d)"
   ]
  },
  {
   "cell_type": "markdown",
   "id": "iV4NPGvc41un",
   "metadata": {
    "id": "iV4NPGvc41un"
   },
   "source": [
    "`np.linspace` is used here to specify the cut points and returns the array `[0,0.1,...,0.9,1]`. The results new column `x_bin` now contains a categorical variable for the interval containing the `x` value for that row. \n",
    "\n",
    "We can then use pandas' `get_dummies` to transform this categorical variable using one hot encoding. After brief examination you should be able to see that this is equivalent applying the 11 basis functions (columns) to each of the `x` values (rows) using the ranges we've described."
   ]
  },
  {
   "cell_type": "code",
   "execution_count": 48,
   "id": "EzYcyCux41Xk",
   "metadata": {
    "colab": {
     "base_uri": "https://localhost:8080/",
     "height": 423
    },
    "executionInfo": {
     "elapsed": 268,
     "status": "ok",
     "timestamp": 1644409504475,
     "user": {
      "displayName": "Kit Searle",
      "photoUrl": "https://lh3.googleusercontent.com/a/default-user=s64",
      "userId": "05702465444529393860"
     },
     "user_tz": 0
    },
    "id": "EzYcyCux41Xk",
    "outputId": "7bc47baa-4833-4d1b-f3b0-13686a4cae94"
   },
   "outputs": [
    {
     "data": {
      "text/html": [
       "\n",
       "  <div id=\"df-034c7fae-1be0-443c-b37f-616ed4a81c89\">\n",
       "    <div class=\"colab-df-container\">\n",
       "      <div>\n",
       "<style scoped>\n",
       "    .dataframe tbody tr th:only-of-type {\n",
       "        vertical-align: middle;\n",
       "    }\n",
       "\n",
       "    .dataframe tbody tr th {\n",
       "        vertical-align: top;\n",
       "    }\n",
       "\n",
       "    .dataframe thead th {\n",
       "        text-align: right;\n",
       "    }\n",
       "</style>\n",
       "<table border=\"1\" class=\"dataframe\">\n",
       "  <thead>\n",
       "    <tr style=\"text-align: right;\">\n",
       "      <th></th>\n",
       "      <th>(0.0, 0.1]</th>\n",
       "      <th>(0.1, 0.2]</th>\n",
       "      <th>(0.2, 0.3]</th>\n",
       "      <th>(0.3, 0.4]</th>\n",
       "      <th>(0.4, 0.5]</th>\n",
       "      <th>(0.5, 0.6]</th>\n",
       "      <th>(0.6, 0.7]</th>\n",
       "      <th>(0.7, 0.8]</th>\n",
       "      <th>(0.8, 0.9]</th>\n",
       "      <th>(0.9, 1.0]</th>\n",
       "    </tr>\n",
       "  </thead>\n",
       "  <tbody>\n",
       "    <tr>\n",
       "      <th>0</th>\n",
       "      <td>1</td>\n",
       "      <td>0</td>\n",
       "      <td>0</td>\n",
       "      <td>0</td>\n",
       "      <td>0</td>\n",
       "      <td>0</td>\n",
       "      <td>0</td>\n",
       "      <td>0</td>\n",
       "      <td>0</td>\n",
       "      <td>0</td>\n",
       "    </tr>\n",
       "    <tr>\n",
       "      <th>1</th>\n",
       "      <td>1</td>\n",
       "      <td>0</td>\n",
       "      <td>0</td>\n",
       "      <td>0</td>\n",
       "      <td>0</td>\n",
       "      <td>0</td>\n",
       "      <td>0</td>\n",
       "      <td>0</td>\n",
       "      <td>0</td>\n",
       "      <td>0</td>\n",
       "    </tr>\n",
       "    <tr>\n",
       "      <th>2</th>\n",
       "      <td>1</td>\n",
       "      <td>0</td>\n",
       "      <td>0</td>\n",
       "      <td>0</td>\n",
       "      <td>0</td>\n",
       "      <td>0</td>\n",
       "      <td>0</td>\n",
       "      <td>0</td>\n",
       "      <td>0</td>\n",
       "      <td>0</td>\n",
       "    </tr>\n",
       "    <tr>\n",
       "      <th>3</th>\n",
       "      <td>1</td>\n",
       "      <td>0</td>\n",
       "      <td>0</td>\n",
       "      <td>0</td>\n",
       "      <td>0</td>\n",
       "      <td>0</td>\n",
       "      <td>0</td>\n",
       "      <td>0</td>\n",
       "      <td>0</td>\n",
       "      <td>0</td>\n",
       "    </tr>\n",
       "    <tr>\n",
       "      <th>4</th>\n",
       "      <td>1</td>\n",
       "      <td>0</td>\n",
       "      <td>0</td>\n",
       "      <td>0</td>\n",
       "      <td>0</td>\n",
       "      <td>0</td>\n",
       "      <td>0</td>\n",
       "      <td>0</td>\n",
       "      <td>0</td>\n",
       "      <td>0</td>\n",
       "    </tr>\n",
       "    <tr>\n",
       "      <th>...</th>\n",
       "      <td>...</td>\n",
       "      <td>...</td>\n",
       "      <td>...</td>\n",
       "      <td>...</td>\n",
       "      <td>...</td>\n",
       "      <td>...</td>\n",
       "      <td>...</td>\n",
       "      <td>...</td>\n",
       "      <td>...</td>\n",
       "      <td>...</td>\n",
       "    </tr>\n",
       "    <tr>\n",
       "      <th>245</th>\n",
       "      <td>0</td>\n",
       "      <td>0</td>\n",
       "      <td>0</td>\n",
       "      <td>0</td>\n",
       "      <td>0</td>\n",
       "      <td>0</td>\n",
       "      <td>0</td>\n",
       "      <td>0</td>\n",
       "      <td>0</td>\n",
       "      <td>1</td>\n",
       "    </tr>\n",
       "    <tr>\n",
       "      <th>246</th>\n",
       "      <td>0</td>\n",
       "      <td>0</td>\n",
       "      <td>0</td>\n",
       "      <td>0</td>\n",
       "      <td>0</td>\n",
       "      <td>0</td>\n",
       "      <td>0</td>\n",
       "      <td>0</td>\n",
       "      <td>0</td>\n",
       "      <td>1</td>\n",
       "    </tr>\n",
       "    <tr>\n",
       "      <th>247</th>\n",
       "      <td>0</td>\n",
       "      <td>0</td>\n",
       "      <td>0</td>\n",
       "      <td>0</td>\n",
       "      <td>0</td>\n",
       "      <td>0</td>\n",
       "      <td>0</td>\n",
       "      <td>0</td>\n",
       "      <td>0</td>\n",
       "      <td>1</td>\n",
       "    </tr>\n",
       "    <tr>\n",
       "      <th>248</th>\n",
       "      <td>0</td>\n",
       "      <td>0</td>\n",
       "      <td>0</td>\n",
       "      <td>0</td>\n",
       "      <td>0</td>\n",
       "      <td>0</td>\n",
       "      <td>0</td>\n",
       "      <td>0</td>\n",
       "      <td>0</td>\n",
       "      <td>1</td>\n",
       "    </tr>\n",
       "    <tr>\n",
       "      <th>249</th>\n",
       "      <td>0</td>\n",
       "      <td>0</td>\n",
       "      <td>0</td>\n",
       "      <td>0</td>\n",
       "      <td>0</td>\n",
       "      <td>0</td>\n",
       "      <td>0</td>\n",
       "      <td>0</td>\n",
       "      <td>0</td>\n",
       "      <td>1</td>\n",
       "    </tr>\n",
       "  </tbody>\n",
       "</table>\n",
       "<p>250 rows × 10 columns</p>\n",
       "</div>\n",
       "      <button class=\"colab-df-convert\" onclick=\"convertToInteractive('df-034c7fae-1be0-443c-b37f-616ed4a81c89')\"\n",
       "              title=\"Convert this dataframe to an interactive table.\"\n",
       "              style=\"display:none;\">\n",
       "        \n",
       "  <svg xmlns=\"http://www.w3.org/2000/svg\" height=\"24px\"viewBox=\"0 0 24 24\"\n",
       "       width=\"24px\">\n",
       "    <path d=\"M0 0h24v24H0V0z\" fill=\"none\"/>\n",
       "    <path d=\"M18.56 5.44l.94 2.06.94-2.06 2.06-.94-2.06-.94-.94-2.06-.94 2.06-2.06.94zm-11 1L8.5 8.5l.94-2.06 2.06-.94-2.06-.94L8.5 2.5l-.94 2.06-2.06.94zm10 10l.94 2.06.94-2.06 2.06-.94-2.06-.94-.94-2.06-.94 2.06-2.06.94z\"/><path d=\"M17.41 7.96l-1.37-1.37c-.4-.4-.92-.59-1.43-.59-.52 0-1.04.2-1.43.59L10.3 9.45l-7.72 7.72c-.78.78-.78 2.05 0 2.83L4 21.41c.39.39.9.59 1.41.59.51 0 1.02-.2 1.41-.59l7.78-7.78 2.81-2.81c.8-.78.8-2.07 0-2.86zM5.41 20L4 18.59l7.72-7.72 1.47 1.35L5.41 20z\"/>\n",
       "  </svg>\n",
       "      </button>\n",
       "      \n",
       "  <style>\n",
       "    .colab-df-container {\n",
       "      display:flex;\n",
       "      flex-wrap:wrap;\n",
       "      gap: 12px;\n",
       "    }\n",
       "\n",
       "    .colab-df-convert {\n",
       "      background-color: #E8F0FE;\n",
       "      border: none;\n",
       "      border-radius: 50%;\n",
       "      cursor: pointer;\n",
       "      display: none;\n",
       "      fill: #1967D2;\n",
       "      height: 32px;\n",
       "      padding: 0 0 0 0;\n",
       "      width: 32px;\n",
       "    }\n",
       "\n",
       "    .colab-df-convert:hover {\n",
       "      background-color: #E2EBFA;\n",
       "      box-shadow: 0px 1px 2px rgba(60, 64, 67, 0.3), 0px 1px 3px 1px rgba(60, 64, 67, 0.15);\n",
       "      fill: #174EA6;\n",
       "    }\n",
       "\n",
       "    [theme=dark] .colab-df-convert {\n",
       "      background-color: #3B4455;\n",
       "      fill: #D2E3FC;\n",
       "    }\n",
       "\n",
       "    [theme=dark] .colab-df-convert:hover {\n",
       "      background-color: #434B5C;\n",
       "      box-shadow: 0px 1px 3px 1px rgba(0, 0, 0, 0.15);\n",
       "      filter: drop-shadow(0px 1px 2px rgba(0, 0, 0, 0.3));\n",
       "      fill: #FFFFFF;\n",
       "    }\n",
       "  </style>\n",
       "\n",
       "      <script>\n",
       "        const buttonEl =\n",
       "          document.querySelector('#df-034c7fae-1be0-443c-b37f-616ed4a81c89 button.colab-df-convert');\n",
       "        buttonEl.style.display =\n",
       "          google.colab.kernel.accessAllowed ? 'block' : 'none';\n",
       "\n",
       "        async function convertToInteractive(key) {\n",
       "          const element = document.querySelector('#df-034c7fae-1be0-443c-b37f-616ed4a81c89');\n",
       "          const dataTable =\n",
       "            await google.colab.kernel.invokeFunction('convertToInteractive',\n",
       "                                                     [key], {});\n",
       "          if (!dataTable) return;\n",
       "\n",
       "          const docLinkHtml = 'Like what you see? Visit the ' +\n",
       "            '<a target=\"_blank\" href=https://colab.research.google.com/notebooks/data_table.ipynb>data table notebook</a>'\n",
       "            + ' to learn more about interactive tables.';\n",
       "          element.innerHTML = '';\n",
       "          dataTable['output_type'] = 'display_data';\n",
       "          await google.colab.output.renderOutput(dataTable, element);\n",
       "          const docLink = document.createElement('div');\n",
       "          docLink.innerHTML = docLinkHtml;\n",
       "          element.appendChild(docLink);\n",
       "        }\n",
       "      </script>\n",
       "    </div>\n",
       "  </div>\n",
       "  "
      ],
      "text/plain": [
       "     (0.0, 0.1]  (0.1, 0.2]  (0.2, 0.3]  ...  (0.7, 0.8]  (0.8, 0.9]  (0.9, 1.0]\n",
       "0             1           0           0  ...           0           0           0\n",
       "1             1           0           0  ...           0           0           0\n",
       "2             1           0           0  ...           0           0           0\n",
       "3             1           0           0  ...           0           0           0\n",
       "4             1           0           0  ...           0           0           0\n",
       "..          ...         ...         ...  ...         ...         ...         ...\n",
       "245           0           0           0  ...           0           0           1\n",
       "246           0           0           0  ...           0           0           1\n",
       "247           0           0           0  ...           0           0           1\n",
       "248           0           0           0  ...           0           0           1\n",
       "249           0           0           0  ...           0           0           1\n",
       "\n",
       "[250 rows x 10 columns]"
      ]
     },
     "execution_count": 48,
     "metadata": {},
     "output_type": "execute_result"
    }
   ],
   "source": [
    "pd.get_dummies(d.x_bin)"
   ]
  },
  {
   "cell_type": "markdown",
   "id": "Vuh_nTGq4_Sl",
   "metadata": {
    "id": "Vuh_nTGq4_Sl"
   },
   "source": [
    "We can then fit a linear regression model using only these dummy variable and obtain the following model fit,"
   ]
  },
  {
   "cell_type": "code",
   "execution_count": 49,
   "id": "MPRD0icI49I8",
   "metadata": {
    "executionInfo": {
     "elapsed": 233,
     "status": "ok",
     "timestamp": 1644409509305,
     "user": {
      "displayName": "Kit Searle",
      "photoUrl": "https://lh3.googleusercontent.com/a/default-user=s64",
      "userId": "05702465444529393860"
     },
     "user_tz": 0
    },
    "id": "MPRD0icI49I8"
   },
   "outputs": [],
   "source": [
    "X = pd.get_dummies(d.x_bin)\n",
    "y = d.y\n",
    "l = LinearRegression(fit_intercept=False).fit(X.values,y)\n",
    "d[\"pred_M11\"] = l.predict(X.values)"
   ]
  },
  {
   "cell_type": "code",
   "execution_count": 50,
   "id": "d7rxeEay8eAb",
   "metadata": {
    "colab": {
     "base_uri": "https://localhost:8080/",
     "height": 385
    },
    "executionInfo": {
     "elapsed": 593,
     "status": "ok",
     "timestamp": 1644409511468,
     "user": {
      "displayName": "Kit Searle",
      "photoUrl": "https://lh3.googleusercontent.com/a/default-user=s64",
      "userId": "05702465444529393860"
     },
     "user_tz": 0
    },
    "id": "d7rxeEay8eAb",
    "outputId": "05e548af-b46c-4e53-95ec-53947ff22968"
   },
   "outputs": [
    {
     "data": {
      "text/plain": [
       "<matplotlib.axes._subplots.AxesSubplot at 0x7f8870cc3b50>"
      ]
     },
     "execution_count": 50,
     "metadata": {},
     "output_type": "execute_result"
    },
    {
     "data": {
      "image/png": "[encoded data removed]",
      "text/plain": [
       "<Figure size 640x400 with 1 Axes>"
      ]
     },
     "metadata": {
      "needs_background": "light"
     },
     "output_type": "display_data"
    }
   ],
   "source": [
    "sns.scatterplot(x='x', y='y', data=d, color=\"black\")\n",
    "sns.lineplot(x='x', y='pred_M11', data=d)"
   ]
  },
  {
   "cell_type": "code",
   "execution_count": 51,
   "id": "Da-ceyBhD5_R",
   "metadata": {
    "colab": {
     "base_uri": "https://localhost:8080/"
    },
    "executionInfo": {
     "elapsed": 251,
     "status": "ok",
     "timestamp": 1644409515787,
     "user": {
      "displayName": "Kit Searle",
      "photoUrl": "https://lh3.googleusercontent.com/a/default-user=s64",
      "userId": "05702465444529393860"
     },
     "user_tz": 0
    },
    "id": "Da-ceyBhD5_R",
    "outputId": "1fde6cf3-2093-4b46-b87c-97ec14ba21dd"
   },
   "outputs": [
    {
     "data": {
      "text/plain": [
       "array([ 1.65848553,  2.15479111,  1.03790691,  0.51923971, -0.07654133,\n",
       "        0.32542526,  0.92304333,  0.61710898, -0.26557377, -0.31101199])"
      ]
     },
     "execution_count": 51,
     "metadata": {},
     "output_type": "execute_result"
    }
   ],
   "source": [
    "l.coef_"
   ]
  },
  {
   "cell_type": "markdown",
   "id": "GvMxqNCL8jbD",
   "metadata": {
    "id": "GvMxqNCL8jbD"
   },
   "source": [
    "---\n",
    "\n",
    "### 🚩 Exercise 14\n",
    "\n",
    "Calculate the mean squared error of this model. How does it compare to the polynomial models we fit previously?"
   ]
  },
  {
   "cell_type": "code",
   "execution_count": 52,
   "id": "vKgFd2b78q4Y",
   "metadata": {
    "colab": {
     "base_uri": "https://localhost:8080/"
    },
    "executionInfo": {
     "elapsed": 2,
     "status": "ok",
     "timestamp": 1644409517427,
     "user": {
      "displayName": "Kit Searle",
      "photoUrl": "https://lh3.googleusercontent.com/a/default-user=s64",
      "userId": "05702465444529393860"
     },
     "user_tz": 0
    },
    "id": "vKgFd2b78q4Y",
    "outputId": "44b94900-66c0-41a9-a1d0-1f91d1d1d643"
   },
   "outputs": [
    {
     "data": {
      "text/plain": [
       "0.0985882258438611"
      ]
     },
     "execution_count": 52,
     "metadata": {},
     "output_type": "execute_result"
    }
   ],
   "source": [
    "mean_squared_error(d.y, d.pred_M11)"
   ]
  },
  {
   "cell_type": "markdown",
   "id": "IwvA9bBx8whh",
   "metadata": {
    "id": "IwvA9bBx8whh"
   },
   "source": [
    "This model performs reasonably well, it is competative with polynomial models with degree <5."
   ]
  },
  {
   "cell_type": "markdown",
   "id": "jiWeh0ER83Hz",
   "metadata": {
    "id": "jiWeh0ER83Hz"
   },
   "source": [
    "---\n",
    "\n",
    "### 🚩 Exercise 15\n",
    "\n",
    "Repeat this fitting procedure, but vary the number of bins being used (by changing the 3rd parameter in `np.linspace`). How does the MSE compare to the previous models?"
   ]
  },
  {
   "cell_type": "code",
   "execution_count": 53,
   "id": "cbFQkxQb8-E2",
   "metadata": {
    "colab": {
     "base_uri": "https://localhost:8080/",
     "height": 385
    },
    "executionInfo": {
     "elapsed": 623,
     "status": "ok",
     "timestamp": 1644409522479,
     "user": {
      "displayName": "Kit Searle",
      "photoUrl": "https://lh3.googleusercontent.com/a/default-user=s64",
      "userId": "05702465444529393860"
     },
     "user_tz": 0
    },
    "id": "cbFQkxQb8-E2",
    "outputId": "1976129c-7321-4def-d3ee-376916000cce"
   },
   "outputs": [
    {
     "data": {
      "text/plain": [
       "0.03245514022311238"
      ]
     },
     "execution_count": 53,
     "metadata": {},
     "output_type": "execute_result"
    },
    {
     "data": {
      "image/png": "[encoded data removed]",
      "text/plain": [
       "<Figure size 640x400 with 1 Axes>"
      ]
     },
     "metadata": {
      "needs_background": "light"
     },
     "output_type": "display_data"
    }
   ],
   "source": [
    "X = pd.get_dummies(pd.cut(d.x, np.linspace(0,1,21)))\n",
    "d[\"pred_M21\"] = LinearRegression(fit_intercept=False).fit(X.values,d.y).predict(X.values)\n",
    "\n",
    "sns.scatterplot(x='x', y='y', data=d, color=\"black\")\n",
    "sns.lineplot(x='x', y='pred_M21', data=d)\n",
    "\n",
    "mean_squared_error(d.y, d.pred_M21)"
   ]
  },
  {
   "cell_type": "markdown",
   "id": "2oyrxgzU9Lrn",
   "metadata": {
    "id": "2oyrxgzU9Lrn"
   },
   "source": [
    "Increasing the number of bins improves the model fit."
   ]
  },
  {
   "cell_type": "markdown",
   "id": "eyyWLhvzDVih",
   "metadata": {
    "id": "eyyWLhvzDVih"
   },
   "source": [
    "---\n",
    "\n",
    "## 4.2 With sklearn\n",
    "\n",
    "A similar process can be achieved with sklearn's `KBinsDiscretizer` from the *preprocessing* submodule. "
   ]
  },
  {
   "cell_type": "code",
   "execution_count": 54,
   "id": "pcBObk-SDYyp",
   "metadata": {
    "executionInfo": {
     "elapsed": 223,
     "status": "ok",
     "timestamp": 1644409527858,
     "user": {
      "displayName": "Kit Searle",
      "photoUrl": "https://lh3.googleusercontent.com/a/default-user=s64",
      "userId": "05702465444529393860"
     },
     "user_tz": 0
    },
    "id": "pcBObk-SDYyp"
   },
   "outputs": [],
   "source": [
    "from sklearn.preprocessing import KBinsDiscretizer"
   ]
  },
  {
   "cell_type": "markdown",
   "id": "e8NA4PNKDbMC",
   "metadata": {
    "id": "e8NA4PNKDbMC"
   },
   "source": [
    "The key arguments for this transformer are `n_bins` which determines the number of bins, `encode` which determines how the transformed values are encoded, and `strategy` which is used to determine bin widths. To (almost) replicate our results from pandas we will use `strategy=\"uniform\"` and `encode=\"onehot-dense\"`."
   ]
  },
  {
   "cell_type": "code",
   "execution_count": 55,
   "id": "5ZzJ25mEDdjj",
   "metadata": {
    "colab": {
     "base_uri": "https://localhost:8080/"
    },
    "executionInfo": {
     "elapsed": 3,
     "status": "ok",
     "timestamp": 1644409530643,
     "user": {
      "displayName": "Kit Searle",
      "photoUrl": "https://lh3.googleusercontent.com/a/default-user=s64",
      "userId": "05702465444529393860"
     },
     "user_tz": 0
    },
    "id": "5ZzJ25mEDdjj",
    "outputId": "7b0e1aba-2967-462b-83ac-48c437865c15"
   },
   "outputs": [
    {
     "data": {
      "text/plain": [
       "KBinsDiscretizer(encode='onehot-dense', n_bins=10, strategy='uniform')"
      ]
     },
     "execution_count": 55,
     "metadata": {},
     "output_type": "execute_result"
    }
   ],
   "source": [
    "kb_disc = KBinsDiscretizer(n_bins=10, strategy=\"uniform\", encode=\"onehot-dense\")\n",
    "kb_disc"
   ]
  },
  {
   "cell_type": "markdown",
   "id": "Qdo9jEpWDjXa",
   "metadata": {
    "id": "Qdo9jEpWDjXa"
   },
   "source": [
    "We can examine where the transformer has selected the bin edges to be located by calling the fit method on our features and then printing the `bin_edges_` attribute."
   ]
  },
  {
   "cell_type": "code",
   "execution_count": 56,
   "id": "KvMN90fIDllD",
   "metadata": {
    "colab": {
     "base_uri": "https://localhost:8080/"
    },
    "executionInfo": {
     "elapsed": 232,
     "status": "ok",
     "timestamp": 1644409532949,
     "user": {
      "displayName": "Kit Searle",
      "photoUrl": "https://lh3.googleusercontent.com/a/default-user=s64",
      "userId": "05702465444529393860"
     },
     "user_tz": 0
    },
    "id": "KvMN90fIDllD",
    "outputId": "4f5bf53a-4091-4409-c6a1-7d5a1046c337"
   },
   "outputs": [
    {
     "data": {
      "text/plain": [
       "array([array([0.00218943, 0.10143587, 0.20068231, 0.29992875, 0.39917519,\n",
       "       0.49842163, 0.59766807, 0.69691451, 0.79616095, 0.89540739,\n",
       "       0.99465383])], dtype=object)"
      ]
     },
     "execution_count": 56,
     "metadata": {},
     "output_type": "execute_result"
    }
   ],
   "source": [
    "X = np.c_[d.x]\n",
    "kb_disc.fit(X).bin_edges_"
   ]
  },
  {
   "cell_type": "markdown",
   "id": "GE4yEb7nDn9A",
   "metadata": {
    "id": "GE4yEb7nDn9A"
   },
   "source": [
    "These cut points differ slightly from those we obtained from pandas, this is happening because we are using the data to derive the cut points and since the x values are randomly generated the data does not begin exactly at 0 and end at 1.\n",
    "\n",
    "If we want to match pandas exactly, we can provide new data which is used to fit the transformer and then apply that to our data using the transform later."
   ]
  },
  {
   "cell_type": "code",
   "execution_count": 57,
   "id": "gTvIf4bWDp9u",
   "metadata": {
    "colab": {
     "base_uri": "https://localhost:8080/"
    },
    "executionInfo": {
     "elapsed": 255,
     "status": "ok",
     "timestamp": 1644409536109,
     "user": {
      "displayName": "Kit Searle",
      "photoUrl": "https://lh3.googleusercontent.com/a/default-user=s64",
      "userId": "05702465444529393860"
     },
     "user_tz": 0
    },
    "id": "gTvIf4bWDp9u",
    "outputId": "c189e8f0-1741-44b3-9c8a-1b771329b806"
   },
   "outputs": [
    {
     "data": {
      "text/plain": [
       "array([array([0. , 0.1, 0.2, 0.3, 0.4, 0.5, 0.6, 0.7, 0.8, 0.9, 1. ])],\n",
       "      dtype=object)"
      ]
     },
     "execution_count": 57,
     "metadata": {},
     "output_type": "execute_result"
    }
   ],
   "source": [
    "x_range = np.array([0,1])\n",
    "kb_disc.fit(x_range.reshape(-1,1)).bin_edges_"
   ]
  },
  {
   "cell_type": "markdown",
   "id": "6501mA-mEP_O",
   "metadata": {
    "id": "6501mA-mEP_O"
   },
   "source": [
    "To obtain the transformed feature, we need to call transform with the feature to transform."
   ]
  },
  {
   "cell_type": "code",
   "execution_count": 58,
   "id": "LL6jjGQUESQ1",
   "metadata": {
    "colab": {
     "base_uri": "https://localhost:8080/"
    },
    "executionInfo": {
     "elapsed": 221,
     "status": "ok",
     "timestamp": 1644409537942,
     "user": {
      "displayName": "Kit Searle",
      "photoUrl": "https://lh3.googleusercontent.com/a/default-user=s64",
      "userId": "05702465444529393860"
     },
     "user_tz": 0
    },
    "id": "LL6jjGQUESQ1",
    "outputId": "62407b1c-a9e9-413a-ddf4-daf2fdf5fa96"
   },
   "outputs": [
    {
     "data": {
      "text/plain": [
       "array([[1., 0., 0., ..., 0., 0., 0.],\n",
       "       [1., 0., 0., ..., 0., 0., 0.],\n",
       "       [1., 0., 0., ..., 0., 0., 0.],\n",
       "       ...,\n",
       "       [0., 0., 0., ..., 0., 0., 1.],\n",
       "       [0., 0., 0., ..., 0., 0., 1.],\n",
       "       [0., 0., 0., ..., 0., 0., 1.]])"
      ]
     },
     "execution_count": 58,
     "metadata": {},
     "output_type": "execute_result"
    }
   ],
   "source": [
    "kb_disc.fit(x_range.reshape(-1,1)).transform(X)"
   ]
  },
  {
   "cell_type": "markdown",
   "id": "ZkN9_g-3EWLq",
   "metadata": {
    "id": "ZkN9_g-3EWLq"
   },
   "source": [
    "If instead we used fit_transform we will get the bin edges from the first example above, this will be the default behavior of the transformer if we use it in a pipeline."
   ]
  },
  {
   "cell_type": "code",
   "execution_count": 59,
   "id": "_5kftNeVEX6q",
   "metadata": {
    "colab": {
     "base_uri": "https://localhost:8080/"
    },
    "executionInfo": {
     "elapsed": 2,
     "status": "ok",
     "timestamp": 1644409540584,
     "user": {
      "displayName": "Kit Searle",
      "photoUrl": "https://lh3.googleusercontent.com/a/default-user=s64",
      "userId": "05702465444529393860"
     },
     "user_tz": 0
    },
    "id": "_5kftNeVEX6q",
    "outputId": "e66dd257-ce33-49d6-9a7f-5283573dbb04"
   },
   "outputs": [
    {
     "data": {
      "text/plain": [
       "array([[1., 0., 0., ..., 0., 0., 0.],\n",
       "       [1., 0., 0., ..., 0., 0., 0.],\n",
       "       [1., 0., 0., ..., 0., 0., 0.],\n",
       "       ...,\n",
       "       [0., 0., 0., ..., 0., 0., 1.],\n",
       "       [0., 0., 0., ..., 0., 0., 1.],\n",
       "       [0., 0., 0., ..., 0., 0., 1.]])"
      ]
     },
     "execution_count": 59,
     "metadata": {},
     "output_type": "execute_result"
    }
   ],
   "source": [
    "kb_disc.fit_transform(X)"
   ]
  },
  {
   "cell_type": "markdown",
   "id": "_Rm10gvdEcnT",
   "metadata": {
    "id": "_Rm10gvdEcnT"
   },
   "source": [
    "The two data frames above look similar, but are very slightly different due to the different bin edges used.\n",
    "\n",
    "Just like our polynomial regression model, we can combine this transformed with the model using a pipeline. This combined with some plotting and diagnostic code is below."
   ]
  },
  {
   "cell_type": "code",
   "execution_count": 60,
   "id": "13PjihLJEevX",
   "metadata": {
    "executionInfo": {
     "elapsed": 235,
     "status": "ok",
     "timestamp": 1644409543259,
     "user": {
      "displayName": "Kit Searle",
      "photoUrl": "https://lh3.googleusercontent.com/a/default-user=s64",
      "userId": "05702465444529393860"
     },
     "user_tz": 0
    },
    "id": "13PjihLJEevX"
   },
   "outputs": [],
   "source": [
    "def reg_tree(data, x = 'x', y = 'y', \n",
    "             n_bins=10, strategy = \"uniform\",\n",
    "             x_range = np.array([0,1]),\n",
    "             plot_data = True, plot_fit = True):\n",
    "    \n",
    "    X = np.c_[data[x]]\n",
    "    Y = data[y]\n",
    "    \n",
    "    p = make_pipeline(\n",
    "        KBinsDiscretizer(n_bins=n_bins, strategy=strategy, encode=\"onehot-dense\"),\n",
    "        LinearRegression(fit_intercept=False) # Since we are using onehot above we \n",
    "    )                                         # need to remove the intercept here\n",
    "    \n",
    "    m = p.fit(X,Y)\n",
    "    \n",
    "    pred_col = 'pred_rt_M'+str(n_bins)\n",
    "    data[pred_col] = m.predict(X)\n",
    "\n",
    "    if plot_data:\n",
    "        sns.scatterplot(x=data[x], y=data[y], color=\"black\")\n",
    "\n",
    "    if plot_fit:\n",
    "        sns.lineplot(x=data[x], y=data[pred_col])\n",
    "    \n",
    "    return (data, m)"
   ]
  },
  {
   "cell_type": "code",
   "execution_count": 61,
   "id": "6i8VfjECEgxv",
   "metadata": {
    "colab": {
     "base_uri": "https://localhost:8080/",
     "height": 367
    },
    "executionInfo": {
     "elapsed": 9,
     "status": "ok",
     "timestamp": 1644409546453,
     "user": {
      "displayName": "Kit Searle",
      "photoUrl": "https://lh3.googleusercontent.com/a/default-user=s64",
      "userId": "05702465444529393860"
     },
     "user_tz": 0
    },
    "id": "6i8VfjECEgxv",
    "outputId": "075c772d-ef8d-4057-e1a7-41a10bf5cccd"
   },
   "outputs": [
    {
     "data": {
      "image/png": "[encoded data removed]",
      "text/plain": [
       "<Figure size 640x400 with 1 Axes>"
      ]
     },
     "metadata": {
      "needs_background": "light"
     },
     "output_type": "display_data"
    }
   ],
   "source": [
    "_, _  = reg_tree(d, n_bins=11, strategy=\"quantile\")"
   ]
  },
  {
   "cell_type": "markdown",
   "id": "MBBA4t-xEoav",
   "metadata": {
    "id": "MBBA4t-xEoav"
   },
   "source": [
    "---\n",
    "\n",
    "### 🚩 Exercise 16\n",
    "\n",
    "Use the `reg_tree` function to fit a variety of different discretized models to the data. What value of `n_bins` provides the best fit (judged qualitatively not quantitatively)."
   ]
  },
  {
   "cell_type": "code",
   "execution_count": 62,
   "id": "Oc7aOkPoEy9J",
   "metadata": {
    "colab": {
     "base_uri": "https://localhost:8080/",
     "height": 367
    },
    "executionInfo": {
     "elapsed": 842,
     "status": "ok",
     "timestamp": 1644409553808,
     "user": {
      "displayName": "Kit Searle",
      "photoUrl": "https://lh3.googleusercontent.com/a/default-user=s64",
      "userId": "05702465444529393860"
     },
     "user_tz": 0
    },
    "id": "Oc7aOkPoEy9J",
    "outputId": "5f618ccc-9d32-4945-e1fb-2c9226f067ee"
   },
   "outputs": [
    {
     "data": {
      "image/png": "[encoded data removed]",
      "text/plain": [
       "<Figure size 640x400 with 1 Axes>"
      ]
     },
     "metadata": {
      "needs_background": "light"
     },
     "output_type": "display_data"
    }
   ],
   "source": [
    "_,_ = reg_tree(d, n_bins=101)"
   ]
  },
  {
   "cell_type": "markdown",
   "id": "8WWXxw4EE6j9",
   "metadata": {
    "id": "8WWXxw4EE6j9"
   },
   "source": [
    "Inceasing the number of bins gives the model more flexibility and hence seems to fit the data better. Behare of over fitting!"
   ]
  },
  {
   "cell_type": "markdown",
   "id": "X0tjIKNhFHqd",
   "metadata": {
    "id": "X0tjIKNhFHqd"
   },
   "source": [
    "---\n",
    "\n",
    "### 🚩 Exercise 17\n",
    "\n",
    "Based on what you've seen in Exercise 13, how do you think the quality of fit changes as `n_bins` increases?"
   ]
  },
  {
   "cell_type": "markdown",
   "id": "NEjtBkAzFMTK",
   "metadata": {
    "id": "NEjtBkAzFMTK"
   },
   "source": [
    "Inceasing the number of bins improves the overall model fit."
   ]
  }
 ],
 "metadata": {
  "colab": {
   "collapsed_sections": [],
   "name": "6_Kit_Updates.ipynb",
   "provenance": []
  },
  "kernelspec": {
   "display_name": "Python 3 (ipykernel)",
   "language": "python",
   "name": "python3"
  },
  "language_info": {
   "codemirror_mode": {
    "name": "ipython",
    "version": 3
   },
   "file_extension": ".py",
   "mimetype": "text/x-python",
   "name": "python",
   "nbconvert_exporter": "python",
   "pygments_lexer": "ipython3",
   "version": "3.9.12"
  }
 },
 "nbformat": 4,
 "nbformat_minor": 5
}
