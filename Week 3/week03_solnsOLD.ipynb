{
 "cells": [
  {
   "cell_type": "markdown",
   "metadata": {
    "id": "eldA-sl8YsLp"
   },
   "source": [
    "# Week 3: Principle component analysis, the SVD and low-dimensional projections \n",
    "[Jacob Page](jacob-page.com)\n",
    "\n",
    "In this workshop we will work through a set of problems on dimensionality reduction -- a basic example of unsupervised learning (perhaps a better term here would be \"self-supervised\"). \n",
    "\n",
    "We will work with a dataset of images and attempt to use PCA to identify underlying \"patterns\" and explore the utility of the associated low-dimensional representations to partition the data into its distinct classes.\n",
    "\n",
    "---\n",
    "\n",
    "\n",
    "As you work through the problems it will help to refer to your lecture notes. The exercises here are designed to reinforce the topics covered this week. Please discuss with the tutors if you get stuck, even early on! \n"
   ]
  },
  {
   "cell_type": "markdown",
   "metadata": {
    "id": "hm6XqPScK-FV"
   },
   "source": [
    "# Imports\n",
    "\n",
    "We're only going to need a couple of libraries this week. We'll add one or two more as we work through the problems below. "
   ]
  },
  {
   "cell_type": "code",
   "execution_count": 1,
   "metadata": {
    "executionInfo": {
     "elapsed": 4,
     "status": "ok",
     "timestamp": 1643378712143,
     "user": {
      "displayName": "Jacob Page",
      "photoUrl": "https://lh3.googleusercontent.com/a/default-user=s64",
      "userId": "04818256562649201928"
     },
     "user_tz": 0
    },
    "id": "usEZAe6SYpV8"
   },
   "outputs": [],
   "source": [
    "import matplotlib.pyplot as plt\n",
    "import numpy as np"
   ]
  },
  {
   "cell_type": "markdown",
   "metadata": {
    "id": "pSj3Z820mFwv"
   },
   "source": [
    "Our dataset will be the famous \"MNIST\" dataset of handwritten digits, which we will download from the keras library. The dataset consists of a set of greyscale images of the numbers 0-9 and corresponding labels. Usually the goal is to train a classifier (i.e. given an image, what digit does it correspond to?). Here we will throw away the labels and use the images themselves to explore dimensionality reduction, which is an example of a unsupervised learning problem. \n",
    "\n",
    "First, load the data:"
   ]
  },
  {
   "cell_type": "code",
   "execution_count": 2,
   "metadata": {
    "colab": {
     "base_uri": "https://localhost:8080/"
    },
    "executionInfo": {
     "elapsed": 4260,
     "status": "ok",
     "timestamp": 1643378716400,
     "user": {
      "displayName": "Jacob Page",
      "photoUrl": "https://lh3.googleusercontent.com/a/default-user=s64",
      "userId": "04818256562649201928"
     },
     "user_tz": 0
    },
    "id": "lInyp56KmIzx",
    "outputId": "a6a7a7d3-901a-4854-b5b3-0aae8aec72de"
   },
   "outputs": [
    {
     "name": "stdout",
     "output_type": "stream",
     "text": [
      "Downloading data from https://storage.googleapis.com/tensorflow/tf-keras-datasets/mnist.npz\n",
      "11493376/11490434 [==============================] - 0s 0us/step\n",
      "11501568/11490434 [==============================] - 0s 0us/step\n"
     ]
    }
   ],
   "source": [
    "from tensorflow.keras.datasets import mnist\n",
    "(images_all_digits, y_all_digits), _ = mnist.load_data() # we are only loading the training set here [unsupervised!]"
   ]
  },
  {
   "cell_type": "markdown",
   "metadata": {
    "id": "qeHcm_OBGhtx"
   },
   "source": [
    "# Exercise 0\n",
    "What object is returned by the command above? What shape/datatype etc if an array?  "
   ]
  },
  {
   "cell_type": "code",
   "execution_count": 3,
   "metadata": {
    "colab": {
     "base_uri": "https://localhost:8080/"
    },
    "executionInfo": {
     "elapsed": 298,
     "status": "ok",
     "timestamp": 1643378719281,
     "user": {
      "displayName": "Jacob Page",
      "photoUrl": "https://lh3.googleusercontent.com/a/default-user=s64",
      "userId": "04818256562649201928"
     },
     "user_tz": 0
    },
    "id": "gEdEaAlSnEzA",
    "outputId": "e77d4eef-1654-4cd5-8d96-98108cfaa051"
   },
   "outputs": [
    {
     "data": {
      "text/plain": [
       "(60000, 28, 28)"
      ]
     },
     "execution_count": 3,
     "metadata": {},
     "output_type": "execute_result"
    }
   ],
   "source": [
    "images_all_digits.shape # explore the raw data X_all_digts -- what shape? What modifications do we need to make it into X in the notes"
   ]
  },
  {
   "cell_type": "markdown",
   "metadata": {
    "id": "5q1xG24emmdu"
   },
   "source": [
    "# Exercise 1\n",
    "Create a dictionary, with the digit classes (0-9) as keys, where the correponding values are the set of all images corresponding to that particular label. "
   ]
  },
  {
   "cell_type": "code",
   "execution_count": 4,
   "metadata": {
    "executionInfo": {
     "elapsed": 233,
     "status": "ok",
     "timestamp": 1643378721115,
     "user": {
      "displayName": "Jacob Page",
      "photoUrl": "https://lh3.googleusercontent.com/a/default-user=s64",
      "userId": "04818256562649201928"
     },
     "user_tz": 0
    },
    "id": "nCExrjAlmQOm"
   },
   "outputs": [],
   "source": [
    "digits_dict = {}\n",
    "count = 0\n",
    "\n",
    "for label in y_all_digits:\n",
    "  if label in digits_dict:\n",
    "    digits_dict[label] += [images_all_digits[count]]\n",
    "  else:\n",
    "    digits_dict[label] = [images_all_digits[count]]\n",
    "  count += 1"
   ]
  },
  {
   "cell_type": "markdown",
   "metadata": {
    "id": "Z95pdmrynwyX"
   },
   "source": [
    "Verify you have done this correctly by picking a some of labels and plotting a few images from within your dictionary. "
   ]
  },
  {
   "cell_type": "code",
   "execution_count": 5,
   "metadata": {
    "colab": {
     "base_uri": "https://localhost:8080/",
     "height": 873
    },
    "executionInfo": {
     "elapsed": 1321,
     "status": "ok",
     "timestamp": 1643378725451,
     "user": {
      "displayName": "Jacob Page",
      "photoUrl": "https://lh3.googleusercontent.com/a/default-user=s64",
      "userId": "04818256562649201928"
     },
     "user_tz": 0
    },
    "id": "98lyOLGKmjam",
    "outputId": "3f9bf942-f94e-4c2c-f5fc-f3c30a567c23"
   },
   "outputs": [
    {
     "data": {
      "image/png": "[encoded data removed]",
      "text/plain": [
       "<Figure size 1440x864 with 15 Axes>"
      ]
     },
     "metadata": {},
     "output_type": "display_data"
    }
   ],
   "source": [
    "test_labels = [3, 8, 2]\n",
    "n_images_per_label = 5\n",
    "\n",
    "fig = plt.figure(figsize=(4*n_images_per_label, 4*len(test_labels)))\n",
    "for i in range(len(test_labels)):\n",
    "  for j in range(n_images_per_label):\n",
    "    ax_number = i * n_images_per_label + 1 + j\n",
    "    ax = fig.add_subplot(len(test_labels), n_images_per_label, ax_number)\n",
    "    ax.imshow(digits_dict[test_labels[i]][j], cmap='gray_r')\n",
    "    ax.set_xticks([])\n",
    "    ax.set_yticks([])\n",
    "fig.tight_layout()"
   ]
  },
  {
   "cell_type": "markdown",
   "metadata": {
    "id": "9R_1TGs8rInz"
   },
   "source": [
    "# Exercise 2 \n",
    "Now focus on the 3s only and create a data matrix $X$ of dimension $N$ (# datapoints) by $D$ (# features).\n",
    "\n",
    "What are the features in this problem? How many features are there? "
   ]
  },
  {
   "cell_type": "code",
   "execution_count": 6,
   "metadata": {
    "colab": {
     "base_uri": "https://localhost:8080/"
    },
    "executionInfo": {
     "elapsed": 206,
     "status": "ok",
     "timestamp": 1643378728736,
     "user": {
      "displayName": "Jacob Page",
      "photoUrl": "https://lh3.googleusercontent.com/a/default-user=s64",
      "userId": "04818256562649201928"
     },
     "user_tz": 0
    },
    "id": "HhzuQdIuptAh",
    "outputId": "88300b6a-33f7-4b54-d343-898e78ead39d"
   },
   "outputs": [
    {
     "data": {
      "text/plain": [
       "(6131, 784)"
      ]
     },
     "execution_count": 6,
     "metadata": {},
     "output_type": "execute_result"
    }
   ],
   "source": [
    "N_threes = len(digits_dict[3])\n",
    "N_x, N_y = digits_dict[3][0].shape \n",
    "\n",
    "X_threes = np.asarray(digits_dict[3]).reshape((N_threes, -1))\n",
    "X_threes.shape"
   ]
  },
  {
   "cell_type": "markdown",
   "metadata": {
    "id": "IAtBj2cRs6RZ"
   },
   "source": [
    "# Exercise 3 \n",
    "Now compute and plot the \"mean\" three.\n",
    "\n",
    "\"Standardize\" your features by subtracting the mean three and generate a new data matrix $\\mathbf X'$. \n",
    "\n",
    "Visualise some of the images and compare to the original data. "
   ]
  },
  {
   "cell_type": "code",
   "execution_count": 7,
   "metadata": {
    "colab": {
     "base_uri": "https://localhost:8080/",
     "height": 369
    },
    "executionInfo": {
     "elapsed": 238,
     "status": "ok",
     "timestamp": 1643378739458,
     "user": {
      "displayName": "Jacob Page",
      "photoUrl": "https://lh3.googleusercontent.com/a/default-user=s64",
      "userId": "04818256562649201928"
     },
     "user_tz": 0
    },
    "id": "z3sD-Qyjs5vz",
    "outputId": "88642f4b-2dec-45ca-9dd5-959e61324bbe"
   },
   "outputs": [
    {
     "data": {
      "image/png": "[encoded data removed]",
      "text/plain": [
       "<Figure size 360x360 with 1 Axes>"
      ]
     },
     "metadata": {},
     "output_type": "display_data"
    }
   ],
   "source": [
    "X_three_mean = np.mean(X_threes, axis=0, keepdims=True)\n",
    "\n",
    "fig = plt.figure(figsize=(5,5))\n",
    "ax = fig.add_subplot(111)\n",
    "ax.imshow(X_three_mean.reshape(N_x, N_y), cmap='gray_r')\n",
    "ax.set_xticks([])\n",
    "ax.set_yticks([])\n",
    "fig.tight_layout()"
   ]
  },
  {
   "cell_type": "code",
   "execution_count": 8,
   "metadata": {
    "colab": {
     "base_uri": "https://localhost:8080/",
     "height": 587
    },
    "executionInfo": {
     "elapsed": 1640,
     "status": "ok",
     "timestamp": 1643378746889,
     "user": {
      "displayName": "Jacob Page",
      "photoUrl": "https://lh3.googleusercontent.com/a/default-user=s64",
      "userId": "04818256562649201928"
     },
     "user_tz": 0
    },
    "id": "Y3YJUQDIr_-G",
    "outputId": "47770a0a-57fa-425e-f310-27c99c26b62a"
   },
   "outputs": [
    {
     "data": {
      "image/png": "[encoded data removed]",
      "text/plain": [
       "<Figure size 1440x576 with 10 Axes>"
      ]
     },
     "metadata": {},
     "output_type": "display_data"
    }
   ],
   "source": [
    "X_three_shifted = X_threes - X_three_mean\n",
    "\n",
    "n_images = 5\n",
    "\n",
    "fig = plt.figure(figsize=(4*n_images, 4*2))\n",
    "for j in range(n_images):\n",
    "  ax = fig.add_subplot(2, n_images, j+1)\n",
    "  ax.imshow(X_three_shifted[j,:].reshape((N_x, N_y)), cmap='gray_r')\n",
    "  ax.set_xticks([])\n",
    "  ax.set_yticks([])\n",
    "\n",
    "  ax = fig.add_subplot(2, n_images, j+1+n_images)\n",
    "  ax.imshow((X_three_shifted[j,:] + X_three_mean.reshape((-1,))).reshape((N_x, N_y)), cmap='gray_r')\n",
    "  ax.set_xticks([])\n",
    "  ax.set_yticks([])\n",
    "fig.tight_layout()"
   ]
  },
  {
   "cell_type": "markdown",
   "metadata": {
    "id": "csTjsKWkzj3I"
   },
   "source": [
    "# Exercise 4\n",
    "Using an appropriate matrix decomposition of $\\mathbf X'$, find a set of basis vectors, $\\{\\mathbf v_k\\}$, the first $q$ of which would produce the optimal rank-$q$ reconstruction of $\\mathbf X'$. \n",
    "\n",
    "You might like to use a function from within the scipy.linalg package. \n",
    "\n",
    "Check the documentation of the function you apply to understand the connection with the methods in the lecture notes. What are the shapes of the matrices you obtain, do they match what you expect? \n",
    "\n",
    "Plot the dominant three basis vectors $\\mathbf v_{1,2,3}$ as images.  \n",
    "\n",
    "Verify they are an orthogonal basis. "
   ]
  },
  {
   "cell_type": "code",
   "execution_count": 9,
   "metadata": {
    "colab": {
     "base_uri": "https://localhost:8080/"
    },
    "executionInfo": {
     "elapsed": 8549,
     "status": "ok",
     "timestamp": 1643378796717,
     "user": {
      "displayName": "Jacob Page",
      "photoUrl": "https://lh3.googleusercontent.com/a/default-user=s64",
      "userId": "04818256562649201928"
     },
     "user_tz": 0
    },
    "id": "5sIffhO8zjXE",
    "outputId": "0972e5ee-3ced-44e8-bdd5-3e856de20def"
   },
   "outputs": [
    {
     "name": "stdout",
     "output_type": "stream",
     "text": [
      "(6131, 6131) (784,) (784, 784)\n"
     ]
    }
   ],
   "source": [
    "import scipy.linalg as la\n",
    "U, Sigma, V_T = la.svd(X_three_shifted, full_matrices=True) \n",
    "\n",
    "print(U.shape, Sigma.shape, V_T.shape)"
   ]
  },
  {
   "cell_type": "markdown",
   "metadata": {
    "id": "W4oepk8JJcp9"
   },
   "source": [
    "Setting full_matrices=False would produce the \"economy SVD\" where only the first $D$ singular vales and left singular vectors are returned. "
   ]
  },
  {
   "cell_type": "code",
   "execution_count": 10,
   "metadata": {
    "colab": {
     "base_uri": "https://localhost:8080/",
     "height": 301
    },
    "executionInfo": {
     "elapsed": 675,
     "status": "ok",
     "timestamp": 1643378801346,
     "user": {
      "displayName": "Jacob Page",
      "photoUrl": "https://lh3.googleusercontent.com/a/default-user=s64",
      "userId": "04818256562649201928"
     },
     "user_tz": 0
    },
    "id": "LlBn-Zfl2sfv",
    "outputId": "cc0d2bf5-3850-4815-a0df-fac50adc7eb1"
   },
   "outputs": [
    {
     "data": {
      "image/png": "[encoded data removed]",
      "text/plain": [
       "<Figure size 864x288 with 3 Axes>"
      ]
     },
     "metadata": {},
     "output_type": "display_data"
    }
   ],
   "source": [
    "n_plot = 3\n",
    "\n",
    "fig = plt.figure(figsize=(n_plot*4, 4))\n",
    "for n in range(n_plot):\n",
    "  ax = fig.add_subplot(1, n_plot, n+1)\n",
    "  ax.imshow(V_T[n,:].reshape((N_x, N_y)), cmap='gray_r')\n",
    "  ax.set_xticks([])\n",
    "  ax.set_yticks([])\n",
    "fig.tight_layout()"
   ]
  },
  {
   "cell_type": "code",
   "execution_count": 11,
   "metadata": {
    "colab": {
     "base_uri": "https://localhost:8080/"
    },
    "executionInfo": {
     "elapsed": 827,
     "status": "ok",
     "timestamp": 1643378810718,
     "user": {
      "displayName": "Jacob Page",
      "photoUrl": "https://lh3.googleusercontent.com/a/default-user=s64",
      "userId": "04818256562649201928"
     },
     "user_tz": 0
    },
    "id": "FwrJb_GG4dwi",
    "outputId": "f120034f-87d3-44cf-dfa3-a598b33eb1f4"
   },
   "outputs": [
    {
     "data": {
      "text/plain": [
       "array([[ 1.00000000e+00,  9.67650439e-17, -2.83654393e-16],\n",
       "       [ 9.67650439e-17,  1.00000000e+00,  3.04877651e-16],\n",
       "       [-2.83654393e-16,  3.04877651e-16,  1.00000000e+00]])"
      ]
     },
     "execution_count": 11,
     "metadata": {},
     "output_type": "execute_result"
    }
   ],
   "source": [
    "proj = np.zeros((n_plot, n_plot), dtype='float')\n",
    "for i in range(n_plot):\n",
    "  for j in range(n_plot):\n",
    "    proj[i, j] = V_T[i, :].dot(V_T[j, :])\n",
    "  \n",
    "proj"
   ]
  },
  {
   "cell_type": "markdown",
   "metadata": {
    "id": "VgyMFi6K1gFE"
   },
   "source": [
    "# Exercise 5\n",
    "How is the algorithm you applied above related to the covariance matrix of our dataset of 3s? Perform an appropriate matrix decomposition of the covariance matrix and verify the correspondence. \n",
    "\n",
    "Note: the numbers involved will likely be very large. Think about a meaningful way to check the agreement and the plots you might want to generate. "
   ]
  },
  {
   "cell_type": "code",
   "execution_count": 12,
   "metadata": {
    "executionInfo": {
     "elapsed": 997,
     "status": "ok",
     "timestamp": 1643378820129,
     "user": {
      "displayName": "Jacob Page",
      "photoUrl": "https://lh3.googleusercontent.com/a/default-user=s64",
      "userId": "04818256562649201928"
     },
     "user_tz": 0
    },
    "id": "MFj2q0lj1quC"
   },
   "outputs": [],
   "source": [
    "Cov = (X_three_shifted.T).dot(X_three_shifted) # divide by (N-1) for true Cov\n",
    "\n",
    "eigs, left_v, right_v = la.eig(Cov, left=True)"
   ]
  },
  {
   "cell_type": "markdown",
   "metadata": {
    "id": "Fc9cLUWzbTpk"
   },
   "source": [
    "Eigenvalues of $\\mathbf X'^T \\mathbf X'$ are equal to the singular values of $\\mathbf X'$ squared."
   ]
  },
  {
   "cell_type": "code",
   "execution_count": 13,
   "metadata": {
    "colab": {
     "base_uri": "https://localhost:8080/",
     "height": 348
    },
    "executionInfo": {
     "elapsed": 1242,
     "status": "ok",
     "timestamp": 1643378824311,
     "user": {
      "displayName": "Jacob Page",
      "photoUrl": "https://lh3.googleusercontent.com/a/default-user=s64",
      "userId": "04818256562649201928"
     },
     "user_tz": 0
    },
    "id": "_JlW8sRH6DPC",
    "outputId": "69ba534d-337c-4920-b846-2ec6d8a456ac"
   },
   "outputs": [
    {
     "data": {
      "text/plain": [
       "Text(0, 0.5, '$|\\\\Sigma - \\\\sqrt{\\\\lambda}|$')"
      ]
     },
     "execution_count": 13,
     "metadata": {},
     "output_type": "execute_result"
    },
    {
     "data": {
      "image/png": "[encoded data removed]",
      "text/plain": [
       "<Figure size 720x360 with 2 Axes>"
      ]
     },
     "metadata": {
      "needs_background": "light"
     },
     "output_type": "display_data"
    }
   ],
   "source": [
    "n_eigs_to_check = 10\n",
    "fig = plt.figure(figsize=(10,5))\n",
    "ax = fig.add_subplot(1, 2, 1)\n",
    "ax.plot(np.real(eigs[:n_eigs_to_check]) ** 0.5, marker='o', c='r', linestyle='none', markersize=5)\n",
    "ax.plot(Sigma[:n_eigs_to_check], marker='x', c='b', linestyle='none', markersize=5)\n",
    "ax.set_yscale('log')\n",
    "ax.set_ylabel('$\\Sigma$ and $\\sqrt{\\lambda}$')\n",
    "\n",
    "ax = fig.add_subplot(1, 2, 2)\n",
    "ax.plot(np.abs(np.real(eigs[:n_eigs_to_check]) ** 0.5 - Sigma[:n_eigs_to_check]), marker='o', c='r', linestyle='none', markersize=5)\n",
    "ax.set_ylabel('$|\\Sigma - \\sqrt{\\lambda}|$')"
   ]
  },
  {
   "cell_type": "markdown",
   "metadata": {
    "id": "_qcl7L-v812b"
   },
   "source": [
    "# Exercise 6 \n",
    "Now take your data matrix $\\mathbf X'$ and randomly shuffle each of the data points (i.e. each *row*). Plot some examples to verify you have done this correctly.\n",
    "\n",
    "Don't overwrite your original array! "
   ]
  },
  {
   "cell_type": "code",
   "execution_count": 14,
   "metadata": {
    "executionInfo": {
     "elapsed": 546,
     "status": "ok",
     "timestamp": 1643379639786,
     "user": {
      "displayName": "Jacob Page",
      "photoUrl": "https://lh3.googleusercontent.com/a/default-user=s64",
      "userId": "04818256562649201928"
     },
     "user_tz": 0
    },
    "id": "G0ab7ZKs80jV"
   },
   "outputs": [],
   "source": [
    "shuffled = []\n",
    "X_three_shuffled = np.copy(X_three_shifted) # create a copy! \n",
    "for row in X_three_shuffled:\n",
    "  np.random.shuffle(row)"
   ]
  },
  {
   "cell_type": "code",
   "execution_count": 15,
   "metadata": {
    "colab": {
     "base_uri": "https://localhost:8080/"
    },
    "executionInfo": {
     "elapsed": 228,
     "status": "ok",
     "timestamp": 1643379641568,
     "user": {
      "displayName": "Jacob Page",
      "photoUrl": "https://lh3.googleusercontent.com/a/default-user=s64",
      "userId": "04818256562649201928"
     },
     "user_tz": 0
    },
    "id": "Zgtu7zuaFfN2",
    "outputId": "6a25bd09-c1d3-425e-ad1e-d319e503ffa7"
   },
   "outputs": [
    {
     "data": {
      "text/plain": [
       "(6131, 784)"
      ]
     },
     "execution_count": 15,
     "metadata": {},
     "output_type": "execute_result"
    }
   ],
   "source": [
    "X_three_shuffled.shape"
   ]
  },
  {
   "cell_type": "code",
   "execution_count": 16,
   "metadata": {
    "colab": {
     "base_uri": "https://localhost:8080/",
     "height": 586
    },
    "executionInfo": {
     "elapsed": 694,
     "status": "ok",
     "timestamp": 1643379643103,
     "user": {
      "displayName": "Jacob Page",
      "photoUrl": "https://lh3.googleusercontent.com/a/default-user=s64",
      "userId": "04818256562649201928"
     },
     "user_tz": 0
    },
    "id": "527jOx8cA2lC",
    "outputId": "f23cf8f6-2279-46f0-da20-a46f5e26645a"
   },
   "outputs": [
    {
     "data": {
      "image/png": "[encoded data removed]",
      "text/plain": [
       "<Figure size 864x576 with 6 Axes>"
      ]
     },
     "metadata": {},
     "output_type": "display_data"
    }
   ],
   "source": [
    "n_plot = 3\n",
    "\n",
    "fig = plt.figure(figsize=(n_plot*4, 2*4))\n",
    "for n in range(n_plot):\n",
    "  ax = fig.add_subplot(2, n_plot, n+1)\n",
    "  ax.imshow(X_three_shuffled[n,:].reshape((N_x, N_y)), cmap='gray_r')\n",
    "  ax.set_xticks([])\n",
    "  ax.set_yticks([])\n",
    "\n",
    "  ax = fig.add_subplot(2, n_plot, n_plot+n+1)\n",
    "  ax.imshow(X_three_shifted[n,:].reshape((N_x, N_y)), cmap='gray_r')\n",
    "  ax.set_xticks([])\n",
    "  ax.set_yticks([])\n",
    "fig.tight_layout()"
   ]
  },
  {
   "cell_type": "markdown",
   "metadata": {
    "id": "dg6Br2cT9YhE"
   },
   "source": [
    "# Exercise 7\n",
    "Compare the singular values of the original data matrix of threes with the shuffled version. What do the results tell you, and why? "
   ]
  },
  {
   "cell_type": "code",
   "execution_count": 17,
   "metadata": {
    "executionInfo": {
     "elapsed": 10749,
     "status": "ok",
     "timestamp": 1643379658896,
     "user": {
      "displayName": "Jacob Page",
      "photoUrl": "https://lh3.googleusercontent.com/a/default-user=s64",
      "userId": "04818256562649201928"
     },
     "user_tz": 0
    },
    "id": "QkFELAQ09XJ0"
   },
   "outputs": [],
   "source": [
    "U_shuffle, Sigma_shuffle, V_shuffle_T = la.svd(X_three_shuffled, full_matrices=True) "
   ]
  },
  {
   "cell_type": "code",
   "execution_count": 18,
   "metadata": {
    "colab": {
     "base_uri": "https://localhost:8080/",
     "height": 614
    },
    "executionInfo": {
     "elapsed": 657,
     "status": "ok",
     "timestamp": 1643379659534,
     "user": {
      "displayName": "Jacob Page",
      "photoUrl": "https://lh3.googleusercontent.com/a/default-user=s64",
      "userId": "04818256562649201928"
     },
     "user_tz": 0
    },
    "id": "SLwhb1jaNVwg",
    "outputId": "bc32f99d-e803-42fe-8d08-6538367ddf36"
   },
   "outputs": [
    {
     "data": {
      "text/plain": [
       "(10, 100000)"
      ]
     },
     "execution_count": 18,
     "metadata": {},
     "output_type": "execute_result"
    },
    {
     "data": {
      "image/png": "[encoded data removed]",
      "text/plain": [
       "<Figure size 720x720 with 1 Axes>"
      ]
     },
     "metadata": {
      "needs_background": "light"
     },
     "output_type": "display_data"
    }
   ],
   "source": [
    "fig = plt.figure(figsize=(10,10))\n",
    "ax = fig.add_subplot(1, 1, 1)\n",
    "ax.plot(Sigma, marker='s', c='b', linestyle='none', markersize=5)\n",
    "ax.plot(Sigma_shuffle, marker='+', c='r', linestyle='none', markersize=5)\n",
    "ax.set_yscale('log')\n",
    "ax.set_ylabel('$\\Sigma$')\n",
    "\n",
    "ax.set_ylim(10, 10**5)"
   ]
  },
  {
   "cell_type": "markdown",
   "metadata": {
    "id": "zaJcxqrd_yw2"
   },
   "source": [
    "# Exercise 8 \n",
    "Make a low rank-$q$ tunrcation. What value of $q$ do you think is acceptable here? Note computing the projections might be quite intensive if you set $q$ to be large! \n",
    "\n",
    "Verify the reconstruction for a few images. You may want to refer to some of the equations derived/used in the lecture notes. "
   ]
  },
  {
   "cell_type": "code",
   "execution_count": 19,
   "metadata": {
    "colab": {
     "base_uri": "https://localhost:8080/",
     "height": 614
    },
    "executionInfo": {
     "elapsed": 655,
     "status": "ok",
     "timestamp": 1643379677157,
     "user": {
      "displayName": "Jacob Page",
      "photoUrl": "https://lh3.googleusercontent.com/a/default-user=s64",
      "userId": "04818256562649201928"
     },
     "user_tz": 0
    },
    "id": "QiABRkMgAARg",
    "outputId": "d4e18d91-d361-4448-8b1f-3a474885449e"
   },
   "outputs": [
    {
     "data": {
      "text/plain": [
       "(0.001, 1)"
      ]
     },
     "execution_count": 19,
     "metadata": {},
     "output_type": "execute_result"
    },
    {
     "data": {
      "image/png": "[encoded data removed]",
      "text/plain": [
       "<Figure size 720x720 with 1 Axes>"
      ]
     },
     "metadata": {
      "needs_background": "light"
     },
     "output_type": "display_data"
    }
   ],
   "source": [
    "fig = plt.figure(figsize=(10,10))\n",
    "ax = fig.add_subplot(1, 1, 1)\n",
    "ax.plot(Sigma / Sigma[0], marker='s', c='b', linestyle='none', markersize=5)\n",
    "ax.set_yscale('log')\n",
    "ax.set_ylabel('$\\Sigma$')\n",
    "ax.set_ylim(1e-3, 1)"
   ]
  },
  {
   "cell_type": "code",
   "execution_count": 36,
   "metadata": {
    "colab": {
     "base_uri": "https://localhost:8080/"
    },
    "executionInfo": {
     "elapsed": 2,
     "status": "ok",
     "timestamp": 1643380308435,
     "user": {
      "displayName": "Jacob Page",
      "photoUrl": "https://lh3.googleusercontent.com/a/default-user=s64",
      "userId": "04818256562649201928"
     },
     "user_tz": 0
    },
    "id": "RUFOKGGSQ_Hx",
    "outputId": "cce596b1-284d-4f6b-993c-b948829f20b5"
   },
   "outputs": [
    {
     "name": "stdout",
     "output_type": "stream",
     "text": [
      "# modes for threshold energy 0.33 16\n",
      "# modes for threshold energy 0.2 35\n",
      "# modes for threshold energy 0.1 86\n",
      "# modes for threshold energy 0.05 184\n",
      "# modes for threshold energy 0.01 448\n"
     ]
    }
   ],
   "source": [
    "variance_thresholds = [0.33, 0.2, 0.1, 0.05, 0.01]\n",
    "for thresh in variance_thresholds:\n",
    "  Sigma_top = Sigma[Sigma/Sigma[0] > thresh]\n",
    "  print(\"# modes for threshold energy \" + str(thresh) + ' ' + str(Sigma_top.size))"
   ]
  },
  {
   "cell_type": "markdown",
   "metadata": {
    "id": "6uUvPAeTNONF"
   },
   "source": [
    "~66% of the variance is contained in 16 modes 80% in 35 -- we'll select 35 as our truncation. The arguments for why depend very much on the problem at hand -- here we are interested in exploring PCA, so small numbers are good! "
   ]
  },
  {
   "cell_type": "code",
   "execution_count": 38,
   "metadata": {
    "colab": {
     "base_uri": "https://localhost:8080/"
    },
    "executionInfo": {
     "elapsed": 229,
     "status": "ok",
     "timestamp": 1643380353414,
     "user": {
      "displayName": "Jacob Page",
      "photoUrl": "https://lh3.googleusercontent.com/a/default-user=s64",
      "userId": "04818256562649201928"
     },
     "user_tz": 0
    },
    "id": "cQz_hL84Rvnk",
    "outputId": "b9b295ae-12af-4248-ea14-fe183c05be8b"
   },
   "outputs": [
    {
     "data": {
      "text/plain": [
       "(6131, 784)"
      ]
     },
     "execution_count": 38,
     "metadata": {},
     "output_type": "execute_result"
    }
   ],
   "source": [
    "X_three_mean.shape\n",
    "X_three_shifted.shape"
   ]
  },
  {
   "cell_type": "code",
   "execution_count": 39,
   "metadata": {
    "executionInfo": {
     "elapsed": 21230,
     "status": "ok",
     "timestamp": 1643380374861,
     "user": {
      "displayName": "Jacob Page",
      "photoUrl": "https://lh3.googleusercontent.com/a/default-user=s64",
      "userId": "04818256562649201928"
     },
     "user_tz": 0
    },
    "id": "FBk3cdoKMCGU"
   },
   "outputs": [],
   "source": [
    "rank = 35\n",
    "X_three_reconstruct = []\n",
    "\n",
    "V = V_T.T\n",
    "\n",
    "x_mean_flat = X_three_mean.reshape((-1,))\n",
    "\n",
    "for x in X_three_shifted:\n",
    "  x_shift = x - x_mean_flat\n",
    "  x_r = x_mean_flat + V[:,:rank].dot(V_T[:rank,:]).dot(x_shift)\n",
    "  X_three_reconstruct.append(x_r)"
   ]
  },
  {
   "cell_type": "code",
   "execution_count": 40,
   "metadata": {
    "colab": {
     "base_uri": "https://localhost:8080/"
    },
    "executionInfo": {
     "elapsed": 21,
     "status": "ok",
     "timestamp": 1643380374861,
     "user": {
      "displayName": "Jacob Page",
      "photoUrl": "https://lh3.googleusercontent.com/a/default-user=s64",
      "userId": "04818256562649201928"
     },
     "user_tz": 0
    },
    "id": "AlS7olqwZ5Df",
    "outputId": "fb7da88f-25a7-46a9-9025-d82c974d88bd"
   },
   "outputs": [
    {
     "data": {
      "text/plain": [
       "(6131, 784)"
      ]
     },
     "execution_count": 40,
     "metadata": {},
     "output_type": "execute_result"
    }
   ],
   "source": [
    "X_three_reconstruct = np.asarray(X_three_reconstruct)\n",
    "X_three_reconstruct.shape"
   ]
  },
  {
   "cell_type": "code",
   "execution_count": 41,
   "metadata": {
    "colab": {
     "base_uri": "https://localhost:8080/",
     "height": 587
    },
    "executionInfo": {
     "elapsed": 1463,
     "status": "ok",
     "timestamp": 1643380376306,
     "user": {
      "displayName": "Jacob Page",
      "photoUrl": "https://lh3.googleusercontent.com/a/default-user=s64",
      "userId": "04818256562649201928"
     },
     "user_tz": 0
    },
    "id": "-BMkM94tZkfo",
    "outputId": "bd5719e5-bab2-429e-84c0-9a2dd2460fa9"
   },
   "outputs": [
    {
     "data": {
      "image/png": "[encoded data removed]",
      "text/plain": [
       "<Figure size 2304x576 with 16 Axes>"
      ]
     },
     "metadata": {},
     "output_type": "display_data"
    }
   ],
   "source": [
    "n_images = 8\n",
    "\n",
    "# plot full image above, low-rank below\n",
    "\n",
    "fig = plt.figure(figsize=(4*n_images, 4*2))\n",
    "for j in range(n_images):\n",
    "  ax = fig.add_subplot(2, n_images, j+1)\n",
    "  ax.imshow(X_threes[j,:].reshape((N_x, N_y)), cmap='gray_r')\n",
    "  ax.set_xticks([])\n",
    "  ax.set_yticks([])\n",
    "\n",
    "  ax = fig.add_subplot(2, n_images, j+1+n_images)\n",
    "  ax.imshow((X_three_reconstruct[j,:] + X_three_mean.reshape((-1,))).reshape((N_x, N_y)), cmap='gray_r', vmin=0.)\n",
    "  ax.set_xticks([])\n",
    "  ax.set_yticks([])\n",
    "fig.tight_layout()"
   ]
  },
  {
   "cell_type": "markdown",
   "metadata": {
    "id": "sNk7rkT2soXF"
   },
   "source": [
    "# Exercise 9 \n",
    "Now consider the low-rank orthogonal vectors (columns of $\\mathbf V_q$) you used to reconstruct the 3s in exercise 8. \n",
    "\n",
    "Let's try and use this as a basis for the other numbers. Try and reconstruct some of the other digits and compare the error. (Remember, in the notes, we derived the vectors $\\boldsymbol \\mu$ and $\\mathbf w_j$ without specifying the basis vectors in $\\mathbf V_q$. These solutions are the optimal choice for any given set of $q$ orthogonal vectors. We found the optimal basis for the data afterwards!)\n",
    "\n",
    "\n",
    "\n",
    "---\n",
    "\n",
    "\n",
    "\n",
    "How are you going to measure \"error\" here? You might want to discuss with the tutors"
   ]
  },
  {
   "cell_type": "code",
   "execution_count": 42,
   "metadata": {
    "executionInfo": {
     "elapsed": 234,
     "status": "ok",
     "timestamp": 1643380382883,
     "user": {
      "displayName": "Jacob Page",
      "photoUrl": "https://lh3.googleusercontent.com/a/default-user=s64",
      "userId": "04818256562649201928"
     },
     "user_tz": 0
    },
    "id": "NXJ6oZ7xfTIi"
   },
   "outputs": [],
   "source": [
    "# here I'm going to over-engineer a little just for ease below\n",
    "class data_matrix:\n",
    "  def __init__(self, label, data):\n",
    "    \"\"\" Data is design matrix X (N x D); label an integer class label. \"\"\" \n",
    "    self.label = label\n",
    "    self.data = data\n",
    "    self.mean = np.mean(self.data, axis=0, keepdims=True)\n",
    "    self.data_shifted = self.data - self.mean\n",
    "\n",
    "  def project_onto_basis(self, Vq):\n",
    "    \"\"\" Project onto arbitrary orthogonal basis (cols of Vq) \"\"\" \n",
    "    rank = Vq.shape[1]\n",
    "    projected_data = []\n",
    "    for x in self.data_shifted:\n",
    "      x_r = self.mean.flatten() + Vq.dot(Vq.T).dot(x)\n",
    "      projected_data.append(x_r)\n",
    "    return np.asarray(projected_data)"
   ]
  },
  {
   "cell_type": "code",
   "execution_count": 43,
   "metadata": {
    "executionInfo": {
     "elapsed": 556,
     "status": "ok",
     "timestamp": 1643380388606,
     "user": {
      "displayName": "Jacob Page",
      "photoUrl": "https://lh3.googleusercontent.com/a/default-user=s64",
      "userId": "04818256562649201928"
     },
     "user_tz": 0
    },
    "id": "iCXKAQ6-snuK"
   },
   "outputs": [],
   "source": [
    "digits_to_test = range(10) #[1, 5, 8] # arbitrary but presumably 8 will be done quite well\n",
    "\n",
    "data_matrices_to_test = {} # will create a dictionary of data natrices \n",
    "for digit in digits_to_test:\n",
    "  N_digit = len(digits_dict[digit])\n",
    "  X_ = np.asarray(digits_dict[digit]).reshape((N_digit, -1))\n",
    "  data_matrices_to_test[digit] = data_matrix(digit, X_)"
   ]
  },
  {
   "cell_type": "code",
   "execution_count": 44,
   "metadata": {
    "executionInfo": {
     "elapsed": 192567,
     "status": "ok",
     "timestamp": 1643380583011,
     "user": {
      "displayName": "Jacob Page",
      "photoUrl": "https://lh3.googleusercontent.com/a/default-user=s64",
      "userId": "04818256562649201928"
     },
     "user_tz": 0
    },
    "id": "_Na9gkjVh_gt"
   },
   "outputs": [],
   "source": [
    "reconstructed_arrays = {}\n",
    "\n",
    "for digit in digits_to_test:\n",
    "  proj_mat = data_matrices_to_test[digit].project_onto_basis(V[:,:rank])\n",
    "  reconstructed_arrays[digit] = proj_mat"
   ]
  },
  {
   "cell_type": "code",
   "execution_count": 49,
   "metadata": {
    "colab": {
     "base_uri": "https://localhost:8080/",
     "height": 587
    },
    "executionInfo": {
     "elapsed": 2078,
     "status": "ok",
     "timestamp": 1643380617227,
     "user": {
      "displayName": "Jacob Page",
      "photoUrl": "https://lh3.googleusercontent.com/a/default-user=s64",
      "userId": "04818256562649201928"
     },
     "user_tz": 0
    },
    "id": "62n5ifLbkLlg",
    "outputId": "32c696c7-aad3-4201-a53a-9f1e326c7ccb"
   },
   "outputs": [
    {
     "data": {
      "image/png": "[encoded data removed]",
      "text/plain": [
       "<Figure size 2304x576 with 16 Axes>"
      ]
     },
     "metadata": {},
     "output_type": "display_data"
    }
   ],
   "source": [
    "# plot some pictures for a given digit\n",
    "n_images = 8\n",
    "\n",
    "digit_plot = 7\n",
    "\n",
    "fig = plt.figure(figsize=(4*n_images, 4*2))\n",
    "for j in range(n_images):\n",
    "  ax = fig.add_subplot(2, n_images, j+1)\n",
    "  ax.imshow(data_matrices_to_test[digit_plot].data[j,:].reshape((N_x, N_y)), cmap='gray_r')\n",
    "  ax.set_xticks([])\n",
    "  ax.set_yticks([])\n",
    "\n",
    "  ax = fig.add_subplot(2, n_images, j+1+n_images)\n",
    "  ax.imshow(reconstructed_arrays[digit_plot][j,:].reshape((N_x, N_y)), cmap='gray_r', vmin=0.)\n",
    "  ax.set_xticks([])\n",
    "  ax.set_yticks([])\n",
    "fig.tight_layout()"
   ]
  },
  {
   "cell_type": "code",
   "execution_count": 50,
   "metadata": {
    "colab": {
     "base_uri": "https://localhost:8080/"
    },
    "executionInfo": {
     "elapsed": 461,
     "status": "ok",
     "timestamp": 1643380622341,
     "user": {
      "displayName": "Jacob Page",
      "photoUrl": "https://lh3.googleusercontent.com/a/default-user=s64",
      "userId": "04818256562649201928"
     },
     "user_tz": 0
    },
    "id": "O5KpyvDBkVv_",
    "outputId": "e37ab77f-c8c3-4931-ef4c-a68d902b2152"
   },
   "outputs": [
    {
     "name": "stdout",
     "output_type": "stream",
     "text": [
      "{0: 1646.776398543974, 1: 979.2430248212276, 2: 1703.9497330690533, 3: 803.6971316975266, 4: 1660.7773764135393, 5: 1342.166436185036, 6: 1675.0329454256223, 7: 1574.4603138495056, 8: 1528.1453510688025, 9: 1490.8050227484762}\n"
     ]
    }
   ],
   "source": [
    "# now compute the error over the data \n",
    "errors = {}\n",
    "for digit in digits_to_test:\n",
    "  errors[digit] = ((data_matrices_to_test[digit].data - reconstructed_arrays[digit])**2).mean(axis=None)\n",
    "\n",
    "print(errors)"
   ]
  },
  {
   "cell_type": "code",
   "execution_count": 53,
   "metadata": {
    "colab": {
     "base_uri": "https://localhost:8080/",
     "height": 337
    },
    "executionInfo": {
     "elapsed": 327,
     "status": "ok",
     "timestamp": 1643381153637,
     "user": {
      "displayName": "Jacob Page",
      "photoUrl": "https://lh3.googleusercontent.com/a/default-user=s64",
      "userId": "04818256562649201928"
     },
     "user_tz": 0
    },
    "id": "Zyx7dq_cHrhN",
    "outputId": "2d332a93-76d4-4e4c-ea7c-ba847e75cb53"
   },
   "outputs": [
    {
     "data": {
      "text/plain": [
       "[<matplotlib.lines.Line2D at 0x7f26946cf090>]"
      ]
     },
     "execution_count": 53,
     "metadata": {},
     "output_type": "execute_result"
    },
    {
     "data": {
      "image/png": "[encoded data removed]",
      "text/plain": [
       "<Figure size 360x360 with 1 Axes>"
      ]
     },
     "metadata": {
      "needs_background": "light"
     },
     "output_type": "display_data"
    }
   ],
   "source": [
    "fig = plt.figure(figsize=(5,5))\n",
    "ax = fig.add_subplot(1,1,1)\n",
    "ax.plot([val for val in errors], [errors[val] for val in errors], 'o')"
   ]
  },
  {
   "cell_type": "markdown",
   "metadata": {
    "id": "1CvMFdEvvXtt"
   },
   "source": [
    "# Exercise 10\n",
    "\n",
    "Can you offer a simple explanation for why the reconstruction of some classes is noticably better than others?  "
   ]
  },
  {
   "cell_type": "markdown",
   "metadata": {
    "id": "6PvcxOLoJq7j"
   },
   "source": [
    "3, 1 and 5 are clearly better represented than the others. 3 is obvious!\n",
    "For the 5 -- the similarity with 3 should be clear (the lower curl). \n",
    "\n",
    "For the 1 -- how accurately is the data represented by the mean 1? Possibly very well (a vertical straight line presumably has smaller variance over the inputs). Let's verify by computing the error when the reconstruction is based on the mean only:"
   ]
  },
  {
   "cell_type": "code",
   "execution_count": 55,
   "metadata": {
    "colab": {
     "base_uri": "https://localhost:8080/"
    },
    "executionInfo": {
     "elapsed": 345,
     "status": "ok",
     "timestamp": 1643381441256,
     "user": {
      "displayName": "Jacob Page",
      "photoUrl": "https://lh3.googleusercontent.com/a/default-user=s64",
      "userId": "04818256562649201928"
     },
     "user_tz": 0
    },
    "id": "Qhdud7uyJ35F",
    "outputId": "350cc0b1-8cf4-4e3b-f118-cf9e5075373b"
   },
   "outputs": [
    {
     "data": {
      "text/plain": [
       "1864.1290476159575"
      ]
     },
     "execution_count": 55,
     "metadata": {},
     "output_type": "execute_result"
    }
   ],
   "source": [
    "error_one_mean_only = ((data_matrices_to_test[1].data - data_matrices_to_test[1].mean)**2).mean(axis=None)\n",
    "error_one_mean_only"
   ]
  },
  {
   "cell_type": "markdown",
   "metadata": {
    "id": "-ba2VAuXKu_9"
   },
   "source": [
    "Which explains the apparenty anomaly. "
   ]
  },
  {
   "cell_type": "markdown",
   "metadata": {
    "id": "zjallzc7iJrj"
   },
   "source": [
    "# Exercise 11\n",
    "Plot the first two principle components of your 3 dataset (you might want to select only a small number of points to plot). Can you attach any significance to these directions in terms of what they mean for the underlying image? (e.g. what is the effect of increasing the weighting of one of these PCs with the other held fixed?) \n",
    "\n",
    "NB this can be challenging (there might not be a clear answer!) but can give useful insights."
   ]
  },
  {
   "cell_type": "code",
   "execution_count": 60,
   "metadata": {
    "executionInfo": {
     "elapsed": 639,
     "status": "ok",
     "timestamp": 1643382965097,
     "user": {
      "displayName": "Jacob Page",
      "photoUrl": "https://lh3.googleusercontent.com/a/default-user=s64",
      "userId": "04818256562649201928"
     },
     "user_tz": 0
    },
    "id": "-FDTS8WJij2y"
   },
   "outputs": [],
   "source": [
    "# we can do this with our original SVD of the threes \n",
    "principal_comps_threes = U[:,:Sigma.size].dot(np.diag(Sigma))"
   ]
  },
  {
   "cell_type": "code",
   "execution_count": 66,
   "metadata": {
    "colab": {
     "base_uri": "https://localhost:8080/",
     "height": 340
    },
    "executionInfo": {
     "elapsed": 642,
     "status": "ok",
     "timestamp": 1643384840230,
     "user": {
      "displayName": "Jacob Page",
      "photoUrl": "https://lh3.googleusercontent.com/a/default-user=s64",
      "userId": "04818256562649201928"
     },
     "user_tz": 0
    },
    "id": "g-xxX5PkS7uE",
    "outputId": "454fc129-2513-4d29-a26c-eb6d54b57dfd"
   },
   "outputs": [
    {
     "data": {
      "text/plain": [
       "[<matplotlib.lines.Line2D at 0x7f26926aa490>]"
      ]
     },
     "execution_count": 66,
     "metadata": {},
     "output_type": "execute_result"
    },
    {
     "data": {
      "image/png": "[encoded data removed]",
      "text/plain": [
       "<Figure size 360x360 with 1 Axes>"
      ]
     },
     "metadata": {
      "needs_background": "light"
     },
     "output_type": "display_data"
    }
   ],
   "source": [
    "pc_i1 = 0\n",
    "pc_i2 = 1 # indices to plot\n",
    "\n",
    "coarse_factor = 100\n",
    "principal_comps_coarse = principal_comps_threes[::coarse_factor]\n",
    "\n",
    "fig = plt.figure(figsize=(5,5))\n",
    "ax = fig.add_subplot(1,1,1) \n",
    "ax.plot(principal_comps_coarse[:, pc_i1], principal_comps_coarse[:, pc_i2], '+')"
   ]
  },
  {
   "cell_type": "code",
   "execution_count": 109,
   "metadata": {
    "executionInfo": {
     "elapsed": 938,
     "status": "ok",
     "timestamp": 1643387724882,
     "user": {
      "displayName": "Jacob Page",
      "photoUrl": "https://lh3.googleusercontent.com/a/default-user=s64",
      "userId": "04818256562649201928"
     },
     "user_tz": 0
    },
    "id": "X2rOvee5T8yz"
   },
   "outputs": [],
   "source": [
    "# strategy: (1) pick a random image \n",
    "# (2) artificially weight the first or second principal component [0.1 0.5 1. 2. 4.]\n",
    "images_pc1 = []\n",
    "images_pc2 = []\n",
    "indx = int(np.random.rand() * N_threes)\n",
    "\n",
    "weighting = [0., 1., 2., 4., 10.]\n",
    "\n",
    "for w in weighting:\n",
    "  U_mod = np.copy(U)\n",
    "  U_mod[:,pc_i1] = w * U[:,pc_i1]\n",
    "  images_pc1.append(X_three_mean + U_mod[indx, :Sigma.size].dot(np.diag(Sigma)).dot(V_T))\n",
    "\n",
    "  U_mod = np.copy(U)\n",
    "  U_mod[:,pc_i2] = w * U[:,pc_i2]\n",
    "  images_pc2.append(X_three_mean + U_mod[indx, :Sigma.size].dot(np.diag(Sigma)).dot(V_T))"
   ]
  },
  {
   "cell_type": "code",
   "execution_count": 110,
   "metadata": {
    "colab": {
     "base_uri": "https://localhost:8080/",
     "height": 587
    },
    "executionInfo": {
     "elapsed": 1081,
     "status": "ok",
     "timestamp": 1643387728946,
     "user": {
      "displayName": "Jacob Page",
      "photoUrl": "https://lh3.googleusercontent.com/a/default-user=s64",
      "userId": "04818256562649201928"
     },
     "user_tz": 0
    },
    "id": "D7j-ag8UfW4p",
    "outputId": "b0d1faaf-a031-46a2-c95d-ceac4de5c738"
   },
   "outputs": [
    {
     "data": {
      "image/png": "[encoded data removed]",
      "text/plain": [
       "<Figure size 1440x576 with 10 Axes>"
      ]
     },
     "metadata": {},
     "output_type": "display_data"
    }
   ],
   "source": [
    "fig = plt.figure(figsize=(4*len(weighting), 4*2))\n",
    "for j in range(len(weighting)):\n",
    "  ax = fig.add_subplot(2, len(weighting), j+1)\n",
    "  ax.imshow(images_pc1[j].reshape((N_x, N_y)), cmap='gray_r', vmin=0.)\n",
    "  ax.set_xticks([])\n",
    "  ax.set_yticks([])\n",
    "\n",
    "  ax = fig.add_subplot(2, len(weighting), j+1+len(weighting))\n",
    "  ax.imshow(images_pc2[j].reshape((N_x, N_y)), cmap='gray_r', vmin=0.)\n",
    "  ax.set_xticks([])\n",
    "  ax.set_yticks([])\n",
    "fig.tight_layout()"
   ]
  },
  {
   "cell_type": "markdown",
   "metadata": {
    "id": "D_2W5dFnixz9"
   },
   "source": [
    "We can see that PC2 is assocated with a \"thickening\" of the character. "
   ]
  },
  {
   "cell_type": "markdown",
   "metadata": {
    "id": "L4-MKAQNiloz"
   },
   "source": [
    "# Exercise 12\n",
    "Finally, consider now all of your images (for all digits). Compute the principle components for this dataset and plot the projection of the data onto the first few. If you plot (e.g.) PC1 vs PC2 (or others) do clusters emerge? \n",
    "\n",
    "\n",
    "---\n",
    "This task is a little more open-ended and is something you can play around with to build intuition. Do not feel you have to finish it in the workshop or for the submission, I'm happy to discuss in the office hour etc. \n"
   ]
  }
 ],
 "metadata": {
  "colab": {
   "authorship_tag": "ABX9TyNejqE4E0ABttPl9WdUdJMS",
   "collapsed_sections": [],
   "name": "week03.ipynb",
   "provenance": []
  },
  "kernelspec": {
   "display_name": "Python 3",
   "name": "python3"
  },
  "language_info": {
   "name": "python"
  }
 },
 "nbformat": 4,
 "nbformat_minor": 0
}
