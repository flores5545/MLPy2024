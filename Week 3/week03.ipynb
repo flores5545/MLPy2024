{
 "cells": [
  {
   "cell_type": "markdown",
   "metadata": {
    "id": "eldA-sl8YsLp"
   },
   "source": [
    "# Week 3: Principle component analysis, the SVD and low-dimensional projections \n",
    "[Jacob Page](jacob-page.com)\n",
    "\n",
    "In this workshop we will work through a set of problems on dimensionality reduction -- a basic example of unsupervised learning (perhaps a better term here would be \"self-supervised\"). \n",
    "\n",
    "We will work with a dataset of images and attempt to use PCA to identify underlying patterns and explore the utility of the associated low-dimensional representations to partition the data into its distinct classes.\n",
    "\n",
    "---\n",
    "\n",
    "\n",
    "As you work through the problems it will help to refer to your lecture notes. The exercises here are designed to reinforce the topics covered this week. Please discuss with the tutors if you get stuck, even early on! \n"
   ]
  },
  {
   "cell_type": "markdown",
   "metadata": {
    "id": "hm6XqPScK-FV"
   },
   "source": [
    "# Imports\n",
    "\n",
    "We're only going to need a couple of libraries this week. We'll add one or two more as we work through the problems below. "
   ]
  },
  {
   "cell_type": "code",
   "execution_count": null,
   "metadata": {
    "id": "usEZAe6SYpV8"
   },
   "outputs": [],
   "source": [
    "import matplotlib.pyplot as plt\n",
    "import numpy as np"
   ]
  },
  {
   "cell_type": "markdown",
   "metadata": {
    "id": "pSj3Z820mFwv"
   },
   "source": [
    "Our dataset will be the famous \"MNIST\" dataset of handwritten digits, which we will download from the keras library. The dataset consists of a set of greyscale images of the numbers 0-9 and corresponding labels. Usually the goal is to train a classifier (i.e. given an image, what digit does it correspond to?). Here we will throw away the labels and use the images themselves to explore dimensionality reduction, which is an example of a unsupervised learning problem. \n",
    "\n",
    "First, load the data:"
   ]
  },
  {
   "cell_type": "code",
   "execution_count": null,
   "metadata": {
    "id": "lInyp56KmIzx"
   },
   "outputs": [],
   "source": [
    "from tensorflow.keras.datasets import mnist\n",
    "(images_all_digits, y_all_digits), _ = mnist.load_data() # we are only loading the training set here [unsupervised!]"
   ]
  },
  {
   "cell_type": "markdown",
   "metadata": {
    "id": "qeHcm_OBGhtx"
   },
   "source": [
    "# Exercise 0\n",
    "What object is returned by the command above? What shape/datatype etc if an array?  "
   ]
  },
  {
   "cell_type": "code",
   "execution_count": null,
   "metadata": {
    "id": "gEdEaAlSnEzA"
   },
   "outputs": [],
   "source": []
  },
  {
   "cell_type": "markdown",
   "metadata": {
    "id": "5q1xG24emmdu"
   },
   "source": [
    "# Exercise 1\n",
    "Create a dictionary, with the digit classes (0-9) as keys, where the correponding values are the set of all images corresponding to that particular label. "
   ]
  },
  {
   "cell_type": "code",
   "execution_count": null,
   "metadata": {
    "id": "nCExrjAlmQOm"
   },
   "outputs": [],
   "source": []
  },
  {
   "cell_type": "markdown",
   "metadata": {
    "id": "Z95pdmrynwyX"
   },
   "source": [
    "Verify you have done this correctly by picking some of labels and plotting a few images from within your dictionary. "
   ]
  },
  {
   "cell_type": "code",
   "execution_count": null,
   "metadata": {
    "id": "98lyOLGKmjam"
   },
   "outputs": [],
   "source": []
  },
  {
   "cell_type": "markdown",
   "metadata": {
    "id": "9R_1TGs8rInz"
   },
   "source": [
    "# Exercise 2 \n",
    "Now focus on the 3s only and create a data matrix $X$ of dimension $N$ (# datapoints) by $D$ (# features).\n",
    "\n",
    "What are the features in this problem? How many features are there? "
   ]
  },
  {
   "cell_type": "code",
   "execution_count": null,
   "metadata": {
    "id": "HhzuQdIuptAh"
   },
   "outputs": [],
   "source": []
  },
  {
   "cell_type": "markdown",
   "metadata": {
    "id": "IAtBj2cRs6RZ"
   },
   "source": [
    "# Exercise 3 \n",
    "Now compute and plot the \"mean\" three.\n",
    "\n",
    "\"Standardize\" your features by subtracting the mean three and generate a new data matrix $\\mathbf X'$. \n",
    "\n",
    "Visualise some of the images and compare to the original data. "
   ]
  },
  {
   "cell_type": "code",
   "execution_count": null,
   "metadata": {
    "id": "z3sD-Qyjs5vz"
   },
   "outputs": [],
   "source": []
  },
  {
   "cell_type": "markdown",
   "metadata": {
    "id": "csTjsKWkzj3I"
   },
   "source": [
    "# Exercise 4\n",
    "Using an appropriate matrix decomposition of $\\mathbf X'$, find a set of basis vectors, $\\{\\mathbf v_k\\}$, the first $q$ of which would produce the optimal rank-$q$ reconstruction of $\\mathbf X'$. \n",
    "\n",
    "You might like to use a function from within the scipy.linalg package. \n",
    "\n",
    "Check the documentation of the function you apply to understand the connection with the methods in the lecture notes. What are the shapes of the matrices you obtain, do they match what you expect? \n",
    "\n",
    "Plot the dominant three basis vectors $\\mathbf v_{1,2,3}$ as images.  \n",
    "\n",
    "Verify they are an orthogonal basis. "
   ]
  },
  {
   "cell_type": "code",
   "execution_count": null,
   "metadata": {
    "id": "5sIffhO8zjXE"
   },
   "outputs": [],
   "source": []
  },
  {
   "cell_type": "markdown",
   "metadata": {
    "id": "VgyMFi6K1gFE"
   },
   "source": [
    "# Exercise 5\n",
    "How is the algorithm you applied above related to the covariance matrix of our dataset of 3s? Perform an appropriate matrix decomposition of the covariance matrix and verify the correspondence. \n",
    "\n",
    "Note: the numbers involved will likely be very large. Think about a meaningful way to check the agreement and the plots you might want to generate. "
   ]
  },
  {
   "cell_type": "code",
   "execution_count": null,
   "metadata": {
    "id": "MFj2q0lj1quC"
   },
   "outputs": [],
   "source": []
  },
  {
   "cell_type": "markdown",
   "metadata": {
    "id": "_qcl7L-v812b"
   },
   "source": [
    "# Exercise 6 \n",
    "Now take your data matrix $\\mathbf X'$ and randomly shuffle each of the data points (i.e. each *row*). Plot some examples to verify you have done this correctly.\n",
    "\n",
    "Don't overwrite your original array! "
   ]
  },
  {
   "cell_type": "code",
   "execution_count": null,
   "metadata": {
    "id": "Zgtu7zuaFfN2"
   },
   "outputs": [],
   "source": []
  },
  {
   "cell_type": "markdown",
   "metadata": {
    "id": "dg6Br2cT9YhE"
   },
   "source": [
    "# Exercise 7\n",
    "Compare the singular values of the original data matrix of threes with the shuffled version. What do the results tell you, and why? "
   ]
  },
  {
   "cell_type": "code",
   "execution_count": null,
   "metadata": {
    "id": "QkFELAQ09XJ0"
   },
   "outputs": [],
   "source": []
  },
  {
   "cell_type": "markdown",
   "metadata": {
    "id": "zaJcxqrd_yw2"
   },
   "source": [
    "# Exercise 8 \n",
    "Make a low rank-$q$ tunrcation. What value of $q$ do you think is acceptable here? Note computing the projections might be quite intensive if you set $q$ to be large! \n",
    "\n",
    "Verify the reconstruction for a few images. You may want to refer to some of the equations derived/used in the lecture notes. "
   ]
  },
  {
   "cell_type": "code",
   "execution_count": null,
   "metadata": {
    "id": "QiABRkMgAARg"
   },
   "outputs": [],
   "source": []
  },
  {
   "cell_type": "markdown",
   "metadata": {
    "id": "sNk7rkT2soXF"
   },
   "source": [
    "# Exercise 9 \n",
    "Now consider the low-rank orthogonal vectors (columns of $\\mathbf V_q$) you used to reconstruct the 3s in exercise 8. \n",
    "\n",
    "Let's try and use this as a basis for the other numbers. Try and reconstruct some of the other digits and compare the error. (Remember, in the notes, we derived the vectors $\\boldsymbol \\mu$ and $\\mathbf w_j$ without specifying the basis vectors in $\\mathbf V_q$. These solutions are the optimal choice for any given set of $q$ orthogonal vectors. We found the optimal basis for the data afterwards!)\n",
    "\n",
    "\n",
    "\n",
    "---\n",
    "\n",
    "\n",
    "\n",
    "How are you going to measure \"error\" here? You might want to discuss with the tutors"
   ]
  },
  {
   "cell_type": "code",
   "execution_count": null,
   "metadata": {
    "id": "Zyx7dq_cHrhN"
   },
   "outputs": [],
   "source": []
  },
  {
   "cell_type": "markdown",
   "metadata": {
    "id": "1CvMFdEvvXtt"
   },
   "source": [
    "# Exercise 10\n",
    "\n",
    "Can you offer a simple explanation for why the reconstruction of some classes is noticably better than others?  "
   ]
  },
  {
   "cell_type": "code",
   "execution_count": null,
   "metadata": {
    "id": "Qhdud7uyJ35F"
   },
   "outputs": [],
   "source": []
  },
  {
   "cell_type": "markdown",
   "metadata": {
    "id": "zjallzc7iJrj"
   },
   "source": [
    "# Exercise 11\n",
    "Plot the first two principle components of your 3 dataset (you might want to select only a small number of points to plot). Can you attach any significance to these directions in terms of what they mean for the underlying image? (e.g. what is the effect of increasing the weighting of one of these PCs with the other held fixed?) \n",
    "\n",
    "NB this can be challenging (there might not be a clear answer!) but can give useful insights."
   ]
  },
  {
   "cell_type": "code",
   "execution_count": null,
   "metadata": {
    "id": "D7j-ag8UfW4p"
   },
   "outputs": [],
   "source": []
  },
  {
   "cell_type": "markdown",
   "metadata": {
    "id": "L4-MKAQNiloz"
   },
   "source": [
    "# Exercise 12\n",
    "Finally, consider now all of your images (for all digits). Compute the principle components for this dataset and plot the projection of the data onto the first few. If you plot (e.g.) PC1 vs PC2 (or others) do clusters emerge? \n",
    "\n",
    "\n",
    "---\n",
    "This task is a little more open-ended and is something you can play around with to build intuition. Do not feel you have to finish it in the workshop or for the submission, I'm happy to discuss after the lecture next week or in the workshop. \n"
   ]
  },
  {
   "cell_type": "code",
   "execution_count": null,
   "metadata": {
    "id": "LfvsQJkHiMnq"
   },
   "outputs": [],
   "source": []
  }
 ],
 "metadata": {
  "colab": {
   "authorship_tag": "ABX9TyOkHk7xks/L7s1/9vLzXhPm",
   "provenance": []
  },
  "kernelspec": {
   "display_name": "Python 3",
   "name": "python3"
  },
  "language_info": {
   "name": "python"
  }
 },
 "nbformat": 4,
 "nbformat_minor": 0
}
